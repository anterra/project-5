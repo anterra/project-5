{
 "metadata": {
  "language_info": {
   "codemirror_mode": {
    "name": "ipython",
    "version": 3
   },
   "file_extension": ".py",
   "mimetype": "text/x-python",
   "name": "python",
   "nbconvert_exporter": "python",
   "pygments_lexer": "ipython3",
   "version": "3.7.7-final"
  },
  "orig_nbformat": 2,
  "kernelspec": {
   "name": "tensorflow",
   "display_name": "tensorflow"
  }
 },
 "nbformat": 4,
 "nbformat_minor": 2,
 "cells": [
  {
   "cell_type": "markdown",
   "metadata": {},
   "source": [
    "# Imports"
   ]
  },
  {
   "cell_type": "code",
   "execution_count": 48,
   "metadata": {},
   "outputs": [],
   "source": [
    "import pandas as pd\n",
    "import numpy as np\n",
    "import seaborn as sns\n",
    "import pickle\n",
    "import sklearn\n",
    "from tensorflow import keras\n",
    "from tensorflow.keras.utils import plot_model\n",
    "import gensim"
   ]
  },
  {
   "cell_type": "markdown",
   "metadata": {},
   "source": [
    "# Loading Yoga Class & Pose DataFrames\n",
    "These DataFrames were scraped and created during project 3. "
   ]
  },
  {
   "cell_type": "code",
   "execution_count": 9,
   "metadata": {},
   "outputs": [],
   "source": [
    "f = open(\"all_poses\", \"rb\")\n",
    "all_poses = pickle.load(f)\n",
    "f.close()\n",
    "\n",
    "f = open(\"flask_app_df\", \"rb\")\n",
    "poses_info = pickle.load(f)\n",
    "f.close()\n",
    "\n",
    "f = open(\"all_yoga_classes_df\", \"rb\")\n",
    "yoga_classes = pickle.load(f)\n",
    "f.close()\n",
    "\n",
    "f = open(\"poses_df\", \"rb\")\n",
    "class_poses = pickle.load(f)\n",
    "f.close()\n",
    "\n",
    "f = open(\"vinyasa_df\", \"rb\")\n",
    "more_vinyasa = pickle.load(f)\n",
    "f.close()\n",
    "\n",
    "f = open(\"hatha_df\", \"rb\")\n",
    "more_hatha = pickle.load(f)\n",
    "f.close()"
   ]
  },
  {
   "cell_type": "code",
   "execution_count": 10,
   "metadata": {},
   "outputs": [
    {
     "output_type": "execute_result",
     "data": {
      "text/plain": "                                   Title  \\\n0       ←Slow Sunday Flow y Monday early   \n1                              ←Anahata    \n2                                  ←CORE   \n3                                      ←   \n4     ←Vinyasa - Bench press & push up #   \n...                                  ...   \n1582              ←Shoulder-Heart Opener   \n1583                       ←Yin Sequence   \n1584                ←Practicing Presence   \n1585                       ←Yin- Cooling   \n1586                             ←LET GO   \n\n                                                  Poses Class Type  \n0     [Easy Pose Hands To Heart, Easy Pose Hands Int...    Vinyasa  \n1     [Mantra Section, Thunderbolt Pose, Easy Pose B...    Vinyasa  \n2     [Classic Sun Salutation Variation F, Chair Pos...    Vinyasa  \n3     [Easy Pose, Easy Pose Warm Up Flow, Sun Saluta...    Vinyasa  \n4     [Corpse Pose, Corpse Pose Roll Under Spine, Wr...    Vinyasa  \n...                                                 ...        ...  \n1582  [Easy Pose, Easy Pose Neck Side Stretch, Easy ...        Yin  \n1583  [Easy Pose, Cat Cow Pose, Child Pose, Seated S...        Yin  \n1584  [Easy Pose Hands To Heart, Easy Pose Twist Rai...        Yin  \n1585  [Sitali, Bound Angle Pose Blocks, Sun Breaths,...        Yin  \n1586  [Easy Pose, Alternate Nostril Breathing, Winge...        Yin  \n\n[42893 rows x 3 columns]",
      "text/html": "<div>\n<style scoped>\n    .dataframe tbody tr th:only-of-type {\n        vertical-align: middle;\n    }\n\n    .dataframe tbody tr th {\n        vertical-align: top;\n    }\n\n    .dataframe thead th {\n        text-align: right;\n    }\n</style>\n<table border=\"1\" class=\"dataframe\">\n  <thead>\n    <tr style=\"text-align: right;\">\n      <th></th>\n      <th>Title</th>\n      <th>Poses</th>\n      <th>Class Type</th>\n    </tr>\n  </thead>\n  <tbody>\n    <tr>\n      <th>0</th>\n      <td>←Slow Sunday Flow y Monday early</td>\n      <td>[Easy Pose Hands To Heart, Easy Pose Hands Int...</td>\n      <td>Vinyasa</td>\n    </tr>\n    <tr>\n      <th>1</th>\n      <td>←Anahata</td>\n      <td>[Mantra Section, Thunderbolt Pose, Easy Pose B...</td>\n      <td>Vinyasa</td>\n    </tr>\n    <tr>\n      <th>2</th>\n      <td>←CORE</td>\n      <td>[Classic Sun Salutation Variation F, Chair Pos...</td>\n      <td>Vinyasa</td>\n    </tr>\n    <tr>\n      <th>3</th>\n      <td>←</td>\n      <td>[Easy Pose, Easy Pose Warm Up Flow, Sun Saluta...</td>\n      <td>Vinyasa</td>\n    </tr>\n    <tr>\n      <th>4</th>\n      <td>←Vinyasa - Bench press &amp; push up #</td>\n      <td>[Corpse Pose, Corpse Pose Roll Under Spine, Wr...</td>\n      <td>Vinyasa</td>\n    </tr>\n    <tr>\n      <th>...</th>\n      <td>...</td>\n      <td>...</td>\n      <td>...</td>\n    </tr>\n    <tr>\n      <th>1582</th>\n      <td>←Shoulder-Heart Opener</td>\n      <td>[Easy Pose, Easy Pose Neck Side Stretch, Easy ...</td>\n      <td>Yin</td>\n    </tr>\n    <tr>\n      <th>1583</th>\n      <td>←Yin Sequence</td>\n      <td>[Easy Pose, Cat Cow Pose, Child Pose, Seated S...</td>\n      <td>Yin</td>\n    </tr>\n    <tr>\n      <th>1584</th>\n      <td>←Practicing Presence</td>\n      <td>[Easy Pose Hands To Heart, Easy Pose Twist Rai...</td>\n      <td>Yin</td>\n    </tr>\n    <tr>\n      <th>1585</th>\n      <td>←Yin- Cooling</td>\n      <td>[Sitali, Bound Angle Pose Blocks, Sun Breaths,...</td>\n      <td>Yin</td>\n    </tr>\n    <tr>\n      <th>1586</th>\n      <td>←LET GO</td>\n      <td>[Easy Pose, Alternate Nostril Breathing, Winge...</td>\n      <td>Yin</td>\n    </tr>\n  </tbody>\n</table>\n<p>42893 rows × 3 columns</p>\n</div>"
     },
     "metadata": {},
     "execution_count": 10
    }
   ],
   "source": [
    "yoga_classes"
   ]
  },
  {
   "cell_type": "markdown",
   "metadata": {},
   "source": [
    "### Additional Classes\n",
    "I scraped 20,000 additional classes since project 3, to supplement the data. In particular, they are vinyasa and hatha classes."
   ]
  },
  {
   "cell_type": "code",
   "execution_count": 11,
   "metadata": {},
   "outputs": [
    {
     "output_type": "execute_result",
     "data": {
      "text/plain": "                              Title  \\\n0                   ←Foundations -    \n1                ←Massage therapist   \n2                   ←VIN I/II  mins   \n3                     ←Core Feather   \n4            ←Vinyasa for Shoulders   \n...                             ...   \n3811        ←Back and Legs Sequence   \n3812               ←Vinyasa L-Stand   \n3813                         ←inver   \n3814  ←Basics Class for Hip Opening   \n3815        ←Yoga for equestrian //   \n\n                                                  Poses Class Type  \n0     [Easy Pose, Easy Pose Elbows On Floor, Easy Po...    Vinyasa  \n1     [Mountain Pose, Palm Tree Pose, Palm Tree Pose...    Vinyasa  \n2     [Easy Pose, Seated Neck Rolls, Easy Pose Neck ...    Vinyasa  \n3     [Mountain Pose, Mountain Pose Raised Hands Hea...    Vinyasa  \n4     [Reclined Arms Movement Flow, Supine Snow Ange...    Vinyasa  \n...                                                 ...        ...  \n3811  [Child Pose, Table Top Child Pose Flow, Cat Co...    Vinyasa  \n3812  [Corpse Pose, Pranayama, Supine Windshield Wip...    Vinyasa  \n3813  [Reclined Crow Pose, Reclined Eagle Crunches, ...    Vinyasa  \n3814  [Easy Pose Block, Seated Cat Cow Pose, Mountai...    Vinyasa  \n3815  [One Legged Revolved Mountain Pose, Extended S...    Vinyasa  \n\n[7816 rows x 3 columns]",
      "text/html": "<div>\n<style scoped>\n    .dataframe tbody tr th:only-of-type {\n        vertical-align: middle;\n    }\n\n    .dataframe tbody tr th {\n        vertical-align: top;\n    }\n\n    .dataframe thead th {\n        text-align: right;\n    }\n</style>\n<table border=\"1\" class=\"dataframe\">\n  <thead>\n    <tr style=\"text-align: right;\">\n      <th></th>\n      <th>Title</th>\n      <th>Poses</th>\n      <th>Class Type</th>\n    </tr>\n  </thead>\n  <tbody>\n    <tr>\n      <th>0</th>\n      <td>←Foundations -</td>\n      <td>[Easy Pose, Easy Pose Elbows On Floor, Easy Po...</td>\n      <td>Vinyasa</td>\n    </tr>\n    <tr>\n      <th>1</th>\n      <td>←Massage therapist</td>\n      <td>[Mountain Pose, Palm Tree Pose, Palm Tree Pose...</td>\n      <td>Vinyasa</td>\n    </tr>\n    <tr>\n      <th>2</th>\n      <td>←VIN I/II  mins</td>\n      <td>[Easy Pose, Seated Neck Rolls, Easy Pose Neck ...</td>\n      <td>Vinyasa</td>\n    </tr>\n    <tr>\n      <th>3</th>\n      <td>←Core Feather</td>\n      <td>[Mountain Pose, Mountain Pose Raised Hands Hea...</td>\n      <td>Vinyasa</td>\n    </tr>\n    <tr>\n      <th>4</th>\n      <td>←Vinyasa for Shoulders</td>\n      <td>[Reclined Arms Movement Flow, Supine Snow Ange...</td>\n      <td>Vinyasa</td>\n    </tr>\n    <tr>\n      <th>...</th>\n      <td>...</td>\n      <td>...</td>\n      <td>...</td>\n    </tr>\n    <tr>\n      <th>3811</th>\n      <td>←Back and Legs Sequence</td>\n      <td>[Child Pose, Table Top Child Pose Flow, Cat Co...</td>\n      <td>Vinyasa</td>\n    </tr>\n    <tr>\n      <th>3812</th>\n      <td>←Vinyasa L-Stand</td>\n      <td>[Corpse Pose, Pranayama, Supine Windshield Wip...</td>\n      <td>Vinyasa</td>\n    </tr>\n    <tr>\n      <th>3813</th>\n      <td>←inver</td>\n      <td>[Reclined Crow Pose, Reclined Eagle Crunches, ...</td>\n      <td>Vinyasa</td>\n    </tr>\n    <tr>\n      <th>3814</th>\n      <td>←Basics Class for Hip Opening</td>\n      <td>[Easy Pose Block, Seated Cat Cow Pose, Mountai...</td>\n      <td>Vinyasa</td>\n    </tr>\n    <tr>\n      <th>3815</th>\n      <td>←Yoga for equestrian //</td>\n      <td>[One Legged Revolved Mountain Pose, Extended S...</td>\n      <td>Vinyasa</td>\n    </tr>\n  </tbody>\n</table>\n<p>7816 rows × 3 columns</p>\n</div>"
     },
     "metadata": {},
     "execution_count": 11
    }
   ],
   "source": [
    "more_vinyasa"
   ]
  },
  {
   "cell_type": "code",
   "execution_count": 12,
   "metadata": {},
   "outputs": [
    {
     "output_type": "execute_result",
     "data": {
      "text/plain": "                                    Title  \\\n0               ←Low Back & Hamstrings //   \n1               ←Basic Yoga Sequenz (YTT)   \n2                                ←evening   \n3                 ←Standing class warm-up   \n4                             ←Sequence #   \n...                                   ...   \n4623                               ←Seri    \n4624                       ←Flexibility I   \n4625                         ←Postnatal-    \n4626                     ←Herbst  - Flow    \n4627  ←Water Element/Svadhishthana Chakra   \n\n                                                  Poses Class Type  \n0     [Seated Straddle Pose Knees Bent Bolster, Easy...      Hatha  \n1     [Prop Strap, Prop Block, Three Part Breath Cor...      Hatha  \n2     [Easy Pose, Easy Pose Variation Side Bend, Eas...      Hatha  \n3     [Mountain Pose, Mountain Pose Namaste, Palm Tr...      Hatha  \n4     [Wind Release Pose, Half Wind Release Pose, Ha...      Hatha  \n...                                                 ...        ...  \n4623  [Standing Cat Cow Pose, Downward Facing Dog Po...      Hatha  \n4624  [Mountain Pose, Mountain Pose Raised Hands Hea...      Hatha  \n4625  [Kneeling Pose, Cat Cow Pose Forearms, Hoverin...      Hatha  \n4626  [Mountain Pose, Chair Pose Deep Bend, Standing...      Hatha  \n4627  [Easy Pose, Cat Cow Pose, Downward Facing Dog ...      Hatha  \n\n[12628 rows x 3 columns]",
      "text/html": "<div>\n<style scoped>\n    .dataframe tbody tr th:only-of-type {\n        vertical-align: middle;\n    }\n\n    .dataframe tbody tr th {\n        vertical-align: top;\n    }\n\n    .dataframe thead th {\n        text-align: right;\n    }\n</style>\n<table border=\"1\" class=\"dataframe\">\n  <thead>\n    <tr style=\"text-align: right;\">\n      <th></th>\n      <th>Title</th>\n      <th>Poses</th>\n      <th>Class Type</th>\n    </tr>\n  </thead>\n  <tbody>\n    <tr>\n      <th>0</th>\n      <td>←Low Back &amp; Hamstrings //</td>\n      <td>[Seated Straddle Pose Knees Bent Bolster, Easy...</td>\n      <td>Hatha</td>\n    </tr>\n    <tr>\n      <th>1</th>\n      <td>←Basic Yoga Sequenz (YTT)</td>\n      <td>[Prop Strap, Prop Block, Three Part Breath Cor...</td>\n      <td>Hatha</td>\n    </tr>\n    <tr>\n      <th>2</th>\n      <td>←evening</td>\n      <td>[Easy Pose, Easy Pose Variation Side Bend, Eas...</td>\n      <td>Hatha</td>\n    </tr>\n    <tr>\n      <th>3</th>\n      <td>←Standing class warm-up</td>\n      <td>[Mountain Pose, Mountain Pose Namaste, Palm Tr...</td>\n      <td>Hatha</td>\n    </tr>\n    <tr>\n      <th>4</th>\n      <td>←Sequence #</td>\n      <td>[Wind Release Pose, Half Wind Release Pose, Ha...</td>\n      <td>Hatha</td>\n    </tr>\n    <tr>\n      <th>...</th>\n      <td>...</td>\n      <td>...</td>\n      <td>...</td>\n    </tr>\n    <tr>\n      <th>4623</th>\n      <td>←Seri</td>\n      <td>[Standing Cat Cow Pose, Downward Facing Dog Po...</td>\n      <td>Hatha</td>\n    </tr>\n    <tr>\n      <th>4624</th>\n      <td>←Flexibility I</td>\n      <td>[Mountain Pose, Mountain Pose Raised Hands Hea...</td>\n      <td>Hatha</td>\n    </tr>\n    <tr>\n      <th>4625</th>\n      <td>←Postnatal-</td>\n      <td>[Kneeling Pose, Cat Cow Pose Forearms, Hoverin...</td>\n      <td>Hatha</td>\n    </tr>\n    <tr>\n      <th>4626</th>\n      <td>←Herbst  - Flow</td>\n      <td>[Mountain Pose, Chair Pose Deep Bend, Standing...</td>\n      <td>Hatha</td>\n    </tr>\n    <tr>\n      <th>4627</th>\n      <td>←Water Element/Svadhishthana Chakra</td>\n      <td>[Easy Pose, Cat Cow Pose, Downward Facing Dog ...</td>\n      <td>Hatha</td>\n    </tr>\n  </tbody>\n</table>\n<p>12628 rows × 3 columns</p>\n</div>"
     },
     "metadata": {},
     "execution_count": 12
    }
   ],
   "source": [
    "more_hatha"
   ]
  },
  {
   "cell_type": "code",
   "execution_count": 269,
   "metadata": {},
   "outputs": [],
   "source": [
    "df = pd.concat([yoga_classes, more_vinyasa, more_hatha])"
   ]
  },
  {
   "cell_type": "code",
   "execution_count": 270,
   "metadata": {},
   "outputs": [
    {
     "output_type": "execute_result",
     "data": {
      "text/plain": "(63337, 3)"
     },
     "metadata": {},
     "execution_count": 270
    }
   ],
   "source": [
    "df.shape"
   ]
  },
  {
   "cell_type": "markdown",
   "metadata": {},
   "source": [
    "### Excluding Restorative Class Types\n",
    "I am excluding the classes that are of type \"gentle\", \"restorative\" and \"yin\", as these are very slow restorative/laying down type classes that I'm not aiming to create (yet) with this app. I want more dynamic, flow and exercise based classes to be generated, plus I have much more data availble in support of creating those types. "
   ]
  },
  {
   "cell_type": "code",
   "execution_count": 271,
   "metadata": {},
   "outputs": [],
   "source": [
    "df = df.loc[df[\"Class Type\"].isin([\"Vinyasa\", \"Hatha\", \"Power\", \"Iyengar\", \"Ashtanga\"])]"
   ]
  },
  {
   "cell_type": "code",
   "execution_count": 272,
   "metadata": {},
   "outputs": [],
   "source": [
    "df.reset_index(inplace=True)"
   ]
  },
  {
   "cell_type": "code",
   "execution_count": 273,
   "metadata": {},
   "outputs": [
    {
     "output_type": "execute_result",
     "data": {
      "text/plain": "       index                                Title  \\\n0          0     ←Slow Sunday Flow y Monday early   \n1          1                            ←Anahata    \n2          2                                ←CORE   \n3          3                                    ←   \n4          4   ←Vinyasa - Bench press & push up #   \n...      ...                                  ...   \n48113   4623                               ←Seri    \n48114   4624                       ←Flexibility I   \n48115   4625                         ←Postnatal-    \n48116   4626                     ←Herbst  - Flow    \n48117   4627  ←Water Element/Svadhishthana Chakra   \n\n                                                   Poses Class Type  \n0      [Easy Pose Hands To Heart, Easy Pose Hands Int...    Vinyasa  \n1      [Mantra Section, Thunderbolt Pose, Easy Pose B...    Vinyasa  \n2      [Classic Sun Salutation Variation F, Chair Pos...    Vinyasa  \n3      [Easy Pose, Easy Pose Warm Up Flow, Sun Saluta...    Vinyasa  \n4      [Corpse Pose, Corpse Pose Roll Under Spine, Wr...    Vinyasa  \n...                                                  ...        ...  \n48113  [Standing Cat Cow Pose, Downward Facing Dog Po...      Hatha  \n48114  [Mountain Pose, Mountain Pose Raised Hands Hea...      Hatha  \n48115  [Kneeling Pose, Cat Cow Pose Forearms, Hoverin...      Hatha  \n48116  [Mountain Pose, Chair Pose Deep Bend, Standing...      Hatha  \n48117  [Easy Pose, Cat Cow Pose, Downward Facing Dog ...      Hatha  \n\n[48118 rows x 4 columns]",
      "text/html": "<div>\n<style scoped>\n    .dataframe tbody tr th:only-of-type {\n        vertical-align: middle;\n    }\n\n    .dataframe tbody tr th {\n        vertical-align: top;\n    }\n\n    .dataframe thead th {\n        text-align: right;\n    }\n</style>\n<table border=\"1\" class=\"dataframe\">\n  <thead>\n    <tr style=\"text-align: right;\">\n      <th></th>\n      <th>index</th>\n      <th>Title</th>\n      <th>Poses</th>\n      <th>Class Type</th>\n    </tr>\n  </thead>\n  <tbody>\n    <tr>\n      <th>0</th>\n      <td>0</td>\n      <td>←Slow Sunday Flow y Monday early</td>\n      <td>[Easy Pose Hands To Heart, Easy Pose Hands Int...</td>\n      <td>Vinyasa</td>\n    </tr>\n    <tr>\n      <th>1</th>\n      <td>1</td>\n      <td>←Anahata</td>\n      <td>[Mantra Section, Thunderbolt Pose, Easy Pose B...</td>\n      <td>Vinyasa</td>\n    </tr>\n    <tr>\n      <th>2</th>\n      <td>2</td>\n      <td>←CORE</td>\n      <td>[Classic Sun Salutation Variation F, Chair Pos...</td>\n      <td>Vinyasa</td>\n    </tr>\n    <tr>\n      <th>3</th>\n      <td>3</td>\n      <td>←</td>\n      <td>[Easy Pose, Easy Pose Warm Up Flow, Sun Saluta...</td>\n      <td>Vinyasa</td>\n    </tr>\n    <tr>\n      <th>4</th>\n      <td>4</td>\n      <td>←Vinyasa - Bench press &amp; push up #</td>\n      <td>[Corpse Pose, Corpse Pose Roll Under Spine, Wr...</td>\n      <td>Vinyasa</td>\n    </tr>\n    <tr>\n      <th>...</th>\n      <td>...</td>\n      <td>...</td>\n      <td>...</td>\n      <td>...</td>\n    </tr>\n    <tr>\n      <th>48113</th>\n      <td>4623</td>\n      <td>←Seri</td>\n      <td>[Standing Cat Cow Pose, Downward Facing Dog Po...</td>\n      <td>Hatha</td>\n    </tr>\n    <tr>\n      <th>48114</th>\n      <td>4624</td>\n      <td>←Flexibility I</td>\n      <td>[Mountain Pose, Mountain Pose Raised Hands Hea...</td>\n      <td>Hatha</td>\n    </tr>\n    <tr>\n      <th>48115</th>\n      <td>4625</td>\n      <td>←Postnatal-</td>\n      <td>[Kneeling Pose, Cat Cow Pose Forearms, Hoverin...</td>\n      <td>Hatha</td>\n    </tr>\n    <tr>\n      <th>48116</th>\n      <td>4626</td>\n      <td>←Herbst  - Flow</td>\n      <td>[Mountain Pose, Chair Pose Deep Bend, Standing...</td>\n      <td>Hatha</td>\n    </tr>\n    <tr>\n      <th>48117</th>\n      <td>4627</td>\n      <td>←Water Element/Svadhishthana Chakra</td>\n      <td>[Easy Pose, Cat Cow Pose, Downward Facing Dog ...</td>\n      <td>Hatha</td>\n    </tr>\n  </tbody>\n</table>\n<p>48118 rows × 4 columns</p>\n</div>"
     },
     "metadata": {},
     "execution_count": 273
    }
   ],
   "source": [
    "df"
   ]
  },
  {
   "cell_type": "markdown",
   "metadata": {},
   "source": [
    "Looking at the average length of classes so I know what length of class I should typically be generating."
   ]
  },
  {
   "cell_type": "code",
   "execution_count": 274,
   "metadata": {
    "tags": []
   },
   "outputs": [
    {
     "output_type": "stream",
     "name": "stdout",
     "text": "33.0\n"
    }
   ],
   "source": [
    "# average length of classes\n",
    "lengths = []\n",
    "for i in range(len(df[\"Poses\"])):\n",
    "    length = len(df[\"Poses\"][i])\n",
    "    lengths.append(length)\n",
    "print(np.average(length))"
   ]
  },
  {
   "cell_type": "markdown",
   "metadata": {},
   "source": [
    "# Word2Vec\n",
    "I am creating word embeddings with Word2Vec via gensim. I'm training the model on the yoga classes to create vectors of the similarities between different yoga poses, based on how close together (sequentially) they're featured within the yoga classes. "
   ]
  },
  {
   "cell_type": "markdown",
   "metadata": {},
   "source": [
    "Making the class pose lists into the type of input Word2Vec is looking for:"
   ]
  },
  {
   "cell_type": "code",
   "execution_count": 275,
   "metadata": {},
   "outputs": [
    {
     "output_type": "execute_result",
     "data": {
      "text/plain": "[['Easy Pose Hands To Heart',\n  'Easy Pose Hands Interlocked Behind Head',\n  'Seated Torso Circles',\n  'Easy Pose Variation Side',\n  'Half Easy Pose Half Forward Bend',\n  'Seated Windshield Wiper Pose Chest Opener Variation',\n  'Cat Cow Pose',\n  'Child Pose Hip Circles Flow',\n  'Thread The Needle Pose Flow',\n  'Downward Facing Dog Pose',\n  'Downward Facing Dog Pose Plank Pose Flow',\n  'Right Leg Forward',\n  'Three Legged Downward Facing Dog Pose Prep',\n  'Fallen Triangle Pose Variation',\n  'Repeat Other Side',\n  'Right Leg Forward',\n  'Three Legged Downward Facing Dog Pose',\n  'Low Lunge Hands To Knee',\n  'Low Lunge Pose Open Twist',\n  'Revolved Low Lunge Pose Knee On The Floor',\n  'Runners Lunge Pose',\n  'Revolved Lunge Pose',\n  'Extended Side Angle Pose Variation Hand In Front',\n  'Three Legged Downward Facing Dog Pose',\n  'Low Lunge Hands To Knee',\n  'Left Leg Forward',\n  'Repeat Other Side',\n  'Top Of Mat Section',\n  'Mountain Pose',\n  'Crescent High Lunge Pose Arms On Hips Flow',\n  'Crescent High Lunge Pose Variation Back Knee Bent',\n  'Warrior Pose I Eagle Arms',\n  'Warrior Pose II',\n  'Reverse Warrior Pose',\n  'Intense Leg Stretch Pose',\n  'Revolved Wide Legged Forward Bend Pose Block',\n  'Intense Leg Stretch Pose',\n  'Back Of Mat Section',\n  'Repeat Other Side',\n  'Staff Pose Knee Stretches',\n  'Wild Thing Pose',\n  'Side Plank Pose Variation (One Knee On The Floor)',\n  'Half Moon Variation (Knee On The Floor)',\n  'Side Plank Pose Crunch',\n  'Half Circle Pose',\n  'Puppy Dog Pose',\n  'Repeat Other Side',\n  'Cow Face Pose',\n  'Wind Release Pose',\n  'Reverse Pigeon Pose Variation ',\n  'Bridge Pose Variation Hands',\n  'Supine Spinal Twist Yoga Pose I',\n  'Corpse Pose'],\n ['Mantra Section',\n  'Thunderbolt Pose',\n  'Easy Pose Bound Hands',\n  'Thunderbolt Pose Arms Rotation',\n  'Hero Pose Cow Face Arms',\n  'Table Top Pose',\n  'Tiger Pose Table Top Pose Knee To Nose Flow',\n  'Puppy Dog Pose',\n  'Classic Sun Salutation Variation Iv',\n  'Classic Sun Salutation Variation Iv',\n  'Sun Salutation A',\n  'Sun Salutation A',\n  'Sun Salutation B',\n  'Sun Salutation B',\n  'Standing Yoga Seal Pose Chair Pose Bound Hands Behind Flow',\n  'Eagle Pose',\n  'Sun Salutation A First Half',\n  'Crescent High Lunge Pose Arms On Hips Flow',\n  'Crescent High Lunge Shoulder Opener',\n  'Humble Warrior Pose',\n  'Belly Down Vinyasa',\n  'Warrior Pose I',\n  'Warrior Pose I Bound Hands Humble Warrior Flow',\n  'Pyramid Pose Flow',\n  'Standing Balance One Leg Raised Warrior Pose Iii Flow',\n  'Belly Down Vinyasa',\n  'Locust Pose Variation One Leg And Arm On Floor',\n  'Bow Pose Variation ',\n  'Bow Pose',\n  'Belly Down Vinyasa',\n  'Wheel Pose Prep',\n  'Wheel Pose',\n  'One-Legged Wheel Pose',\n  'Belly Down Vinyasa',\n  'Half Boat Pose Variation A',\n  'Boat Pose Variation Knees Bent Arms Side',\n  'Reverse Pigeon Pose',\n  'Belly Down Vinyasa',\n  'Half Pigeon Pose Variation I',\n  'Revolved Half Pigeon Pose Variation ',\n  'Sleeping Swan Pose',\n  'Belly Down Vinyasa',\n  'Headstand Pose',\n  'Headstand Pose Bound Angle Legs',\n  'Headstand Pose Wide Legs',\n  'Wide Child Pose Variation Hands On Head',\n  'Reclining Deer Pose',\n  'Wind Release Pose',\n  'Corpse Pose',\n  'Side Fetal Pose B',\n  'Accomplished Pose',\n  'Mantra Section']]"
     },
     "metadata": {},
     "execution_count": 275
    }
   ],
   "source": [
    "documents = [class_list for class_list in df[\"Poses\"]]\n",
    "documents[0:2]"
   ]
  },
  {
   "cell_type": "markdown",
   "metadata": {},
   "source": [
    "Choosing to keep poses which show up in at least 50 classes (out of 48000)."
   ]
  },
  {
   "cell_type": "code",
   "execution_count": 276,
   "metadata": {},
   "outputs": [],
   "source": [
    "model = gensim.models.Word2Vec(documents, size=100, window=5, min_count=50, sg=1)"
   ]
  },
  {
   "cell_type": "code",
   "execution_count": 277,
   "metadata": {},
   "outputs": [
    {
     "output_type": "execute_result",
     "data": {
      "text/plain": "2434"
     },
     "metadata": {},
     "execution_count": 277
    }
   ],
   "source": [
    "len(list(model.wv.vocab.items()))"
   ]
  },
  {
   "cell_type": "code",
   "execution_count": 278,
   "metadata": {
    "tags": []
   },
   "outputs": [
    {
     "output_type": "stream",
     "name": "stdout",
     "text": "[-0.03218082 -0.1518022  -0.21900013 -0.22784647 -0.05391332  0.23906896\n -0.21320449 -0.21570173 -0.45768702 -0.1766179   0.08589573  0.11216951\n  0.01759378  0.07493998 -0.15698856  0.1863491   0.20825997 -0.21320613\n  0.36808664  0.46683544 -0.06278304 -0.1640251   0.19787319  0.5703424\n -0.00761932 -0.02809849  0.4987022  -0.16976891 -0.03411588 -0.12097323\n -0.2918854  -0.00962753 -0.06204242 -0.21476337  0.3436619  -0.40890104\n -0.01819395 -0.12126855  0.24949613  0.14719892 -0.4577913  -0.04162944\n -0.11526522  0.2957142   0.12739252 -0.14287552 -0.34979028  0.1284238\n -0.1259271   0.1286666   0.24198945 -0.08204111 -0.14193207  0.05506501\n  0.00451074  0.6186688  -0.11915226  0.0780672   0.21961652  0.26104498\n  0.05787276 -0.06865472 -0.61855805 -0.05995261  0.04905183 -0.03994423\n  0.406545   -0.06811796  0.19840765  0.11315206  0.16041619 -0.02875773\n -0.07983094  0.2568253  -0.14525127  0.0757969  -0.10302401  0.15706488\n -0.08536102  0.01431387 -0.05461498  0.24123959 -0.03533244  0.32756165\n -0.00350653 -0.03368146  0.07221486  0.01617554  0.01245275  0.00824365\n  0.10943177  0.12583542  0.18428312  0.39942202 -0.5717574  -0.06103518\n  0.33373755  0.09452536  0.369551    0.09229775]\n"
    }
   ],
   "source": [
    "print(model[\"Cat Cow Pose\"])"
   ]
  },
  {
   "cell_type": "code",
   "execution_count": 279,
   "metadata": {},
   "outputs": [
    {
     "output_type": "execute_result",
     "data": {
      "text/plain": "[('Plank Pose', 0.7478853464126587),\n ('Downward Facing Dog Pose Plank Pose Flow', 0.6874706745147705),\n ('Runners Lunge Pose', 0.6865273714065552),\n ('Three Legged Downward Facing Dog Pose', 0.6853184700012207),\n ('Three Legged Downward Facing Dog Pose Tiger Curl Pose Flow',\n  0.6817233562469482),\n ('Low Lunge Pose', 0.6691491603851318),\n ('Standing Forward Fold Pose', 0.6663710474967957),\n ('Three Legged Downward Facing Dog Pose Variation Stacked',\n  0.6627469062805176),\n ('Table Top Pose', 0.6567497253417969),\n ('Downward Facing Dog Pose Variation Knees Bent', 0.6391588449478149),\n ('Revolved Lunge Pose', 0.6241694092750549),\n ('Downward Facing Dog Pose Heels To Side', 0.6126556396484375),\n ('Downward Dog Block Thighs', 0.6117755174636841),\n ('Low Lunge Pose Hands On Hips', 0.611741304397583),\n ('Four Limbed Staff Pose', 0.6101218461990356),\n ('Revolved Low Lunge Pose Knee On The Floor', 0.6075565814971924),\n ('High Lunge Pose', 0.6068105697631836),\n ('Crescent Low Lunge Pose Variation Knee On Floor', 0.6032456159591675),\n ('Dangling Pose', 0.5989557504653931),\n ('Four Limbed Staff Pose Knees To Floor Variation', 0.596023678779602)]"
     },
     "metadata": {},
     "execution_count": 279
    }
   ],
   "source": [
    "model.most_similar(\"Downward Facing Dog Pose\", topn=20)"
   ]
  },
  {
   "cell_type": "code",
   "execution_count": 280,
   "metadata": {},
   "outputs": [
    {
     "output_type": "execute_result",
     "data": {
      "text/plain": "[('Corpse Pose (IRT)', 0.7625349760055542),\n ('Wind Release Pose', 0.7379505038261414),\n ('Savasana Section', 0.7282826900482178),\n ('Corpse Pose Variation Bolster', 0.7136248350143433),\n ('Corpse Pose Blanket', 0.7122341394424438),\n ('Corpse Pose Roll Under Spine', 0.6960148811340332),\n ('Deep Relaxation Technique', 0.6891850829124451),\n ('Wind Release Pose Nose To Knee', 0.6836726665496826),\n ('Happy Baby Pose Bolster Under Sacrum', 0.6831930875778198),\n ('Supine Spinal Twist Pose II', 0.6725602746009827)]"
     },
     "metadata": {},
     "execution_count": 280
    }
   ],
   "source": [
    "model.most_similar(\"Corpse Pose\")"
   ]
  },
  {
   "cell_type": "markdown",
   "metadata": {},
   "source": [
    "Problem is a lot of the above aren't even really variations... they should probably be reduced to their base pose before applying the word embedding model. "
   ]
  },
  {
   "cell_type": "code",
   "execution_count": 263,
   "metadata": {},
   "outputs": [
    {
     "output_type": "execute_result",
     "data": {
      "text/plain": "[('Plank Pose Knees Bent', 0.7375870943069458),\n ('Downward Facing Dog Pose', 0.7266370058059692),\n ('Four Limbed Staff Pose', 0.7133201360702515),\n ('Plank Pose Variation Knee To Ground (Variation)', 0.7053859829902649),\n ('Downward Facing Dog Pose Plank Pose Flow', 0.7001957893371582),\n ('Plank Pose Variation Foot to Knee', 0.6751132607460022),\n ('Runners Lunge Pose', 0.6705726385116577),\n ('Three Legged Downward Facing Dog Pose', 0.6701911687850952),\n ('Plank Pose Four Limbed Staff Pose Flow', 0.6578046083450317),\n ('Four Limbed Staff Pose Knees To Floor Variation', 0.6399896740913391)]"
     },
     "metadata": {},
     "execution_count": 263
    }
   ],
   "source": [
    "model.most_similar(\"Plank Pose\")"
   ]
  },
  {
   "cell_type": "code",
   "execution_count": 264,
   "metadata": {},
   "outputs": [
    {
     "output_type": "execute_result",
     "data": {
      "text/plain": "[('Wheel Pose Prep', 0.7732982635498047),\n ('One-Legged Wheel Pose', 0.7651089429855347),\n ('Two-legged Inverted Staff Pose', 0.6853083968162537),\n ('Wheel Pose Block Between Knees', 0.6792454719543457),\n ('Bridge Pose Variation Arms Support Legs Straight', 0.6351526975631714),\n ('Ear Pressure Pose', 0.6308561563491821),\n ('Plough Pose', 0.6233429312705994),\n ('Shoulderstand Pose', 0.6058846116065979),\n ('Fish Pose Variation Lotus Elbows', 0.6032376885414124),\n ('Bridge Pose Wheel Pose Flow', 0.6008906960487366),\n ('Unsupported Shoulder Stand Pose', 0.5988141298294067),\n ('Embryo Pose in Shoulder Stand', 0.5977175235748291),\n ('Half Shoulderstand Pose Bicycle Legs', 0.5955791473388672),\n ('Shoulderstand Seal Pose', 0.5900613069534302),\n ('Wheel Pose On Ball', 0.5830180644989014),\n ('Inversions', 0.5799775719642639),\n ('Bridge Pose Variation Bound Hands', 0.574094295501709),\n ('Plough Pose Hands On Back', 0.5690933465957642),\n ('One Legged Shoulderstand Pose Hands On Back', 0.5639292001724243),\n ('Bridge Pose Variation Hands Support', 0.5619591474533081)]"
     },
     "metadata": {},
     "execution_count": 264
    }
   ],
   "source": [
    "model.most_similar(\"Wheel Pose\", topn=20)"
   ]
  },
  {
   "cell_type": "code",
   "execution_count": 268,
   "metadata": {},
   "outputs": [
    {
     "output_type": "execute_result",
     "data": {
      "text/plain": "[('Sun Salutation B', 0.8779213428497314),\n ('Classic Sun Salutation Variation E', 0.6588842868804932),\n ('Sun Salutation A Variation', 0.6466954946517944),\n ('Classic Sun Salutation Variation', 0.6326018571853638),\n ('Classic Sun Salutation Variation Ii', 0.6122204661369324),\n ('Classic Sun Salutation Variation Ii Second Half', 0.6038161516189575),\n ('Sun Salutation A First Half', 0.5960967540740967),\n ('Mountain Pose', 0.580011785030365),\n ('Sun Salutation', 0.576127827167511),\n ('Classic Sun Salutation Variation Ii First Half', 0.5568618774414062)]"
     },
     "metadata": {},
     "execution_count": 268
    }
   ],
   "source": [
    "model.most_similar(\"Sun Salutation A\")"
   ]
  },
  {
   "cell_type": "code",
   "execution_count": 265,
   "metadata": {
    "tags": []
   },
   "outputs": [
    {
     "output_type": "stream",
     "name": "stdout",
     "text": "0.09997491\n0.2763628\n0.34287545\n0.73999816\n"
    }
   ],
   "source": [
    "print(model.similarity(\"Corpse Pose\", \"Hand to Big Toe Pose\"))\n",
    "print(model.similarity(\"Corpse Pose\", \"Pigeon Pose\"))\n",
    "print(model.similarity(\"Corpse Pose\", \"Child Pose\"))\n",
    "print(model.similarity(\"Corpse Pose\", \"Wind Release Pose\"))"
   ]
  },
  {
   "cell_type": "code",
   "execution_count": null,
   "metadata": {},
   "outputs": [],
   "source": [
    "model.n_similarity([\"Corpse Pose, \"\"])"
   ]
  },
  {
   "cell_type": "markdown",
   "metadata": {},
   "source": [
    "Honestly that looks great? Very low similarity between corpse pose and an intense standing/balance pose, slightly higher for an intense ground stretch, moderate similarity for another gentle pose but in a very different body orientation, and highestest for a similar supine relaxation pose. \n",
    "\n",
    "However, there are currently a couple thousand total pose variations, many of which aren't even really distinct poses. I set the minimum at a range of values, higher meant to exclude less common poses, but it is losing key information -- even set at just 100, I lost \"pigeon pose\" which is very common. This is probably because it is listed with slightly varying names across classes. Hence, instead of just deleting poses if they don't show up often enough, I want to reduce all the variations/duplicate name variations to their base poses, which will then show up far more often and be more useful.\n",
    "\n",
    "Besides, for the practicality of my app and creating animations to accompany each pose (which I, at least for now, anticpate having to hand pose each one), I can't accomodate thousands of poses, only a few hundred. \n",
    "\n",
    "For that reason, I'm going to reduce the poses in each class to their base poses before doing word embeddings. "
   ]
  },
  {
   "cell_type": "markdown",
   "metadata": {},
   "source": [
    "I want to isolate just information about poses and base poses, for simplification of all the poses in classes from thousands of variations down to "
   ]
  },
  {
   "cell_type": "code",
   "execution_count": 330,
   "metadata": {},
   "outputs": [
    {
     "output_type": "execute_result",
     "data": {
      "text/plain": "   Base Pose     Level                                Pose Name  Back-Bend  \\\n0  Boat Pose  Advanced                         Boat Pose Aerial          0   \n1  Boat Pose  Advanced  Boat Pose Twist Variation Hands To Feet          0   \n2  Boat Pose  Advanced                       Elevated Boat Pose          0   \n\n   Balance  Forward-Bend  Inversion  Meditative  Pranayama  Restorative  ...  \\\n0        1             0          0           0          0            0  ...   \n1        1             1          0           0          0            0  ...   \n2        1             0          0           0          0            0  ...   \n\n   Standing  Supine  Toes  Crown Chakra (Sahasrara Chakra)  \\\n0         0       0     0                                0   \n1         0       0     0                                0   \n2         0       0     0                                0   \n\n   Heart Chakra (Anahata Chakra)  Root Chakra (Muladhara Chakra)  \\\n0                              0                               0   \n1                              0                               0   \n2                              0                               0   \n\n   Sacral Chakra (Swadisthana Chakra)  Solar Plexus (Manipura Chakra)  \\\n0                                   0                               1   \n1                                   0                               1   \n2                                   0                               0   \n\n   Third Eye Chakra (Ajna Chakra)  Throat Chakra (Vishuddha Chakra)  \n0                               0                                 0  \n1                               0                                 0  \n2                               0                                 0  \n\n[3 rows x 33 columns]",
      "text/html": "<div>\n<style scoped>\n    .dataframe tbody tr th:only-of-type {\n        vertical-align: middle;\n    }\n\n    .dataframe tbody tr th {\n        vertical-align: top;\n    }\n\n    .dataframe thead th {\n        text-align: right;\n    }\n</style>\n<table border=\"1\" class=\"dataframe\">\n  <thead>\n    <tr style=\"text-align: right;\">\n      <th></th>\n      <th>Base Pose</th>\n      <th>Level</th>\n      <th>Pose Name</th>\n      <th>Back-Bend</th>\n      <th>Balance</th>\n      <th>Forward-Bend</th>\n      <th>Inversion</th>\n      <th>Meditative</th>\n      <th>Pranayama</th>\n      <th>Restorative</th>\n      <th>...</th>\n      <th>Standing</th>\n      <th>Supine</th>\n      <th>Toes</th>\n      <th>Crown Chakra (Sahasrara Chakra)</th>\n      <th>Heart Chakra (Anahata Chakra)</th>\n      <th>Root Chakra (Muladhara Chakra)</th>\n      <th>Sacral Chakra (Swadisthana Chakra)</th>\n      <th>Solar Plexus (Manipura Chakra)</th>\n      <th>Third Eye Chakra (Ajna Chakra)</th>\n      <th>Throat Chakra (Vishuddha Chakra)</th>\n    </tr>\n  </thead>\n  <tbody>\n    <tr>\n      <th>0</th>\n      <td>Boat Pose</td>\n      <td>Advanced</td>\n      <td>Boat Pose Aerial</td>\n      <td>0</td>\n      <td>1</td>\n      <td>0</td>\n      <td>0</td>\n      <td>0</td>\n      <td>0</td>\n      <td>0</td>\n      <td>...</td>\n      <td>0</td>\n      <td>0</td>\n      <td>0</td>\n      <td>0</td>\n      <td>0</td>\n      <td>0</td>\n      <td>0</td>\n      <td>1</td>\n      <td>0</td>\n      <td>0</td>\n    </tr>\n    <tr>\n      <th>1</th>\n      <td>Boat Pose</td>\n      <td>Advanced</td>\n      <td>Boat Pose Twist Variation Hands To Feet</td>\n      <td>0</td>\n      <td>1</td>\n      <td>1</td>\n      <td>0</td>\n      <td>0</td>\n      <td>0</td>\n      <td>0</td>\n      <td>...</td>\n      <td>0</td>\n      <td>0</td>\n      <td>0</td>\n      <td>0</td>\n      <td>0</td>\n      <td>0</td>\n      <td>0</td>\n      <td>1</td>\n      <td>0</td>\n      <td>0</td>\n    </tr>\n    <tr>\n      <th>2</th>\n      <td>Boat Pose</td>\n      <td>Advanced</td>\n      <td>Elevated Boat Pose</td>\n      <td>0</td>\n      <td>1</td>\n      <td>0</td>\n      <td>0</td>\n      <td>0</td>\n      <td>0</td>\n      <td>0</td>\n      <td>...</td>\n      <td>0</td>\n      <td>0</td>\n      <td>0</td>\n      <td>0</td>\n      <td>0</td>\n      <td>0</td>\n      <td>0</td>\n      <td>0</td>\n      <td>0</td>\n      <td>0</td>\n    </tr>\n  </tbody>\n</table>\n<p>3 rows × 33 columns</p>\n</div>"
     },
     "metadata": {},
     "execution_count": 330
    }
   ],
   "source": [
    "poses_info.head(3)"
   ]
  },
  {
   "cell_type": "code",
   "execution_count": 365,
   "metadata": {},
   "outputs": [
    {
     "output_type": "execute_result",
     "data": {
      "text/plain": "                                            Pose Name          Base Pose\n0                                    Boat Pose Aerial          Boat Pose\n1             Boat Pose Twist Variation Hands To Feet          Boat Pose\n2                                  Elevated Boat Pose          Boat Pose\n3                          Half Bound Lotus Boat Pose          Boat Pose\n4                                        Bicycle Pose          Boat Pose\n...                                               ...                ...\n3211  Half Wind Release Pose Nose To Knee Foot Raised  Wind Release Pose\n3212            Hip Opening Yoga Sequence Hippie Flow  Wind Release Pose\n3213                           Reclined Cow Face Pose  Wind Release Pose\n3214                         Seated Broken Wings Pose  Wind Release Pose\n3215                         Supine Hip Flexor Roller  Wind Release Pose\n\n[3216 rows x 2 columns]",
      "text/html": "<div>\n<style scoped>\n    .dataframe tbody tr th:only-of-type {\n        vertical-align: middle;\n    }\n\n    .dataframe tbody tr th {\n        vertical-align: top;\n    }\n\n    .dataframe thead th {\n        text-align: right;\n    }\n</style>\n<table border=\"1\" class=\"dataframe\">\n  <thead>\n    <tr style=\"text-align: right;\">\n      <th></th>\n      <th>Pose Name</th>\n      <th>Base Pose</th>\n    </tr>\n  </thead>\n  <tbody>\n    <tr>\n      <th>0</th>\n      <td>Boat Pose Aerial</td>\n      <td>Boat Pose</td>\n    </tr>\n    <tr>\n      <th>1</th>\n      <td>Boat Pose Twist Variation Hands To Feet</td>\n      <td>Boat Pose</td>\n    </tr>\n    <tr>\n      <th>2</th>\n      <td>Elevated Boat Pose</td>\n      <td>Boat Pose</td>\n    </tr>\n    <tr>\n      <th>3</th>\n      <td>Half Bound Lotus Boat Pose</td>\n      <td>Boat Pose</td>\n    </tr>\n    <tr>\n      <th>4</th>\n      <td>Bicycle Pose</td>\n      <td>Boat Pose</td>\n    </tr>\n    <tr>\n      <th>...</th>\n      <td>...</td>\n      <td>...</td>\n    </tr>\n    <tr>\n      <th>3211</th>\n      <td>Half Wind Release Pose Nose To Knee Foot Raised</td>\n      <td>Wind Release Pose</td>\n    </tr>\n    <tr>\n      <th>3212</th>\n      <td>Hip Opening Yoga Sequence Hippie Flow</td>\n      <td>Wind Release Pose</td>\n    </tr>\n    <tr>\n      <th>3213</th>\n      <td>Reclined Cow Face Pose</td>\n      <td>Wind Release Pose</td>\n    </tr>\n    <tr>\n      <th>3214</th>\n      <td>Seated Broken Wings Pose</td>\n      <td>Wind Release Pose</td>\n    </tr>\n    <tr>\n      <th>3215</th>\n      <td>Supine Hip Flexor Roller</td>\n      <td>Wind Release Pose</td>\n    </tr>\n  </tbody>\n</table>\n<p>3216 rows × 2 columns</p>\n</div>"
     },
     "metadata": {},
     "execution_count": 365
    }
   ],
   "source": [
    "base_poses = poses_info[[\"Pose Name\", \"Base Pose\"]]\n",
    "base_poses"
   ]
  },
  {
   "cell_type": "code",
   "execution_count": 366,
   "metadata": {},
   "outputs": [
    {
     "output_type": "execute_result",
     "data": {
      "text/plain": "array(['Boat Pose', 'Bound Angle Pose', 'Bow Pose', 'Bridge Pose',\n       'Camel Pose', 'Cat Cow Pose', 'Cat Tail Pulling Pose',\n       'Center Splits Pose', 'Chair Pose', 'Child Pose', 'Cobra Pose',\n       'Corpse Pose', 'Cow Face Pose', 'Crane Pose', 'Crow Pose',\n       'Cycling Pose', 'Dancer Pose', 'Dolphin Pose',\n       'Downward Facing Dog Pose', 'Eagle Pose', 'Easy Pose',\n       'Easy Pose Chair', 'Exercise', 'Extended Side Angle Pose',\n       'Eye Exercise', 'Eye Of The Needle Pose', 'Feathered Peacock Pose',\n       'Firelog Pose', 'Fish Pose', 'Flamingo Pose',\n       'Foot Behind The Head Pose', 'Four Limbed Staff Pose',\n       'Garland Pose', 'Gate Pose', 'Goddess Pose',\n       'Half Lord Of The Fishes Pose', 'Half Moon Pose', 'Handstand Pose',\n       'Happy Baby Pose', 'Head To Knee Pose', 'Headstand Pose',\n       'Hero Pose', 'High Lunge Pose', 'Intense Leg Stretch Pose',\n       'Intense Side Stretch Pose', 'Legs Up The Wall Pose', 'Lion Pose',\n       'Lizard Pose', 'Locust Pose', 'Lotus Pose', 'Low Lunge Pose',\n       'Moon Salutation', 'Mountain Pose', 'Mudra', 'Neck Rolls',\n       'Palm Tree Pose', 'Pigeon Pose', 'Plank Pose', 'Plough Pose',\n       'Pranayama', 'Puppy Dog Pose', 'Reclined Big Toe Pose',\n       'Reclined Bound Angle Pose', 'Reclined Hero Pose',\n       'Reclining Hero Pose', 'Reverse Corpse Pose',\n       'Reverse Warrior Pose', 'Revolved Eight Point Crescent Moon Pose',\n       'Seated Forward Bend Pose', 'Seated Straddle Pose', 'Section',\n       'Shoulder Stretches', 'Shoulderstand Pose', 'Side Lunge Pose',\n       'Side Lying Corpse Pose', 'Side Plank Pose', 'Sphinx Pose',\n       'Splits Pose', 'Squat Pose', 'Staff Pose',\n       'Standing Backbend Pose', 'Standing Forward Fold Pose',\n       'Standing Hand To Big Toe Pose', 'Standing Twists',\n       'Sun Salutation', 'Supine Spinal Twist Pose',\n       'Supine Spinal Twist Pose Ii', 'Table Top Pose',\n       'Thread The Needle Pose', 'Thunderbolt Pose', 'Torso Stretch Pose',\n       'Tree Pose', 'Triangle Pose', 'Upward Facing Dog Pose',\n       'Upward Plank Pose', 'Vishnu Pose', 'Warrior Pose',\n       'Warrior Pose I', 'Warrior Pose Ii', 'Warrior Pose Iii',\n       'Wheel Pose', 'Wind Release Pose'], dtype=object)"
     },
     "metadata": {},
     "execution_count": 366
    }
   ],
   "source": [
    "base_poses[\"Base Pose\"].unique()"
   ]
  },
  {
   "cell_type": "markdown",
   "metadata": {},
   "source": [
    "Currently there are only 102 total base poses for all 3200 poses I collected, which seems like a bit too much of a simplification. I imagine there are certain key variations that are distinct enough that I'd want to keep them -- hence have more than 102 poses to build my classes from. So, I'm going to manually go through all 3200 poses and make modification to the associated base pose, sometimes choosing to keep the distinct variations instead, using my domain knowledge as a certified yoga teacher. "
   ]
  },
  {
   "cell_type": "code",
   "execution_count": 383,
   "metadata": {},
   "outputs": [],
   "source": [
    "# Commenting this out for readability but I manually looked at every pose...\n",
    "\n",
    "# pd.set_option(\"display.max_rows\", 30)\n",
    "# base_poses"
   ]
  },
  {
   "cell_type": "code",
   "execution_count": 386,
   "metadata": {},
   "outputs": [],
   "source": [
    "# test\n",
    "base_poses.loc[4, \"Base Pose\"] = \"Cycling Pose\""
   ]
  },
  {
   "cell_type": "code",
   "execution_count": 387,
   "metadata": {},
   "outputs": [
    {
     "output_type": "execute_result",
     "data": {
      "text/plain": "                                            Pose Name          Base Pose\n0                                    Boat Pose Aerial          Boat Pose\n1             Boat Pose Twist Variation Hands To Feet          Boat Pose\n2                                  Elevated Boat Pose          Boat Pose\n3                          Half Bound Lotus Boat Pose          Boat Pose\n4                                        Bicycle Pose       Cycling Pose\n...                                               ...                ...\n3211  Half Wind Release Pose Nose To Knee Foot Raised  Wind Release Pose\n3212            Hip Opening Yoga Sequence Hippie Flow  Wind Release Pose\n3213                           Reclined Cow Face Pose  Wind Release Pose\n3214                         Seated Broken Wings Pose  Wind Release Pose\n3215                         Supine Hip Flexor Roller  Wind Release Pose\n\n[3216 rows x 2 columns]",
      "text/html": "<div>\n<style scoped>\n    .dataframe tbody tr th:only-of-type {\n        vertical-align: middle;\n    }\n\n    .dataframe tbody tr th {\n        vertical-align: top;\n    }\n\n    .dataframe thead th {\n        text-align: right;\n    }\n</style>\n<table border=\"1\" class=\"dataframe\">\n  <thead>\n    <tr style=\"text-align: right;\">\n      <th></th>\n      <th>Pose Name</th>\n      <th>Base Pose</th>\n    </tr>\n  </thead>\n  <tbody>\n    <tr>\n      <th>0</th>\n      <td>Boat Pose Aerial</td>\n      <td>Boat Pose</td>\n    </tr>\n    <tr>\n      <th>1</th>\n      <td>Boat Pose Twist Variation Hands To Feet</td>\n      <td>Boat Pose</td>\n    </tr>\n    <tr>\n      <th>2</th>\n      <td>Elevated Boat Pose</td>\n      <td>Boat Pose</td>\n    </tr>\n    <tr>\n      <th>3</th>\n      <td>Half Bound Lotus Boat Pose</td>\n      <td>Boat Pose</td>\n    </tr>\n    <tr>\n      <th>4</th>\n      <td>Bicycle Pose</td>\n      <td>Cycling Pose</td>\n    </tr>\n    <tr>\n      <th>...</th>\n      <td>...</td>\n      <td>...</td>\n    </tr>\n    <tr>\n      <th>3211</th>\n      <td>Half Wind Release Pose Nose To Knee Foot Raised</td>\n      <td>Wind Release Pose</td>\n    </tr>\n    <tr>\n      <th>3212</th>\n      <td>Hip Opening Yoga Sequence Hippie Flow</td>\n      <td>Wind Release Pose</td>\n    </tr>\n    <tr>\n      <th>3213</th>\n      <td>Reclined Cow Face Pose</td>\n      <td>Wind Release Pose</td>\n    </tr>\n    <tr>\n      <th>3214</th>\n      <td>Seated Broken Wings Pose</td>\n      <td>Wind Release Pose</td>\n    </tr>\n    <tr>\n      <th>3215</th>\n      <td>Supine Hip Flexor Roller</td>\n      <td>Wind Release Pose</td>\n    </tr>\n  </tbody>\n</table>\n<p>3216 rows × 2 columns</p>\n</div>"
     },
     "metadata": {},
     "execution_count": 387
    }
   ],
   "source": [
    "base_poses"
   ]
  },
  {
   "cell_type": "code",
   "execution_count": 415,
   "metadata": {
    "tags": []
   },
   "outputs": [],
   "source": [
    "changes = [([4, 17, 47, 50, 60], \"Cycling Pose\"),\n",
    "    ([19, 40, 41, 44, 46, 28, 54, 67, 68, 72], \"High Boat To Low Boat Flow\"),\n",
    "    ([64, 66, 69, 70], \"Low Boat Pose\"),\n",
    "    ([86], \"Staff Pose\"), \n",
    "    ([87, 88, 117, 118], \"Bound Angle Forward Bend\"), \n",
    "    ([125, 135, 136, 138, 140, 141], \"One Legged Bow Pose\"), \n",
    "    ([216, 217, 218, 219], \"Pigeon Pose\"), \n",
    "    ([233, 234, 235, 236, 237, 238, 239], \"Thunderbolt Pose\"), \n",
    "    ([248, 269, 270, 271, 274], \"Cow Pose\"), \n",
    "    ([259, 260, 261, 262, 263, 364, 265, 266, 267, 268, 272, 273, 275], \"Cat Pose\"),\n",
    "    ([291], \"Hurdlers Pose\"),\n",
    "    ([293, 337, 338, 339, 340, 341, 342, 343, 344, 345, 346, 372], \"Revolved Chair Pose\"), \n",
    "    ([300, 303, 306, 307, 308], \"Chair Pose With Airplane Arms\"),\n",
    "    ([365, 369, 370], \"Figure Four Pose\"), \n",
    "    ([368], \"Shiva Squat Pose\"), \n",
    "    ([520, 521], \"Supine Spinal Twist Pose\"), \n",
    "    ([587, 588], \"Flying Pigeon Pose\"), \n",
    "    ([594, 589], \"Side Crow Pose\"), \n",
    "    ([599], \"Baby Crow Pose\"), \n",
    "    ([663, 664, 665, 666, 667, 668], \"One Legged Mountain Pose\"), \n",
    "    ([687, 758], \"One Handed Downward Facing Dog Pose\"),\n",
    "    ([688, 689, 690, 759, 760], \"Standing Splits Pose\"), \n",
    "    ([691, 692, 693, 694, 724, 735, 736, 737, 761, 762, 763, 764], \"Three Legged Downward Facing Dog Pose\"), \n",
    "    ([700, 717], \"Downward Facing Dog Upward Facing Dog Pose Flow\"), \n",
    "    ([714], \"Downward Facing Dog Pose Plank Pose Flow\"), \n",
    "    ([715], \"Downward Facing Dog Pose Table Top Pose Flow\"), \n",
    "    ([747], \"Downward Facing Dog Pose Knee To Nose\"),\n",
    "    ([748], \"Downward Facing Dog Pose Shoulder Taps\"), \n",
    "    ([749], \"Downward Facing Dog Pose to Low Lunge Pose Flow\"), \n",
    "    ([865, 866, 867, 868, 869, 870, 871, 872, 873, 874, 875, 876, 877, 878, 879, 880, 881, 882, 883, 884, 885, 886, 887, 888, 889, 890, 891, 892, 893, 894, 895, 896, 897, 898, 899, 900, 901], \"Easy Pose\"), \n",
    "    ([924, 925, 926], \"Cactus Arms\"), \n",
    "    ([998], \"Half Lotus Pose\"), \n",
    "    ([999], \"Lotus Pose\"), \n",
    "    ([1016, 1017], \"Eye Exercise\"), \n",
    "    ([1055, 1056, 1057, 1058, 1061], \"Scorpion Pose\"), \n",
    "    ([1131, 1132, 1133, 1134, 1135, 1136, 1137, 1138, 1139, 1140, 1141, 1142, 1143, 1144, 1145, 1146, 1147, 1148, 1149, 1150, 1151], \"Chaturanga Dandasana\"),\n",
    "    ([1387], \"Headstand Pose Eagle Legs\"), \n",
    "    ([1390], \"Headstand Pose Lotus Legs\"), \n",
    "    ([1392], \"Headstand Pose Wide Legs\"), \n",
    "    ([1395, 1400, 1401, 1402, 1403, 1404, 1405, 1406, 1407], \"Tripod Headstand Pose\"), \n",
    "    ([1464, 1465, 1479, 1480, 1481, 1482], \"Revolved High Lunge Pose\"), \n",
    "    ([1466, 1467, 1468, 1469, 1483], \"Runners Lunge Pose\"), \n",
    "    ([1487, 1488, 1489, 1490, 1491, 1492, 1493, 1494, 1495, 1496, 1497, 1498, 1499, 1500, 1501, 1502, 1503, 1504, 1505, 1506, 1507, 1508, 1509, 1510, 1511, 1512, 1513, 1514, 1515, 1516, 1517, 1518, 1519, 1520, 1521, 1522, 1523, 1524, 1525, 1526, 1527, 1528, 1529, 1530, 1531, 1532, 1533], \"Wide Legged Forward Fold\"), \n",
    "    ([1487, 1509, 1510, 1511, 1512], \"Revolved Wide Legged Forward Fold\"),\n",
    "    ([1491, 1492, 1493, 1494, 1495, 1496, 1497, 1498], \"Wide Legged Forward Fold With Halfway Lift\"),\n",
    "    ([1489, 1490, 1527], \"Five Pointed Star Pose\"), \n",
    "    ([1508], \"Pyramid Pose\"), \n",
    "    ([1534, 1535, 1536, 1537, 1538, 1539, 1540, 1541, 1542, 1543, 1544, 1545, 1546, 1547, 1548, 1549, 1550, 1551, 1552, 1553, 1554, 1555, 1556, 1557, 1558, 1559, 1560, 1561, 1562, 1563, 1564, 1565, 1566], \"Pyramid Pose\"), \n",
    "    ([1584], \"Flying Lizard Pose\"), \n",
    "    ([1673, 1684, 1685, 1591, 1700, 1708, 1710, 1711, 1712], \"Revolved Low Lunge Pose\"),\n",
    "    ([1732, 1733, 1745, 1758, 1758, 1776, 1777, 1778, 1784, 1790, 1791, 1791], \"One Legged Moutain Pose\"), \n",
    "    ([1840, 1841, 1842, 1843, 1844, 1845, 1846, 1847, 1848, 1849, 1850, 1851, 1852], \"Easy Pose\"), \n",
    "    ([1873, 1874, 1875, 1876, 1877, 1878, 1879, 1880, 1881, 1882], \"Standing Side Bend Pose\"), \n",
    "    ([1891, 1892, 1893, 1901, 1901, 1903, 1904, 1915, 1916, 1917, 1918, 1919, 1920, 1921, 1922], \"King Pigeon Pose\"), \n",
    "    ([1927, 1928, 1932], \"Grasshopper Pose\"), \n",
    "    ([1929], \"Dragonfly Pose\"), \n",
    "    ([1930], \"Eight Angle Pose\"),\n",
    "    ([1934, 1970, 1971, 1972], \"One Legged Plank Pose\"), \n",
    "    ([1939], \"Side Plank Pose\"), \n",
    "    ([1958, 1959, 1960, 1961, 1967, 1968, 1969], \"Forearm Plank Pose\"), \n",
    "    ([2173], \"Lotus Pose\"), \n",
    "    ([2188, 2189, 2190, 2191, 2192, 2193, 2194, 2195, 2196, 2197, 2198, 2199, 2200], \"Revolved Extended Side Angle Pose\"), \n",
    "    ([2189, 2195, 2196], \"Revolved High Lunge Pose\"), \n",
    "    ([2347, 2348, 2349, 2350, 2351, 2352, 2353, 2354, 2355, 2356, 2357, 2358, 2359, 2360, 2361, 2362, 2363, 2364, 2365, 2366, 2367, 2368], \"Skandasana\"),\n",
    "    ([2390, 2397], \"Anantasana\"), \n",
    "    ([2415, 2416, 2417, 2418, 2419, 2420, 2443], \"Visvamitrasana Pose\"), \n",
    "    ([2422, 2427, 2428, 2430, 2431, 2433, 2453, 2458, 2460], \"Side Plank Pose With Leg Variation\"), \n",
    "    ([2436, 2437, 2438, 2439, 2440, 2441], \"Forearm Side Plank Pose\"), \n",
    "    ([2465, 2466], \"Wild Thing Pose\"), \n",
    "    ([2482, 2483, 2484, 2486, 2487, 2488, 2489, 2480, 2492, 2493], \"Half Splits Pose\"), \n",
    "    ([2494], \"Standing Splits Pose\"), \n",
    "    ([2592, 2593, 2594], \"Firefly Pose\"), \n",
    "    ([2611, 2612, 2613, 2614, 2615, 2616, 2617, 2618, 2619, 2620, 2621], \"Forward Fold Pose With Halfway Lift\"), \n",
    "    ([2688, 2689, 2692, 2717], \"Bird Of Paradise Pose\"), \n",
    "    ([2700, 2701, 2703], \"Revolved Hand To Big Toe Pose\"), \n",
    "    ([2750, 2758], \"Half Sun Salutation\"), \n",
    "    ([2759], \"Second Half Of Sun Salutation\"), \n",
    "    ([2771, 2772], \"Banana Pose\"), \n",
    "    ([2795], \"Supine Spinal Twist Pose\"), \n",
    "    ([2797, 2798, 2833, 2848, 2849, 2850], \"Tiger Pose\"), \n",
    "    ([2799, 2816, 2827], \"Table Top Knee To Nose Flow\"), \n",
    "    ([2800, 2817], \"Child Pose Table Top Pose Flow\"), \n",
    "    ([2801, 2831, 2834, 2837, 2840, 2841, 2842], \"Table Top Pose With One Leg Extended Back\"), \n",
    "    ([2809, 2810, 2811, 2812, 2813, 2814, 2815], \"Revolved Table Top Pose\"), \n",
    "    ([2852, 2853, 2854, 2855], \"Table Top Balancing Pose, Opposite Arm and Leg Extended\"), \n",
    "    ([2968, 2972, 2983, 2974, 2975, 2976, 2977, 3005, 3006, 3007, 3008], \"Revolved Triangle Pose\"), \n",
    "    ([3023, 3024, 3025, 3026, 3031, 3032, 3038, 3039, 3040], \"Reverse Table Top Pose\"), \n",
    "    ([3037], \"Flip The Dog Pose\"), \n",
    "    ([3046, 3047, 3048, 3049, 3050, 3051, 3052, 3053, 3054, 3055, 3056, 3057, 3058, 3059, 3060, 3061, 3062, 3063], \"Anantasana\"), \n",
    "    ([3064, 3065, 3066, 3067, 3070, 3071, 3072, 3073, 3074, 3075, 3079], \"Warrior Pose I\"), \n",
    "    ([3068, 3069, 3076, 3077, 3078], \"Humble Warrior Pose\"), \n",
    "    ([3106, 3107, 3108, 3109, 3110, 3111, 3112, 3113, 3114, 3115, 3116, 3117, 3118, 3119, 3120, 3121], \"Warrior Pose II\"), \n",
    "    ([3122, 3123, 3124, 3125, 3126, 3127, 3128, 3129, 3130, 3131, 3132, 3133, 3134, 3135, 3136, 3137, 3138, 3139, 3140, 3141, 3142, 3143, 3144], \"Warrior Pose III\"), \n",
    "    ([3134], \"Shiva Squat Pose\"), \n",
    "    ([3131, 3132, 3133], \"Airplane Pose\"), \n",
    "    ([3181, 3182, 3183, 3184, 3185, 3186, 3187, 3188, 3189, 3190], \"Half Wind Release Pose\")]"
   ]
  },
  {
   "cell_type": "code",
   "execution_count": 417,
   "metadata": {
    "tags": []
   },
   "outputs": [],
   "source": [
    "for i in changes:\n",
    "    base_poses.loc[i[0], \"Base Pose\"] = i[1]"
   ]
  },
  {
   "cell_type": "code",
   "execution_count": 430,
   "metadata": {},
   "outputs": [
    {
     "output_type": "execute_result",
     "data": {
      "text/plain": "170"
     },
     "metadata": {},
     "execution_count": 430
    }
   ],
   "source": [
    "len(base_poses[\"Base Pose\"].unique())"
   ]
  },
  {
   "cell_type": "code",
   "execution_count": 444,
   "metadata": {},
   "outputs": [
    {
     "output_type": "execute_result",
     "data": {
      "text/plain": "array(['Boat Pose', 'Cycling Pose', 'High Boat To Low Boat Flow',\n       'Low Boat Pose', 'Bound Angle Pose', 'Staff Pose',\n       'Bound Angle Forward Bend', 'Bow Pose', 'One Legged Bow Pose',\n       'Bridge Pose', 'Camel Pose', 'Pigeon Pose', 'Thunderbolt Pose',\n       'Cow Pose', 'Cat Cow Pose', 'Cat Pose', 'Cat Tail Pulling Pose',\n       'Center Splits Pose', 'Hurdlers Pose', 'Revolved Chair Pose',\n       'Chair Pose', 'Chair Pose With Airplane Arms', 'Figure Four Pose',\n       'Shiva Squat Pose', 'Child Pose', 'Cobra Pose', 'Corpse Pose',\n       'Supine Spinal Twist Pose', 'Cow Face Pose', 'Crane Pose',\n       'Flying Pigeon Pose', 'Side Crow Pose', 'Baby Crow Pose',\n       'Crow Pose', 'Dancer Pose', 'One Legged Mountain Pose',\n       'Dolphin Pose', 'Downward Facing Dog Pose',\n       'One Handed Downward Facing Dog Pose', 'Standing Splits Pose',\n       'Three Legged Downward Facing Dog Pose',\n       'Downward Facing Dog Upward Facing Dog Pose Flow',\n       'Downward Facing Dog Pose Plank Pose Flow',\n       'Downward Facing Dog Pose Table Top Pose Flow',\n       'Downward Facing Dog Pose Knee To Nose',\n       'Downward Facing Dog Pose Shoulder Taps',\n       'Downward Facing Dog Pose to Low Lunge Pose Flow', 'Eagle Pose',\n       'Easy Pose', 'Exercise', 'Cactus Arms', 'Half Lotus Pose',\n       'Lotus Pose', 'Extended Side Angle Pose', 'Eye Exercise',\n       'Eye Of The Needle Pose', 'Feathered Peacock Pose',\n       'Scorpion Pose', 'Firelog Pose', 'Fish Pose', 'Flamingo Pose',\n       'Foot Behind The Head Pose', 'Chaturanga Dandasana',\n       'Four Limbed Staff Pose', 'Garland Pose', 'Gate Pose',\n       'Goddess Pose', 'Half Lord Of The Fishes Pose', 'Half Moon Pose',\n       'Handstand Pose', 'Happy Baby Pose', 'Head To Knee Pose',\n       'Headstand Pose', 'Headstand Pose Eagle Legs',\n       'Headstand Pose Lotus Legs', 'Headstand Pose Wide Legs',\n       'Tripod Headstand Pose', 'Hero Pose', 'High Lunge Pose',\n       'Revolved High Lunge Pose', 'Runners Lunge Pose',\n       'Revolved Wide Legged Forward Fold', 'Wide Legged Forward Fold',\n       'Five Pointed Star Pose',\n       'Wide Legged Forward Fold With Halfway Lift', 'Pyramid Pose',\n       'Legs Up The Wall Pose', 'Lion Pose', 'Lizard Pose',\n       'Flying Lizard Pose', 'Revolved Low Lunge Pose', 'Locust Pose',\n       'Low Lunge Pose', 'Moon Salutation', 'Mountain Pose',\n       'One Legged Moutain Pose', 'Mudra', 'Neck Rolls', 'Palm Tree Pose',\n       'Standing Side Bend Pose', 'King Pigeon Pose', 'Grasshopper Pose',\n       'Dragonfly Pose', 'Eight Angle Pose', 'Plank Pose',\n       'One Legged Plank Pose', 'Side Plank Pose', 'Forearm Plank Pose',\n       'Plough Pose', 'Pranayama', 'Puppy Dog Pose',\n       'Reclined Big Toe Pose', 'Reclined Bound Angle Pose',\n       'Reclined Hero Pose', 'Reclining Hero Pose', 'Reverse Corpse Pose',\n       'Reverse Warrior Pose', 'Revolved Extended Side Angle Pose',\n       'Seated Forward Bend Pose', 'Seated Straddle Pose', 'Section',\n       'Shoulder Stretches', 'Shoulderstand Pose', 'Skandasana',\n       'Side Lying Corpse Pose', 'Anantasana', 'Visvamitrasana Pose',\n       'Side Plank Pose With Leg Variation', 'Forearm Side Plank Pose',\n       'Wild Thing Pose', 'Sphinx Pose', 'Half Splits Pose',\n       'Splits Pose', 'Squat Pose', 'Standing Backbend Pose',\n       'Firefly Pose', 'Standing Forward Fold Pose',\n       'Forward Fold Pose With Halfway Lift', 'Bird Of Paradise Pose',\n       'Standing Hand To Big Toe Pose', 'Revolved Hand To Big Toe Pose',\n       'Standing Twists', 'Sun Salutation', 'Half Sun Salutation',\n       'Second Half Of Sun Salutation', 'Banana Pose', 'Table Top Pose',\n       'Tiger Pose', 'Table Top Knee To Nose Flow',\n       'Child Pose Table Top Pose Flow',\n       'Table Top Pose With One Leg Extended Back',\n       'Revolved Table Top Pose',\n       'Table Top Balancing Pose, Opposite Arm and Leg Extended',\n       'Thread The Needle Pose', 'Torso Stretch Pose', 'Tree Pose',\n       'Revolved Triangle Pose', 'Triangle Pose',\n       'Upward Facing Dog Pose', 'Upward Plank Pose',\n       'Reverse Table Top Pose', 'Flip The Dog Pose', 'Warrior Pose I',\n       'Humble Warrior Pose', 'Warrior Pose II', 'Warrior Pose III',\n       'Airplane Pose', 'Wheel Pose', 'Wind Release Pose',\n       'Half Wind Release Pose'], dtype=object)"
     },
     "metadata": {},
     "execution_count": 444
    }
   ],
   "source": [
    "base_poses[\"Base Pose\"].unique()"
   ]
  },
  {
   "cell_type": "code",
   "execution_count": 422,
   "metadata": {},
   "outputs": [],
   "source": [
    "base_documents = []\n",
    "for i in range(len(documents)):\n",
    "    temp_df = pd.DataFrame(documents[i], columns=[\"0\"])\n",
    "    temp_df = pd.merge(temp_df, base_poses, how=\"left\", left_on=\"0\", right_on=\"Pose Name\")\n",
    "    temp_df = temp_df.dropna(how=\"any\")\n",
    "    new_doc = [pose for pose in temp_df[\"Base Pose\"]]\n",
    "    base_documents.append(new_doc)"
   ]
  },
  {
   "cell_type": "markdown",
   "metadata": {},
   "source": [
    "Running again on documents with base_poses only:"
   ]
  },
  {
   "cell_type": "code",
   "execution_count": 423,
   "metadata": {},
   "outputs": [],
   "source": [
    "model = gensim.models.Word2Vec(base_documents, size=100, window=5, min_count=1, sg=1)"
   ]
  },
  {
   "cell_type": "code",
   "execution_count": 424,
   "metadata": {},
   "outputs": [
    {
     "output_type": "execute_result",
     "data": {
      "text/plain": "[('Three Legged Downward Facing Dog Pose', 0.7752646207809448),\n ('Plank Pose', 0.652948260307312),\n ('Standing Forward Fold Pose', 0.6486674547195435),\n ('Forward Fold Pose With Halfway Lift', 0.6484947204589844),\n ('Low Lunge Pose', 0.6375930309295654),\n ('Chaturanga Dandasana', 0.6356512308120728),\n ('Mountain Pose', 0.6152158975601196),\n ('Table Top Pose', 0.6037572622299194),\n ('Downward Facing Dog Pose Knee To Nose', 0.6012575626373291),\n ('Downward Facing Dog Pose Plank Pose Flow', 0.5903475284576416),\n ('Upward Facing Dog Pose', 0.583499550819397),\n ('Palm Tree Pose', 0.5730133056640625),\n ('Child Pose', 0.5546844005584717),\n ('Warrior Pose I', 0.5540790557861328),\n ('Reverse Warrior Pose', 0.5399295687675476),\n ('Revolved High Lunge Pose', 0.5390284061431885),\n ('Table Top Balancing Pose, Opposite Arm and Leg Extended',\n  0.5379910469055176),\n ('Warrior Pose II', 0.5379220247268677),\n ('Cobra Pose', 0.5191168189048767),\n ('One Handed Downward Facing Dog Pose', 0.5101999044418335)]"
     },
     "metadata": {},
     "execution_count": 424
    }
   ],
   "source": [
    "model.most_similar(\"Downward Facing Dog Pose\", topn=20)"
   ]
  },
  {
   "cell_type": "code",
   "execution_count": 425,
   "metadata": {},
   "outputs": [
    {
     "output_type": "execute_result",
     "data": {
      "text/plain": "[('Wind Release Pose', 0.8253781199455261),\n ('Supine Spinal Twist Pose', 0.7935897707939148),\n ('Half Wind Release Pose', 0.7451516389846802),\n ('Happy Baby Pose', 0.737824559211731),\n ('Reclined Bound Angle Pose', 0.7172040939331055),\n ('Bridge Pose', 0.6527498364448547),\n ('Eye Of The Needle Pose', 0.6461621522903442),\n ('Banana Pose', 0.6410391330718994),\n ('Legs Up The Wall Pose', 0.6343509554862976),\n ('Cycling Pose', 0.5977532863616943),\n ('Fish Pose', 0.5841200947761536),\n ('Plough Pose', 0.5591453313827515),\n ('Reclined Big Toe Pose', 0.5579828023910522),\n ('Side Lying Corpse Pose', 0.5431381464004517),\n ('Section', 0.5370664000511169),\n ('Easy Pose', 0.48950403928756714),\n ('Pranayama', 0.4437270164489746),\n ('Neck Rolls', 0.4398112893104553),\n ('Seated Forward Bend Pose', 0.43820858001708984),\n ('High Boat To Low Boat Flow', 0.43775245547294617)]"
     },
     "metadata": {},
     "execution_count": 425
    }
   ],
   "source": [
    "model.most_similar(\"Corpse Pose\", topn=20)"
   ]
  },
  {
   "cell_type": "code",
   "execution_count": 426,
   "metadata": {},
   "outputs": [
    {
     "output_type": "execute_result",
     "data": {
      "text/plain": "[('Shoulderstand Pose', 0.6132398247718811),\n ('Fish Pose', 0.5154325366020203),\n ('Upward Plank Pose', 0.49875175952911377),\n ('Plough Pose', 0.49492019414901733),\n ('Scorpion Pose', 0.48720359802246094),\n ('Bridge Pose', 0.48524922132492065),\n ('Reclined Hero Pose', 0.4735625684261322),\n ('Handstand Pose', 0.46006903052330017),\n ('Headstand Pose', 0.44781529903411865),\n ('Camel Pose', 0.4384971261024475),\n ('Headstand Pose Eagle Legs', 0.4381139576435089),\n ('Bow Pose', 0.43379443883895874),\n ('Headstand Pose Lotus Legs', 0.43201956152915955),\n ('Dragonfly Pose', 0.42911750078201294),\n ('Reverse Table Top Pose', 0.4210657477378845),\n ('Feathered Peacock Pose', 0.4192594885826111),\n ('Eight Angle Pose', 0.41475605964660645),\n ('Reclining Hero Pose', 0.40742501616477966),\n ('Flip The Dog Pose', 0.4003870487213135),\n ('Hurdlers Pose', 0.3981773555278778)]"
     },
     "metadata": {},
     "execution_count": 426
    }
   ],
   "source": [
    "model.most_similar(\"Wheel Pose\", topn=20)"
   ]
  },
  {
   "cell_type": "code",
   "execution_count": 428,
   "metadata": {},
   "outputs": [
    {
     "output_type": "execute_result",
     "data": {
      "text/plain": "[('Warrior Pose I', 0.5906641483306885),\n ('Half Sun Salutation', 0.5853966474533081),\n ('Warrior Pose II', 0.5793404579162598),\n ('Triangle Pose', 0.5711530447006226),\n ('Second Half Of Sun Salutation', 0.571139931678772),\n ('Mountain Pose', 0.5569466352462769),\n ('Reverse Warrior Pose', 0.5567517876625061),\n ('Chair Pose', 0.5516870617866516),\n ('Tree Pose', 0.5514235496520996),\n ('Revolved Chair Pose', 0.5280930995941162)]"
     },
     "metadata": {},
     "execution_count": 428
    }
   ],
   "source": [
    "model.most_similar(\"Sun Salutation\")"
   ]
  },
  {
   "cell_type": "code",
   "execution_count": 429,
   "metadata": {
    "tags": []
   },
   "outputs": [
    {
     "output_type": "stream",
     "name": "stdout",
     "text": "0.13704592\n0.21905862\n0.3814702\n0.8253781\n"
    }
   ],
   "source": [
    "print(model.similarity(\"Corpse Pose\", \"Extended Side Angle Pose\"))\n",
    "print(model.similarity(\"Corpse Pose\", \"Pigeon Pose\"))\n",
    "print(model.similarity(\"Corpse Pose\", \"Child Pose\"))\n",
    "print(model.similarity(\"Corpse Pose\", \"Wind Release Pose\"))"
   ]
  },
  {
   "cell_type": "code",
   "execution_count": 431,
   "metadata": {},
   "outputs": [
    {
     "output_type": "execute_result",
     "data": {
      "text/plain": "[('Side Plank Pose', 0.6133649349212646),\n ('Side Plank Pose With Leg Variation', 0.6059179306030273),\n ('Flip The Dog Pose', 0.5696864128112793),\n ('Three Legged Downward Facing Dog Pose', 0.5621377229690552),\n ('Downward Facing Dog Pose Knee To Nose', 0.5200204849243164),\n ('Forearm Side Plank Pose', 0.48757949471473694),\n ('Visvamitrasana Pose', 0.4829522967338562),\n ('Pigeon Pose', 0.43725696206092834),\n ('Plank Pose', 0.4310494661331177),\n ('Downward Facing Dog Pose', 0.41312068700790405)]"
     },
     "metadata": {},
     "execution_count": 431
    }
   ],
   "source": [
    "model.most_similar(\"Wild Thing Pose\")"
   ]
  },
  {
   "cell_type": "code",
   "execution_count": 432,
   "metadata": {},
   "outputs": [
    {
     "output_type": "execute_result",
     "data": {
      "text/plain": "[('Side Lying Corpse Pose', 0.49826186895370483),\n ('Reverse Table Top Pose', 0.4588111937046051),\n ('Table Top Pose With One Leg Extended Back', 0.4554680585861206),\n ('Cat Tail Pulling Pose', 0.442752480506897),\n ('Cycling Pose', 0.4293849468231201),\n ('Upward Plank Pose', 0.4155281186103821),\n ('Banana Pose', 0.40798455476760864),\n ('Forearm Side Plank Pose', 0.3616667091846466),\n ('Reclined Big Toe Pose', 0.34704896807670593),\n ('Side Plank Pose With Leg Variation', 0.3463432788848877)]"
     },
     "metadata": {},
     "execution_count": 432
    }
   ],
   "source": [
    "model.most_similar(\"Anantasana\")"
   ]
  },
  {
   "cell_type": "code",
   "execution_count": 433,
   "metadata": {},
   "outputs": [],
   "source": [
    "def analogy(worda, wordb, wordc):\n",
    "    result = model.most_similar(negative=[worda], positive=[wordb, wordc])\n",
    "    return result[0][0]"
   ]
  },
  {
   "cell_type": "code",
   "execution_count": 440,
   "metadata": {},
   "outputs": [
    {
     "output_type": "execute_result",
     "data": {
      "text/plain": "'Table Top Balancing Pose, Opposite Arm and Leg Extended'"
     },
     "metadata": {},
     "execution_count": 440
    }
   ],
   "source": [
    "# A pose to a 3-limbed variation of the same pose\n",
    "analogy(\"Downward Facing Dog Pose\", \"Three Legged Downward Facing Dog Pose\", \"Table Top Pose\")"
   ]
  },
  {
   "cell_type": "code",
   "execution_count": 441,
   "metadata": {},
   "outputs": [
    {
     "output_type": "execute_result",
     "data": {
      "text/plain": "'Standing Forward Fold Pose'"
     },
     "metadata": {},
     "execution_count": 441
    }
   ],
   "source": [
    "# Two poses which often follow each other one after the other \n",
    "analogy(\"Warrior Pose II\", \"Extended Side Angle Pose\", \"Mountain Pose\")"
   ]
  },
  {
   "cell_type": "code",
   "execution_count": 443,
   "metadata": {},
   "outputs": [
    {
     "output_type": "execute_result",
     "data": {
      "text/plain": "'Reverse Warrior Pose'"
     },
     "metadata": {},
     "execution_count": 443
    }
   ],
   "source": [
    "analogy(\"Warrior Pose II\", \"Extended Side Angle Pose\", \"Warrior Pose I\")"
   ]
  },
  {
   "cell_type": "markdown",
   "metadata": {},
   "source": [
    "Analysis: Now the poses have been simplfied to their base poses and hence the total possible number of input poses my application will build yoga classes from has been reduced to 170 (from 3000+). This is much more manageable, and the custom work I did to include key additional variations provides a more robust practice. \n",
    "\n",
    "Given the above ratings of similarity of corpse pose to other various poses, the scores make even more sense after reducing to baes poses. Very little similarity to a difficulty strength-heavy standing pose, mild similarity to an intense prone stretch pose, moderate similarity to a relaxation prone pose, and very high similarity to wind release pose, which often tends to be practiced immediately before final savasana, corpse pose. \n",
    "\n",
    "I am now happy with this cleaned input data and resultant word vectors demonstrating reasonable similarity, and ready to move into LSTM training. "
   ]
  },
  {
   "cell_type": "markdown",
   "metadata": {},
   "source": [
    "# LSTM"
   ]
  },
  {
   "cell_type": "code",
   "execution_count": null,
   "metadata": {},
   "outputs": [],
   "source": []
  },
  {
   "cell_type": "markdown",
   "metadata": {},
   "source": [
    "# Wolfram Language\n",
    "The Wolfram Language contains extensive info about 216 yoga poses, including muscle groups used, and the recommended Preparatory and Counter Poses. "
   ]
  },
  {
   "cell_type": "code",
   "execution_count": 267,
   "metadata": {},
   "outputs": [],
   "source": [
    "from wolframclient.evaluation import WolframLanguageSession\n",
    "from wolframclient.language import wl, wlexpr\n",
    "session = WolframLanguageSession()"
   ]
  },
  {
   "cell_type": "code",
   "execution_count": 5,
   "metadata": {
    "tags": []
   },
   "outputs": [
    {
     "output_type": "execute_result",
     "data": {
      "text/plain": "(Rule[(('Input', 1), 'Plaintext'), 'beginner yoga poses'],\n Rule[(('Result', 1), 'Plaintext'), \"Anjaneya's Pose | Balancing Table Pose | Bharadvaja's Pose | Big Toe Pose | Bikram Triangle Pose | Boat Pose | Bound Angle Pose A | Bound Angle Pose B | Bound Angle Pose C | Cat Pose | Child's Pose | Cobra Pose | Corpse Pose | Cow Pose | Crescent High Lunge Pose | Crocodile Pose | Dead Bug Pose | Deer Pose | Diamond Pose | Diamond Stretch Pose | ... (total: 90)\"],\n Rule[(('Schematic:YogaData', 1), 'Plaintext'), '\\n(asymmetrical poses shown with focus on the right side of the body)'],\n Rule[(('IntensityLevelSummary:YogaData', 1), 'Plaintext'), \"Anjaneya's Pose | Bharadvaja's Pose | Bound Angle Pose A | Bound Angle Pose B | Bound Angle Pose C | Cat Pose | Child's Pose | Corpse Pose | Cow Pose | Crocodile Pose | Dead Bug Pose | Deer Pose | Diamond Pose | Diamond Stretch Pose | Easy Pose | Figure Four Stretch Pose | Happy Baby Pose | Head to Knee Pose A | High Lunge Pose | Knees to Chest Pose | ... (total: 40)\"],\n Rule[(('IntensityLevelSummary:YogaData', 2), 'Plaintext'), \"Balancing Table Pose | Big Toe Pose | Bikram Triangle Pose | Cobra Pose | Crescent High Lunge Pose | Downward Facing Dog Pose | Downward Facing Frog Pose | Extended Side Angle Pose | Extended Triangle Pose | Gate Pose | Goddess Pose | Half Circle Pose | Half Monkey Pose | Half Moon Pose | Half Standing Forward Bend Pose | Intense Side Stretch Pose | Marichi's Pose A | Marichi's Pose C | Raised Arm Pose | Reclining Revolved Big Toe Pose | ... (total: 36)\"],\n Rule[(('IntensityLevelSummary:YogaData', 3), 'Plaintext'), 'Boat Pose | Dolphin Pose | Extended Hand to Big Toe Pose C | Fierce Pose | Fire Hydrant Pose | Forearm Plank Pose | Lion Pose | Locust Pose | Locust Pose A | Locust Pose B | Pendant Pose | Plank Pose | Shoulder Supported Bridge Pose | Side Plank Pose (total: 14)'],\n Rule[(('Input', 1), 'Input'), HoldComplete[EntityClass['YogaPose', 'BeginnerYogaPoses']]])"
     },
     "metadata": {},
     "execution_count": 5
    }
   ],
   "source": [
    "session.evaluate(wl.WolframAlpha(\"Easy yoga poses\"))"
   ]
  },
  {
   "cell_type": "code",
   "execution_count": 129,
   "metadata": {
    "tags": []
   },
   "outputs": [
    {
     "output_type": "execute_result",
     "data": {
      "text/plain": "(Entity['YogaPose', 'AccomplishedPose'], Entity['YogaPose', 'HalfLotusPose'])"
     },
     "metadata": {},
     "execution_count": 129
    }
   ],
   "source": [
    "output = session.evaluate(wlexpr('''\n",
    "    EntityClass[\"YogaPose\", \n",
    "    \"PreparatoryPoses\" -> \n",
    "    MemberQ[Entity[\"YogaPose\", \"EasyPose\"]]] // EntityList\n",
    "    '''))\n",
    "output"
   ]
  },
  {
   "cell_type": "code",
   "execution_count": 140,
   "metadata": {
    "tags": []
   },
   "outputs": [
    {
     "output_type": "execute_result",
     "data": {
      "text/plain": "(Entity['YogaPose', 'IntenseSideStretchPose'],\n Entity['YogaPose', 'RevolvedTrianglePose'],\n Entity['YogaPose', 'WarriorIPose'])"
     },
     "metadata": {},
     "execution_count": 140
    }
   ],
   "source": [
    "session.evaluate(wlexpr('''\n",
    "    Entity[\"YogaPose\", \"WarriorIIIPose\"][\"PreparatoryPoses\"]\n",
    "    '''))"
   ]
  },
  {
   "cell_type": "code",
   "execution_count": null,
   "metadata": {},
   "outputs": [],
   "source": []
  }
 ]
}