{
 "metadata": {
  "language_info": {
   "codemirror_mode": {
    "name": "ipython",
    "version": 3
   },
   "file_extension": ".py",
   "mimetype": "text/x-python",
   "name": "python",
   "nbconvert_exporter": "python",
   "pygments_lexer": "ipython3",
   "version": "3.7.7-final"
  },
  "orig_nbformat": 2,
  "kernelspec": {
   "name": "tensorflow",
   "display_name": "tensorflow"
  }
 },
 "nbformat": 4,
 "nbformat_minor": 2,
 "cells": [
  {
   "cell_type": "markdown",
   "metadata": {},
   "source": [
    "# Imports"
   ]
  },
  {
   "cell_type": "code",
   "execution_count": 1,
   "metadata": {
    "tags": []
   },
   "outputs": [
    {
     "output_type": "stream",
     "name": "stderr",
     "text": "Using TensorFlow backend.\n"
    }
   ],
   "source": [
    "import pandas as pd\n",
    "import numpy as np\n",
    "import seaborn as sns\n",
    "import pickle\n",
    "import sklearn\n",
    "import tensorflow as tf\n",
    "KERAS_BACKEND=tf\n",
    "from tensorflow import keras\n",
    "# from tensorflow.keras.utils import plot_model\n",
    "import gensim\n",
    "# from keras_self_attention import SeqSelfAttention\n",
    "import keras\n",
    "from keras.utils import np_utils\n",
    "from keras.utils.vis_utils import model_to_dot\n",
    "from keras.preprocessing.text import Tokenizer\n",
    "from keras.preprocessing.sequence import pad_sequences\n",
    "from keras.models import Model, Sequential\n",
    "from keras.layers import Dense, Activation, Dropout\n",
    "from keras.layers import Input, Embedding, Bidirectional, LSTM\n",
    "from gensim.models.keyedvectors import KeyedVectors\n",
    "\n"
   ]
  },
  {
   "cell_type": "code",
   "execution_count": 2,
   "metadata": {},
   "outputs": [
    {
     "output_type": "execute_result",
     "data": {
      "text/plain": "'2.3.0'"
     },
     "metadata": {},
     "execution_count": 2
    }
   ],
   "source": [
    "tf.__version__"
   ]
  },
  {
   "cell_type": "markdown",
   "metadata": {},
   "source": [
    "# Loading Yoga Class & Pose DataFrames\n",
    "These DataFrames were scraped and created during project 3. "
   ]
  },
  {
   "cell_type": "code",
   "execution_count": 3,
   "metadata": {},
   "outputs": [],
   "source": [
    "f = open(\"all_poses\", \"rb\")\n",
    "all_poses = pickle.load(f)\n",
    "f.close()\n",
    "\n",
    "f = open(\"flask_app_df\", \"rb\")\n",
    "poses_info = pickle.load(f)\n",
    "f.close()\n",
    "\n",
    "f = open(\"all_yoga_classes_df\", \"rb\")\n",
    "yoga_classes = pickle.load(f)\n",
    "f.close()\n",
    "\n",
    "f = open(\"poses_df\", \"rb\")\n",
    "class_poses = pickle.load(f)\n",
    "f.close()\n",
    "\n",
    "f = open(\"vinyasa_df\", \"rb\")\n",
    "more_vinyasa = pickle.load(f)\n",
    "f.close()\n",
    "\n",
    "f = open(\"hatha_df\", \"rb\")\n",
    "more_hatha = pickle.load(f)\n",
    "f.close()"
   ]
  },
  {
   "cell_type": "code",
   "execution_count": 4,
   "metadata": {},
   "outputs": [
    {
     "output_type": "execute_result",
     "data": {
      "text/plain": "                                   Title  \\\n0       ←Slow Sunday Flow y Monday early   \n1                              ←Anahata    \n2                                  ←CORE   \n3                                      ←   \n4     ←Vinyasa - Bench press & push up #   \n...                                  ...   \n1582              ←Shoulder-Heart Opener   \n1583                       ←Yin Sequence   \n1584                ←Practicing Presence   \n1585                       ←Yin- Cooling   \n1586                             ←LET GO   \n\n                                                  Poses Class Type  \n0     [Easy Pose Hands To Heart, Easy Pose Hands Int...    Vinyasa  \n1     [Mantra Section, Thunderbolt Pose, Easy Pose B...    Vinyasa  \n2     [Classic Sun Salutation Variation F, Chair Pos...    Vinyasa  \n3     [Easy Pose, Easy Pose Warm Up Flow, Sun Saluta...    Vinyasa  \n4     [Corpse Pose, Corpse Pose Roll Under Spine, Wr...    Vinyasa  \n...                                                 ...        ...  \n1582  [Easy Pose, Easy Pose Neck Side Stretch, Easy ...        Yin  \n1583  [Easy Pose, Cat Cow Pose, Child Pose, Seated S...        Yin  \n1584  [Easy Pose Hands To Heart, Easy Pose Twist Rai...        Yin  \n1585  [Sitali, Bound Angle Pose Blocks, Sun Breaths,...        Yin  \n1586  [Easy Pose, Alternate Nostril Breathing, Winge...        Yin  \n\n[42893 rows x 3 columns]",
      "text/html": "<div>\n<style scoped>\n    .dataframe tbody tr th:only-of-type {\n        vertical-align: middle;\n    }\n\n    .dataframe tbody tr th {\n        vertical-align: top;\n    }\n\n    .dataframe thead th {\n        text-align: right;\n    }\n</style>\n<table border=\"1\" class=\"dataframe\">\n  <thead>\n    <tr style=\"text-align: right;\">\n      <th></th>\n      <th>Title</th>\n      <th>Poses</th>\n      <th>Class Type</th>\n    </tr>\n  </thead>\n  <tbody>\n    <tr>\n      <th>0</th>\n      <td>←Slow Sunday Flow y Monday early</td>\n      <td>[Easy Pose Hands To Heart, Easy Pose Hands Int...</td>\n      <td>Vinyasa</td>\n    </tr>\n    <tr>\n      <th>1</th>\n      <td>←Anahata</td>\n      <td>[Mantra Section, Thunderbolt Pose, Easy Pose B...</td>\n      <td>Vinyasa</td>\n    </tr>\n    <tr>\n      <th>2</th>\n      <td>←CORE</td>\n      <td>[Classic Sun Salutation Variation F, Chair Pos...</td>\n      <td>Vinyasa</td>\n    </tr>\n    <tr>\n      <th>3</th>\n      <td>←</td>\n      <td>[Easy Pose, Easy Pose Warm Up Flow, Sun Saluta...</td>\n      <td>Vinyasa</td>\n    </tr>\n    <tr>\n      <th>4</th>\n      <td>←Vinyasa - Bench press &amp; push up #</td>\n      <td>[Corpse Pose, Corpse Pose Roll Under Spine, Wr...</td>\n      <td>Vinyasa</td>\n    </tr>\n    <tr>\n      <th>...</th>\n      <td>...</td>\n      <td>...</td>\n      <td>...</td>\n    </tr>\n    <tr>\n      <th>1582</th>\n      <td>←Shoulder-Heart Opener</td>\n      <td>[Easy Pose, Easy Pose Neck Side Stretch, Easy ...</td>\n      <td>Yin</td>\n    </tr>\n    <tr>\n      <th>1583</th>\n      <td>←Yin Sequence</td>\n      <td>[Easy Pose, Cat Cow Pose, Child Pose, Seated S...</td>\n      <td>Yin</td>\n    </tr>\n    <tr>\n      <th>1584</th>\n      <td>←Practicing Presence</td>\n      <td>[Easy Pose Hands To Heart, Easy Pose Twist Rai...</td>\n      <td>Yin</td>\n    </tr>\n    <tr>\n      <th>1585</th>\n      <td>←Yin- Cooling</td>\n      <td>[Sitali, Bound Angle Pose Blocks, Sun Breaths,...</td>\n      <td>Yin</td>\n    </tr>\n    <tr>\n      <th>1586</th>\n      <td>←LET GO</td>\n      <td>[Easy Pose, Alternate Nostril Breathing, Winge...</td>\n      <td>Yin</td>\n    </tr>\n  </tbody>\n</table>\n<p>42893 rows × 3 columns</p>\n</div>"
     },
     "metadata": {},
     "execution_count": 4
    }
   ],
   "source": [
    "yoga_classes"
   ]
  },
  {
   "cell_type": "markdown",
   "metadata": {},
   "source": [
    "### Additional Classes\n",
    "I scraped 20,000 additional classes since project 3, to supplement the data. In particular, they are vinyasa and hatha classes."
   ]
  },
  {
   "cell_type": "code",
   "execution_count": 5,
   "metadata": {},
   "outputs": [
    {
     "output_type": "execute_result",
     "data": {
      "text/plain": "                              Title  \\\n0                   ←Foundations -    \n1                ←Massage therapist   \n2                   ←VIN I/II  mins   \n3                     ←Core Feather   \n4            ←Vinyasa for Shoulders   \n...                             ...   \n3811        ←Back and Legs Sequence   \n3812               ←Vinyasa L-Stand   \n3813                         ←inver   \n3814  ←Basics Class for Hip Opening   \n3815        ←Yoga for equestrian //   \n\n                                                  Poses Class Type  \n0     [Easy Pose, Easy Pose Elbows On Floor, Easy Po...    Vinyasa  \n1     [Mountain Pose, Palm Tree Pose, Palm Tree Pose...    Vinyasa  \n2     [Easy Pose, Seated Neck Rolls, Easy Pose Neck ...    Vinyasa  \n3     [Mountain Pose, Mountain Pose Raised Hands Hea...    Vinyasa  \n4     [Reclined Arms Movement Flow, Supine Snow Ange...    Vinyasa  \n...                                                 ...        ...  \n3811  [Child Pose, Table Top Child Pose Flow, Cat Co...    Vinyasa  \n3812  [Corpse Pose, Pranayama, Supine Windshield Wip...    Vinyasa  \n3813  [Reclined Crow Pose, Reclined Eagle Crunches, ...    Vinyasa  \n3814  [Easy Pose Block, Seated Cat Cow Pose, Mountai...    Vinyasa  \n3815  [One Legged Revolved Mountain Pose, Extended S...    Vinyasa  \n\n[7816 rows x 3 columns]",
      "text/html": "<div>\n<style scoped>\n    .dataframe tbody tr th:only-of-type {\n        vertical-align: middle;\n    }\n\n    .dataframe tbody tr th {\n        vertical-align: top;\n    }\n\n    .dataframe thead th {\n        text-align: right;\n    }\n</style>\n<table border=\"1\" class=\"dataframe\">\n  <thead>\n    <tr style=\"text-align: right;\">\n      <th></th>\n      <th>Title</th>\n      <th>Poses</th>\n      <th>Class Type</th>\n    </tr>\n  </thead>\n  <tbody>\n    <tr>\n      <th>0</th>\n      <td>←Foundations -</td>\n      <td>[Easy Pose, Easy Pose Elbows On Floor, Easy Po...</td>\n      <td>Vinyasa</td>\n    </tr>\n    <tr>\n      <th>1</th>\n      <td>←Massage therapist</td>\n      <td>[Mountain Pose, Palm Tree Pose, Palm Tree Pose...</td>\n      <td>Vinyasa</td>\n    </tr>\n    <tr>\n      <th>2</th>\n      <td>←VIN I/II  mins</td>\n      <td>[Easy Pose, Seated Neck Rolls, Easy Pose Neck ...</td>\n      <td>Vinyasa</td>\n    </tr>\n    <tr>\n      <th>3</th>\n      <td>←Core Feather</td>\n      <td>[Mountain Pose, Mountain Pose Raised Hands Hea...</td>\n      <td>Vinyasa</td>\n    </tr>\n    <tr>\n      <th>4</th>\n      <td>←Vinyasa for Shoulders</td>\n      <td>[Reclined Arms Movement Flow, Supine Snow Ange...</td>\n      <td>Vinyasa</td>\n    </tr>\n    <tr>\n      <th>...</th>\n      <td>...</td>\n      <td>...</td>\n      <td>...</td>\n    </tr>\n    <tr>\n      <th>3811</th>\n      <td>←Back and Legs Sequence</td>\n      <td>[Child Pose, Table Top Child Pose Flow, Cat Co...</td>\n      <td>Vinyasa</td>\n    </tr>\n    <tr>\n      <th>3812</th>\n      <td>←Vinyasa L-Stand</td>\n      <td>[Corpse Pose, Pranayama, Supine Windshield Wip...</td>\n      <td>Vinyasa</td>\n    </tr>\n    <tr>\n      <th>3813</th>\n      <td>←inver</td>\n      <td>[Reclined Crow Pose, Reclined Eagle Crunches, ...</td>\n      <td>Vinyasa</td>\n    </tr>\n    <tr>\n      <th>3814</th>\n      <td>←Basics Class for Hip Opening</td>\n      <td>[Easy Pose Block, Seated Cat Cow Pose, Mountai...</td>\n      <td>Vinyasa</td>\n    </tr>\n    <tr>\n      <th>3815</th>\n      <td>←Yoga for equestrian //</td>\n      <td>[One Legged Revolved Mountain Pose, Extended S...</td>\n      <td>Vinyasa</td>\n    </tr>\n  </tbody>\n</table>\n<p>7816 rows × 3 columns</p>\n</div>"
     },
     "metadata": {},
     "execution_count": 5
    }
   ],
   "source": [
    "more_vinyasa"
   ]
  },
  {
   "cell_type": "code",
   "execution_count": 6,
   "metadata": {},
   "outputs": [
    {
     "output_type": "execute_result",
     "data": {
      "text/plain": "                                    Title  \\\n0               ←Low Back & Hamstrings //   \n1               ←Basic Yoga Sequenz (YTT)   \n2                                ←evening   \n3                 ←Standing class warm-up   \n4                             ←Sequence #   \n...                                   ...   \n4623                               ←Seri    \n4624                       ←Flexibility I   \n4625                         ←Postnatal-    \n4626                     ←Herbst  - Flow    \n4627  ←Water Element/Svadhishthana Chakra   \n\n                                                  Poses Class Type  \n0     [Seated Straddle Pose Knees Bent Bolster, Easy...      Hatha  \n1     [Prop Strap, Prop Block, Three Part Breath Cor...      Hatha  \n2     [Easy Pose, Easy Pose Variation Side Bend, Eas...      Hatha  \n3     [Mountain Pose, Mountain Pose Namaste, Palm Tr...      Hatha  \n4     [Wind Release Pose, Half Wind Release Pose, Ha...      Hatha  \n...                                                 ...        ...  \n4623  [Standing Cat Cow Pose, Downward Facing Dog Po...      Hatha  \n4624  [Mountain Pose, Mountain Pose Raised Hands Hea...      Hatha  \n4625  [Kneeling Pose, Cat Cow Pose Forearms, Hoverin...      Hatha  \n4626  [Mountain Pose, Chair Pose Deep Bend, Standing...      Hatha  \n4627  [Easy Pose, Cat Cow Pose, Downward Facing Dog ...      Hatha  \n\n[12628 rows x 3 columns]",
      "text/html": "<div>\n<style scoped>\n    .dataframe tbody tr th:only-of-type {\n        vertical-align: middle;\n    }\n\n    .dataframe tbody tr th {\n        vertical-align: top;\n    }\n\n    .dataframe thead th {\n        text-align: right;\n    }\n</style>\n<table border=\"1\" class=\"dataframe\">\n  <thead>\n    <tr style=\"text-align: right;\">\n      <th></th>\n      <th>Title</th>\n      <th>Poses</th>\n      <th>Class Type</th>\n    </tr>\n  </thead>\n  <tbody>\n    <tr>\n      <th>0</th>\n      <td>←Low Back &amp; Hamstrings //</td>\n      <td>[Seated Straddle Pose Knees Bent Bolster, Easy...</td>\n      <td>Hatha</td>\n    </tr>\n    <tr>\n      <th>1</th>\n      <td>←Basic Yoga Sequenz (YTT)</td>\n      <td>[Prop Strap, Prop Block, Three Part Breath Cor...</td>\n      <td>Hatha</td>\n    </tr>\n    <tr>\n      <th>2</th>\n      <td>←evening</td>\n      <td>[Easy Pose, Easy Pose Variation Side Bend, Eas...</td>\n      <td>Hatha</td>\n    </tr>\n    <tr>\n      <th>3</th>\n      <td>←Standing class warm-up</td>\n      <td>[Mountain Pose, Mountain Pose Namaste, Palm Tr...</td>\n      <td>Hatha</td>\n    </tr>\n    <tr>\n      <th>4</th>\n      <td>←Sequence #</td>\n      <td>[Wind Release Pose, Half Wind Release Pose, Ha...</td>\n      <td>Hatha</td>\n    </tr>\n    <tr>\n      <th>...</th>\n      <td>...</td>\n      <td>...</td>\n      <td>...</td>\n    </tr>\n    <tr>\n      <th>4623</th>\n      <td>←Seri</td>\n      <td>[Standing Cat Cow Pose, Downward Facing Dog Po...</td>\n      <td>Hatha</td>\n    </tr>\n    <tr>\n      <th>4624</th>\n      <td>←Flexibility I</td>\n      <td>[Mountain Pose, Mountain Pose Raised Hands Hea...</td>\n      <td>Hatha</td>\n    </tr>\n    <tr>\n      <th>4625</th>\n      <td>←Postnatal-</td>\n      <td>[Kneeling Pose, Cat Cow Pose Forearms, Hoverin...</td>\n      <td>Hatha</td>\n    </tr>\n    <tr>\n      <th>4626</th>\n      <td>←Herbst  - Flow</td>\n      <td>[Mountain Pose, Chair Pose Deep Bend, Standing...</td>\n      <td>Hatha</td>\n    </tr>\n    <tr>\n      <th>4627</th>\n      <td>←Water Element/Svadhishthana Chakra</td>\n      <td>[Easy Pose, Cat Cow Pose, Downward Facing Dog ...</td>\n      <td>Hatha</td>\n    </tr>\n  </tbody>\n</table>\n<p>12628 rows × 3 columns</p>\n</div>"
     },
     "metadata": {},
     "execution_count": 6
    }
   ],
   "source": [
    "more_hatha"
   ]
  },
  {
   "cell_type": "code",
   "execution_count": 7,
   "metadata": {},
   "outputs": [],
   "source": [
    "df = pd.concat([yoga_classes, more_vinyasa, more_hatha])"
   ]
  },
  {
   "cell_type": "code",
   "execution_count": 8,
   "metadata": {},
   "outputs": [
    {
     "output_type": "execute_result",
     "data": {
      "text/plain": "(63337, 3)"
     },
     "metadata": {},
     "execution_count": 8
    }
   ],
   "source": [
    "df.shape"
   ]
  },
  {
   "cell_type": "markdown",
   "metadata": {},
   "source": [
    "### Excluding Restorative Class Types\n",
    "I am excluding the classes that are of type \"gentle\", \"restorative\" and \"yin\", as these are very slow restorative/laying down type classes that I'm not aiming to create (yet) with this app. I want more dynamic, flow and exercise based classes to be generated, plus I have much more data availble in support of creating those types. "
   ]
  },
  {
   "cell_type": "code",
   "execution_count": 9,
   "metadata": {},
   "outputs": [],
   "source": [
    "df = df.loc[df[\"Class Type\"].isin([\"Vinyasa\", \"Hatha\", \"Power\", \"Iyengar\", \"Ashtanga\"])]"
   ]
  },
  {
   "cell_type": "code",
   "execution_count": 10,
   "metadata": {},
   "outputs": [],
   "source": [
    "df.reset_index(inplace=True)"
   ]
  },
  {
   "cell_type": "code",
   "execution_count": 11,
   "metadata": {},
   "outputs": [
    {
     "output_type": "execute_result",
     "data": {
      "text/plain": "       index                                Title  \\\n0          0     ←Slow Sunday Flow y Monday early   \n1          1                            ←Anahata    \n2          2                                ←CORE   \n3          3                                    ←   \n4          4   ←Vinyasa - Bench press & push up #   \n...      ...                                  ...   \n48113   4623                               ←Seri    \n48114   4624                       ←Flexibility I   \n48115   4625                         ←Postnatal-    \n48116   4626                     ←Herbst  - Flow    \n48117   4627  ←Water Element/Svadhishthana Chakra   \n\n                                                   Poses Class Type  \n0      [Easy Pose Hands To Heart, Easy Pose Hands Int...    Vinyasa  \n1      [Mantra Section, Thunderbolt Pose, Easy Pose B...    Vinyasa  \n2      [Classic Sun Salutation Variation F, Chair Pos...    Vinyasa  \n3      [Easy Pose, Easy Pose Warm Up Flow, Sun Saluta...    Vinyasa  \n4      [Corpse Pose, Corpse Pose Roll Under Spine, Wr...    Vinyasa  \n...                                                  ...        ...  \n48113  [Standing Cat Cow Pose, Downward Facing Dog Po...      Hatha  \n48114  [Mountain Pose, Mountain Pose Raised Hands Hea...      Hatha  \n48115  [Kneeling Pose, Cat Cow Pose Forearms, Hoverin...      Hatha  \n48116  [Mountain Pose, Chair Pose Deep Bend, Standing...      Hatha  \n48117  [Easy Pose, Cat Cow Pose, Downward Facing Dog ...      Hatha  \n\n[48118 rows x 4 columns]",
      "text/html": "<div>\n<style scoped>\n    .dataframe tbody tr th:only-of-type {\n        vertical-align: middle;\n    }\n\n    .dataframe tbody tr th {\n        vertical-align: top;\n    }\n\n    .dataframe thead th {\n        text-align: right;\n    }\n</style>\n<table border=\"1\" class=\"dataframe\">\n  <thead>\n    <tr style=\"text-align: right;\">\n      <th></th>\n      <th>index</th>\n      <th>Title</th>\n      <th>Poses</th>\n      <th>Class Type</th>\n    </tr>\n  </thead>\n  <tbody>\n    <tr>\n      <th>0</th>\n      <td>0</td>\n      <td>←Slow Sunday Flow y Monday early</td>\n      <td>[Easy Pose Hands To Heart, Easy Pose Hands Int...</td>\n      <td>Vinyasa</td>\n    </tr>\n    <tr>\n      <th>1</th>\n      <td>1</td>\n      <td>←Anahata</td>\n      <td>[Mantra Section, Thunderbolt Pose, Easy Pose B...</td>\n      <td>Vinyasa</td>\n    </tr>\n    <tr>\n      <th>2</th>\n      <td>2</td>\n      <td>←CORE</td>\n      <td>[Classic Sun Salutation Variation F, Chair Pos...</td>\n      <td>Vinyasa</td>\n    </tr>\n    <tr>\n      <th>3</th>\n      <td>3</td>\n      <td>←</td>\n      <td>[Easy Pose, Easy Pose Warm Up Flow, Sun Saluta...</td>\n      <td>Vinyasa</td>\n    </tr>\n    <tr>\n      <th>4</th>\n      <td>4</td>\n      <td>←Vinyasa - Bench press &amp; push up #</td>\n      <td>[Corpse Pose, Corpse Pose Roll Under Spine, Wr...</td>\n      <td>Vinyasa</td>\n    </tr>\n    <tr>\n      <th>...</th>\n      <td>...</td>\n      <td>...</td>\n      <td>...</td>\n      <td>...</td>\n    </tr>\n    <tr>\n      <th>48113</th>\n      <td>4623</td>\n      <td>←Seri</td>\n      <td>[Standing Cat Cow Pose, Downward Facing Dog Po...</td>\n      <td>Hatha</td>\n    </tr>\n    <tr>\n      <th>48114</th>\n      <td>4624</td>\n      <td>←Flexibility I</td>\n      <td>[Mountain Pose, Mountain Pose Raised Hands Hea...</td>\n      <td>Hatha</td>\n    </tr>\n    <tr>\n      <th>48115</th>\n      <td>4625</td>\n      <td>←Postnatal-</td>\n      <td>[Kneeling Pose, Cat Cow Pose Forearms, Hoverin...</td>\n      <td>Hatha</td>\n    </tr>\n    <tr>\n      <th>48116</th>\n      <td>4626</td>\n      <td>←Herbst  - Flow</td>\n      <td>[Mountain Pose, Chair Pose Deep Bend, Standing...</td>\n      <td>Hatha</td>\n    </tr>\n    <tr>\n      <th>48117</th>\n      <td>4627</td>\n      <td>←Water Element/Svadhishthana Chakra</td>\n      <td>[Easy Pose, Cat Cow Pose, Downward Facing Dog ...</td>\n      <td>Hatha</td>\n    </tr>\n  </tbody>\n</table>\n<p>48118 rows × 4 columns</p>\n</div>"
     },
     "metadata": {},
     "execution_count": 11
    }
   ],
   "source": [
    "df"
   ]
  },
  {
   "cell_type": "markdown",
   "metadata": {},
   "source": [
    "Looking at the average length of classes so I know what length of class I should typically be generating."
   ]
  },
  {
   "cell_type": "code",
   "execution_count": 12,
   "metadata": {
    "tags": []
   },
   "outputs": [
    {
     "output_type": "stream",
     "name": "stdout",
     "text": "33.0\n"
    }
   ],
   "source": [
    "# average length of classes\n",
    "lengths = []\n",
    "for i in range(len(df[\"Poses\"])):\n",
    "    length = len(df[\"Poses\"][i])\n",
    "    lengths.append(length)\n",
    "print(np.average(length))"
   ]
  },
  {
   "cell_type": "markdown",
   "metadata": {},
   "source": [
    "# Tokenization\n",
    "First I am making the lists of poses that comprise each class into the type of input Word2Vec or a neural net is looking for. Effectively I am tokenizing manually, instead of using a \"Tokenizer\", becuase I want to break up by each pose, not by each word etc. "
   ]
  },
  {
   "cell_type": "code",
   "execution_count": 13,
   "metadata": {},
   "outputs": [
    {
     "output_type": "execute_result",
     "data": {
      "text/plain": "[['Easy Pose Hands To Heart',\n  'Easy Pose Hands Interlocked Behind Head',\n  'Seated Torso Circles',\n  'Easy Pose Variation Side',\n  'Half Easy Pose Half Forward Bend',\n  'Seated Windshield Wiper Pose Chest Opener Variation',\n  'Cat Cow Pose',\n  'Child Pose Hip Circles Flow',\n  'Thread The Needle Pose Flow',\n  'Downward Facing Dog Pose',\n  'Downward Facing Dog Pose Plank Pose Flow',\n  'Right Leg Forward',\n  'Three Legged Downward Facing Dog Pose Prep',\n  'Fallen Triangle Pose Variation',\n  'Repeat Other Side',\n  'Right Leg Forward',\n  'Three Legged Downward Facing Dog Pose',\n  'Low Lunge Hands To Knee',\n  'Low Lunge Pose Open Twist',\n  'Revolved Low Lunge Pose Knee On The Floor',\n  'Runners Lunge Pose',\n  'Revolved Lunge Pose',\n  'Extended Side Angle Pose Variation Hand In Front',\n  'Three Legged Downward Facing Dog Pose',\n  'Low Lunge Hands To Knee',\n  'Left Leg Forward',\n  'Repeat Other Side',\n  'Top Of Mat Section',\n  'Mountain Pose',\n  'Crescent High Lunge Pose Arms On Hips Flow',\n  'Crescent High Lunge Pose Variation Back Knee Bent',\n  'Warrior Pose I Eagle Arms',\n  'Warrior Pose II',\n  'Reverse Warrior Pose',\n  'Intense Leg Stretch Pose',\n  'Revolved Wide Legged Forward Bend Pose Block',\n  'Intense Leg Stretch Pose',\n  'Back Of Mat Section',\n  'Repeat Other Side',\n  'Staff Pose Knee Stretches',\n  'Wild Thing Pose',\n  'Side Plank Pose Variation (One Knee On The Floor)',\n  'Half Moon Variation (Knee On The Floor)',\n  'Side Plank Pose Crunch',\n  'Half Circle Pose',\n  'Puppy Dog Pose',\n  'Repeat Other Side',\n  'Cow Face Pose',\n  'Wind Release Pose',\n  'Reverse Pigeon Pose Variation ',\n  'Bridge Pose Variation Hands',\n  'Supine Spinal Twist Yoga Pose I',\n  'Corpse Pose'],\n ['Mantra Section',\n  'Thunderbolt Pose',\n  'Easy Pose Bound Hands',\n  'Thunderbolt Pose Arms Rotation',\n  'Hero Pose Cow Face Arms',\n  'Table Top Pose',\n  'Tiger Pose Table Top Pose Knee To Nose Flow',\n  'Puppy Dog Pose',\n  'Classic Sun Salutation Variation Iv',\n  'Classic Sun Salutation Variation Iv',\n  'Sun Salutation A',\n  'Sun Salutation A',\n  'Sun Salutation B',\n  'Sun Salutation B',\n  'Standing Yoga Seal Pose Chair Pose Bound Hands Behind Flow',\n  'Eagle Pose',\n  'Sun Salutation A First Half',\n  'Crescent High Lunge Pose Arms On Hips Flow',\n  'Crescent High Lunge Shoulder Opener',\n  'Humble Warrior Pose',\n  'Belly Down Vinyasa',\n  'Warrior Pose I',\n  'Warrior Pose I Bound Hands Humble Warrior Flow',\n  'Pyramid Pose Flow',\n  'Standing Balance One Leg Raised Warrior Pose Iii Flow',\n  'Belly Down Vinyasa',\n  'Locust Pose Variation One Leg And Arm On Floor',\n  'Bow Pose Variation ',\n  'Bow Pose',\n  'Belly Down Vinyasa',\n  'Wheel Pose Prep',\n  'Wheel Pose',\n  'One-Legged Wheel Pose',\n  'Belly Down Vinyasa',\n  'Half Boat Pose Variation A',\n  'Boat Pose Variation Knees Bent Arms Side',\n  'Reverse Pigeon Pose',\n  'Belly Down Vinyasa',\n  'Half Pigeon Pose Variation I',\n  'Revolved Half Pigeon Pose Variation ',\n  'Sleeping Swan Pose',\n  'Belly Down Vinyasa',\n  'Headstand Pose',\n  'Headstand Pose Bound Angle Legs',\n  'Headstand Pose Wide Legs',\n  'Wide Child Pose Variation Hands On Head',\n  'Reclining Deer Pose',\n  'Wind Release Pose',\n  'Corpse Pose',\n  'Side Fetal Pose B',\n  'Accomplished Pose',\n  'Mantra Section']]"
     },
     "metadata": {},
     "execution_count": 13
    }
   ],
   "source": [
    "documents = [class_list for class_list in df[\"Poses\"]]\n",
    "documents[0:2]"
   ]
  },
  {
   "cell_type": "markdown",
   "metadata": {},
   "source": [
    "# Word2Vec\n",
    "I am creating word embeddings with Word2Vec via gensim. I'm training the model on the yoga classes to create vectors of the similarities between different yoga poses, based on how close together (sequentially) they're featured within the yoga classes. I.e. output = pose embeddings. "
   ]
  },
  {
   "cell_type": "markdown",
   "metadata": {},
   "source": [
    "{Choosing to keep poses which show up in at least 50 classes (out of 48000).}"
   ]
  },
  {
   "cell_type": "code",
   "execution_count": 14,
   "metadata": {},
   "outputs": [],
   "source": [
    "model = gensim.models.Word2Vec(documents, size=100, window=5, min_count=50, sg=1)"
   ]
  },
  {
   "cell_type": "code",
   "execution_count": 15,
   "metadata": {},
   "outputs": [
    {
     "output_type": "execute_result",
     "data": {
      "text/plain": "2434"
     },
     "metadata": {},
     "execution_count": 15
    }
   ],
   "source": [
    "len(list(model.wv.vocab.items()))"
   ]
  },
  {
   "cell_type": "code",
   "execution_count": 16,
   "metadata": {
    "tags": []
   },
   "outputs": [
    {
     "output_type": "stream",
     "name": "stdout",
     "text": "[ 0.01223068 -0.01918484  0.22792435 -0.17332345 -0.17573859 -0.26205277\n  0.4005988   0.24614489 -0.32392177  0.04885524  0.5436343  -0.16210674\n -0.09152774  0.29717615  0.02620299  0.16229303  0.00875798 -0.05532655\n  0.12045298  0.01618364  0.04564977  0.21082433 -0.2854309   0.16240077\n -0.18996267 -0.11400176 -0.2791333  -0.14880304 -0.00755632 -0.06774661\n -0.05787782  0.2336689   0.25875437  0.06112934 -0.12278202 -0.17318788\n  0.04721717 -0.20559984  0.08359534  0.03315291 -0.16931503 -0.14190222\n -0.38389263 -0.20836148  0.0245751  -0.00996474 -0.35866165 -0.48580843\n  0.32020372 -0.07933161  0.00739082  0.00572685  0.05135494  0.49267042\n  0.05806376 -0.33078358 -0.13434118  0.5331267  -0.14256062  0.1276749\n  0.03440032 -0.41323403  0.15787965  0.09662225 -0.36112002  0.3391559\n -0.21151225 -0.1554054   0.17167422  0.4080536   0.16002001 -0.4708573\n  0.00607343  0.05668337  0.05060999 -0.09178577 -0.42604646 -0.16699961\n -0.02113839 -0.41327912 -0.14550409 -0.31743342 -0.31439963 -0.05680216\n -0.08225242 -0.0005869   0.06830307 -0.2208849  -0.15925013  0.0104177\n  0.15521719 -0.19567525 -0.1495854  -0.49270964 -0.22033185 -0.10604119\n  0.2842294  -0.22100492 -0.07834163  0.18870741]\n"
    }
   ],
   "source": [
    "print(model[\"Cat Cow Pose\"])"
   ]
  },
  {
   "cell_type": "code",
   "execution_count": 17,
   "metadata": {},
   "outputs": [
    {
     "output_type": "execute_result",
     "data": {
      "text/plain": "[('Three Legged Downward Facing Dog Pose Tiger Curl Pose Flow',\n  0.7108982801437378),\n ('Plank Pose', 0.7103734016418457),\n ('Three Legged Downward Facing Dog Pose', 0.6983637809753418),\n ('Downward Facing Dog Pose Variation Knees Bent', 0.682325005531311),\n ('Low Lunge Pose', 0.681185245513916),\n ('Downward Facing Dog Pose Plank Pose Flow', 0.672895610332489),\n ('Runners Lunge Pose', 0.6680295467376709),\n ('Three Legged Downward Facing Dog Pose Variation Stacked',\n  0.6573711633682251),\n ('Standing Forward Fold Pose', 0.6501185894012451),\n ('Table Top Pose', 0.6500736474990845),\n ('Wide Child Pose', 0.6328990459442139),\n ('Four Limbed Staff Pose', 0.6284885406494141),\n ('Child Pose', 0.6263731718063354),\n ('Revolved Lunge Pose', 0.6249303817749023),\n ('Low Lunge Pose Hands On Hips', 0.6151965856552124),\n ('Crescent Low Lunge Pose Variation Knee On Floor', 0.6030289530754089),\n ('Low Lunge Hands To Knee', 0.59831303358078),\n ('Upward Forward Fold Hands On Shins', 0.5962111949920654),\n ('Four Limbed Staff Pose Knees To Floor Variation', 0.5951018333435059),\n ('High Lunge Pose', 0.5938389897346497)]"
     },
     "metadata": {},
     "execution_count": 17
    }
   ],
   "source": [
    "model.most_similar(\"Downward Facing Dog Pose\", topn=20)"
   ]
  },
  {
   "cell_type": "code",
   "execution_count": 18,
   "metadata": {},
   "outputs": [
    {
     "output_type": "execute_result",
     "data": {
      "text/plain": "[('Corpse Pose (IRT)', 0.7784069776535034),\n ('Corpse Pose Variation Bolster', 0.7354565262794495),\n ('Corpse Pose Roll Under Spine', 0.7238022685050964),\n ('Savasana Section', 0.7216494083404541),\n ('Wind Release Pose', 0.7187507152557373),\n ('Corpse Pose Blanket', 0.7031890153884888),\n ('Deep Relaxation Technique', 0.6820505857467651),\n ('Supine Neck Massage Pose', 0.6702317595481873),\n ('Pentacle Pose', 0.6658196449279785),\n ('Wind Release Pose Nose To Knee', 0.6622316241264343)]"
     },
     "metadata": {},
     "execution_count": 18
    }
   ],
   "source": [
    "model.most_similar(\"Corpse Pose\")"
   ]
  },
  {
   "cell_type": "markdown",
   "metadata": {},
   "source": [
    "Problem is a lot of the above aren't even really variations... they should probably be reduced to their base pose before applying the word embedding model. "
   ]
  },
  {
   "cell_type": "code",
   "execution_count": 19,
   "metadata": {},
   "outputs": [
    {
     "output_type": "execute_result",
     "data": {
      "text/plain": "[('Four Limbed Staff Pose', 0.7338338494300842),\n ('Plank Pose Knees Bent', 0.7251478433609009),\n ('Downward Facing Dog Pose Plank Pose Flow', 0.7178030610084534),\n ('Downward Facing Dog Pose', 0.7103734016418457),\n ('Plank Pose Variation Knee To Ground (Variation)', 0.6980160474777222),\n ('Runners Lunge Pose', 0.6661559343338013),\n ('Plank Pose Four Limbed Staff Pose Flow', 0.6661163568496704),\n ('Plank Pose Shoulder Taps', 0.6394550204277039),\n ('Four Limbed Staff Pose Knees To Floor Variation', 0.6393851041793823),\n ('Upward Facing Dog Pose', 0.6392515897750854)]"
     },
     "metadata": {},
     "execution_count": 19
    }
   ],
   "source": [
    "model.most_similar(\"Plank Pose\")"
   ]
  },
  {
   "cell_type": "code",
   "execution_count": 20,
   "metadata": {},
   "outputs": [
    {
     "output_type": "execute_result",
     "data": {
      "text/plain": "[('Wheel Pose Prep', 0.7680707573890686),\n ('One-Legged Wheel Pose', 0.7465466260910034),\n ('Two-legged Inverted Staff Pose', 0.662020206451416),\n ('One Legged Inverted Staff Pose', 0.6557153463363647),\n ('Wheel Pose Block Between Knees', 0.6412934064865112),\n ('Bridge Pose On Head', 0.6260730624198914),\n ('Bridge Pose Variation Arms Support Legs Straight', 0.6209083795547485),\n ('Fish Pose Variation Lotus Elbows', 0.6107114553451538),\n ('One-Legged Bridge Pose', 0.6070903539657593),\n ('Plough Pose', 0.6041018962860107),\n ('Shoulderstand Seal Pose', 0.5983352065086365),\n ('Shoulderstand Pose', 0.5977904200553894),\n ('Bridge Pose Variation Bound Hands', 0.5965489149093628),\n ('Wheel Pose Wall Block Under Hands I', 0.5880383253097534),\n ('Ear Pressure Pose', 0.5825566053390503),\n ('Upward Lotus Pose', 0.5768963098526001),\n ('Half Shoulderstand Pose', 0.5762155652046204),\n ('Bridge Pose Variation Hands Support', 0.5728883743286133),\n ('Unsupported Shoulder Stand Pose', 0.5700054168701172),\n ('Fish Pose Variation Lotus', 0.5641133785247803)]"
     },
     "metadata": {},
     "execution_count": 20
    }
   ],
   "source": [
    "model.most_similar(\"Wheel Pose\", topn=20)"
   ]
  },
  {
   "cell_type": "code",
   "execution_count": 21,
   "metadata": {},
   "outputs": [
    {
     "output_type": "execute_result",
     "data": {
      "text/plain": "[('Sun Salutation B', 0.8557642102241516),\n ('Classic Sun Salutation Variation E', 0.6979700326919556),\n ('Sun Salutation A Variation', 0.6805431842803955),\n ('Classic Sun Salutation Variation Ii', 0.6737818121910095),\n ('Classic Sun Salutation Variation', 0.6294876337051392),\n ('Sun Salutation', 0.6043938398361206),\n ('Sun Salutation A First Half', 0.5925980806350708),\n ('Mountain Pose', 0.577546238899231),\n ('Sun Breath Yoga Sequence', 0.5767609477043152),\n ('Dangling Pose', 0.5722558498382568)]"
     },
     "metadata": {},
     "execution_count": 21
    }
   ],
   "source": [
    "model.most_similar(\"Sun Salutation A\")"
   ]
  },
  {
   "cell_type": "code",
   "execution_count": 22,
   "metadata": {
    "tags": []
   },
   "outputs": [
    {
     "output_type": "stream",
     "name": "stdout",
     "text": "0.07074697\n0.2299179\n0.36891097\n0.7187508\n"
    }
   ],
   "source": [
    "print(model.similarity(\"Corpse Pose\", \"Hand to Big Toe Pose\"))\n",
    "print(model.similarity(\"Corpse Pose\", \"Pigeon Pose\"))\n",
    "print(model.similarity(\"Corpse Pose\", \"Child Pose\"))\n",
    "print(model.similarity(\"Corpse Pose\", \"Wind Release Pose\"))"
   ]
  },
  {
   "cell_type": "markdown",
   "metadata": {},
   "source": [
    "Honestly that looks great? Very low similarity between corpse pose and an intense standing/balance pose, slightly higher for an intense ground stretch, moderate similarity for another gentle pose but in a very different body orientation, and highestest for a similar supine relaxation pose. \n",
    "\n",
    "However, there are currently a couple thousand total pose variations, many of which aren't even really distinct poses. I set the minimum at a range of values, higher meant to exclude less common poses, but it is losing key information -- even set at just 100, I lost \"pigeon pose\" which is very common. This is probably because it is listed with slightly varying names across classes. Hence, instead of just deleting poses if they don't show up often enough, I want to reduce all the variations/duplicate name variations to their base poses, which will then show up far more often and be more useful.\n",
    "\n",
    "Besides, for the practicality of my app and creating animations to accompany each pose (which I, at least for now, anticpate having to hand pose each one), I can't accomodate thousands of poses, only a few hundred. \n",
    "\n",
    "For that reason, I'm going to reduce the poses in each class to their base poses before doing word embeddings. "
   ]
  },
  {
   "cell_type": "markdown",
   "metadata": {},
   "source": [
    "## Reducing to Base Poses\n",
    "As outlined above, I am reducing all poses to their base poses and key variations. \n",
    "\n",
    "I am doing this primarily just for the sake of the MVP animation -- I have no doubt the neural network would handle even thousands of poses well, select the most importnat, and create even more diverse classes, but I will have to hand animate every single pose for now since I don't know much about Unity. I can't practically do that for thousands of poses, so I am limiting the total possible number of poses to less than 200. \n",
    "\n",
    "I first want to isolate just information about poses and base poses, for simplification of all the poses in classes from thousands of variations down to a usable size for creating classes. From the poses_info DataFrame (scraped and created during project 3):"
   ]
  },
  {
   "cell_type": "code",
   "execution_count": 23,
   "metadata": {},
   "outputs": [
    {
     "output_type": "execute_result",
     "data": {
      "text/plain": "   Base Pose     Level                                Pose Name  Back-Bend  \\\n0  Boat Pose  Advanced                         Boat Pose Aerial          0   \n1  Boat Pose  Advanced  Boat Pose Twist Variation Hands To Feet          0   \n2  Boat Pose  Advanced                       Elevated Boat Pose          0   \n\n   Balance  Forward-Bend  Inversion  Meditative  Pranayama  Restorative  ...  \\\n0        1             0          0           0          0            0  ...   \n1        1             1          0           0          0            0  ...   \n2        1             0          0           0          0            0  ...   \n\n   Standing  Supine  Toes  Crown Chakra (Sahasrara Chakra)  \\\n0         0       0     0                                0   \n1         0       0     0                                0   \n2         0       0     0                                0   \n\n   Heart Chakra (Anahata Chakra)  Root Chakra (Muladhara Chakra)  \\\n0                              0                               0   \n1                              0                               0   \n2                              0                               0   \n\n   Sacral Chakra (Swadisthana Chakra)  Solar Plexus (Manipura Chakra)  \\\n0                                   0                               1   \n1                                   0                               1   \n2                                   0                               0   \n\n   Third Eye Chakra (Ajna Chakra)  Throat Chakra (Vishuddha Chakra)  \n0                               0                                 0  \n1                               0                                 0  \n2                               0                                 0  \n\n[3 rows x 33 columns]",
      "text/html": "<div>\n<style scoped>\n    .dataframe tbody tr th:only-of-type {\n        vertical-align: middle;\n    }\n\n    .dataframe tbody tr th {\n        vertical-align: top;\n    }\n\n    .dataframe thead th {\n        text-align: right;\n    }\n</style>\n<table border=\"1\" class=\"dataframe\">\n  <thead>\n    <tr style=\"text-align: right;\">\n      <th></th>\n      <th>Base Pose</th>\n      <th>Level</th>\n      <th>Pose Name</th>\n      <th>Back-Bend</th>\n      <th>Balance</th>\n      <th>Forward-Bend</th>\n      <th>Inversion</th>\n      <th>Meditative</th>\n      <th>Pranayama</th>\n      <th>Restorative</th>\n      <th>...</th>\n      <th>Standing</th>\n      <th>Supine</th>\n      <th>Toes</th>\n      <th>Crown Chakra (Sahasrara Chakra)</th>\n      <th>Heart Chakra (Anahata Chakra)</th>\n      <th>Root Chakra (Muladhara Chakra)</th>\n      <th>Sacral Chakra (Swadisthana Chakra)</th>\n      <th>Solar Plexus (Manipura Chakra)</th>\n      <th>Third Eye Chakra (Ajna Chakra)</th>\n      <th>Throat Chakra (Vishuddha Chakra)</th>\n    </tr>\n  </thead>\n  <tbody>\n    <tr>\n      <th>0</th>\n      <td>Boat Pose</td>\n      <td>Advanced</td>\n      <td>Boat Pose Aerial</td>\n      <td>0</td>\n      <td>1</td>\n      <td>0</td>\n      <td>0</td>\n      <td>0</td>\n      <td>0</td>\n      <td>0</td>\n      <td>...</td>\n      <td>0</td>\n      <td>0</td>\n      <td>0</td>\n      <td>0</td>\n      <td>0</td>\n      <td>0</td>\n      <td>0</td>\n      <td>1</td>\n      <td>0</td>\n      <td>0</td>\n    </tr>\n    <tr>\n      <th>1</th>\n      <td>Boat Pose</td>\n      <td>Advanced</td>\n      <td>Boat Pose Twist Variation Hands To Feet</td>\n      <td>0</td>\n      <td>1</td>\n      <td>1</td>\n      <td>0</td>\n      <td>0</td>\n      <td>0</td>\n      <td>0</td>\n      <td>...</td>\n      <td>0</td>\n      <td>0</td>\n      <td>0</td>\n      <td>0</td>\n      <td>0</td>\n      <td>0</td>\n      <td>0</td>\n      <td>1</td>\n      <td>0</td>\n      <td>0</td>\n    </tr>\n    <tr>\n      <th>2</th>\n      <td>Boat Pose</td>\n      <td>Advanced</td>\n      <td>Elevated Boat Pose</td>\n      <td>0</td>\n      <td>1</td>\n      <td>0</td>\n      <td>0</td>\n      <td>0</td>\n      <td>0</td>\n      <td>0</td>\n      <td>...</td>\n      <td>0</td>\n      <td>0</td>\n      <td>0</td>\n      <td>0</td>\n      <td>0</td>\n      <td>0</td>\n      <td>0</td>\n      <td>0</td>\n      <td>0</td>\n      <td>0</td>\n    </tr>\n  </tbody>\n</table>\n<p>3 rows × 33 columns</p>\n</div>"
     },
     "metadata": {},
     "execution_count": 23
    }
   ],
   "source": [
    "poses_info.head(3)"
   ]
  },
  {
   "cell_type": "code",
   "execution_count": 24,
   "metadata": {},
   "outputs": [
    {
     "output_type": "execute_result",
     "data": {
      "text/plain": "                                            Pose Name          Base Pose\n0                                    Boat Pose Aerial          Boat Pose\n1             Boat Pose Twist Variation Hands To Feet          Boat Pose\n2                                  Elevated Boat Pose          Boat Pose\n3                          Half Bound Lotus Boat Pose          Boat Pose\n4                                        Bicycle Pose          Boat Pose\n...                                               ...                ...\n3211  Half Wind Release Pose Nose To Knee Foot Raised  Wind Release Pose\n3212            Hip Opening Yoga Sequence Hippie Flow  Wind Release Pose\n3213                           Reclined Cow Face Pose  Wind Release Pose\n3214                         Seated Broken Wings Pose  Wind Release Pose\n3215                         Supine Hip Flexor Roller  Wind Release Pose\n\n[3216 rows x 2 columns]",
      "text/html": "<div>\n<style scoped>\n    .dataframe tbody tr th:only-of-type {\n        vertical-align: middle;\n    }\n\n    .dataframe tbody tr th {\n        vertical-align: top;\n    }\n\n    .dataframe thead th {\n        text-align: right;\n    }\n</style>\n<table border=\"1\" class=\"dataframe\">\n  <thead>\n    <tr style=\"text-align: right;\">\n      <th></th>\n      <th>Pose Name</th>\n      <th>Base Pose</th>\n    </tr>\n  </thead>\n  <tbody>\n    <tr>\n      <th>0</th>\n      <td>Boat Pose Aerial</td>\n      <td>Boat Pose</td>\n    </tr>\n    <tr>\n      <th>1</th>\n      <td>Boat Pose Twist Variation Hands To Feet</td>\n      <td>Boat Pose</td>\n    </tr>\n    <tr>\n      <th>2</th>\n      <td>Elevated Boat Pose</td>\n      <td>Boat Pose</td>\n    </tr>\n    <tr>\n      <th>3</th>\n      <td>Half Bound Lotus Boat Pose</td>\n      <td>Boat Pose</td>\n    </tr>\n    <tr>\n      <th>4</th>\n      <td>Bicycle Pose</td>\n      <td>Boat Pose</td>\n    </tr>\n    <tr>\n      <th>...</th>\n      <td>...</td>\n      <td>...</td>\n    </tr>\n    <tr>\n      <th>3211</th>\n      <td>Half Wind Release Pose Nose To Knee Foot Raised</td>\n      <td>Wind Release Pose</td>\n    </tr>\n    <tr>\n      <th>3212</th>\n      <td>Hip Opening Yoga Sequence Hippie Flow</td>\n      <td>Wind Release Pose</td>\n    </tr>\n    <tr>\n      <th>3213</th>\n      <td>Reclined Cow Face Pose</td>\n      <td>Wind Release Pose</td>\n    </tr>\n    <tr>\n      <th>3214</th>\n      <td>Seated Broken Wings Pose</td>\n      <td>Wind Release Pose</td>\n    </tr>\n    <tr>\n      <th>3215</th>\n      <td>Supine Hip Flexor Roller</td>\n      <td>Wind Release Pose</td>\n    </tr>\n  </tbody>\n</table>\n<p>3216 rows × 2 columns</p>\n</div>"
     },
     "metadata": {},
     "execution_count": 24
    }
   ],
   "source": [
    "base_poses = poses_info[[\"Pose Name\", \"Base Pose\"]]\n",
    "base_poses"
   ]
  },
  {
   "cell_type": "code",
   "execution_count": 25,
   "metadata": {},
   "outputs": [
    {
     "output_type": "execute_result",
     "data": {
      "text/plain": "array(['Boat Pose', 'Bound Angle Pose', 'Bow Pose', 'Bridge Pose',\n       'Camel Pose', 'Cat Cow Pose', 'Cat Tail Pulling Pose',\n       'Center Splits Pose', 'Chair Pose', 'Child Pose', 'Cobra Pose',\n       'Corpse Pose', 'Cow Face Pose', 'Crane Pose', 'Crow Pose',\n       'Cycling Pose', 'Dancer Pose', 'Dolphin Pose',\n       'Downward Facing Dog Pose', 'Eagle Pose', 'Easy Pose',\n       'Easy Pose Chair', 'Exercise', 'Extended Side Angle Pose',\n       'Eye Exercise', 'Eye Of The Needle Pose', 'Feathered Peacock Pose',\n       'Firelog Pose', 'Fish Pose', 'Flamingo Pose',\n       'Foot Behind The Head Pose', 'Four Limbed Staff Pose',\n       'Garland Pose', 'Gate Pose', 'Goddess Pose',\n       'Half Lord Of The Fishes Pose', 'Half Moon Pose', 'Handstand Pose',\n       'Happy Baby Pose', 'Head To Knee Pose', 'Headstand Pose',\n       'Hero Pose', 'High Lunge Pose', 'Intense Leg Stretch Pose',\n       'Intense Side Stretch Pose', 'Legs Up The Wall Pose', 'Lion Pose',\n       'Lizard Pose', 'Locust Pose', 'Lotus Pose', 'Low Lunge Pose',\n       'Moon Salutation', 'Mountain Pose', 'Mudra', 'Neck Rolls',\n       'Palm Tree Pose', 'Pigeon Pose', 'Plank Pose', 'Plough Pose',\n       'Pranayama', 'Puppy Dog Pose', 'Reclined Big Toe Pose',\n       'Reclined Bound Angle Pose', 'Reclined Hero Pose',\n       'Reclining Hero Pose', 'Reverse Corpse Pose',\n       'Reverse Warrior Pose', 'Revolved Eight Point Crescent Moon Pose',\n       'Seated Forward Bend Pose', 'Seated Straddle Pose', 'Section',\n       'Shoulder Stretches', 'Shoulderstand Pose', 'Side Lunge Pose',\n       'Side Lying Corpse Pose', 'Side Plank Pose', 'Sphinx Pose',\n       'Splits Pose', 'Squat Pose', 'Staff Pose',\n       'Standing Backbend Pose', 'Standing Forward Fold Pose',\n       'Standing Hand To Big Toe Pose', 'Standing Twists',\n       'Sun Salutation', 'Supine Spinal Twist Pose',\n       'Supine Spinal Twist Pose Ii', 'Table Top Pose',\n       'Thread The Needle Pose', 'Thunderbolt Pose', 'Torso Stretch Pose',\n       'Tree Pose', 'Triangle Pose', 'Upward Facing Dog Pose',\n       'Upward Plank Pose', 'Vishnu Pose', 'Warrior Pose',\n       'Warrior Pose I', 'Warrior Pose Ii', 'Warrior Pose Iii',\n       'Wheel Pose', 'Wind Release Pose'], dtype=object)"
     },
     "metadata": {},
     "execution_count": 25
    }
   ],
   "source": [
    "base_poses[\"Base Pose\"].unique()"
   ]
  },
  {
   "cell_type": "markdown",
   "metadata": {},
   "source": [
    "Currently there are only 102 total base poses for all 3200 poses I collected, which seems like a bit too much of a simplification. I imagine there are certain key variations that are distinct enough that I'd want to keep them -- hence have more than 102 poses to build my classes from. So, I'm going to manually go through all 3200 poses and make modification to the associated base pose, sometimes choosing to keep the distinct variations instead, using my domain knowledge as a certified yoga teacher. "
   ]
  },
  {
   "cell_type": "code",
   "execution_count": 26,
   "metadata": {},
   "outputs": [],
   "source": [
    "# Commenting this out for readability but I manually looked at every pose...\n",
    "\n",
    "# pd.set_option(\"display.max_rows\", None)\n",
    "# base_poses"
   ]
  },
  {
   "cell_type": "code",
   "execution_count": 27,
   "metadata": {},
   "outputs": [],
   "source": [
    "# test\n",
    "base_poses.loc[4, \"Base Pose\"] = \"Cycling Pose\""
   ]
  },
  {
   "cell_type": "code",
   "execution_count": 28,
   "metadata": {},
   "outputs": [
    {
     "output_type": "execute_result",
     "data": {
      "text/plain": "                                            Pose Name          Base Pose\n0                                    Boat Pose Aerial          Boat Pose\n1             Boat Pose Twist Variation Hands To Feet          Boat Pose\n2                                  Elevated Boat Pose          Boat Pose\n3                          Half Bound Lotus Boat Pose          Boat Pose\n4                                        Bicycle Pose       Cycling Pose\n...                                               ...                ...\n3211  Half Wind Release Pose Nose To Knee Foot Raised  Wind Release Pose\n3212            Hip Opening Yoga Sequence Hippie Flow  Wind Release Pose\n3213                           Reclined Cow Face Pose  Wind Release Pose\n3214                         Seated Broken Wings Pose  Wind Release Pose\n3215                         Supine Hip Flexor Roller  Wind Release Pose\n\n[3216 rows x 2 columns]",
      "text/html": "<div>\n<style scoped>\n    .dataframe tbody tr th:only-of-type {\n        vertical-align: middle;\n    }\n\n    .dataframe tbody tr th {\n        vertical-align: top;\n    }\n\n    .dataframe thead th {\n        text-align: right;\n    }\n</style>\n<table border=\"1\" class=\"dataframe\">\n  <thead>\n    <tr style=\"text-align: right;\">\n      <th></th>\n      <th>Pose Name</th>\n      <th>Base Pose</th>\n    </tr>\n  </thead>\n  <tbody>\n    <tr>\n      <th>0</th>\n      <td>Boat Pose Aerial</td>\n      <td>Boat Pose</td>\n    </tr>\n    <tr>\n      <th>1</th>\n      <td>Boat Pose Twist Variation Hands To Feet</td>\n      <td>Boat Pose</td>\n    </tr>\n    <tr>\n      <th>2</th>\n      <td>Elevated Boat Pose</td>\n      <td>Boat Pose</td>\n    </tr>\n    <tr>\n      <th>3</th>\n      <td>Half Bound Lotus Boat Pose</td>\n      <td>Boat Pose</td>\n    </tr>\n    <tr>\n      <th>4</th>\n      <td>Bicycle Pose</td>\n      <td>Cycling Pose</td>\n    </tr>\n    <tr>\n      <th>...</th>\n      <td>...</td>\n      <td>...</td>\n    </tr>\n    <tr>\n      <th>3211</th>\n      <td>Half Wind Release Pose Nose To Knee Foot Raised</td>\n      <td>Wind Release Pose</td>\n    </tr>\n    <tr>\n      <th>3212</th>\n      <td>Hip Opening Yoga Sequence Hippie Flow</td>\n      <td>Wind Release Pose</td>\n    </tr>\n    <tr>\n      <th>3213</th>\n      <td>Reclined Cow Face Pose</td>\n      <td>Wind Release Pose</td>\n    </tr>\n    <tr>\n      <th>3214</th>\n      <td>Seated Broken Wings Pose</td>\n      <td>Wind Release Pose</td>\n    </tr>\n    <tr>\n      <th>3215</th>\n      <td>Supine Hip Flexor Roller</td>\n      <td>Wind Release Pose</td>\n    </tr>\n  </tbody>\n</table>\n<p>3216 rows × 2 columns</p>\n</div>"
     },
     "metadata": {},
     "execution_count": 28
    }
   ],
   "source": [
    "base_poses"
   ]
  },
  {
   "cell_type": "code",
   "execution_count": 29,
   "metadata": {
    "tags": []
   },
   "outputs": [],
   "source": [
    "changes = [([4, 17, 47, 50, 60], \"Cycling Pose\"),\n",
    "    ([19, 40, 41, 44, 46, 28, 54, 67, 68, 72], \"High Boat To Low Boat Flow\"),\n",
    "    ([64, 66, 69, 70], \"Low Boat Pose\"),\n",
    "    ([86], \"Staff Pose\"), \n",
    "    ([87, 88, 117, 118], \"Bound Angle Forward Bend\"), \n",
    "    ([125, 135, 136, 138, 140, 141], \"One Legged Bow Pose\"), \n",
    "    ([216, 217, 218, 219], \"Pigeon Pose\"), \n",
    "    ([233, 234, 235, 236, 237, 238, 239], \"Thunderbolt Pose\"), \n",
    "    ([248, 269, 270, 271, 274], \"Cow Pose\"), \n",
    "    ([259, 260, 261, 262, 263, 364, 265, 266, 267, 268, 272, 273, 275], \"Cat Pose\"),\n",
    "    ([291], \"Hurdlers Pose\"),\n",
    "    ([293, 337, 338, 339, 340, 341, 342, 343, 344, 345, 346, 372], \"Revolved Chair Pose\"), \n",
    "    ([300, 303, 306, 307, 308], \"Chair Pose With Airplane Arms\"),\n",
    "    ([365, 369, 370], \"Figure Four Pose\"), \n",
    "    ([368], \"Shiva Squat Pose\"), \n",
    "    ([520, 521], \"Supine Spinal Twist Pose\"), \n",
    "    ([587, 588], \"Flying Pigeon Pose\"), \n",
    "    ([594, 589], \"Side Crow Pose\"), \n",
    "    ([599], \"Baby Crow Pose\"), \n",
    "    ([663, 664, 665, 666, 667, 668], \"One Legged Mountain Pose\"), \n",
    "    ([687, 758], \"One Handed Downward Facing Dog Pose\"),\n",
    "    ([688, 689, 690, 759, 760], \"Standing Splits Pose\"), \n",
    "    ([691, 692, 693, 694, 724, 735, 736, 737, 761, 762, 763, 764], \"Three Legged Downward Facing Dog Pose\"), \n",
    "    ([700, 717], \"Downward Facing Dog Upward Facing Dog Pose Flow\"), \n",
    "    ([714], \"Downward Facing Dog Pose Plank Pose Flow\"), \n",
    "    ([715], \"Downward Facing Dog Pose Table Top Pose Flow\"), \n",
    "    ([747], \"Downward Facing Dog Pose Knee To Nose\"),\n",
    "    ([748], \"Downward Facing Dog Pose Shoulder Taps\"), \n",
    "    ([749], \"Downward Facing Dog Pose to Low Lunge Pose Flow\"), \n",
    "    ([865, 866, 867, 868, 869, 870, 871, 872, 873, 874, 875, 876, 877, 878, 879, 880, 881, 882, 883, 884, 885, 886, 887, 888, 889, 890, 891, 892, 893, 894, 895, 896, 897, 898, 899, 900, 901], \"Easy Pose\"), \n",
    "    ([924, 925, 926], \"Cactus Arms\"), \n",
    "    ([998], \"Half Lotus Pose\"), \n",
    "    ([999], \"Lotus Pose\"), \n",
    "    ([1016, 1017], \"Eye Exercise\"), \n",
    "    ([1055, 1056, 1057, 1058, 1061], \"Scorpion Pose\"), \n",
    "    ([1131, 1132, 1133, 1134, 1135, 1136, 1137, 1138, 1139, 1140, 1141, 1142, 1143, 1144, 1145, 1146, 1147, 1148, 1149, 1150, 1151], \"Chaturanga Dandasana\"),\n",
    "    ([1387], \"Headstand Pose Eagle Legs\"), \n",
    "    ([1390], \"Headstand Pose Lotus Legs\"), \n",
    "    ([1392], \"Headstand Pose Wide Legs\"), \n",
    "    ([1395, 1400, 1401, 1402, 1403, 1404, 1405, 1406, 1407], \"Tripod Headstand Pose\"), \n",
    "    ([1464, 1465, 1479, 1480, 1481, 1482], \"Revolved High Lunge Pose\"), \n",
    "    ([1466, 1467, 1468, 1469, 1483], \"Runners Lunge Pose\"), \n",
    "    ([1487, 1488, 1489, 1490, 1491, 1492, 1493, 1494, 1495, 1496, 1497, 1498, 1499, 1500, 1501, 1502, 1503, 1504, 1505, 1506, 1507, 1508, 1509, 1510, 1511, 1512, 1513, 1514, 1515, 1516, 1517, 1518, 1519, 1520, 1521, 1522, 1523, 1524, 1525, 1526, 1527, 1528, 1529, 1530, 1531, 1532, 1533], \"Wide Legged Forward Fold\"), \n",
    "    ([1487, 1509, 1510, 1511, 1512], \"Revolved Wide Legged Forward Fold\"),\n",
    "    ([1491, 1492, 1493, 1494, 1495, 1496, 1497, 1498], \"Wide Legged Forward Fold With Halfway Lift\"),\n",
    "    ([1489, 1490, 1527], \"Five Pointed Star Pose\"), \n",
    "    ([1508], \"Pyramid Pose\"), \n",
    "    ([1534, 1535, 1536, 1537, 1538, 1539, 1540, 1541, 1542, 1543, 1544, 1545, 1546, 1547, 1548, 1549, 1550, 1551, 1552, 1553, 1554, 1555, 1556, 1557, 1558, 1559, 1560, 1561, 1562, 1563, 1564, 1565, 1566], \"Pyramid Pose\"), \n",
    "    ([1584], \"Flying Lizard Pose\"), \n",
    "    ([1673, 1684, 1685, 1591, 1700, 1708, 1710, 1711, 1712], \"Revolved Low Lunge Pose\"),\n",
    "    ([1732, 1733, 1745, 1758, 1758, 1776, 1777, 1778, 1784, 1790, 1791, 1791], \"One Legged Moutain Pose\"), \n",
    "    ([1840, 1841, 1842, 1843, 1844, 1845, 1846, 1847, 1848, 1849, 1850, 1851, 1852], \"Easy Pose\"), \n",
    "    ([1873, 1874, 1875, 1876, 1877, 1878, 1879, 1880, 1881, 1882], \"Standing Side Bend Pose\"), \n",
    "    ([1891, 1892, 1893, 1901, 1901, 1903, 1904, 1915, 1916, 1917, 1918, 1919, 1920, 1921, 1922], \"King Pigeon Pose\"), \n",
    "    ([1927, 1928, 1932], \"Grasshopper Pose\"), \n",
    "    ([1929], \"Dragonfly Pose\"), \n",
    "    ([1930], \"Eight Angle Pose\"),\n",
    "    ([1934, 1970, 1971, 1972], \"One Legged Plank Pose\"), \n",
    "    ([1939], \"Side Plank Pose\"), \n",
    "    ([1958, 1959, 1960, 1961, 1967, 1968, 1969], \"Forearm Plank Pose\"), \n",
    "    ([2173], \"Lotus Pose\"), \n",
    "    ([2188, 2189, 2190, 2191, 2192, 2193, 2194, 2195, 2196, 2197, 2198, 2199, 2200], \"Revolved Extended Side Angle Pose\"), \n",
    "    ([2189, 2195, 2196], \"Revolved High Lunge Pose\"), \n",
    "    ([2347, 2348, 2349, 2350, 2351, 2352, 2353, 2354, 2355, 2356, 2357, 2358, 2359, 2360, 2361, 2362, 2363, 2364, 2365, 2366, 2367, 2368], \"Skandasana\"),\n",
    "    ([2390, 2397], \"Anantasana\"), \n",
    "    ([2415, 2416, 2417, 2418, 2419, 2420, 2443], \"Visvamitrasana Pose\"), \n",
    "    ([2422, 2427, 2428, 2430, 2431, 2433, 2453, 2458, 2460], \"Side Plank Pose With Leg Variation\"), \n",
    "    ([2436, 2437, 2438, 2439, 2440, 2441], \"Forearm Side Plank Pose\"), \n",
    "    ([2465, 2466], \"Wild Thing Pose\"), \n",
    "    ([2482, 2483, 2484, 2486, 2487, 2488, 2489, 2480, 2492, 2493], \"Half Splits Pose\"), \n",
    "    ([2494], \"Standing Splits Pose\"), \n",
    "    ([2592, 2593, 2594], \"Firefly Pose\"), \n",
    "    ([2611, 2612, 2613, 2614, 2615, 2616, 2617, 2618, 2619, 2620, 2621], \"Forward Fold Pose With Halfway Lift\"), \n",
    "    ([2688, 2689, 2692, 2717], \"Bird Of Paradise Pose\"), \n",
    "    ([2700, 2701, 2703], \"Revolved Hand To Big Toe Pose\"), \n",
    "    ([2750, 2758], \"Half Sun Salutation\"), \n",
    "    ([2759], \"Second Half Of Sun Salutation\"), \n",
    "    ([2771, 2772], \"Banana Pose\"), \n",
    "    ([2795], \"Supine Spinal Twist Pose\"), \n",
    "    ([2797, 2798, 2833, 2848, 2849, 2850], \"Tiger Pose\"), \n",
    "    ([2799, 2816, 2827], \"Table Top Knee To Nose Flow\"), \n",
    "    ([2800, 2817], \"Child Pose Table Top Pose Flow\"), \n",
    "    ([2801, 2831, 2834, 2837, 2840, 2841, 2842], \"Table Top Pose With One Leg Extended Back\"), \n",
    "    ([2809, 2810, 2811, 2812, 2813, 2814, 2815], \"Revolved Table Top Pose\"), \n",
    "    ([2852, 2853, 2854, 2855], \"Table Top Balancing Pose, Opposite Arm and Leg Extended\"), \n",
    "    ([2968, 2972, 2983, 2974, 2975, 2976, 2977, 3005, 3006, 3007, 3008], \"Revolved Triangle Pose\"), \n",
    "    ([3023, 3024, 3025, 3026, 3031, 3032, 3038, 3039, 3040], \"Reverse Table Top Pose\"), \n",
    "    ([3037], \"Flip The Dog Pose\"), \n",
    "    ([3046, 3047, 3048, 3049, 3050, 3051, 3052, 3053, 3054, 3055, 3056, 3057, 3058, 3059, 3060, 3061, 3062, 3063], \"Anantasana\"), \n",
    "    ([3064, 3065, 3066, 3067, 3070, 3071, 3072, 3073, 3074, 3075, 3079], \"Warrior Pose I\"), \n",
    "    ([3068, 3069, 3076, 3077, 3078], \"Humble Warrior Pose\"), \n",
    "    ([3106, 3107, 3108, 3109, 3110, 3111, 3112, 3113, 3114, 3115, 3116, 3117, 3118, 3119, 3120, 3121], \"Warrior Pose II\"), \n",
    "    ([3122, 3123, 3124, 3125, 3126, 3127, 3128, 3129, 3130, 3131, 3132, 3133, 3134, 3135, 3136, 3137, 3138, 3139, 3140, 3141, 3142, 3143, 3144], \"Warrior Pose III\"), \n",
    "    ([3134], \"Shiva Squat Pose\"), \n",
    "    ([3131, 3132, 3133], \"Airplane Pose\"), \n",
    "    ([3181, 3182, 3183, 3184, 3185, 3186, 3187, 3188, 3189, 3190], \"Half Wind Release Pose\")]"
   ]
  },
  {
   "cell_type": "code",
   "execution_count": 30,
   "metadata": {
    "tags": []
   },
   "outputs": [],
   "source": [
    "for i in changes:\n",
    "    base_poses.loc[i[0], \"Base Pose\"] = i[1]"
   ]
  },
  {
   "cell_type": "code",
   "execution_count": 31,
   "metadata": {},
   "outputs": [
    {
     "output_type": "execute_result",
     "data": {
      "text/plain": "170"
     },
     "metadata": {},
     "execution_count": 31
    }
   ],
   "source": [
    "len(base_poses[\"Base Pose\"].unique())"
   ]
  },
  {
   "cell_type": "code",
   "execution_count": 32,
   "metadata": {},
   "outputs": [
    {
     "output_type": "execute_result",
     "data": {
      "text/plain": "array(['Boat Pose', 'Cycling Pose', 'High Boat To Low Boat Flow',\n       'Low Boat Pose', 'Bound Angle Pose', 'Staff Pose',\n       'Bound Angle Forward Bend', 'Bow Pose', 'One Legged Bow Pose',\n       'Bridge Pose', 'Camel Pose', 'Pigeon Pose', 'Thunderbolt Pose',\n       'Cow Pose', 'Cat Cow Pose', 'Cat Pose', 'Cat Tail Pulling Pose',\n       'Center Splits Pose', 'Hurdlers Pose', 'Revolved Chair Pose',\n       'Chair Pose', 'Chair Pose With Airplane Arms', 'Figure Four Pose',\n       'Shiva Squat Pose', 'Child Pose', 'Cobra Pose', 'Corpse Pose',\n       'Supine Spinal Twist Pose', 'Cow Face Pose', 'Crane Pose',\n       'Flying Pigeon Pose', 'Side Crow Pose', 'Baby Crow Pose',\n       'Crow Pose', 'Dancer Pose', 'One Legged Mountain Pose',\n       'Dolphin Pose', 'Downward Facing Dog Pose',\n       'One Handed Downward Facing Dog Pose', 'Standing Splits Pose',\n       'Three Legged Downward Facing Dog Pose',\n       'Downward Facing Dog Upward Facing Dog Pose Flow',\n       'Downward Facing Dog Pose Plank Pose Flow',\n       'Downward Facing Dog Pose Table Top Pose Flow',\n       'Downward Facing Dog Pose Knee To Nose',\n       'Downward Facing Dog Pose Shoulder Taps',\n       'Downward Facing Dog Pose to Low Lunge Pose Flow', 'Eagle Pose',\n       'Easy Pose', 'Exercise', 'Cactus Arms', 'Half Lotus Pose',\n       'Lotus Pose', 'Extended Side Angle Pose', 'Eye Exercise',\n       'Eye Of The Needle Pose', 'Feathered Peacock Pose',\n       'Scorpion Pose', 'Firelog Pose', 'Fish Pose', 'Flamingo Pose',\n       'Foot Behind The Head Pose', 'Chaturanga Dandasana',\n       'Four Limbed Staff Pose', 'Garland Pose', 'Gate Pose',\n       'Goddess Pose', 'Half Lord Of The Fishes Pose', 'Half Moon Pose',\n       'Handstand Pose', 'Happy Baby Pose', 'Head To Knee Pose',\n       'Headstand Pose', 'Headstand Pose Eagle Legs',\n       'Headstand Pose Lotus Legs', 'Headstand Pose Wide Legs',\n       'Tripod Headstand Pose', 'Hero Pose', 'High Lunge Pose',\n       'Revolved High Lunge Pose', 'Runners Lunge Pose',\n       'Revolved Wide Legged Forward Fold', 'Wide Legged Forward Fold',\n       'Five Pointed Star Pose',\n       'Wide Legged Forward Fold With Halfway Lift', 'Pyramid Pose',\n       'Legs Up The Wall Pose', 'Lion Pose', 'Lizard Pose',\n       'Flying Lizard Pose', 'Revolved Low Lunge Pose', 'Locust Pose',\n       'Low Lunge Pose', 'Moon Salutation', 'Mountain Pose',\n       'One Legged Moutain Pose', 'Mudra', 'Neck Rolls', 'Palm Tree Pose',\n       'Standing Side Bend Pose', 'King Pigeon Pose', 'Grasshopper Pose',\n       'Dragonfly Pose', 'Eight Angle Pose', 'Plank Pose',\n       'One Legged Plank Pose', 'Side Plank Pose', 'Forearm Plank Pose',\n       'Plough Pose', 'Pranayama', 'Puppy Dog Pose',\n       'Reclined Big Toe Pose', 'Reclined Bound Angle Pose',\n       'Reclined Hero Pose', 'Reclining Hero Pose', 'Reverse Corpse Pose',\n       'Reverse Warrior Pose', 'Revolved Extended Side Angle Pose',\n       'Seated Forward Bend Pose', 'Seated Straddle Pose', 'Section',\n       'Shoulder Stretches', 'Shoulderstand Pose', 'Skandasana',\n       'Side Lying Corpse Pose', 'Anantasana', 'Visvamitrasana Pose',\n       'Side Plank Pose With Leg Variation', 'Forearm Side Plank Pose',\n       'Wild Thing Pose', 'Sphinx Pose', 'Half Splits Pose',\n       'Splits Pose', 'Squat Pose', 'Standing Backbend Pose',\n       'Firefly Pose', 'Standing Forward Fold Pose',\n       'Forward Fold Pose With Halfway Lift', 'Bird Of Paradise Pose',\n       'Standing Hand To Big Toe Pose', 'Revolved Hand To Big Toe Pose',\n       'Standing Twists', 'Sun Salutation', 'Half Sun Salutation',\n       'Second Half Of Sun Salutation', 'Banana Pose', 'Table Top Pose',\n       'Tiger Pose', 'Table Top Knee To Nose Flow',\n       'Child Pose Table Top Pose Flow',\n       'Table Top Pose With One Leg Extended Back',\n       'Revolved Table Top Pose',\n       'Table Top Balancing Pose, Opposite Arm and Leg Extended',\n       'Thread The Needle Pose', 'Torso Stretch Pose', 'Tree Pose',\n       'Revolved Triangle Pose', 'Triangle Pose',\n       'Upward Facing Dog Pose', 'Upward Plank Pose',\n       'Reverse Table Top Pose', 'Flip The Dog Pose', 'Warrior Pose I',\n       'Humble Warrior Pose', 'Warrior Pose II', 'Warrior Pose III',\n       'Airplane Pose', 'Wheel Pose', 'Wind Release Pose',\n       'Half Wind Release Pose'], dtype=object)"
     },
     "metadata": {},
     "execution_count": 32
    }
   ],
   "source": [
    "base_poses[\"Base Pose\"].unique()"
   ]
  },
  {
   "cell_type": "code",
   "execution_count": 33,
   "metadata": {},
   "outputs": [],
   "source": [
    "base_documents = []\n",
    "for i in range(len(documents)):\n",
    "    temp_df = pd.DataFrame(documents[i], columns=[\"0\"])\n",
    "    temp_df = pd.merge(temp_df, base_poses, how=\"left\", left_on=\"0\", right_on=\"Pose Name\")\n",
    "    temp_df = temp_df.dropna(how=\"any\")\n",
    "    new_doc = [pose for pose in temp_df[\"Base Pose\"]]\n",
    "    base_documents.append(new_doc)"
   ]
  },
  {
   "cell_type": "markdown",
   "metadata": {},
   "source": [
    "Running again on documents with base_poses only:"
   ]
  },
  {
   "cell_type": "code",
   "execution_count": 34,
   "metadata": {},
   "outputs": [],
   "source": [
    "model = gensim.models.Word2Vec(base_documents, size=100, window=5, min_count=1, sg=1)"
   ]
  },
  {
   "cell_type": "code",
   "execution_count": 35,
   "metadata": {},
   "outputs": [
    {
     "output_type": "execute_result",
     "data": {
      "text/plain": "169"
     },
     "metadata": {},
     "execution_count": 35
    }
   ],
   "source": [
    "len(list(model.wv.vocab.items()))"
   ]
  },
  {
   "cell_type": "code",
   "execution_count": 36,
   "metadata": {},
   "outputs": [
    {
     "output_type": "execute_result",
     "data": {
      "text/plain": "[('Three Legged Downward Facing Dog Pose', 0.7480429410934448),\n ('Standing Forward Fold Pose', 0.6824171543121338),\n ('Plank Pose', 0.6556832790374756),\n ('Mountain Pose', 0.643916130065918),\n ('Forward Fold Pose With Halfway Lift', 0.6411184668540955),\n ('Downward Facing Dog Pose Plank Pose Flow', 0.6282987594604492),\n ('Chaturanga Dandasana', 0.6114962697029114),\n ('Table Top Pose', 0.6041505932807922),\n ('Low Lunge Pose', 0.6010076403617859),\n ('Downward Facing Dog Pose Knee To Nose', 0.600443959236145),\n ('Child Pose', 0.5981735587120056),\n ('Palm Tree Pose', 0.5958209037780762),\n ('Upward Facing Dog Pose', 0.595720648765564),\n ('Reverse Warrior Pose', 0.581308126449585),\n ('Warrior Pose II', 0.5714256763458252),\n ('Table Top Balancing Pose, Opposite Arm and Leg Extended',\n  0.5710283517837524),\n ('Warrior Pose I', 0.5641430616378784),\n ('Revolved High Lunge Pose', 0.5461475253105164),\n ('Downward Facing Dog Pose to Low Lunge Pose Flow', 0.5295085906982422),\n ('Sun Salutation', 0.5187381505966187)]"
     },
     "metadata": {},
     "execution_count": 36
    }
   ],
   "source": [
    "model.most_similar(\"Downward Facing Dog Pose\", topn=20)"
   ]
  },
  {
   "cell_type": "code",
   "execution_count": 37,
   "metadata": {},
   "outputs": [
    {
     "output_type": "execute_result",
     "data": {
      "text/plain": "[('Wind Release Pose', 0.7926163673400879),\n ('Supine Spinal Twist Pose', 0.7572120428085327),\n ('Happy Baby Pose', 0.7288496494293213),\n ('Half Wind Release Pose', 0.7216086387634277),\n ('Reclined Bound Angle Pose', 0.6838932037353516),\n ('Bridge Pose', 0.6568808555603027),\n ('Banana Pose', 0.6400668621063232),\n ('Eye Of The Needle Pose', 0.62393718957901),\n ('Legs Up The Wall Pose', 0.5978217720985413),\n ('Fish Pose', 0.5955902934074402),\n ('Cycling Pose', 0.5752530097961426),\n ('Section', 0.5712860822677612),\n ('Side Lying Corpse Pose', 0.5585944652557373),\n ('Reclined Big Toe Pose', 0.5263606309890747),\n ('Plough Pose', 0.514016330242157),\n ('Easy Pose', 0.4999466836452484),\n ('Seated Forward Bend Pose', 0.4835633635520935),\n ('High Boat To Low Boat Flow', 0.45954903960227966),\n ('Pranayama', 0.45049360394477844),\n ('Neck Rolls', 0.4480418860912323)]"
     },
     "metadata": {},
     "execution_count": 37
    }
   ],
   "source": [
    "model.most_similar(\"Corpse Pose\", topn=20)"
   ]
  },
  {
   "cell_type": "code",
   "execution_count": 38,
   "metadata": {},
   "outputs": [
    {
     "output_type": "execute_result",
     "data": {
      "text/plain": "[('Shoulderstand Pose', 0.5816205739974976),\n ('Plough Pose', 0.5296584963798523),\n ('Scorpion Pose', 0.49868136644363403),\n ('Upward Plank Pose', 0.4962367117404938),\n ('Fish Pose', 0.4931376576423645),\n ('Bridge Pose', 0.46801134943962097),\n ('Bow Pose', 0.45956429839134216),\n ('Headstand Pose', 0.4423803985118866),\n ('Headstand Pose Lotus Legs', 0.43745023012161255),\n ('Reclined Hero Pose', 0.4333563446998596),\n ('Feathered Peacock Pose', 0.4309718608856201),\n ('Headstand Pose Eagle Legs', 0.4295237064361572),\n ('Eight Angle Pose', 0.42115241289138794),\n ('Reclining Hero Pose', 0.40592867136001587),\n ('Camel Pose', 0.40531104803085327),\n ('Handstand Pose', 0.4035586714744568),\n ('Flip The Dog Pose', 0.3945477306842804),\n ('Dragonfly Pose', 0.39338064193725586),\n ('Four Limbed Staff Pose', 0.39291322231292725),\n ('Headstand Pose Wide Legs', 0.390384703874588)]"
     },
     "metadata": {},
     "execution_count": 38
    }
   ],
   "source": [
    "model.most_similar(\"Wheel Pose\", topn=20)"
   ]
  },
  {
   "cell_type": "code",
   "execution_count": 39,
   "metadata": {},
   "outputs": [
    {
     "output_type": "execute_result",
     "data": {
      "text/plain": "[('Half Sun Salutation', 0.5754477977752686),\n ('Second Half Of Sun Salutation', 0.5740746259689331),\n ('Warrior Pose I', 0.5719062089920044),\n ('Triangle Pose', 0.567990779876709),\n ('Warrior Pose II', 0.5574795007705688),\n ('Mountain Pose', 0.5525914430618286),\n ('Tree Pose', 0.5489034652709961),\n ('Pranayama', 0.5420672297477722),\n ('Standing Side Bend Pose', 0.5371952652931213),\n ('Reverse Warrior Pose', 0.5239505767822266)]"
     },
     "metadata": {},
     "execution_count": 39
    }
   ],
   "source": [
    "model.most_similar(\"Sun Salutation\")"
   ]
  },
  {
   "cell_type": "code",
   "execution_count": 40,
   "metadata": {
    "tags": []
   },
   "outputs": [
    {
     "output_type": "stream",
     "name": "stdout",
     "text": "0.11024165\n0.18420866\n0.41714072\n0.79261637\n"
    }
   ],
   "source": [
    "print(model.similarity(\"Corpse Pose\", \"Extended Side Angle Pose\"))\n",
    "print(model.similarity(\"Corpse Pose\", \"Pigeon Pose\"))\n",
    "print(model.similarity(\"Corpse Pose\", \"Child Pose\"))\n",
    "print(model.similarity(\"Corpse Pose\", \"Wind Release Pose\"))"
   ]
  },
  {
   "cell_type": "code",
   "execution_count": 41,
   "metadata": {},
   "outputs": [
    {
     "output_type": "execute_result",
     "data": {
      "text/plain": "[('Side Plank Pose', 0.6229433417320251),\n ('Side Plank Pose With Leg Variation', 0.5909644365310669),\n ('Three Legged Downward Facing Dog Pose', 0.556401252746582),\n ('Downward Facing Dog Pose Knee To Nose', 0.5535498857498169),\n ('Flip The Dog Pose', 0.5395146608352661),\n ('Visvamitrasana Pose', 0.49480071663856506),\n ('Forearm Side Plank Pose', 0.4760158061981201),\n ('Plank Pose', 0.45943447947502136),\n ('Pigeon Pose', 0.4453626871109009),\n ('Four Limbed Staff Pose', 0.43046149611473083)]"
     },
     "metadata": {},
     "execution_count": 41
    }
   ],
   "source": [
    "model.most_similar(\"Wild Thing Pose\")"
   ]
  },
  {
   "cell_type": "code",
   "execution_count": 42,
   "metadata": {},
   "outputs": [
    {
     "output_type": "execute_result",
     "data": {
      "text/plain": "[('Side Lying Corpse Pose', 0.5074228048324585),\n ('Reverse Table Top Pose', 0.4980349540710449),\n ('Cat Tail Pulling Pose', 0.46528810262680054),\n ('Table Top Pose With One Leg Extended Back', 0.4340725243091583),\n ('Forearm Side Plank Pose', 0.42680609226226807),\n ('Cycling Pose', 0.4252551794052124),\n ('Upward Plank Pose', 0.41715162992477417),\n ('Four Limbed Staff Pose', 0.37007707357406616),\n ('Reclined Big Toe Pose', 0.3698296844959259),\n ('Side Plank Pose With Leg Variation', 0.36826905608177185)]"
     },
     "metadata": {},
     "execution_count": 42
    }
   ],
   "source": [
    "model.most_similar(\"Anantasana\")"
   ]
  },
  {
   "cell_type": "code",
   "execution_count": 43,
   "metadata": {},
   "outputs": [],
   "source": [
    "def analogy(worda, wordb, wordc):\n",
    "    result = model.most_similar(negative=[worda], positive=[wordb, wordc])\n",
    "    return result[0][0]"
   ]
  },
  {
   "cell_type": "code",
   "execution_count": 44,
   "metadata": {},
   "outputs": [
    {
     "output_type": "execute_result",
     "data": {
      "text/plain": "'Table Top Balancing Pose, Opposite Arm and Leg Extended'"
     },
     "metadata": {},
     "execution_count": 44
    }
   ],
   "source": [
    "# A pose to a 3-limbed variation of the same pose\n",
    "analogy(\"Downward Facing Dog Pose\", \"Three Legged Downward Facing Dog Pose\", \"Table Top Pose\")"
   ]
  },
  {
   "cell_type": "code",
   "execution_count": 45,
   "metadata": {},
   "outputs": [
    {
     "output_type": "execute_result",
     "data": {
      "text/plain": "'Palm Tree Pose'"
     },
     "metadata": {},
     "execution_count": 45
    }
   ],
   "source": [
    "# Two poses which often follow each other one after the other \n",
    "analogy(\"Warrior Pose II\", \"Extended Side Angle Pose\", \"Mountain Pose\")"
   ]
  },
  {
   "cell_type": "code",
   "execution_count": 46,
   "metadata": {},
   "outputs": [
    {
     "output_type": "execute_result",
     "data": {
      "text/plain": "'Reverse Warrior Pose'"
     },
     "metadata": {},
     "execution_count": 46
    }
   ],
   "source": [
    "analogy(\"Warrior Pose II\", \"Extended Side Angle Pose\", \"Warrior Pose I\")"
   ]
  },
  {
   "cell_type": "markdown",
   "metadata": {},
   "source": [
    "Analysis: Now the poses have been simplfied to their base poses and hence the total possible number of input poses my application will build yoga classes from has been reduced to 170 (from 3000+). This is much more manageable, and the custom work I did to include key additional variations provides a more robust practice. \n",
    "\n",
    "Given the above ratings of similarity of corpse pose to other various poses, the scores make even more sense after reducing to baes poses. Very little similarity to a difficulty strength-heavy standing pose, mild similarity to an intense prone stretch pose, moderate similarity to a relaxation prone pose, and very high similarity to wind release pose, which often tends to be practiced immediately before final savasana, corpse pose. \n",
    "\n",
    "I am now happy with this cleaned input data and resultant word vectors demonstrating reasonable similarity, and ready to move into LSTM training. "
   ]
  },
  {
   "cell_type": "code",
   "execution_count": 47,
   "metadata": {},
   "outputs": [
    {
     "output_type": "execute_result",
     "data": {
      "text/plain": "<gensim.models.word2vec.Word2Vec at 0x7fd1ecd10c90>"
     },
     "metadata": {},
     "execution_count": 47
    }
   ],
   "source": [
    "model"
   ]
  },
  {
   "cell_type": "markdown",
   "metadata": {},
   "source": [
    "I'm wondering if I should have shorter vectors -- similarity to only the closest 33 poses since that's average length of a class? "
   ]
  },
  {
   "cell_type": "code",
   "execution_count": 48,
   "metadata": {},
   "outputs": [],
   "source": [
    "# model_2 = gensim.models.Word2Vec(base_documents, size=33, window=5, min_count=1, sg=1)"
   ]
  },
  {
   "cell_type": "code",
   "execution_count": 49,
   "metadata": {},
   "outputs": [
    {
     "output_type": "execute_result",
     "data": {
      "text/plain": "[('Three Legged Downward Facing Dog Pose', 0.7480429410934448),\n ('Standing Forward Fold Pose', 0.6824171543121338),\n ('Plank Pose', 0.6556832790374756),\n ('Mountain Pose', 0.643916130065918),\n ('Forward Fold Pose With Halfway Lift', 0.6411184668540955),\n ('Downward Facing Dog Pose Plank Pose Flow', 0.6282987594604492),\n ('Chaturanga Dandasana', 0.6114962697029114),\n ('Table Top Pose', 0.6041505932807922),\n ('Low Lunge Pose', 0.6010076403617859),\n ('Downward Facing Dog Pose Knee To Nose', 0.600443959236145),\n ('Child Pose', 0.5981735587120056),\n ('Palm Tree Pose', 0.5958209037780762),\n ('Upward Facing Dog Pose', 0.595720648765564),\n ('Reverse Warrior Pose', 0.581308126449585),\n ('Warrior Pose II', 0.5714256763458252),\n ('Table Top Balancing Pose, Opposite Arm and Leg Extended',\n  0.5710283517837524),\n ('Warrior Pose I', 0.5641430616378784),\n ('Revolved High Lunge Pose', 0.5461475253105164),\n ('Downward Facing Dog Pose to Low Lunge Pose Flow', 0.5295085906982422),\n ('Sun Salutation', 0.5187381505966187)]"
     },
     "metadata": {},
     "execution_count": 49
    }
   ],
   "source": [
    "model.most_similar(\"Downward Facing Dog Pose\", topn=20)"
   ]
  },
  {
   "cell_type": "markdown",
   "metadata": {},
   "source": [
    "Note: if bad results/too many poses to work with (includes too many obscure poses for example) use model 3 below instead and change the min_count to filter to poses seen more often. "
   ]
  },
  {
   "cell_type": "code",
   "execution_count": 50,
   "metadata": {},
   "outputs": [],
   "source": [
    "# model_3 = gensim.models.Word2Vec(base_documents, size=100, window=5, min_count=400, sg=1)"
   ]
  },
  {
   "cell_type": "code",
   "execution_count": 51,
   "metadata": {},
   "outputs": [],
   "source": [
    "# len(list(model_3.wv.vocab.items()))"
   ]
  },
  {
   "cell_type": "code",
   "execution_count": 52,
   "metadata": {},
   "outputs": [
    {
     "output_type": "execute_result",
     "data": {
      "text/plain": "['Downward Facing Dog Pose',\n 'Easy Pose',\n 'Standing Forward Fold Pose',\n 'Mountain Pose',\n 'Corpse Pose',\n 'Child Pose',\n 'Cobra Pose',\n 'Table Top Pose',\n 'Sun Salutation',\n 'Plank Pose',\n 'Warrior Pose II',\n 'Chair Pose',\n 'Supine Spinal Twist Pose',\n 'Three Legged Downward Facing Dog Pose',\n 'Warrior Pose I',\n 'Bridge Pose',\n 'Wind Release Pose',\n 'Wide Legged Forward Fold',\n 'Cat Cow Pose',\n 'Triangle Pose',\n 'Low Lunge Pose',\n 'Palm Tree Pose',\n 'Staff Pose',\n 'Bound Angle Pose',\n 'Goddess Pose']"
     },
     "metadata": {},
     "execution_count": 52
    }
   ],
   "source": [
    "# the 25 most common poses\n",
    "model.wv.index2word[:25]"
   ]
  },
  {
   "cell_type": "code",
   "execution_count": 53,
   "metadata": {},
   "outputs": [],
   "source": [
    "model.save(\"~/Metis/project_5\" + \"word2vec_model\")"
   ]
  },
  {
   "cell_type": "markdown",
   "metadata": {},
   "source": [
    "Note: Do I want/need to convert the dataset from a list of word to a list of integer indexes? "
   ]
  },
  {
   "cell_type": "markdown",
   "metadata": {},
   "source": [
    "## Preparing word embeddings for LSTM\n",
    "Extracting the embedding weights from the Word2Vec embedding layer, and storing it in a numpy array for use in Keras."
   ]
  },
  {
   "cell_type": "code",
   "execution_count": 54,
   "metadata": {},
   "outputs": [],
   "source": [
    "embedding_matrix = np.zeros((len(model.wv.vocab), 100))\n",
    "for i in range(len(model.wv.vocab)):\n",
    "    embedding_vector = model.wv[model.wv.index2word[i]]\n",
    "    if embedding_vector is not None:\n",
    "        embedding_matrix[i] = embedding_vector"
   ]
  },
  {
   "cell_type": "code",
   "execution_count": 55,
   "metadata": {},
   "outputs": [
    {
     "output_type": "execute_result",
     "data": {
      "text/plain": "array([[-0.17595953,  0.18566018, -0.11774897, ..., -0.14416806,\n        -0.04487487, -0.02074035],\n       [-0.22779259,  0.31133637,  0.3661651 , ..., -0.05747208,\n         0.15776598,  0.01874431],\n       [-0.19367634,  0.16595638, -0.1509468 , ...,  0.12080226,\n        -0.08019561, -0.19894648],\n       ...,\n       [-0.20641275,  0.42572626, -0.07571162, ...,  0.22214788,\n        -0.36750805,  0.16352049],\n       [-0.11127623,  0.01856919,  0.13504539, ..., -0.13202018,\n         0.19298238,  0.04338069],\n       [-0.14083238,  0.2375976 ,  0.03668059, ...,  0.02468391,\n         0.26796544,  0.03418195]])"
     },
     "metadata": {},
     "execution_count": 55
    }
   ],
   "source": [
    "embedding_matrix"
   ]
  },
  {
   "cell_type": "code",
   "execution_count": 56,
   "metadata": {},
   "outputs": [
    {
     "output_type": "execute_result",
     "data": {
      "text/plain": "[['Easy Pose Hands To Heart',\n  'Easy Pose Hands Interlocked Behind Head',\n  'Seated Torso Circles',\n  'Easy Pose Variation Side',\n  'Half Easy Pose Half Forward Bend',\n  'Seated Windshield Wiper Pose Chest Opener Variation',\n  'Cat Cow Pose',\n  'Child Pose Hip Circles Flow',\n  'Thread The Needle Pose Flow',\n  'Downward Facing Dog Pose',\n  'Downward Facing Dog Pose Plank Pose Flow',\n  'Right Leg Forward',\n  'Three Legged Downward Facing Dog Pose Prep',\n  'Fallen Triangle Pose Variation',\n  'Repeat Other Side',\n  'Right Leg Forward',\n  'Three Legged Downward Facing Dog Pose',\n  'Low Lunge Hands To Knee',\n  'Low Lunge Pose Open Twist',\n  'Revolved Low Lunge Pose Knee On The Floor',\n  'Runners Lunge Pose',\n  'Revolved Lunge Pose',\n  'Extended Side Angle Pose Variation Hand In Front',\n  'Three Legged Downward Facing Dog Pose',\n  'Low Lunge Hands To Knee',\n  'Left Leg Forward',\n  'Repeat Other Side',\n  'Top Of Mat Section',\n  'Mountain Pose',\n  'Crescent High Lunge Pose Arms On Hips Flow',\n  'Crescent High Lunge Pose Variation Back Knee Bent',\n  'Warrior Pose I Eagle Arms',\n  'Warrior Pose II',\n  'Reverse Warrior Pose',\n  'Intense Leg Stretch Pose',\n  'Revolved Wide Legged Forward Bend Pose Block',\n  'Intense Leg Stretch Pose',\n  'Back Of Mat Section',\n  'Repeat Other Side',\n  'Staff Pose Knee Stretches',\n  'Wild Thing Pose',\n  'Side Plank Pose Variation (One Knee On The Floor)',\n  'Half Moon Variation (Knee On The Floor)',\n  'Side Plank Pose Crunch',\n  'Half Circle Pose',\n  'Puppy Dog Pose',\n  'Repeat Other Side',\n  'Cow Face Pose',\n  'Wind Release Pose',\n  'Reverse Pigeon Pose Variation ',\n  'Bridge Pose Variation Hands',\n  'Supine Spinal Twist Yoga Pose I',\n  'Corpse Pose'],\n ['Mantra Section',\n  'Thunderbolt Pose',\n  'Easy Pose Bound Hands',\n  'Thunderbolt Pose Arms Rotation',\n  'Hero Pose Cow Face Arms',\n  'Table Top Pose',\n  'Tiger Pose Table Top Pose Knee To Nose Flow',\n  'Puppy Dog Pose',\n  'Classic Sun Salutation Variation Iv',\n  'Classic Sun Salutation Variation Iv',\n  'Sun Salutation A',\n  'Sun Salutation A',\n  'Sun Salutation B',\n  'Sun Salutation B',\n  'Standing Yoga Seal Pose Chair Pose Bound Hands Behind Flow',\n  'Eagle Pose',\n  'Sun Salutation A First Half',\n  'Crescent High Lunge Pose Arms On Hips Flow',\n  'Crescent High Lunge Shoulder Opener',\n  'Humble Warrior Pose',\n  'Belly Down Vinyasa',\n  'Warrior Pose I',\n  'Warrior Pose I Bound Hands Humble Warrior Flow',\n  'Pyramid Pose Flow',\n  'Standing Balance One Leg Raised Warrior Pose Iii Flow',\n  'Belly Down Vinyasa',\n  'Locust Pose Variation One Leg And Arm On Floor',\n  'Bow Pose Variation ',\n  'Bow Pose',\n  'Belly Down Vinyasa',\n  'Wheel Pose Prep',\n  'Wheel Pose',\n  'One-Legged Wheel Pose',\n  'Belly Down Vinyasa',\n  'Half Boat Pose Variation A',\n  'Boat Pose Variation Knees Bent Arms Side',\n  'Reverse Pigeon Pose',\n  'Belly Down Vinyasa',\n  'Half Pigeon Pose Variation I',\n  'Revolved Half Pigeon Pose Variation ',\n  'Sleeping Swan Pose',\n  'Belly Down Vinyasa',\n  'Headstand Pose',\n  'Headstand Pose Bound Angle Legs',\n  'Headstand Pose Wide Legs',\n  'Wide Child Pose Variation Hands On Head',\n  'Reclining Deer Pose',\n  'Wind Release Pose',\n  'Corpse Pose',\n  'Side Fetal Pose B',\n  'Accomplished Pose',\n  'Mantra Section']]"
     },
     "metadata": {},
     "execution_count": 56
    }
   ],
   "source": [
    "documents[0:2]"
   ]
  },
  {
   "cell_type": "code",
   "execution_count": 57,
   "metadata": {},
   "outputs": [
    {
     "output_type": "execute_result",
     "data": {
      "text/plain": "[['Easy Pose',\n  'Neck Rolls',\n  'Easy Pose',\n  'Easy Pose',\n  'Easy Pose',\n  'Torso Stretch Pose',\n  'Cat Cow Pose',\n  'Child Pose',\n  'Thread The Needle Pose',\n  'Downward Facing Dog Pose',\n  'Downward Facing Dog Pose Plank Pose Flow',\n  'Three Legged Downward Facing Dog Pose',\n  'Triangle Pose',\n  'Three Legged Downward Facing Dog Pose',\n  'Low Lunge Pose',\n  'Revolved Low Lunge Pose',\n  'Low Lunge Pose',\n  'Revolved High Lunge Pose',\n  'Extended Side Angle Pose',\n  'Three Legged Downward Facing Dog Pose',\n  'Low Lunge Pose',\n  'Mountain Pose',\n  'High Lunge Pose',\n  'High Lunge Pose',\n  'Warrior Pose I',\n  'Warrior Pose II',\n  'Reverse Warrior Pose',\n  'Wide Legged Forward Fold',\n  'Revolved Wide Legged Forward Fold',\n  'Wide Legged Forward Fold',\n  'Staff Pose',\n  'Wild Thing Pose',\n  'Side Plank Pose With Leg Variation',\n  'Half Moon Pose',\n  'Side Plank Pose',\n  'Gate Pose',\n  'Puppy Dog Pose',\n  'Cow Face Pose',\n  'Wind Release Pose',\n  'Bridge Pose',\n  'Supine Spinal Twist Pose',\n  'Corpse Pose'],\n ['Thunderbolt Pose',\n  'Easy Pose',\n  'Thunderbolt Pose',\n  'Hero Pose',\n  'Table Top Pose',\n  'Tiger Pose',\n  'Puppy Dog Pose',\n  'Sun Salutation',\n  'Sun Salutation',\n  'Sun Salutation',\n  'Sun Salutation',\n  'Sun Salutation',\n  'Sun Salutation',\n  'Standing Forward Fold Pose',\n  'Eagle Pose',\n  'Half Sun Salutation',\n  'High Lunge Pose',\n  'High Lunge Pose',\n  'Humble Warrior Pose',\n  'Cobra Pose',\n  'Warrior Pose I',\n  'Warrior Pose I',\n  'Pyramid Pose',\n  'Warrior Pose III',\n  'Cobra Pose',\n  'Locust Pose',\n  'Bow Pose',\n  'Cobra Pose',\n  'Wheel Pose',\n  'Wheel Pose',\n  'Wheel Pose',\n  'Cobra Pose',\n  'Boat Pose',\n  'Boat Pose',\n  'Eye Of The Needle Pose',\n  'Cobra Pose',\n  'Pigeon Pose',\n  'Cobra Pose',\n  'Headstand Pose',\n  'Headstand Pose',\n  'Headstand Pose Wide Legs',\n  'Child Pose',\n  'Side Lying Corpse Pose',\n  'Wind Release Pose',\n  'Corpse Pose',\n  'Side Lying Corpse Pose']]"
     },
     "metadata": {},
     "execution_count": 57
    }
   ],
   "source": [
    "base_documents[0:2]"
   ]
  },
  {
   "cell_type": "markdown",
   "metadata": {},
   "source": [
    "# LSTM Neural Network\n",
    "Neural networks like vector input! Hooray! \n"
   ]
  },
  {
   "cell_type": "markdown",
   "metadata": {},
   "source": [
    "## From Medium: \n",
    "### With TensorFlow:\n",
    "Turning embeddings matrix into embedding layer for TensorFlow MOdel, with \"trainable=False\" to aboid updating weights of embeddings layer:"
   ]
  },
  {
   "cell_type": "code",
   "execution_count": 482,
   "metadata": {},
   "outputs": [],
   "source": [
    "# selecting some random poses\n",
    "# valid_size = 10\n",
    "# valid_window = 40\n",
    "# valid_examples = np.random.choice(valid_window, valid_size, replace=False)\n",
    "# valid_dataset = tf.constant(valid_examples, dtype=tf.int32) # tensorflow constant"
   ]
  },
  {
   "cell_type": "code",
   "execution_count": 484,
   "metadata": {},
   "outputs": [],
   "source": [
    "# saved_embeddings = tf.constant(embedding_matrix)\n",
    "# embedding = tf.Variable(initial_value=saved_embeddings, trainable=False)"
   ]
  },
  {
   "cell_type": "markdown",
   "metadata": {},
   "source": [
    "Creating cosine similarity operations -- taking norm of all the embedding vectors and taking dot product between the validation words and all other word vectors: "
   ]
  },
  {
   "cell_type": "code",
   "execution_count": 489,
   "metadata": {},
   "outputs": [],
   "source": [
    "# norm = tf.sqrt(tf.reduce_sum(tf.square(embedding), 1, keepdims=True))\n",
    "# normalized_embeddings = embedding / norm\n",
    "\n",
    "# valid_embeddings = tf.nn.embedding_lookup(normalized_embeddings, valid_dataset)\n",
    "# similarity = tf.matmul(valid_embeddings, normalized_embeddings, transpose_b=True)"
   ]
  },
  {
   "cell_type": "markdown",
   "metadata": {},
   "source": [
    "## My Own Way: \n",
    "### Instantiating Model\n",
    "Units = 33, so that output shape (size of output class) is 33 poses long, the average length of a yoga class amongst my input data. "
   ]
  },
  {
   "cell_type": "code",
   "execution_count": 448,
   "metadata": {},
   "outputs": [],
   "source": [
    "# keras_model = keras.Sequential([\n",
    "#     keras.layers.Dense(units=33, use_bias=True, input_shape=(170, )),\n",
    "#     keras.layers.Activation(\"sigmoid\") # this makes is logistic regression\n",
    "# ])"
   ]
  },
  {
   "cell_type": "markdown",
   "metadata": {},
   "source": [
    "### Training Model \n",
    "* \"sgd\" = vanilla stochastic gradient descent. \n",
    "* \"binary_crossentropy\" = binary cross-entropy is a loss function that works when we're predicting probabilities for a binary outcome. (am I predicting a binary outcome??)"
   ]
  },
  {
   "cell_type": "code",
   "execution_count": 449,
   "metadata": {},
   "outputs": [],
   "source": [
    "# keras_model.compile(optimizer=\"sgd\", loss=\"binary_crossentropy\")"
   ]
  },
  {
   "cell_type": "code",
   "execution_count": 513,
   "metadata": {},
   "outputs": [],
   "source": [
    "# Brittany: \n",
    "\n",
    "# def create_model(seq_len, unique_poses, dropout=0.3, output_emb=100, rnn_unit=128, dense_unit=64):\n",
    "#     inputs = tf.keras.layers.Input(shape=(seq_len,))\n",
    "#     embedding = tf.keras.layers.Embedding(input_dim=unique_poses, output_dim=output_emb, input_length=seq_len)(inputs)\n",
    "#     forward_pass = tf.keras.layers.Bidirectional(tf.keras.layers.LSTM(rnn_unit, return_sequences=True))(embedding)\n",
    "#     forward_pass , att_vector = SeqSelfAttention(\n",
    "#         return_attention=True,\n",
    "#         attention_activation='sigmoid',\n",
    "#         attention_type=SeqSelfAttention.ATTENTION_TYPE_MUL,\n",
    "#         attention_width=50,\n",
    "#         kernel_regularizer=tf.keras.regularizers.l2(1e-4),\n",
    "#         bias_regularizer=tf.keras.regularizers.l1(1e-4),\n",
    "#         attention_regularizer_weight=1e-4,\n",
    "#         )(forward_pass)\n",
    "#     forward_pass = tf.keras.layers.Dropout(dropout)(forward_pass)\n",
    "#     forward_pass = tf.keras.layers.Bidirectional(tf.keras.layers.LSTM(rnn_unit, return_sequences=True))(forward_pass)\n",
    "#     forward_pass , att_vector2 = SeqSelfAttention(\n",
    "#         return_attention=True,\n",
    "#         attention_activation='sigmoid',\n",
    "#         attention_type=SeqSelfAttention.ATTENTION_TYPE_MUL, # multiplicative\n",
    "#         attention_width=50,\n",
    "#         kernel_regularizer=tf.keras.regularizers.l2(1e-4),\n",
    "#         bias_regularizer=tf.keras.regularizers.l1(1e-4),\n",
    "#         attention_regularizer_weight=1e-4,\n",
    "#         )(forward_pass)\n",
    "#     forward_pass = tf.keras.layers.Dropout(dropout)(forward_pass)\n",
    "#     forward_pass = tf.keras.layers.Bidirectional(tf.keras.layers.GRU(rnn_unit))(forward_pass)\n",
    "#     forward_pass = tf.keras.layers.Dropout(dropout)(forward_pass)\n",
    "#     forward_pass = tf.keras.layers.Dense(dense_unit)(forward_pass)\n",
    "#     forward_pass = tf.keras.layers.LeakyReLU()(forward_pass)\n",
    "#     outputs = tf.keras.layers.Dense(unique_poses, activation = \"softmax\")(forward_pass)\n",
    "\n",
    "    # model = tf.keras.Model(inputs=inputs, outputs=outputs, name='generate_yoga_class_rnn')\n",
    "    # return model"
   ]
  },
  {
   "cell_type": "code",
   "execution_count": 515,
   "metadata": {},
   "outputs": [],
   "source": [
    "# lstm = create_model(33, 169)"
   ]
  },
  {
   "cell_type": "code",
   "execution_count": 516,
   "metadata": {
    "tags": []
   },
   "outputs": [
    {
     "output_type": "stream",
     "name": "stdout",
     "text": "Model: \"generate_yoga_class_rnn\"\n_________________________________________________________________\nLayer (type)                 Output Shape              Param #   \n=================================================================\ninput_12 (InputLayer)        [(None, 33)]              0         \n_________________________________________________________________\nembedding_6 (Embedding)      (None, 33, 100)           16900     \n_________________________________________________________________\nbidirectional_11 (Bidirectio (None, 33, 256)           234496    \n_________________________________________________________________\nseq_self_attention_6 (SeqSel [(None, 33, 256), (None,  65537     \n_________________________________________________________________\ndropout_9 (Dropout)          (None, 33, 256)           0         \n_________________________________________________________________\nbidirectional_12 (Bidirectio (None, 33, 256)           394240    \n_________________________________________________________________\nseq_self_attention_7 (SeqSel [(None, 33, 256), (None,  65537     \n_________________________________________________________________\ndropout_10 (Dropout)         (None, 33, 256)           0         \n_________________________________________________________________\nbidirectional_13 (Bidirectio (None, 256)               296448    \n_________________________________________________________________\ndropout_11 (Dropout)         (None, 256)               0         \n_________________________________________________________________\ndense_8 (Dense)              (None, 64)                16448     \n_________________________________________________________________\nleaky_re_lu_3 (LeakyReLU)    (None, 64)                0         \n_________________________________________________________________\ndense_9 (Dense)              (None, 169)               10985     \n=================================================================\nTotal params: 1,100,591\nTrainable params: 1,100,591\nNon-trainable params: 0\n_________________________________________________________________\n"
    }
   ],
   "source": [
    "# lstm.summary()"
   ]
  },
  {
   "cell_type": "code",
   "execution_count": 58,
   "metadata": {},
   "outputs": [],
   "source": [
    "embedding_dim = model.vector_size"
   ]
  },
  {
   "cell_type": "code",
   "execution_count": 649,
   "metadata": {},
   "outputs": [
    {
     "output_type": "execute_result",
     "data": {
      "text/plain": "169"
     },
     "metadata": {},
     "execution_count": 649
    }
   ],
   "source": [
    "tokenizer=Tokenizer(num_words = 169)\n",
    "tokenizer.fit_on_texts(base_documents)\n",
    "word_index = tokenizer.word_index\n",
    "vocab_size = len(tokenizer.word_index)\n",
    "vocab_size"
   ]
  },
  {
   "cell_type": "code",
   "execution_count": 574,
   "metadata": {},
   "outputs": [
    {
     "output_type": "execute_result",
     "data": {
      "text/plain": "{'downward facing dog pose': 1,\n 'easy pose': 2,\n 'standing forward fold pose': 3,\n 'mountain pose': 4,\n 'corpse pose': 5,\n 'child pose': 6,\n 'cobra pose': 7,\n 'table top pose': 8,\n 'sun salutation': 9,\n 'plank pose': 10,\n 'warrior pose ii': 11,\n 'chair pose': 12,\n 'supine spinal twist pose': 13,\n 'three legged downward facing dog pose': 14,\n 'warrior pose i': 15,\n 'bridge pose': 16,\n 'wind release pose': 17,\n 'wide legged forward fold': 18,\n 'cat cow pose': 19,\n 'triangle pose': 20,\n 'low lunge pose': 21,\n 'palm tree pose': 22,\n 'staff pose': 23,\n 'bound angle pose': 24,\n 'goddess pose': 25,\n 'extended side angle pose': 26,\n 'seated forward bend pose': 27,\n 'half lord of the fishes pose': 28,\n 'tree pose': 29,\n 'garland pose': 30,\n 'reverse warrior pose': 31,\n 'boat pose': 32,\n 'seated straddle pose': 33,\n 'pyramid pose': 34,\n 'warrior pose iii': 35,\n 'high lunge pose': 36,\n 'locust pose': 37,\n 'chaturanga dandasana': 38,\n 'half moon pose': 39,\n 'cycling pose': 40,\n 'thunderbolt pose': 41,\n 'pigeon pose': 42,\n 'reclined big toe pose': 43,\n 'thread the needle pose': 44,\n 'side plank pose': 45,\n 'table top balancing pose, opposite arm and leg extended': 46,\n 'revolved chair pose': 47,\n 'pranayama': 48,\n 'flamingo pose': 49,\n 'plough pose': 50,\n 'happy baby pose': 51,\n 'shoulderstand pose': 52,\n 'gate pose': 53,\n 'eye of the needle pose': 54,\n 'revolved high lunge pose': 55,\n 'reclined bound angle pose': 56,\n 'upward facing dog pose': 57,\n 'cow face pose': 58,\n 'puppy dog pose': 59,\n 'neck rolls': 60,\n 'revolved extended side angle pose': 61,\n 'hero pose': 62,\n 'shoulder stretches': 63,\n 'camel pose': 64,\n 'skandasana': 65,\n 'sphinx pose': 66,\n 'reverse corpse pose': 67,\n 'bow pose': 68,\n 'fish pose': 69,\n 'dolphin pose': 70,\n 'half wind release pose': 71,\n 'dancer pose': 72,\n 'side lying corpse pose': 73,\n 'lizard pose': 74,\n 'eagle pose': 75,\n 'torso stretch pose': 76,\n 'standing hand to big toe pose': 77,\n 'half sun salutation': 78,\n 'revolved triangle pose': 79,\n 'five pointed star pose': 80,\n 'exercise': 81,\n 'revolved low lunge pose': 82,\n 'revolved wide legged forward fold': 83,\n 'lotus pose': 84,\n 'forward fold pose with halfway lift': 85,\n 'humble warrior pose': 86,\n 'wild thing pose': 87,\n 'wheel pose': 88,\n 'standing splits pose': 89,\n 'headstand pose': 90,\n 'cat pose': 91,\n 'high boat to low boat flow': 92,\n 'standing side bend pose': 93,\n 'side plank pose with leg variation': 94,\n 'head to knee pose': 95,\n 'splits pose': 96,\n 'downward facing dog pose plank pose flow': 97,\n 'half splits pose': 98,\n 'standing backbend pose': 99,\n 'squat pose': 100,\n 'crow pose': 101,\n 'upward plank pose': 102,\n 'legs up the wall pose': 103,\n 'crane pose': 104,\n 'one legged bow pose': 105,\n 'revolved table top pose': 106,\n 'one legged mountain pose': 107,\n 'chair pose with airplane arms': 108,\n 'banana pose': 109,\n 'wide legged forward fold with halfway lift': 110,\n 'firelog pose': 111,\n 'anantasana': 112,\n 'tiger pose': 113,\n 'runners lunge pose': 114,\n 'moon salutation': 115,\n 'second half of sun salutation': 116,\n 'reclined hero pose': 117,\n 'cow pose': 118,\n 'bound angle forward bend': 119,\n 'king pigeon pose': 120,\n 'downward facing dog upward facing dog pose flow': 121,\n 'forearm side plank pose': 122,\n 'standing twists': 123,\n 'cat tail pulling pose': 124,\n 'handstand pose': 125,\n 'revolved hand to big toe pose': 126,\n 'table top knee to nose flow': 127,\n 'airplane pose': 128,\n 'child pose table top pose flow': 129,\n 'one legged plank pose': 130,\n 'bird of paradise pose': 131,\n 'downward facing dog pose to low lunge pose flow': 132,\n 'one legged moutain pose': 133,\n 'forearm plank pose': 134,\n 'downward facing dog pose knee to nose': 135,\n 'center splits pose': 136,\n 'feathered peacock pose': 137,\n 'reverse table top pose': 138,\n 'side crow pose': 139,\n 'mudra': 140,\n 'tripod headstand pose': 141,\n 'figure four pose': 142,\n 'shiva squat pose': 143,\n 'downward facing dog pose table top pose flow': 144,\n 'lion pose': 145,\n 'low boat pose': 146,\n 'table top pose with one leg extended back': 147,\n 'visvamitrasana pose': 148,\n 'foot behind the head pose': 149,\n 'one handed downward facing dog pose': 150,\n 'flip the dog pose': 151,\n 'eye exercise': 152,\n 'flying pigeon pose': 153,\n 'grasshopper pose': 154,\n 'eight angle pose': 155,\n 'scorpion pose': 156,\n 'baby crow pose': 157,\n 'half lotus pose': 158,\n 'flying lizard pose': 159,\n 'firefly pose': 160,\n 'cactus arms': 161,\n 'headstand pose wide legs': 162,\n 'section': 163,\n 'headstand pose eagle legs': 164,\n 'reclining hero pose': 165,\n 'four limbed staff pose': 166,\n 'headstand pose lotus legs': 167,\n 'hurdlers pose': 168,\n 'dragonfly pose': 169}"
     },
     "metadata": {},
     "execution_count": 574
    }
   ],
   "source": [
    "word_index"
   ]
  },
  {
   "cell_type": "code",
   "execution_count": 547,
   "metadata": {},
   "outputs": [],
   "source": [
    "# convert texts to token sequences of standardized length 50\n",
    "# padding fills leading zeros in or cuts off sequence at 100th pose\n",
    "sequence_docs = tokenizer.texts_to_sequences(base_documents)\n",
    "sequence_docs = pad_sequences(sequence_docs, maxlen=50)"
   ]
  },
  {
   "cell_type": "code",
   "execution_count": 876,
   "metadata": {},
   "outputs": [
    {
     "output_type": "execute_result",
     "data": {
      "text/plain": "numpy.int32"
     },
     "metadata": {},
     "execution_count": 876
    }
   ],
   "source": [
    "type(sequence_docs[0][0])"
   ]
  },
  {
   "cell_type": "code",
   "execution_count": 554,
   "metadata": {
    "tags": []
   },
   "outputs": [
    {
     "output_type": "stream",
     "name": "stdout",
     "text": "Model: \"functional_9\"\n_________________________________________________________________\nLayer (type)                 Output Shape              Param #   \n=================================================================\ninput_19 (InputLayer)        [(None, 33)]              0         \n_________________________________________________________________\nembedding_13 (Embedding)     (None, 33, 100)           16900     \n_________________________________________________________________\nbidirectional_19 (Bidirectio (None, 128)               84480     \n_________________________________________________________________\ndense_17 (Dense)             (None, 32)                4128      \n_________________________________________________________________\ndropout_14 (Dropout)         (None, 32)                0         \n_________________________________________________________________\ndense_18 (Dense)             (None, 1)                 33        \n=================================================================\nTotal params: 105,541\nTrainable params: 88,641\nNon-trainable params: 16,900\n_________________________________________________________________\n"
    }
   ],
   "source": [
    "inp = Input(shape=(33,))\n",
    "x = Embedding(vocab_size, embedding_dim, weights=[embedding_matrix], trainable=False)(inp)\n",
    "x = Bidirectional(LSTM(64, recurrent_dropout=.3))(x)\n",
    "x = Dense(32)(x)\n",
    "x = Dropout(.3)(x)\n",
    "y = Dense(1, activation='softmax')(x)\n",
    "\n",
    "NN = Model(inp, y)\n",
    "NN.summary()"
   ]
  },
  {
   "cell_type": "code",
   "execution_count": 558,
   "metadata": {
    "tags": []
   },
   "outputs": [
    {
     "output_type": "stream",
     "name": "stdout",
     "text": "Epoch 1/3\nWARNING:tensorflow:AutoGraph could not transform <function Model.make_train_function.<locals>.train_function at 0x7fb0fc065830> and will run it as-is.\nPlease report this to the TensorFlow team. When filing the bug, set the verbosity to 10 (on Linux, `export AUTOGRAPH_VERBOSITY=10`) and attach the full output.\nCause: closure mismatch, requested ('self', 'step_function'), but source function had ()\nTo silence this warning, decorate the function with @tf.autograph.experimental.do_not_convert\nWARNING: AutoGraph could not transform <function Model.make_train_function.<locals>.train_function at 0x7fb0fc065830> and will run it as-is.\nPlease report this to the TensorFlow team. When filing the bug, set the verbosity to 10 (on Linux, `export AUTOGRAPH_VERBOSITY=10`) and attach the full output.\nCause: closure mismatch, requested ('self', 'step_function'), but source function had ()\nTo silence this warning, decorate the function with @tf.autograph.experimental.do_not_convert\nWARNING:tensorflow:Model was constructed with shape (None, 33) for input Tensor(\"input_19:0\", shape=(None, 33), dtype=float32), but it was called on an input with incompatible shape (None, 50).\n"
    },
    {
     "output_type": "error",
     "ename": "ValueError",
     "evalue": "No gradients provided for any variable: ['bidirectional_19/forward_lstm_9/lstm_cell_28/kernel:0', 'bidirectional_19/forward_lstm_9/lstm_cell_28/recurrent_kernel:0', 'bidirectional_19/forward_lstm_9/lstm_cell_28/bias:0', 'bidirectional_19/backward_lstm_9/lstm_cell_29/kernel:0', 'bidirectional_19/backward_lstm_9/lstm_cell_29/recurrent_kernel:0', 'bidirectional_19/backward_lstm_9/lstm_cell_29/bias:0', 'dense_17/kernel:0', 'dense_17/bias:0', 'dense_18/kernel:0', 'dense_18/bias:0'].",
     "traceback": [
      "\u001b[0;31m---------------------------------------------------------------------------\u001b[0m",
      "\u001b[0;31mValueError\u001b[0m                                Traceback (most recent call last)",
      "\u001b[0;32m~/opt/anaconda3/envs/tensorflow/lib/python3.7/site-packages/tensorflow/python/autograph/impl/api.py\u001b[0m in \u001b[0;36mconverted_call\u001b[0;34m(f, args, kwargs, caller_fn_scope, options)\u001b[0m\n\u001b[1;32m    583\u001b[0m     \u001b[0marg_values\u001b[0m\u001b[0;34m:\u001b[0m \u001b[0mDeprecated\u001b[0m\u001b[0;34m.\u001b[0m\u001b[0;34m\u001b[0m\u001b[0;34m\u001b[0m\u001b[0m\n\u001b[0;32m--> 584\u001b[0;31m     \u001b[0marg_types\u001b[0m\u001b[0;34m:\u001b[0m \u001b[0mDeprecated\u001b[0m\u001b[0;34m.\u001b[0m\u001b[0;34m\u001b[0m\u001b[0;34m\u001b[0m\u001b[0m\n\u001b[0m\u001b[1;32m    585\u001b[0m     \u001b[0mexperimental_optional_features\u001b[0m\u001b[0;34m:\u001b[0m\u001b[0;31m \u001b[0m\u001b[0;31m`\u001b[0m\u001b[0;32mNone\u001b[0m\u001b[0;31m`\u001b[0m\u001b[0;34m,\u001b[0m \u001b[0ma\u001b[0m \u001b[0mtuple\u001b[0m \u001b[0mof\u001b[0m\u001b[0;34m,\u001b[0m \u001b[0;32mor\u001b[0m \u001b[0ma\u001b[0m \u001b[0msingle\u001b[0m\u001b[0;34m\u001b[0m\u001b[0;34m\u001b[0m\u001b[0m\n",
      "\u001b[0;32m~/opt/anaconda3/envs/tensorflow/lib/python3.7/site-packages/tensorflow/python/autograph/impl/conversion.py\u001b[0m in \u001b[0;36mconvert\u001b[0;34m(entity, program_ctx)\u001b[0m\n\u001b[1;32m    118\u001b[0m     \u001b[0;32mreturn\u001b[0m \u001b[0mself\u001b[0m\u001b[0;34m.\u001b[0m\u001b[0m_cache\u001b[0m\u001b[0;34m[\u001b[0m\u001b[0mkey\u001b[0m\u001b[0;34m]\u001b[0m\u001b[0;34m\u001b[0m\u001b[0;34m\u001b[0m\u001b[0m\n\u001b[0;32m--> 119\u001b[0;31m \u001b[0;34m\u001b[0m\u001b[0m\n\u001b[0m\u001b[1;32m    120\u001b[0m \u001b[0;34m\u001b[0m\u001b[0m\n",
      "\u001b[0;32m~/opt/anaconda3/envs/tensorflow/lib/python3.7/site-packages/tensorflow/python/autograph/pyct/transpiler.py\u001b[0m in \u001b[0;36mtransform_function\u001b[0;34m(self, fn, caching_subkey, user_context, extra_locals)\u001b[0m\n\u001b[1;32m    417\u001b[0m         \u001b[0mdefaults\u001b[0m\u001b[0;34m=\u001b[0m\u001b[0mfn\u001b[0m\u001b[0;34m.\u001b[0m\u001b[0m__defaults__\u001b[0m\u001b[0;34m,\u001b[0m\u001b[0;34m\u001b[0m\u001b[0;34m\u001b[0m\u001b[0m\n\u001b[0;32m--> 418\u001b[0;31m         kwdefaults=getattr(fn, '__kwdefaults__', None))\n\u001b[0m\u001b[1;32m    419\u001b[0m     \u001b[0;32mreturn\u001b[0m \u001b[0mtransformed_fn\u001b[0m\u001b[0;34m,\u001b[0m \u001b[0mfactory\u001b[0m\u001b[0;34m.\u001b[0m\u001b[0mmodule\u001b[0m\u001b[0;34m,\u001b[0m \u001b[0mfactory\u001b[0m\u001b[0;34m.\u001b[0m\u001b[0msource_map\u001b[0m\u001b[0;34m\u001b[0m\u001b[0;34m\u001b[0m\u001b[0m\n",
      "\u001b[0;32m~/opt/anaconda3/envs/tensorflow/lib/python3.7/site-packages/tensorflow/python/autograph/pyct/transpiler.py\u001b[0m in \u001b[0;36minstantiate\u001b[0;34m(self, globals_, closure, defaults, kwdefaults)\u001b[0m\n\u001b[1;32m    206\u001b[0m           'closure mismatch, requested {}, but source function had {}'.format(\n\u001b[0;32m--> 207\u001b[0;31m               self._freevars, factory_freevars))\n\u001b[0m\u001b[1;32m    208\u001b[0m \u001b[0;34m\u001b[0m\u001b[0m\n",
      "\u001b[0;31mValueError\u001b[0m: closure mismatch, requested ('self', 'step_function'), but source function had ()",
      "\nDuring handling of the above exception, another exception occurred:\n",
      "\u001b[0;31mValueError\u001b[0m                                Traceback (most recent call last)",
      "\u001b[0;32m<ipython-input-558-b1a0e52f7b16>\u001b[0m in \u001b[0;36m<module>\u001b[0;34m\u001b[0m\n\u001b[1;32m      1\u001b[0m \u001b[0mNN\u001b[0m\u001b[0;34m.\u001b[0m\u001b[0mcompile\u001b[0m\u001b[0;34m(\u001b[0m\u001b[0mloss\u001b[0m\u001b[0;34m=\u001b[0m\u001b[0;34m'binary_crossentropy'\u001b[0m\u001b[0;34m,\u001b[0m \u001b[0moptimizer\u001b[0m\u001b[0;34m=\u001b[0m\u001b[0;34m'adam'\u001b[0m\u001b[0;34m)\u001b[0m\u001b[0;34m\u001b[0m\u001b[0;34m\u001b[0m\u001b[0m\n\u001b[0;32m----> 2\u001b[0;31m \u001b[0mhistory\u001b[0m \u001b[0;34m=\u001b[0m \u001b[0mNN\u001b[0m\u001b[0;34m.\u001b[0m\u001b[0mfit\u001b[0m\u001b[0;34m(\u001b[0m\u001b[0msequence_docs\u001b[0m\u001b[0;34m,\u001b[0m \u001b[0mepochs\u001b[0m\u001b[0;34m=\u001b[0m\u001b[0;36m3\u001b[0m\u001b[0;34m,\u001b[0m \u001b[0mbatch_size\u001b[0m\u001b[0;34m=\u001b[0m\u001b[0;36m512\u001b[0m\u001b[0;34m,\u001b[0m \u001b[0mverbose\u001b[0m\u001b[0;34m=\u001b[0m\u001b[0;36m10\u001b[0m\u001b[0;34m)\u001b[0m\u001b[0;34m\u001b[0m\u001b[0;34m\u001b[0m\u001b[0m\n\u001b[0m",
      "\u001b[0;32m~/opt/anaconda3/envs/tensorflow/lib/python3.7/site-packages/tensorflow/python/keras/engine/training.py\u001b[0m in \u001b[0;36m_method_wrapper\u001b[0;34m(self, *args, **kwargs)\u001b[0m\n\u001b[1;32m    106\u001b[0m \u001b[0;34m\u001b[0m\u001b[0m\n\u001b[1;32m    107\u001b[0m   \u001b[0;31m`\u001b[0m\u001b[0;31m`\u001b[0m\u001b[0;31m`\u001b[0m\u001b[0mpython\u001b[0m\u001b[0;34m\u001b[0m\u001b[0;34m\u001b[0m\u001b[0m\n\u001b[0;32m--> 108\u001b[0;31m   \u001b[0;32mimport\u001b[0m \u001b[0mtensorflow\u001b[0m \u001b[0;32mas\u001b[0m \u001b[0mtf\u001b[0m\u001b[0;34m\u001b[0m\u001b[0;34m\u001b[0m\u001b[0m\n\u001b[0m\u001b[1;32m    109\u001b[0m \u001b[0;34m\u001b[0m\u001b[0m\n\u001b[1;32m    110\u001b[0m   \u001b[0;32mclass\u001b[0m \u001b[0mMyModel\u001b[0m\u001b[0;34m(\u001b[0m\u001b[0mtf\u001b[0m\u001b[0;34m.\u001b[0m\u001b[0mkeras\u001b[0m\u001b[0;34m.\u001b[0m\u001b[0mModel\u001b[0m\u001b[0;34m)\u001b[0m\u001b[0;34m:\u001b[0m\u001b[0;34m\u001b[0m\u001b[0;34m\u001b[0m\u001b[0m\n",
      "\u001b[0;32m~/opt/anaconda3/envs/tensorflow/lib/python3.7/site-packages/tensorflow/python/keras/engine/training.py\u001b[0m in \u001b[0;36mfit\u001b[0;34m(self, x, y, batch_size, epochs, verbose, callbacks, validation_split, validation_data, shuffle, class_weight, sample_weight, initial_epoch, steps_per_epoch, validation_steps, validation_batch_size, validation_freq, max_queue_size, workers, use_multiprocessing)\u001b[0m\n\u001b[1;32m   1096\u001b[0m                      \u001b[0mx\u001b[0m\u001b[0;34m,\u001b[0m\u001b[0;34m\u001b[0m\u001b[0;34m\u001b[0m\u001b[0m\n\u001b[1;32m   1097\u001b[0m                      \u001b[0my\u001b[0m\u001b[0;34m=\u001b[0m\u001b[0;32mNone\u001b[0m\u001b[0;34m,\u001b[0m\u001b[0;34m\u001b[0m\u001b[0;34m\u001b[0m\u001b[0m\n\u001b[0;32m-> 1098\u001b[0;31m                      \u001b[0msample_weight\u001b[0m\u001b[0;34m=\u001b[0m\u001b[0;32mNone\u001b[0m\u001b[0;34m,\u001b[0m\u001b[0;34m\u001b[0m\u001b[0;34m\u001b[0m\u001b[0m\n\u001b[0m\u001b[1;32m   1099\u001b[0m                      \u001b[0mclass_weight\u001b[0m\u001b[0;34m=\u001b[0m\u001b[0;32mNone\u001b[0m\u001b[0;34m,\u001b[0m\u001b[0;34m\u001b[0m\u001b[0;34m\u001b[0m\u001b[0m\n\u001b[1;32m   1100\u001b[0m                      reset_metrics=True):\n",
      "\u001b[0;32m~/opt/anaconda3/envs/tensorflow/lib/python3.7/site-packages/tensorflow/python/eager/def_function.py\u001b[0m in \u001b[0;36m__call__\u001b[0;34m(self, *args, **kwds)\u001b[0m\n\u001b[1;32m    778\u001b[0m       \u001b[0mtf\u001b[0m\u001b[0;34m.\u001b[0m\u001b[0mcompat\u001b[0m\u001b[0;34m.\u001b[0m\u001b[0mv1\u001b[0m\u001b[0;34m.\u001b[0m\u001b[0mpy_func\u001b[0m\u001b[0;34m(\u001b[0m\u001b[0;32mlambda\u001b[0m \u001b[0mi\u001b[0m\u001b[0;34m:\u001b[0m \u001b[0ml\u001b[0m\u001b[0;34m.\u001b[0m\u001b[0mappend\u001b[0m\u001b[0;34m(\u001b[0m\u001b[0mi\u001b[0m\u001b[0;34m)\u001b[0m\u001b[0;34m)\u001b[0m\u001b[0;34m(\u001b[0m\u001b[0mi\u001b[0m\u001b[0;34m)\u001b[0m  \u001b[0;31m# Works\u001b[0m\u001b[0;34m\u001b[0m\u001b[0;34m\u001b[0m\u001b[0m\n\u001b[1;32m    779\u001b[0m       \u001b[0ml\u001b[0m\u001b[0;34m.\u001b[0m\u001b[0mappend\u001b[0m\u001b[0;34m(\u001b[0m\u001b[0mi\u001b[0m\u001b[0;34m)\u001b[0m                           \u001b[0;31m# Caution! Doesn't work.\u001b[0m\u001b[0;34m\u001b[0m\u001b[0;34m\u001b[0m\u001b[0m\n\u001b[0;32m--> 780\u001b[0;31m   \u001b[0;31m`\u001b[0m\u001b[0;31m`\u001b[0m\u001b[0;31m`\u001b[0m\u001b[0;34m\u001b[0m\u001b[0;34m\u001b[0m\u001b[0m\n\u001b[0m\u001b[1;32m    781\u001b[0m \u001b[0;34m\u001b[0m\u001b[0m\n\u001b[1;32m    782\u001b[0m   \u001b[0mNote\u001b[0m \u001b[0mthat\u001b[0m \u001b[0munlike\u001b[0m \u001b[0mother\u001b[0m \u001b[0mTensorFlow\u001b[0m \u001b[0moperations\u001b[0m\u001b[0;34m,\u001b[0m \u001b[0mwe\u001b[0m \u001b[0mdon\u001b[0m\u001b[0;31m'\u001b[0m\u001b[0mt\u001b[0m \u001b[0mconvert\u001b[0m \u001b[0mpython\u001b[0m\u001b[0;34m\u001b[0m\u001b[0;34m\u001b[0m\u001b[0m\n",
      "\u001b[0;32m~/opt/anaconda3/envs/tensorflow/lib/python3.7/site-packages/tensorflow/python/eager/def_function.py\u001b[0m in \u001b[0;36m_call\u001b[0;34m(self, *args, **kwds)\u001b[0m\n\u001b[1;32m    821\u001b[0m     \u001b[0;34m@\u001b[0m\u001b[0mtf\u001b[0m\u001b[0;34m.\u001b[0m\u001b[0mfunction\u001b[0m\u001b[0;34m\u001b[0m\u001b[0;34m\u001b[0m\u001b[0m\n\u001b[1;32m    822\u001b[0m     \u001b[0;32mdef\u001b[0m \u001b[0mcompute\u001b[0m\u001b[0;34m(\u001b[0m\u001b[0mself\u001b[0m\u001b[0;34m,\u001b[0m \u001b[0mx\u001b[0m\u001b[0;34m)\u001b[0m\u001b[0;34m:\u001b[0m\u001b[0;34m\u001b[0m\u001b[0;34m\u001b[0m\u001b[0m\n\u001b[0;32m--> 823\u001b[0;31m       \u001b[0;32mreturn\u001b[0m \u001b[0mtf\u001b[0m\u001b[0;34m.\u001b[0m\u001b[0mmatmul\u001b[0m\u001b[0;34m(\u001b[0m\u001b[0mx\u001b[0m\u001b[0;34m,\u001b[0m \u001b[0mself\u001b[0m\u001b[0;34m.\u001b[0m\u001b[0mW\u001b[0m\u001b[0;34m)\u001b[0m \u001b[0;34m+\u001b[0m \u001b[0mself\u001b[0m\u001b[0;34m.\u001b[0m\u001b[0mb\u001b[0m\u001b[0;34m\u001b[0m\u001b[0;34m\u001b[0m\u001b[0m\n\u001b[0m\u001b[1;32m    824\u001b[0m \u001b[0;34m\u001b[0m\u001b[0m\n\u001b[1;32m    825\u001b[0m   \u001b[0md1\u001b[0m \u001b[0;34m=\u001b[0m \u001b[0mDense\u001b[0m\u001b[0;34m(\u001b[0m\u001b[0;34m)\u001b[0m\u001b[0;34m\u001b[0m\u001b[0;34m\u001b[0m\u001b[0m\n",
      "\u001b[0;32m~/opt/anaconda3/envs/tensorflow/lib/python3.7/site-packages/tensorflow/python/eager/def_function.py\u001b[0m in \u001b[0;36m_initialize\u001b[0;34m(self, args, kwds, add_initializers_to)\u001b[0m\n\u001b[1;32m    695\u001b[0m   \u001b[0;32mdef\u001b[0m \u001b[0m__get__\u001b[0m\u001b[0;34m(\u001b[0m\u001b[0mself\u001b[0m\u001b[0;34m,\u001b[0m \u001b[0minstance\u001b[0m\u001b[0;34m,\u001b[0m \u001b[0mowner\u001b[0m\u001b[0;34m)\u001b[0m\u001b[0;34m:\u001b[0m\u001b[0;34m\u001b[0m\u001b[0;34m\u001b[0m\u001b[0m\n\u001b[1;32m    696\u001b[0m     \u001b[0;34m\"\"\"Makes it possible to defun instance methods.\"\"\"\u001b[0m\u001b[0;34m\u001b[0m\u001b[0;34m\u001b[0m\u001b[0m\n\u001b[0;32m--> 697\u001b[0;31m     \u001b[0;32mdel\u001b[0m \u001b[0mowner\u001b[0m\u001b[0;34m\u001b[0m\u001b[0;34m\u001b[0m\u001b[0m\n\u001b[0m\u001b[1;32m    698\u001b[0m     \u001b[0;31m# `instance` here is the instance that this `Function` was accessed through\u001b[0m\u001b[0;34m\u001b[0m\u001b[0;34m\u001b[0m\u001b[0;34m\u001b[0m\u001b[0m\n\u001b[1;32m    699\u001b[0m     \u001b[0;31m# e.g., for\u001b[0m\u001b[0;34m\u001b[0m\u001b[0;34m\u001b[0m\u001b[0;34m\u001b[0m\u001b[0m\n",
      "\u001b[0;32m~/opt/anaconda3/envs/tensorflow/lib/python3.7/site-packages/tensorflow/python/eager/function.py\u001b[0m in \u001b[0;36m_get_concrete_function_internal_garbage_collected\u001b[0;34m(self, *args, **kwargs)\u001b[0m\n",
      "\u001b[0;32m~/opt/anaconda3/envs/tensorflow/lib/python3.7/site-packages/tensorflow/python/eager/function.py\u001b[0m in \u001b[0;36m_maybe_define_function\u001b[0;34m(self, args, kwargs)\u001b[0m\n",
      "\u001b[0;32m~/opt/anaconda3/envs/tensorflow/lib/python3.7/site-packages/tensorflow/python/eager/function.py\u001b[0m in \u001b[0;36m_create_graph_function\u001b[0;34m(self, args, kwargs, override_flat_arg_shapes)\u001b[0m\n",
      "\u001b[0;32m~/opt/anaconda3/envs/tensorflow/lib/python3.7/site-packages/tensorflow/python/framework/func_graph.py\u001b[0m in \u001b[0;36mfunc_graph_from_py_func\u001b[0;34m(name, python_func, args, kwargs, signature, func_graph, autograph, autograph_options, add_control_dependencies, arg_names, op_return_value, collections, capture_by_value, override_flat_arg_shapes)\u001b[0m\n\u001b[1;32m    984\u001b[0m   \u001b[0mthe\u001b[0m \u001b[0mFuncGraph\u001b[0m \u001b[0mgoes\u001b[0m \u001b[0mout\u001b[0m \u001b[0mof\u001b[0m \u001b[0mscope\u001b[0m\u001b[0;34m,\u001b[0m \u001b[0me\u001b[0m\u001b[0;34m.\u001b[0m\u001b[0mg\u001b[0m\u001b[0;34m.\u001b[0m \u001b[0;32min\u001b[0m \u001b[0mtests\u001b[0m \u001b[0musing\u001b[0m \u001b[0mdefun\u001b[0m \u001b[0;32mwith\u001b[0m\u001b[0;34m\u001b[0m\u001b[0;34m\u001b[0m\u001b[0m\n\u001b[1;32m    985\u001b[0m   \u001b[0;34m@\u001b[0m\u001b[0mtest_util\u001b[0m\u001b[0;34m.\u001b[0m\u001b[0mrun_in_graph_and_eager_modes\u001b[0m\u001b[0;34m(\u001b[0m\u001b[0massert_no_eager_garbage\u001b[0m\u001b[0;34m=\u001b[0m\u001b[0;32mTrue\u001b[0m\u001b[0;34m)\u001b[0m\u001b[0;34m.\u001b[0m\u001b[0;34m\u001b[0m\u001b[0;34m\u001b[0m\u001b[0m\n\u001b[0;32m--> 986\u001b[0;31m \u001b[0;34m\u001b[0m\u001b[0m\n\u001b[0m\u001b[1;32m    987\u001b[0m   \u001b[0mArgs\u001b[0m\u001b[0;34m:\u001b[0m\u001b[0;34m\u001b[0m\u001b[0;34m\u001b[0m\u001b[0m\n\u001b[1;32m    988\u001b[0m     \u001b[0mfunc_graph\u001b[0m\u001b[0;34m:\u001b[0m \u001b[0mA\u001b[0m\u001b[0;31m \u001b[0m\u001b[0;31m`\u001b[0m\u001b[0mFuncGraph\u001b[0m\u001b[0;31m`\u001b[0m \u001b[0mobject\u001b[0m \u001b[0mto\u001b[0m \u001b[0mdestroy\u001b[0m\u001b[0;34m.\u001b[0m\u001b[0;31m \u001b[0m\u001b[0;31m`\u001b[0m\u001b[0mfunc_graph\u001b[0m\u001b[0;31m`\u001b[0m \u001b[0;32mis\u001b[0m \u001b[0munusable\u001b[0m\u001b[0;34m\u001b[0m\u001b[0;34m\u001b[0m\u001b[0m\n",
      "\u001b[0;32m~/opt/anaconda3/envs/tensorflow/lib/python3.7/site-packages/tensorflow/python/eager/def_function.py\u001b[0m in \u001b[0;36mwrapped_fn\u001b[0;34m(*args, **kwds)\u001b[0m\n\u001b[1;32m    598\u001b[0m         \u001b[0mseen_signatures\u001b[0m\u001b[0;34m.\u001b[0m\u001b[0mappend\u001b[0m\u001b[0;34m(\u001b[0m\u001b[0msignature\u001b[0m\u001b[0;34m)\u001b[0m\u001b[0;34m\u001b[0m\u001b[0;34m\u001b[0m\u001b[0m\n\u001b[1;32m    599\u001b[0m     \u001b[0;32mreturn\u001b[0m \u001b[0mdeduplicated_concrete_functions\u001b[0m\u001b[0;34m\u001b[0m\u001b[0;34m\u001b[0m\u001b[0m\n\u001b[0;32m--> 600\u001b[0;31m \u001b[0;34m\u001b[0m\u001b[0m\n\u001b[0m\u001b[1;32m    601\u001b[0m   \u001b[0;32mdef\u001b[0m \u001b[0mget_concrete_function\u001b[0m\u001b[0;34m(\u001b[0m\u001b[0mself\u001b[0m\u001b[0;34m,\u001b[0m \u001b[0;34m*\u001b[0m\u001b[0margs\u001b[0m\u001b[0;34m,\u001b[0m \u001b[0;34m**\u001b[0m\u001b[0mkwargs\u001b[0m\u001b[0;34m)\u001b[0m\u001b[0;34m:\u001b[0m\u001b[0;34m\u001b[0m\u001b[0;34m\u001b[0m\u001b[0m\n\u001b[1;32m    602\u001b[0m     \"\"\"Returns a `ConcreteFunction` specialized to inputs and execution context.\n",
      "\u001b[0;32m~/opt/anaconda3/envs/tensorflow/lib/python3.7/site-packages/tensorflow/python/framework/func_graph.py\u001b[0m in \u001b[0;36mwrapper\u001b[0;34m(*args, **kwargs)\u001b[0m\n\u001b[1;32m    967\u001b[0m \u001b[0;34m\u001b[0m\u001b[0m\n\u001b[1;32m    968\u001b[0m \u001b[0;34m\u001b[0m\u001b[0m\n\u001b[0;32m--> 969\u001b[0;31m \u001b[0;32mdef\u001b[0m \u001b[0m_get_defun_inputs_from_kwargs\u001b[0m\u001b[0;34m(\u001b[0m\u001b[0mkwargs\u001b[0m\u001b[0;34m,\u001b[0m \u001b[0mflat_shapes\u001b[0m\u001b[0;34m)\u001b[0m\u001b[0;34m:\u001b[0m\u001b[0;34m\u001b[0m\u001b[0;34m\u001b[0m\u001b[0m\n\u001b[0m\u001b[1;32m    970\u001b[0m   \u001b[0;34m\"\"\"Maps Python function keyword args to graph-construction inputs.\"\"\"\u001b[0m\u001b[0;34m\u001b[0m\u001b[0;34m\u001b[0m\u001b[0m\n\u001b[1;32m    971\u001b[0m   \u001b[0;32mif\u001b[0m \u001b[0mkwargs\u001b[0m\u001b[0;34m:\u001b[0m\u001b[0;34m\u001b[0m\u001b[0;34m\u001b[0m\u001b[0m\n",
      "\u001b[0;32m~/opt/anaconda3/envs/tensorflow/lib/python3.7/site-packages/tensorflow/python/autograph/impl/api.py\u001b[0m in \u001b[0;36mconverted_call\u001b[0;34m(f, args, kwargs, caller_fn_scope, options)\u001b[0m\n\u001b[1;32m    589\u001b[0m   \u001b[0mReturns\u001b[0m\u001b[0;34m:\u001b[0m\u001b[0;34m\u001b[0m\u001b[0;34m\u001b[0m\u001b[0m\n\u001b[1;32m    590\u001b[0m     \u001b[0mSame\u001b[0m \u001b[0;32mas\u001b[0m\u001b[0;31m \u001b[0m\u001b[0;31m`\u001b[0m\u001b[0mentity\u001b[0m\u001b[0;31m`\u001b[0m\u001b[0;34m,\u001b[0m \u001b[0mthe\u001b[0m \u001b[0mconverted\u001b[0m \u001b[0mPython\u001b[0m \u001b[0mfunction\u001b[0m \u001b[0;32mor\u001b[0m \u001b[0;32mclass\u001b[0m\u001b[0;34m.\u001b[0m\u001b[0;34m\u001b[0m\u001b[0;34m\u001b[0m\u001b[0m\n\u001b[0;32m--> 591\u001b[0;31m \u001b[0;34m\u001b[0m\u001b[0m\n\u001b[0m\u001b[1;32m    592\u001b[0m   \u001b[0mRaises\u001b[0m\u001b[0;34m:\u001b[0m\u001b[0;34m\u001b[0m\u001b[0;34m\u001b[0m\u001b[0m\n\u001b[1;32m    593\u001b[0m     \u001b[0mValueError\u001b[0m\u001b[0;34m:\u001b[0m \u001b[0mIf\u001b[0m \u001b[0mthe\u001b[0m \u001b[0mentity\u001b[0m \u001b[0mcould\u001b[0m \u001b[0;32mnot\u001b[0m \u001b[0mbe\u001b[0m \u001b[0mconverted\u001b[0m\u001b[0;34m.\u001b[0m\u001b[0;34m\u001b[0m\u001b[0;34m\u001b[0m\u001b[0m\n",
      "\u001b[0;32m~/opt/anaconda3/envs/tensorflow/lib/python3.7/site-packages/tensorflow/python/autograph/impl/api.py\u001b[0m in \u001b[0;36m_fall_back_unconverted\u001b[0;34m(f, args, kwargs, options, exc)\u001b[0m\n\u001b[1;32m    396\u001b[0m       \u001b[0mtarget_entity\u001b[0m \u001b[0;34m=\u001b[0m \u001b[0mf\u001b[0m\u001b[0;34m\u001b[0m\u001b[0;34m\u001b[0m\u001b[0m\n\u001b[1;32m    397\u001b[0m       \u001b[0meffective_args\u001b[0m \u001b[0;34m=\u001b[0m \u001b[0margs\u001b[0m\u001b[0;34m\u001b[0m\u001b[0;34m\u001b[0m\u001b[0m\n\u001b[0;32m--> 398\u001b[0;31m \u001b[0;34m\u001b[0m\u001b[0m\n\u001b[0m\u001b[1;32m    399\u001b[0m     \u001b[0;32melif\u001b[0m \u001b[0mhasattr\u001b[0m\u001b[0;34m(\u001b[0m\u001b[0mf\u001b[0m\u001b[0;34m,\u001b[0m \u001b[0;34m'__call__'\u001b[0m\u001b[0;34m)\u001b[0m \u001b[0;32mand\u001b[0m \u001b[0mhasattr\u001b[0m\u001b[0;34m(\u001b[0m\u001b[0mf\u001b[0m\u001b[0;34m,\u001b[0m \u001b[0;34m'__class__'\u001b[0m\u001b[0;34m)\u001b[0m\u001b[0;34m:\u001b[0m\u001b[0;34m\u001b[0m\u001b[0;34m\u001b[0m\u001b[0m\n\u001b[1;32m    400\u001b[0m       \u001b[0;31m# Callable objects\u001b[0m\u001b[0;34m\u001b[0m\u001b[0;34m\u001b[0m\u001b[0;34m\u001b[0m\u001b[0m\n",
      "\u001b[0;32m~/opt/anaconda3/envs/tensorflow/lib/python3.7/site-packages/tensorflow/python/autograph/impl/api.py\u001b[0m in \u001b[0;36m_call_unconverted\u001b[0;34m(f, args, kwargs, options, update_cache)\u001b[0m\n\u001b[1;32m    337\u001b[0m   \u001b[0;32mif\u001b[0m \u001b[0mtf_inspect\u001b[0m\u001b[0;34m.\u001b[0m\u001b[0misclass\u001b[0m\u001b[0;34m(\u001b[0m\u001b[0mf\u001b[0m\u001b[0;34m)\u001b[0m\u001b[0;34m:\u001b[0m\u001b[0;34m\u001b[0m\u001b[0;34m\u001b[0m\u001b[0m\n\u001b[1;32m    338\u001b[0m     \u001b[0mlogging\u001b[0m\u001b[0;34m.\u001b[0m\u001b[0mlog\u001b[0m\u001b[0;34m(\u001b[0m\u001b[0;36m2\u001b[0m\u001b[0;34m,\u001b[0m \u001b[0;34m'Permanently whitelisted: %s: constructor'\u001b[0m\u001b[0;34m,\u001b[0m \u001b[0mf\u001b[0m\u001b[0;34m)\u001b[0m\u001b[0;34m\u001b[0m\u001b[0;34m\u001b[0m\u001b[0m\n\u001b[0;32m--> 339\u001b[0;31m     \u001b[0;32mreturn\u001b[0m \u001b[0m_call_unconverted\u001b[0m\u001b[0;34m(\u001b[0m\u001b[0mf\u001b[0m\u001b[0;34m,\u001b[0m \u001b[0margs\u001b[0m\u001b[0;34m,\u001b[0m \u001b[0mkwargs\u001b[0m\u001b[0;34m)\u001b[0m\u001b[0;34m\u001b[0m\u001b[0;34m\u001b[0m\u001b[0m\n\u001b[0m\u001b[1;32m    340\u001b[0m \u001b[0;34m\u001b[0m\u001b[0m\n\u001b[1;32m    341\u001b[0m   \u001b[0;31m# Other built-in modules are permanently whitelisted.\u001b[0m\u001b[0;34m\u001b[0m\u001b[0;34m\u001b[0m\u001b[0;34m\u001b[0m\u001b[0m\n",
      "\u001b[0;32m~/opt/anaconda3/envs/tensorflow/lib/python3.7/site-packages/tensorflow/python/keras/engine/training.py\u001b[0m in \u001b[0;36mtrain_function\u001b[0;34m(iterator)\u001b[0m\n\u001b[1;32m    804\u001b[0m             \u001b[0;32mif\u001b[0m \u001b[0mthe\u001b[0m \u001b[0mmodel\u001b[0m \u001b[0mhas\u001b[0m \u001b[0mnamed\u001b[0m \u001b[0minputs\u001b[0m\u001b[0;34m.\u001b[0m\u001b[0;34m\u001b[0m\u001b[0;34m\u001b[0m\u001b[0m\n\u001b[1;32m    805\u001b[0m           \u001b[0;34m-\u001b[0m \u001b[0mA\u001b[0m\u001b[0;31m \u001b[0m\u001b[0;31m`\u001b[0m\u001b[0mtf\u001b[0m\u001b[0;34m.\u001b[0m\u001b[0mdata\u001b[0m\u001b[0;31m`\u001b[0m \u001b[0mdataset\u001b[0m \u001b[0;32mor\u001b[0m \u001b[0ma\u001b[0m \u001b[0mdataset\u001b[0m \u001b[0miterator\u001b[0m\u001b[0;34m.\u001b[0m\u001b[0;34m\u001b[0m\u001b[0;34m\u001b[0m\u001b[0m\n\u001b[0;32m--> 806\u001b[0;31m           \u001b[0;34m-\u001b[0m \u001b[0mA\u001b[0m \u001b[0mgenerator\u001b[0m \u001b[0;32mor\u001b[0m\u001b[0;31m \u001b[0m\u001b[0;31m`\u001b[0m\u001b[0mkeras\u001b[0m\u001b[0;34m.\u001b[0m\u001b[0mutils\u001b[0m\u001b[0;34m.\u001b[0m\u001b[0mSequence\u001b[0m\u001b[0;31m`\u001b[0m \u001b[0minstance\u001b[0m\u001b[0;34m.\u001b[0m\u001b[0;34m\u001b[0m\u001b[0;34m\u001b[0m\u001b[0m\n\u001b[0m\u001b[1;32m    807\u001b[0m         \u001b[0my\u001b[0m\u001b[0;34m:\u001b[0m \u001b[0mTarget\u001b[0m \u001b[0mdata\u001b[0m\u001b[0;34m.\u001b[0m \u001b[0mLike\u001b[0m \u001b[0mthe\u001b[0m \u001b[0minput\u001b[0m \u001b[0mdata\u001b[0m\u001b[0;31m \u001b[0m\u001b[0;31m`\u001b[0m\u001b[0mx\u001b[0m\u001b[0;31m`\u001b[0m\u001b[0;34m,\u001b[0m\u001b[0;34m\u001b[0m\u001b[0;34m\u001b[0m\u001b[0m\n\u001b[1;32m    808\u001b[0m           \u001b[0mit\u001b[0m \u001b[0mcould\u001b[0m \u001b[0mbe\u001b[0m \u001b[0meither\u001b[0m \u001b[0mNumpy\u001b[0m \u001b[0marray\u001b[0m\u001b[0;34m(\u001b[0m\u001b[0ms\u001b[0m\u001b[0;34m)\u001b[0m \u001b[0;32mor\u001b[0m \u001b[0mTensorFlow\u001b[0m \u001b[0mtensor\u001b[0m\u001b[0;34m(\u001b[0m\u001b[0ms\u001b[0m\u001b[0;34m)\u001b[0m\u001b[0;34m.\u001b[0m\u001b[0;34m\u001b[0m\u001b[0;34m\u001b[0m\u001b[0m\n",
      "\u001b[0;32m~/opt/anaconda3/envs/tensorflow/lib/python3.7/site-packages/tensorflow/python/keras/engine/training.py\u001b[0m in \u001b[0;36mstep_function\u001b[0;34m(model, iterator)\u001b[0m\n\u001b[1;32m    794\u001b[0m \u001b[0;34m\u001b[0m\u001b[0m\n\u001b[1;32m    795\u001b[0m     \u001b[0mComputation\u001b[0m \u001b[0;32mis\u001b[0m \u001b[0mdone\u001b[0m \u001b[0;32min\u001b[0m \u001b[0mbatches\u001b[0m\u001b[0;34m.\u001b[0m\u001b[0;34m\u001b[0m\u001b[0;34m\u001b[0m\u001b[0m\n\u001b[0;32m--> 796\u001b[0;31m \u001b[0;34m\u001b[0m\u001b[0m\n\u001b[0m\u001b[1;32m    797\u001b[0m     \u001b[0mArguments\u001b[0m\u001b[0;34m:\u001b[0m\u001b[0;34m\u001b[0m\u001b[0;34m\u001b[0m\u001b[0m\n\u001b[1;32m    798\u001b[0m         \u001b[0mx\u001b[0m\u001b[0;34m:\u001b[0m \u001b[0mInput\u001b[0m \u001b[0mdata\u001b[0m\u001b[0;34m.\u001b[0m \u001b[0mIt\u001b[0m \u001b[0mcould\u001b[0m \u001b[0mbe\u001b[0m\u001b[0;34m:\u001b[0m\u001b[0;34m\u001b[0m\u001b[0;34m\u001b[0m\u001b[0m\n",
      "\u001b[0;32m~/opt/anaconda3/envs/tensorflow/lib/python3.7/site-packages/tensorflow/python/distribute/distribute_lib.py\u001b[0m in \u001b[0;36mrun\u001b[0;34m(***failed resolving arguments***)\u001b[0m\n\u001b[1;32m   1209\u001b[0m                         device_util.current() or \"/device:CPU:0\"))[0]\n\u001b[1;32m   1210\u001b[0m \u001b[0;34m\u001b[0m\u001b[0m\n\u001b[0;32m-> 1211\u001b[0;31m   \u001b[0;32mdef\u001b[0m \u001b[0mreduce_to\u001b[0m\u001b[0;34m(\u001b[0m\u001b[0mself\u001b[0m\u001b[0;34m,\u001b[0m \u001b[0mreduce_op\u001b[0m\u001b[0;34m,\u001b[0m \u001b[0mvalue\u001b[0m\u001b[0;34m,\u001b[0m \u001b[0mdestinations\u001b[0m\u001b[0;34m)\u001b[0m\u001b[0;34m:\u001b[0m\u001b[0;34m\u001b[0m\u001b[0;34m\u001b[0m\u001b[0m\n\u001b[0m\u001b[1;32m   1212\u001b[0m     \"\"\"Combine (via e.g. sum or mean) values across replicas.\n\u001b[1;32m   1213\u001b[0m \u001b[0;34m\u001b[0m\u001b[0m\n",
      "\u001b[0;32m~/opt/anaconda3/envs/tensorflow/lib/python3.7/site-packages/tensorflow/python/distribute/distribute_lib.py\u001b[0m in \u001b[0;36mcall_for_each_replica\u001b[0;34m(self, fn, args, kwargs)\u001b[0m\n",
      "\u001b[0;32m~/opt/anaconda3/envs/tensorflow/lib/python3.7/site-packages/tensorflow/python/distribute/distribute_lib.py\u001b[0m in \u001b[0;36m_call_for_each_replica\u001b[0;34m(self, fn, args, kwargs)\u001b[0m\n",
      "\u001b[0;32m~/opt/anaconda3/envs/tensorflow/lib/python3.7/site-packages/tensorflow/python/autograph/impl/api.py\u001b[0m in \u001b[0;36mwrapper\u001b[0;34m(*args, **kwargs)\u001b[0m\n\u001b[1;32m    253\u001b[0m       \u001b[0;32mreturn\u001b[0m \u001b[0mf\u001b[0m\u001b[0;34m(\u001b[0m\u001b[0;34m*\u001b[0m\u001b[0margs\u001b[0m\u001b[0;34m,\u001b[0m \u001b[0;34m**\u001b[0m\u001b[0mkwargs\u001b[0m\u001b[0;34m)\u001b[0m\u001b[0;34m\u001b[0m\u001b[0;34m\u001b[0m\u001b[0m\n\u001b[1;32m    254\u001b[0m     \u001b[0;32melse\u001b[0m\u001b[0;34m:\u001b[0m\u001b[0;34m\u001b[0m\u001b[0;34m\u001b[0m\u001b[0m\n\u001b[0;32m--> 255\u001b[0;31m       \u001b[0;32mreturn\u001b[0m \u001b[0mf\u001b[0m\u001b[0;34m(\u001b[0m\u001b[0;34m*\u001b[0m\u001b[0margs\u001b[0m\u001b[0;34m)\u001b[0m\u001b[0;34m\u001b[0m\u001b[0;34m\u001b[0m\u001b[0m\n\u001b[0m\u001b[1;32m    256\u001b[0m   \u001b[0;32mexcept\u001b[0m \u001b[0mException\u001b[0m \u001b[0;32mas\u001b[0m \u001b[0me\u001b[0m\u001b[0;34m:\u001b[0m  \u001b[0;31m# pylint:disable=broad-except\u001b[0m\u001b[0;34m\u001b[0m\u001b[0;34m\u001b[0m\u001b[0m\n\u001b[1;32m    257\u001b[0m     \u001b[0m_attach_metadata\u001b[0m\u001b[0;34m(\u001b[0m\u001b[0me\u001b[0m\u001b[0;34m,\u001b[0m \u001b[0mf\u001b[0m\u001b[0;34m,\u001b[0m \u001b[0;32mFalse\u001b[0m\u001b[0;34m)\u001b[0m\u001b[0;34m\u001b[0m\u001b[0;34m\u001b[0m\u001b[0m\n",
      "\u001b[0;32m~/opt/anaconda3/envs/tensorflow/lib/python3.7/site-packages/tensorflow/python/autograph/impl/api.py\u001b[0m in \u001b[0;36mconverted_call\u001b[0;34m(f, args, kwargs, caller_fn_scope, options)\u001b[0m\n\u001b[1;32m    530\u001b[0m \u001b[0;34m\u001b[0m\u001b[0m\n\u001b[1;32m    531\u001b[0m \u001b[0;34m@\u001b[0m\u001b[0mtf_export\u001b[0m\u001b[0;34m(\u001b[0m\u001b[0mv1\u001b[0m\u001b[0;34m=\u001b[0m\u001b[0;34m[\u001b[0m\u001b[0;34m'autograph.to_graph'\u001b[0m\u001b[0;34m]\u001b[0m\u001b[0;34m)\u001b[0m\u001b[0;34m\u001b[0m\u001b[0;34m\u001b[0m\u001b[0m\n\u001b[0;32m--> 532\u001b[0;31m def to_graph_v1(entity,\n\u001b[0m\u001b[1;32m    533\u001b[0m                 \u001b[0mrecursive\u001b[0m\u001b[0;34m=\u001b[0m\u001b[0;32mTrue\u001b[0m\u001b[0;34m,\u001b[0m\u001b[0;34m\u001b[0m\u001b[0;34m\u001b[0m\u001b[0m\n\u001b[1;32m    534\u001b[0m                 \u001b[0marg_values\u001b[0m\u001b[0;34m=\u001b[0m\u001b[0;32mNone\u001b[0m\u001b[0;34m,\u001b[0m\u001b[0;34m\u001b[0m\u001b[0;34m\u001b[0m\u001b[0m\n",
      "\u001b[0;32m~/opt/anaconda3/envs/tensorflow/lib/python3.7/site-packages/tensorflow/python/autograph/impl/api.py\u001b[0m in \u001b[0;36m_call_unconverted\u001b[0;34m(f, args, kwargs, options, update_cache)\u001b[0m\n\u001b[1;32m    337\u001b[0m   \u001b[0;32mif\u001b[0m \u001b[0mtf_inspect\u001b[0m\u001b[0;34m.\u001b[0m\u001b[0misclass\u001b[0m\u001b[0;34m(\u001b[0m\u001b[0mf\u001b[0m\u001b[0;34m)\u001b[0m\u001b[0;34m:\u001b[0m\u001b[0;34m\u001b[0m\u001b[0;34m\u001b[0m\u001b[0m\n\u001b[1;32m    338\u001b[0m     \u001b[0mlogging\u001b[0m\u001b[0;34m.\u001b[0m\u001b[0mlog\u001b[0m\u001b[0;34m(\u001b[0m\u001b[0;36m2\u001b[0m\u001b[0;34m,\u001b[0m \u001b[0;34m'Permanently whitelisted: %s: constructor'\u001b[0m\u001b[0;34m,\u001b[0m \u001b[0mf\u001b[0m\u001b[0;34m)\u001b[0m\u001b[0;34m\u001b[0m\u001b[0;34m\u001b[0m\u001b[0m\n\u001b[0;32m--> 339\u001b[0;31m     \u001b[0;32mreturn\u001b[0m \u001b[0m_call_unconverted\u001b[0m\u001b[0;34m(\u001b[0m\u001b[0mf\u001b[0m\u001b[0;34m,\u001b[0m \u001b[0margs\u001b[0m\u001b[0;34m,\u001b[0m \u001b[0mkwargs\u001b[0m\u001b[0;34m)\u001b[0m\u001b[0;34m\u001b[0m\u001b[0;34m\u001b[0m\u001b[0m\n\u001b[0m\u001b[1;32m    340\u001b[0m \u001b[0;34m\u001b[0m\u001b[0m\n\u001b[1;32m    341\u001b[0m   \u001b[0;31m# Other built-in modules are permanently whitelisted.\u001b[0m\u001b[0;34m\u001b[0m\u001b[0;34m\u001b[0m\u001b[0;34m\u001b[0m\u001b[0m\n",
      "\u001b[0;32m~/opt/anaconda3/envs/tensorflow/lib/python3.7/site-packages/tensorflow/python/keras/engine/training.py\u001b[0m in \u001b[0;36mrun_step\u001b[0;34m(data)\u001b[0m\n\u001b[1;32m    787\u001b[0m                \u001b[0msample_weight\u001b[0m\u001b[0;34m=\u001b[0m\u001b[0;32mNone\u001b[0m\u001b[0;34m,\u001b[0m\u001b[0;34m\u001b[0m\u001b[0;34m\u001b[0m\u001b[0m\n\u001b[1;32m    788\u001b[0m                \u001b[0msteps\u001b[0m\u001b[0;34m=\u001b[0m\u001b[0;32mNone\u001b[0m\u001b[0;34m,\u001b[0m\u001b[0;34m\u001b[0m\u001b[0;34m\u001b[0m\u001b[0m\n\u001b[0;32m--> 789\u001b[0;31m                \u001b[0mcallbacks\u001b[0m\u001b[0;34m=\u001b[0m\u001b[0;32mNone\u001b[0m\u001b[0;34m,\u001b[0m\u001b[0;34m\u001b[0m\u001b[0;34m\u001b[0m\u001b[0m\n\u001b[0m\u001b[1;32m    790\u001b[0m                \u001b[0mmax_queue_size\u001b[0m\u001b[0;34m=\u001b[0m\u001b[0;36m10\u001b[0m\u001b[0;34m,\u001b[0m\u001b[0;34m\u001b[0m\u001b[0;34m\u001b[0m\u001b[0m\n\u001b[1;32m    791\u001b[0m                \u001b[0mworkers\u001b[0m\u001b[0;34m=\u001b[0m\u001b[0;36m1\u001b[0m\u001b[0;34m,\u001b[0m\u001b[0;34m\u001b[0m\u001b[0;34m\u001b[0m\u001b[0m\n",
      "\u001b[0;32m~/opt/anaconda3/envs/tensorflow/lib/python3.7/site-packages/tensorflow/python/keras/engine/training.py\u001b[0m in \u001b[0;36mtrain_step\u001b[0;34m(self, data)\u001b[0m\n\u001b[1;32m    755\u001b[0m           \u001b[0mvalidation_data\u001b[0m\u001b[0;34m=\u001b[0m\u001b[0mvalidation_data\u001b[0m\u001b[0;34m,\u001b[0m\u001b[0;34m\u001b[0m\u001b[0;34m\u001b[0m\u001b[0m\n\u001b[1;32m    756\u001b[0m           \u001b[0mvalidation_steps\u001b[0m\u001b[0;34m=\u001b[0m\u001b[0mvalidation_steps\u001b[0m\u001b[0;34m,\u001b[0m\u001b[0;34m\u001b[0m\u001b[0;34m\u001b[0m\u001b[0m\n\u001b[0;32m--> 757\u001b[0;31m           \u001b[0mvalidation_freq\u001b[0m\u001b[0;34m=\u001b[0m\u001b[0mvalidation_freq\u001b[0m\u001b[0;34m,\u001b[0m\u001b[0;34m\u001b[0m\u001b[0;34m\u001b[0m\u001b[0m\n\u001b[0m\u001b[1;32m    758\u001b[0m           \u001b[0mworkers\u001b[0m\u001b[0;34m=\u001b[0m\u001b[0;36m0\u001b[0m\u001b[0;34m,\u001b[0m\u001b[0;34m\u001b[0m\u001b[0;34m\u001b[0m\u001b[0m\n\u001b[1;32m    759\u001b[0m           \u001b[0mshuffle\u001b[0m\u001b[0;34m=\u001b[0m\u001b[0mshuffle\u001b[0m\u001b[0;34m,\u001b[0m\u001b[0;34m\u001b[0m\u001b[0;34m\u001b[0m\u001b[0m\n",
      "\u001b[0;32m~/opt/anaconda3/envs/tensorflow/lib/python3.7/site-packages/tensorflow/python/keras/engine/training.py\u001b[0m in \u001b[0;36m_minimize\u001b[0;34m(strategy, tape, optimizer, loss, trainable_variables)\u001b[0m\n\u001b[1;32m   2735\u001b[0m       raise ValueError(\n\u001b[1;32m   2736\u001b[0m           \u001b[0;34m'When passing a `validation_data` argument, '\u001b[0m\u001b[0;34m\u001b[0m\u001b[0;34m\u001b[0m\u001b[0m\n\u001b[0;32m-> 2737\u001b[0;31m           \u001b[0;34m'it must contain either 2 items (x_val, y_val), '\u001b[0m\u001b[0;34m\u001b[0m\u001b[0;34m\u001b[0m\u001b[0m\n\u001b[0m\u001b[1;32m   2738\u001b[0m           \u001b[0;34m'or 3 items (x_val, y_val, val_sample_weights), '\u001b[0m\u001b[0;34m\u001b[0m\u001b[0;34m\u001b[0m\u001b[0m\n\u001b[1;32m   2739\u001b[0m           \u001b[0;34m'or alternatively it could be a dataset or a '\u001b[0m\u001b[0;34m\u001b[0m\u001b[0;34m\u001b[0m\u001b[0m\n",
      "\u001b[0;32m~/opt/anaconda3/envs/tensorflow/lib/python3.7/site-packages/tensorflow/python/keras/optimizer_v2/optimizer_v2.py\u001b[0m in \u001b[0;36m_aggregate_gradients\u001b[0;34m(self, grads_and_vars)\u001b[0m\n\u001b[1;32m    560\u001b[0m     \u001b[0;32mif\u001b[0m \u001b[0mslot_name\u001b[0m \u001b[0;32mnot\u001b[0m \u001b[0;32min\u001b[0m \u001b[0mself\u001b[0m\u001b[0;34m.\u001b[0m\u001b[0m_slot_names\u001b[0m\u001b[0;34m:\u001b[0m\u001b[0;34m\u001b[0m\u001b[0;34m\u001b[0m\u001b[0m\n\u001b[1;32m    561\u001b[0m       \u001b[0mself\u001b[0m\u001b[0;34m.\u001b[0m\u001b[0m_slot_names\u001b[0m\u001b[0;34m.\u001b[0m\u001b[0mappend\u001b[0m\u001b[0;34m(\u001b[0m\u001b[0mslot_name\u001b[0m\u001b[0;34m)\u001b[0m\u001b[0;34m\u001b[0m\u001b[0;34m\u001b[0m\u001b[0m\n\u001b[0;32m--> 562\u001b[0;31m     \u001b[0mvar_key\u001b[0m \u001b[0;34m=\u001b[0m \u001b[0m_var_key\u001b[0m\u001b[0;34m(\u001b[0m\u001b[0mvar\u001b[0m\u001b[0;34m)\u001b[0m\u001b[0;34m\u001b[0m\u001b[0;34m\u001b[0m\u001b[0m\n\u001b[0m\u001b[1;32m    563\u001b[0m     \u001b[0mslot_dict\u001b[0m \u001b[0;34m=\u001b[0m \u001b[0mself\u001b[0m\u001b[0;34m.\u001b[0m\u001b[0m_slots\u001b[0m\u001b[0;34m.\u001b[0m\u001b[0msetdefault\u001b[0m\u001b[0;34m(\u001b[0m\u001b[0mvar_key\u001b[0m\u001b[0;34m,\u001b[0m \u001b[0;34m{\u001b[0m\u001b[0;34m}\u001b[0m\u001b[0;34m)\u001b[0m\u001b[0;34m\u001b[0m\u001b[0;34m\u001b[0m\u001b[0m\n\u001b[1;32m    564\u001b[0m     \u001b[0mweight\u001b[0m \u001b[0;34m=\u001b[0m \u001b[0mslot_dict\u001b[0m\u001b[0;34m.\u001b[0m\u001b[0mget\u001b[0m\u001b[0;34m(\u001b[0m\u001b[0mslot_name\u001b[0m\u001b[0;34m,\u001b[0m \u001b[0;32mNone\u001b[0m\u001b[0;34m)\u001b[0m\u001b[0;34m\u001b[0m\u001b[0;34m\u001b[0m\u001b[0m\n",
      "\u001b[0;32m~/opt/anaconda3/envs/tensorflow/lib/python3.7/site-packages/tensorflow/python/keras/optimizer_v2/optimizer_v2.py\u001b[0m in \u001b[0;36m_filter_grads\u001b[0;34m(grads_and_vars)\u001b[0m\n",
      "\u001b[0;31mValueError\u001b[0m: No gradients provided for any variable: ['bidirectional_19/forward_lstm_9/lstm_cell_28/kernel:0', 'bidirectional_19/forward_lstm_9/lstm_cell_28/recurrent_kernel:0', 'bidirectional_19/forward_lstm_9/lstm_cell_28/bias:0', 'bidirectional_19/backward_lstm_9/lstm_cell_29/kernel:0', 'bidirectional_19/backward_lstm_9/lstm_cell_29/recurrent_kernel:0', 'bidirectional_19/backward_lstm_9/lstm_cell_29/bias:0', 'dense_17/kernel:0', 'dense_17/bias:0', 'dense_18/kernel:0', 'dense_18/bias:0']."
     ]
    }
   ],
   "source": [
    "NN.compile(loss='binary_crossentropy', optimizer='adam')\n",
    "history = NN.fit(sequence_docs, epochs=3, batch_size=512, verbose=10)"
   ]
  },
  {
   "cell_type": "markdown",
   "metadata": {},
   "source": [
    "# Wolfram Language\n",
    "The Wolfram Language contains extensive info about 216 yoga poses, including muscle groups used, and the recommended Preparatory and Counter Poses. "
   ]
  },
  {
   "cell_type": "code",
   "execution_count": 267,
   "metadata": {},
   "outputs": [],
   "source": [
    "from wolframclient.evaluation import WolframLanguageSession\n",
    "from wolframclient.language import wl, wlexpr\n",
    "session = WolframLanguageSession()"
   ]
  },
  {
   "cell_type": "code",
   "execution_count": 5,
   "metadata": {
    "tags": []
   },
   "outputs": [
    {
     "output_type": "execute_result",
     "data": {
      "text/plain": "(Rule[(('Input', 1), 'Plaintext'), 'beginner yoga poses'],\n Rule[(('Result', 1), 'Plaintext'), \"Anjaneya's Pose | Balancing Table Pose | Bharadvaja's Pose | Big Toe Pose | Bikram Triangle Pose | Boat Pose | Bound Angle Pose A | Bound Angle Pose B | Bound Angle Pose C | Cat Pose | Child's Pose | Cobra Pose | Corpse Pose | Cow Pose | Crescent High Lunge Pose | Crocodile Pose | Dead Bug Pose | Deer Pose | Diamond Pose | Diamond Stretch Pose | ... (total: 90)\"],\n Rule[(('Schematic:YogaData', 1), 'Plaintext'), '\\n(asymmetrical poses shown with focus on the right side of the body)'],\n Rule[(('IntensityLevelSummary:YogaData', 1), 'Plaintext'), \"Anjaneya's Pose | Bharadvaja's Pose | Bound Angle Pose A | Bound Angle Pose B | Bound Angle Pose C | Cat Pose | Child's Pose | Corpse Pose | Cow Pose | Crocodile Pose | Dead Bug Pose | Deer Pose | Diamond Pose | Diamond Stretch Pose | Easy Pose | Figure Four Stretch Pose | Happy Baby Pose | Head to Knee Pose A | High Lunge Pose | Knees to Chest Pose | ... (total: 40)\"],\n Rule[(('IntensityLevelSummary:YogaData', 2), 'Plaintext'), \"Balancing Table Pose | Big Toe Pose | Bikram Triangle Pose | Cobra Pose | Crescent High Lunge Pose | Downward Facing Dog Pose | Downward Facing Frog Pose | Extended Side Angle Pose | Extended Triangle Pose | Gate Pose | Goddess Pose | Half Circle Pose | Half Monkey Pose | Half Moon Pose | Half Standing Forward Bend Pose | Intense Side Stretch Pose | Marichi's Pose A | Marichi's Pose C | Raised Arm Pose | Reclining Revolved Big Toe Pose | ... (total: 36)\"],\n Rule[(('IntensityLevelSummary:YogaData', 3), 'Plaintext'), 'Boat Pose | Dolphin Pose | Extended Hand to Big Toe Pose C | Fierce Pose | Fire Hydrant Pose | Forearm Plank Pose | Lion Pose | Locust Pose | Locust Pose A | Locust Pose B | Pendant Pose | Plank Pose | Shoulder Supported Bridge Pose | Side Plank Pose (total: 14)'],\n Rule[(('Input', 1), 'Input'), HoldComplete[EntityClass['YogaPose', 'BeginnerYogaPoses']]])"
     },
     "metadata": {},
     "execution_count": 5
    }
   ],
   "source": [
    "session.evaluate(wl.WolframAlpha(\"Easy yoga poses\"))"
   ]
  },
  {
   "cell_type": "code",
   "execution_count": 129,
   "metadata": {
    "tags": []
   },
   "outputs": [
    {
     "output_type": "execute_result",
     "data": {
      "text/plain": "(Entity['YogaPose', 'AccomplishedPose'], Entity['YogaPose', 'HalfLotusPose'])"
     },
     "metadata": {},
     "execution_count": 129
    }
   ],
   "source": [
    "output = session.evaluate(wlexpr('''\n",
    "    EntityClass[\"YogaPose\", \n",
    "    \"PreparatoryPoses\" -> \n",
    "    MemberQ[Entity[\"YogaPose\", \"EasyPose\"]]] // EntityList\n",
    "    '''))\n",
    "output"
   ]
  },
  {
   "cell_type": "code",
   "execution_count": 140,
   "metadata": {
    "tags": []
   },
   "outputs": [
    {
     "output_type": "execute_result",
     "data": {
      "text/plain": "(Entity['YogaPose', 'IntenseSideStretchPose'],\n Entity['YogaPose', 'RevolvedTrianglePose'],\n Entity['YogaPose', 'WarriorIPose'])"
     },
     "metadata": {},
     "execution_count": 140
    }
   ],
   "source": [
    "session.evaluate(wlexpr('''\n",
    "    Entity[\"YogaPose\", \"WarriorIIIPose\"][\"PreparatoryPoses\"]\n",
    "    '''))"
   ]
  },
  {
   "cell_type": "code",
   "execution_count": 63,
   "metadata": {},
   "outputs": [],
   "source": [
    "from keras.utils.data_utils import get_file\n",
    "from keras.optimizers import SGD, RMSprop"
   ]
  },
  {
   "cell_type": "code",
   "execution_count": 608,
   "metadata": {
    "tags": []
   },
   "outputs": [
    {
     "output_type": "stream",
     "name": "stdout",
     "text": "200285 600893\nX: [[[False False False ... False False False]\n  [False False False ... False False False]\n  [False False False ... False False False]\n  ...\n  [False False False ... False False False]\n  [False False False ... False False False]\n  [False False False ... False False False]]\n\n [[False False False ... False False False]\n  [False False False ... False False False]\n  [False False False ... False False False]\n  ...\n  [False False False ... False False False]\n  [False False False ... False False False]\n  [False False False ... False False False]]\n\n [[False False False ... False False False]\n  [ True False False ... False False False]\n  [ True False False ... False False False]\n  ...\n  [False False False ... False False False]\n  [False False False ... False False False]\n  [False False False ... False False False]]\n\n ...\n\n [[False False False ... False False False]\n  [False False False ... False False False]\n  [False False False ... False False False]\n  ...\n  [False False False ... False False False]\n  [False False False ... False False False]\n  [False False False ... False False False]]\n\n [[False False False ... False False False]\n  [False False False ... False False False]\n  [False False False ... False False False]\n  ...\n  [False False False ... False False False]\n  [False False False ... False False False]\n  [False False False ... False False False]]\n\n [[False False False ... False False False]\n  [False  True False ... False False False]\n  [False False False ... False False False]\n  ...\n  [False False False ... False False False]\n  [False False False ... False False False]\n  [False False False ... False False False]]]\ny: [[False False False ... False False False]\n [False False False ... False False False]\n [False False False ... False False False]\n ...\n [False False False ... False False False]\n [False False False ... False False False]\n [False False False ... False False False]]\n"
    }
   ],
   "source": [
    "path = get_file('nietzsche.txt', origin=\"https://s3.amazonaws.com/text-datasets/nietzsche.txt\")\n",
    "text = open(path).read().lower()\n",
    "\n",
    "chars = sorted(list(set(text)))\n",
    "char_indices = dict((c, i) for i, c in enumerate(chars))\n",
    "indices_char = dict((i, c) for i, c in enumerate(chars))\n",
    "\n",
    "# cut the text in semi-redundant sequences of maxlen characters\n",
    "maxlen = 40\n",
    "step = 3\n",
    "sentences = []\n",
    "next_chars = []\n",
    "for i in range(0, len(text) - maxlen, step):\n",
    "    sentences.append(text[i: i + maxlen])\n",
    "    next_chars.append(text[i + maxlen])\n",
    "print(len(sentences), len(text))\n",
    "\n",
    "# vectorization\n",
    "X = np.zeros((len(sentences), maxlen, len(chars)), dtype=np.bool)\n",
    "y = np.zeros((len(sentences), len(chars)), dtype=np.bool)\n",
    "for i, sentence in enumerate(sentences):\n",
    "    for t, char in enumerate(sentence):\n",
    "        X[i, t, char_indices[char]] = 1\n",
    "    y[i, char_indices[next_chars[i]]] = 1\n",
    "print(\"X:\", X)\n",
    "print(\"y:\", y)\n",
    "\n",
    "# build the model: a single LSTM\n",
    "textgen_model = Sequential()\n",
    "textgen_model.add(LSTM(128, input_shape=(maxlen, len(chars))))\n",
    "textgen_model.add(Dense(len(chars)))\n",
    "textgen_model.add(Activation('softmax'))\n",
    "\n",
    "optimizer = RMSprop(lr=0.01)\n",
    "textgen_model.compile(loss='categorical_crossentropy', optimizer=optimizer)\n",
    "\n",
    "def sample(preds, temperature=1.0):\n",
    "    # helper function to sample an index from a probability array\n",
    "    preds = np.asarray(preds).astype('float64')\n",
    "    preds = np.log(preds) / temperature\n",
    "    exp_preds = np.exp(preds)\n",
    "    preds = exp_preds / np.sum(exp_preds)\n",
    "    probas = np.random.multinomial(1, preds, 1)\n",
    "    return np.argmax(probas)\n",
    "\n",
    "# train the model, output generated text after each iteration\n",
    "# for iteration in range(1, 60):\n",
    "\n",
    "#     textgen_model.fit(X, y, batch_size=128, epochs=1)\n",
    "\n",
    "#     start_index = np.random.randint(0, len(text) - maxlen - 1)\n",
    "\n",
    "#     for diversity in [0.2, 0.5, 1.0, 1.2]:\n",
    "       \n",
    "#         generated = ''\n",
    "#         sentence = text[start_index: start_index + maxlen]\n",
    "#         generated += sentence\n",
    "#         print('----- Generating with seed: \"' + sentence + '\"')\n",
    "#         sys.stdout.write(generated)\n",
    "\n",
    "#         for i in range(400):\n",
    "#             x = np.zeros((1, maxlen, len(chars)))\n",
    "#             for t, char in enumerate(sentence):\n",
    "#                 x[0, t, char_indices[char]] = 1.\n",
    "\n",
    "#             preds = textgen_model.predict(x, verbose=0)[0]\n",
    "#             next_index = sample(preds, diversity)\n",
    "#             next_char = indices_char[next_index]\n",
    "\n",
    "#             generated += next_char\n",
    "#             sentence = sentence[1:] + next_char\n",
    "\n",
    "#             sys.stdout.write(next_char)\n",
    "#             sys.stdout.flush()\n",
    "#         print()"
   ]
  },
  {
   "cell_type": "code",
   "execution_count": 610,
   "metadata": {
    "tags": []
   },
   "outputs": [
    {
     "output_type": "stream",
     "name": "stdout",
     "text": "total poses: 169\n{'downward facing dog pose': 0, 'easy pose': 1, 'standing forward fold pose': 2, 'mountain pose': 3, 'corpse pose': 4, 'child pose': 5, 'cobra pose': 6, 'table top pose': 7, 'sun salutation': 8, 'plank pose': 9, 'warrior pose ii': 10, 'chair pose': 11, 'supine spinal twist pose': 12, 'three legged downward facing dog pose': 13, 'warrior pose i': 14, 'bridge pose': 15, 'wind release pose': 16, 'wide legged forward fold': 17, 'cat cow pose': 18, 'triangle pose': 19, 'low lunge pose': 20, 'palm tree pose': 21, 'staff pose': 22, 'bound angle pose': 23, 'goddess pose': 24, 'extended side angle pose': 25, 'seated forward bend pose': 26, 'half lord of the fishes pose': 27, 'tree pose': 28, 'garland pose': 29, 'reverse warrior pose': 30, 'boat pose': 31, 'seated straddle pose': 32, 'pyramid pose': 33, 'warrior pose iii': 34, 'high lunge pose': 35, 'locust pose': 36, 'chaturanga dandasana': 37, 'half moon pose': 38, 'cycling pose': 39, 'thunderbolt pose': 40, 'pigeon pose': 41, 'reclined big toe pose': 42, 'thread the needle pose': 43, 'side plank pose': 44, 'table top balancing pose, opposite arm and leg extended': 45, 'revolved chair pose': 46, 'pranayama': 47, 'flamingo pose': 48, 'plough pose': 49, 'happy baby pose': 50, 'shoulderstand pose': 51, 'gate pose': 52, 'eye of the needle pose': 53, 'revolved high lunge pose': 54, 'reclined bound angle pose': 55, 'upward facing dog pose': 56, 'cow face pose': 57, 'puppy dog pose': 58, 'neck rolls': 59, 'revolved extended side angle pose': 60, 'hero pose': 61, 'shoulder stretches': 62, 'camel pose': 63, 'skandasana': 64, 'sphinx pose': 65, 'reverse corpse pose': 66, 'bow pose': 67, 'fish pose': 68, 'dolphin pose': 69, 'half wind release pose': 70, 'dancer pose': 71, 'side lying corpse pose': 72, 'lizard pose': 73, 'eagle pose': 74, 'torso stretch pose': 75, 'standing hand to big toe pose': 76, 'half sun salutation': 77, 'revolved triangle pose': 78, 'five pointed star pose': 79, 'exercise': 80, 'revolved low lunge pose': 81, 'revolved wide legged forward fold': 82, 'lotus pose': 83, 'forward fold pose with halfway lift': 84, 'humble warrior pose': 85, 'wild thing pose': 86, 'wheel pose': 87, 'standing splits pose': 88, 'headstand pose': 89, 'cat pose': 90, 'high boat to low boat flow': 91, 'standing side bend pose': 92, 'side plank pose with leg variation': 93, 'head to knee pose': 94, 'splits pose': 95, 'downward facing dog pose plank pose flow': 96, 'half splits pose': 97, 'standing backbend pose': 98, 'squat pose': 99, 'crow pose': 100, 'upward plank pose': 101, 'legs up the wall pose': 102, 'crane pose': 103, 'one legged bow pose': 104, 'revolved table top pose': 105, 'one legged mountain pose': 106, 'chair pose with airplane arms': 107, 'banana pose': 108, 'wide legged forward fold with halfway lift': 109, 'firelog pose': 110, 'anantasana': 111, 'tiger pose': 112, 'runners lunge pose': 113, 'moon salutation': 114, 'second half of sun salutation': 115, 'reclined hero pose': 116, 'cow pose': 117, 'bound angle forward bend': 118, 'king pigeon pose': 119, 'downward facing dog upward facing dog pose flow': 120, 'forearm side plank pose': 121, 'standing twists': 122, 'cat tail pulling pose': 123, 'handstand pose': 124, 'revolved hand to big toe pose': 125, 'table top knee to nose flow': 126, 'airplane pose': 127, 'child pose table top pose flow': 128, 'one legged plank pose': 129, 'bird of paradise pose': 130, 'downward facing dog pose to low lunge pose flow': 131, 'one legged moutain pose': 132, 'forearm plank pose': 133, 'downward facing dog pose knee to nose': 134, 'center splits pose': 135, 'feathered peacock pose': 136, 'reverse table top pose': 137, 'side crow pose': 138, 'mudra': 139, 'tripod headstand pose': 140, 'figure four pose': 141, 'shiva squat pose': 142, 'downward facing dog pose table top pose flow': 143, 'lion pose': 144, 'low boat pose': 145, 'table top pose with one leg extended back': 146, 'visvamitrasana pose': 147, 'foot behind the head pose': 148, 'one handed downward facing dog pose': 149, 'flip the dog pose': 150, 'eye exercise': 151, 'flying pigeon pose': 152, 'grasshopper pose': 153, 'eight angle pose': 154, 'scorpion pose': 155, 'baby crow pose': 156, 'half lotus pose': 157, 'flying lizard pose': 158, 'firefly pose': 159, 'cactus arms': 160, 'headstand pose wide legs': 161, 'section': 162, 'headstand pose eagle legs': 163, 'reclining hero pose': 164, 'four limbed staff pose': 165, 'headstand pose lotus legs': 166, 'hurdlers pose': 167, 'dragonfly pose': 168}\nEasy Pose\n"
    },
    {
     "output_type": "error",
     "ename": "KeyError",
     "evalue": "'Easy Pose'",
     "traceback": [
      "\u001b[0;31m---------------------------------------------------------------------------\u001b[0m",
      "\u001b[0;31mKeyError\u001b[0m                                  Traceback (most recent call last)",
      "\u001b[0;32m<ipython-input-610-3d6b3c4fdbcc>\u001b[0m in \u001b[0;36m<module>\u001b[0;34m\u001b[0m\n\u001b[1;32m     24\u001b[0m     \u001b[0;32mfor\u001b[0m \u001b[0mt\u001b[0m\u001b[0;34m,\u001b[0m \u001b[0mpose\u001b[0m \u001b[0;32min\u001b[0m \u001b[0menumerate\u001b[0m\u001b[0;34m(\u001b[0m\u001b[0myogaclass\u001b[0m\u001b[0;34m)\u001b[0m\u001b[0;34m:\u001b[0m\u001b[0;34m\u001b[0m\u001b[0;34m\u001b[0m\u001b[0m\n\u001b[1;32m     25\u001b[0m         \u001b[0mprint\u001b[0m\u001b[0;34m(\u001b[0m\u001b[0mpose\u001b[0m\u001b[0;34m)\u001b[0m\u001b[0;34m\u001b[0m\u001b[0;34m\u001b[0m\u001b[0m\n\u001b[0;32m---> 26\u001b[0;31m         \u001b[0mX\u001b[0m\u001b[0;34m[\u001b[0m\u001b[0mi\u001b[0m\u001b[0;34m,\u001b[0m \u001b[0mt\u001b[0m\u001b[0;34m,\u001b[0m \u001b[0mpose_indices\u001b[0m\u001b[0;34m[\u001b[0m\u001b[0mpose\u001b[0m\u001b[0;34m]\u001b[0m\u001b[0;34m]\u001b[0m \u001b[0;34m=\u001b[0m \u001b[0;36m1\u001b[0m\u001b[0;34m\u001b[0m\u001b[0;34m\u001b[0m\u001b[0m\n\u001b[0m\u001b[1;32m     27\u001b[0m     \u001b[0my\u001b[0m\u001b[0;34m[\u001b[0m\u001b[0mi\u001b[0m\u001b[0;34m,\u001b[0m \u001b[0mpose_indices\u001b[0m\u001b[0;34m[\u001b[0m\u001b[0mnext_poses\u001b[0m\u001b[0;34m[\u001b[0m\u001b[0mi\u001b[0m\u001b[0;34m]\u001b[0m\u001b[0;34m]\u001b[0m\u001b[0;34m]\u001b[0m \u001b[0;34m=\u001b[0m \u001b[0;36m1\u001b[0m\u001b[0;34m\u001b[0m\u001b[0;34m\u001b[0m\u001b[0m\n\u001b[1;32m     28\u001b[0m \u001b[0mprint\u001b[0m\u001b[0;34m(\u001b[0m\u001b[0mX\u001b[0m\u001b[0;34m,\u001b[0m \u001b[0my\u001b[0m\u001b[0;34m)\u001b[0m\u001b[0;34m\u001b[0m\u001b[0;34m\u001b[0m\u001b[0m\n",
      "\u001b[0;31mKeyError\u001b[0m: 'Easy Pose'"
     ]
    }
   ],
   "source": [
    "poses = list(word_index) # word index currently sorted by how common the pose is\n",
    "print('total poses:', len(poses))\n",
    "pose_indices = dict((c, i) for i, c in enumerate(poses))\n",
    "indices_pose = dict((i, c) for i, c in enumerate(chars))\n",
    "\n",
    "maxlen = 40\n",
    "step = 3\n",
    "classes = base_documents # sentences\n",
    "next_poses = [] # next_chars\n",
    "for i in range(0, len(base_documents) - maxlen, step):\n",
    "#     sentences.append(text[i: i + maxlen])\n",
    "     next_poses.append(base_documents[i + maxlen])\n",
    "# print('nb sequences:', len(sentences))\n",
    "\n",
    "# my old vectorization method? or tokenization? \n",
    "sequence_docs = tokenizer.texts_to_sequences(base_documents)\n",
    "sequence_docs = pad_sequences(sequence_docs, maxlen=50)\n",
    "X = sequence_docs\n",
    "y = \n",
    "\n",
    "# print('Vectorization...')\n",
    "X = np.zeros((len(base_documents), maxlen, len(poses)), dtype=np.bool)\n",
    "y = np.zeros((len(base_documents), len(poses)), dtype=np.bool)\n",
    "for i, yogaclass in enumerate(classes):\n",
    "    for t, pose in enumerate(yogaclass):\n",
    "        X[i, t, pose_indices[pose]] = 1\n",
    "    y[i, pose_indices[next_poses[i]]] = 1\n",
    "print(X, y)\n",
    "\n",
    "\n",
    "# # build the model: a single LSTM\n",
    "print('Build model...')\n",
    "textgen_model = Sequential()\n",
    "textgen_model.add(Embedding(vocab_size, embedding_dim, weights=[embedding_matrix], trainable=False)(inp))\n",
    "textgen_model.add(LSTM(128, input_shape=(maxlen, len(poses))))\n",
    "textgen_model.add(Dense(len(chars)))\n",
    "textgen_model.add(Activation('softmax'))\n",
    "\n",
    "optimizer = RMSprop(lr=0.01)\n",
    "textgen_model.compile(loss='categorical_crossentropy', optimizer=optimizer)\n",
    "\n",
    "\n",
    "def sample(preds, temperature=1.0):\n",
    "    # helper function to sample an index from a probability array\n",
    "    preds = np.asarray(preds).astype('float64')\n",
    "    preds = np.log(preds) / temperature\n",
    "    exp_preds = np.exp(preds)\n",
    "    preds = exp_preds / np.sum(exp_preds)\n",
    "    probas = np.random.multinomial(1, preds, 1)\n",
    "    return np.argmax(probas)\n",
    "\n",
    "# train the model, output generated text after each iteration\n",
    "for iteration in range(1, 60):\n",
    "    print()\n",
    "    print('-' * 50)\n",
    "    print('Iteration', iteration)\n",
    "    textgen_model.fit(X, y, batch_size=128, epochs=1)\n",
    "\n",
    "    start_index = np.random.randint(0, len(text) - maxlen - 1)\n",
    "\n",
    "    for diversity in [0.2, 0.5, 1.0, 1.2]:\n",
    "        print()\n",
    "        print('----- diversity:', diversity)\n",
    "\n",
    "        generated = ''\n",
    "        sentence = text[start_index: start_index + maxlen]\n",
    "        generated += sentence\n",
    "        print('----- Generating with seed: \"' + sentence + '\"')\n",
    "        sys.stdout.write(generated)\n",
    "\n",
    "        for i in range(400):\n",
    "            x = np.zeros((1, maxlen, len(chars)))\n",
    "            for t, char in enumerate(sentence):\n",
    "                x[0, t, char_indices[char]] = 1.\n",
    "\n",
    "    #         preds = textgen_model.predict(x, verbose=0)[0]\n",
    "    #         next_index = sample(preds, diversity)\n",
    "    #         next_char = indices_char[next_index]\n",
    "\n",
    "    #         generated += next_char\n",
    "    #         sentence = sentence[1:] + next_char\n",
    "\n",
    "    #         sys.stdout.write(next_char)\n",
    "    #         sys.stdout.flush()\n",
    "    #     print()"
   ]
  },
  {
   "cell_type": "markdown",
   "metadata": {},
   "source": [
    "# Character-Based Generation : \n",
    "I'm gonna combine all the classes (all 50000 yoga classes that is) into one big document like a book like the example and just see how it does ??? *big shrug* "
   ]
  },
  {
   "cell_type": "code",
   "execution_count": 59,
   "metadata": {
    "tags": []
   },
   "outputs": [
    {
     "output_type": "stream",
     "name": "stdout",
     "text": "['Easy Pose', 'Neck Rolls', 'Easy Pose', 'Easy Pose', 'Easy Pose', 'Torso Stretch Pose', 'Cat Cow Pose', 'Child Pose', 'Thread The Needle Pose', 'Downward Facing Dog Pose', 'Downward Facing Dog Pose Plank Pose Flow', 'Three Legged Downward Facing Dog Pose', 'Triangle Pose', 'Three Legged Downward Facing Dog Pose', 'Low Lunge Pose', 'Revolved Low Lunge Pose', 'Low Lunge Pose', 'Revolved High Lunge Pose', 'Extended Side Angle Pose', 'Three Legged Downward Facing Dog Pose']\n"
    },
    {
     "output_type": "execute_result",
     "data": {
      "text/plain": "'Easy Pose Neck Rolls Easy Pose Easy Pose Easy Pose Torso Stretch Pose Cat Cow Pose Child Pose Thread The Needle Pose Downward Facing Dog Pose Downward Facing Dog Pose Plank Pose Flow Three Legged Downward Facing Dog Pose Triangle Pose Three Legged Downward Facing Dog Pose Low Lunge Pose Revolved Low Lunge Pose Low Lunge Pose Revolved High Lunge Pose Extended Side Angle Pose Three Legged Downward Facing Dog Pose Low Lunge Pose Mountain Pose High Lunge Pose High Lunge Pose Warrior Pose I Warrior P'"
     },
     "metadata": {},
     "execution_count": 59
    }
   ],
   "source": [
    "all_classes = [pose for yogaclass in base_documents for pose in yogaclass]\n",
    "print(all_classes[0:20])\n",
    "text = \" \".join(all_classes)\n",
    "text[0:500]\n"
   ]
  },
  {
   "cell_type": "code",
   "execution_count": 627,
   "metadata": {},
   "outputs": [
    {
     "output_type": "execute_result",
     "data": {
      "text/plain": "28839647"
     },
     "metadata": {},
     "execution_count": 627
    }
   ],
   "source": [
    "len(text)"
   ]
  },
  {
   "cell_type": "markdown",
   "metadata": {},
   "source": [
    "Since its a proof of concept, I don't want to take for*ever* running on the entire 28 million characters. giving it a subset instead. "
   ]
  },
  {
   "cell_type": "code",
   "execution_count": 628,
   "metadata": {},
   "outputs": [],
   "source": [
    "text = text[0:500000]"
   ]
  },
  {
   "cell_type": "code",
   "execution_count": 630,
   "metadata": {
    "tags": []
   },
   "outputs": [
    {
     "output_type": "stream",
     "name": "stdout",
     "text": "cals>.train_function at 0x7faf974bbf80> and will run it as-is.\nPlease report this to the TensorFlow team. When filing the bug, set the verbosity to 10 (on Linux, `export AUTOGRAPH_VERBOSITY=10`) and attach the full output.\nCause: closure mismatch, requested ('self', 'step_function'), but source function had ()\nTo silence this warning, decorate the function with @tf.autograph.experimental.do_not_convert\n1302/1302 [==============================] - 57s 44ms/step - loss: 0.5481\n\n----- diversity: 0.2\n----- Generating with seed: \"rd Facing Dog Pose High Lunge Pose Low L\"\nrd Facing Dog Pose High Lunge Pose Low LWARNING:tensorflow:AutoGraph could not transform <function Model.make_predict_function.<locals>.predict_function at 0x7fafb4f23320> and will run it as-is.\nPlease report this to the TensorFlow team. When filing the bug, set the verbosity to 10 (on Linux, `export AUTOGRAPH_VERBOSITY=10`) and attach the full output.\nCause: closure mismatch, requested ('self', 'step_function'), but source function had ()\nTo silence this warning, decorate the function with @tf.autograph.experimental.do_not_convert\nWARNING:tensorflow:AutoGraph could not transform <function Model.make_predict_function.<locals>.predict_function at 0x7fafb4f23320> and will run it as-is.\nPlease report this to the TensorFlow team. When filing the bug, set the verbosity to 10 (on Linux, `export AUTOGRAPH_VERBOSITY=10`) and attach the full output.\nCause: closure mismatch, requested ('self', 'step_function'), but source function had ()\nTo silence this warning, decorate the function with @tf.autograph.experimental.do_not_convert\nWARNING: AutoGraph could not transform <function Model.make_predict_function.<locals>.predict_function at 0x7fafb4f23320> and will run it as-is.\nPlease report this to the TensorFlow team. When filing the bug, set the verbosity to 10 (on Linux, `export AUTOGRAPH_VERBOSITY=10`) and attach the full output.\nCause: closure mismatch, requested ('self', 'step_function'), but source function had ()\nTo silence this warning, decorate the function with @tf.autograph.experimental.do_not_convert\nungePoseChairPoseChairPoseWarriorPoseIIIWarriorPoseIIIWarriorPoseIIIWarriorPoseIIIWarriorPoseIIIWarriorPoseIIIWarriorPoseIIIWarriorPoseIIIWarriorPoseIIIWarriorPoseIIIWarriorPoseIIIWarriorPoseIIIWarriorPoseIIIWarriorPoseIIIWarriorPoseIIIWarriorPoseIIIWarriorPoseIIIWarriorPoseIIIWarriorPoseIIWarriorPoseIIIWarriorPoseIIChairPoseWa\n\n----- diversity: 0.5\n----- Generating with seed: \"rd Facing Dog Pose High Lunge Pose Low L\"\nrd Facing Dog Pose High Lunge Pose Low LungePoseHighLungePoseWarriorPoseIIIWarriorPoseIIIWideLeggedForwardFoldTrianglePoseWarriorPoseIIIWarriorPoseIIIWideLeggedForwardFoldTrianglePoseWideLeggedForwardFoldTrianglePoseChairPoseWarriorPoseIIIWarriorPoseIIIWideLeggedForwardFoldWideLeggedForwardFoldTrianglePoseWideLeggedForwardFoldTrianglePoseRevolvedLowLungePoseDownwardFacingD\n\n----- diversity: 1.0\n----- Generating with seed: \"rd Facing Dog Pose High Lunge Pose Low L\"\nrd Facing Dog Pose High Lunge Pose Low LungePoseSunSalutationLowLungePoseCobraPoseThreeLeggedDownwardFacingDogPosePalmTreePoseDownwardFacingDogPoseWarriorPoseIIIChaturangaDandasanaUwPoseChildPoseHeroPoseTableTopPoseChairPoseWarriorPoseIIITrianglePoseSupineSpintatailtPoseTableTopPoseThreeLeggedDownwardFacingDogPoseGarlandPoseHalfLckBaaldTriorgorPoreOnanananaLocustPoseWind\n\n----- diversity: 1.2\n----- Generating with seed: \"rd Facing Dog Pose High Lunge Pose Low L\"\nrd Facing Dog Pose High Lunge Pose Low LungePoseMountainPoseStandingHandeaneBowBoatPoseEyeOfTheNeedlePoseLocustPoseDownwardFacingDogPoseStandingForwardFordPoseThreeLeggedDownwardFacingDogPoseHeroPoseChaiuPoseChairPoseChindPoseWithLegsveHighLungePoseGarlandHandsaPoseCrowPoseChairPoseChairPoseRumleWarriorPoseKniordRevolvedDownwardFacingDogPoseStandingBackbendHalfLordeOnToP\n\n--------------------------------------------------\nIteration 2\n1302/1302 [==============================] - 58s 44ms/step - loss: 0.2633\n\n----- diversity: 0.2\n----- Generating with seed: \"Shoulder Stretches Child Pose Child Pose\"\nShoulder Stretches Child Pose Child PoseChildPoseThreeLeggedDownwardFacingDogPoseThreeLeggedDownwardFacingDogPoseThreeLeggedDownwardFacingDogPoseThreeLeggedDownwardFacingDogPoseThreeLeggedDownwardFacingDogPoseThreeLeggedDownwardFacingDogPoseStandingForwardFoldPoseStandingForwardFoldPoseStandingForwardFoldPoseStandingForwardFoldPoseStandingForwardFoldPoseStandingForwardFoldPos\n\n----- diversity: 0.5\n----- Generating with seed: \"Shoulder Stretches Child Pose Child Pose\"\nShoulder Stretches Child Pose Child PoseDownwardFacingDogPoseThreeLeggedDownwardFacingDogPoseThreeLeggedDownwardFacingDogPoseThreeLeggedDownwardFacingDogPoseThreeLeggedDownwardFacingDogPoseThreeLeggedDownwardFacingDogPoseThreeLeggedDownwardFacingDogPoseThreeLeggedDownwardFacingDogPoseThreeLeggedDownwardFacingDogPoseDownwardFacingDogPoseThreeLeggedDownwardFacingDogPoseThreeL\n\n----- diversity: 1.0\n----- Generating with seed: \"Shoulder Stretches Child Pose Child Pose\"\nShoulder Stretches Child Pose Child PoseCatCowPoseBridgePoseCorpsePoseCorpsePoseCowFacePoseLowBratPoseCowFacePoseChildPoseSideLyingCorCosPoseHeadToKneePoseEasyPoseEasyPoseEasyPoseEasyPoseSeatedForwardBendPoseWindReleasePoseSupineSpinalTwistPoseEasyPosereatedSidePlankPoseWithLeggVdPoseWarriorPoseIIIPlankPoseCobraPoseCobraPoseDownwardFacingDogPoseUpwardFacingDogPose\n\n----- diversity: 1.2\n----- Generating with seed: \"Shoulder Stretches Child Pose Child Pose\"\nShoulder Stretches Child Pose Child PoseChildPoseDownwardFacingDogPoseThreeLeggedDownwardFacingDogPoseneLiggedDownwardFacingDogPoseTureeTheDownwardFacingDogPoseWarriorPoseIITrianglePoseRevolvedHighLungePoseDownwardFacingDogPoseDownwardFacingDogPoseTableTopPoseTableTopBalancingPose,OppositeArmandLegExtendedLeguDountainPoseGarlandPoseThreeLeggedDownwardFacingDogPoseDownward\n\n--------------------------------------------------\nIteration 3\n1302/1302 [==============================] - 55s 42ms/step - loss: 0.2427\n\n----- diversity: 0.2\n----- Generating with seed: \" Chair Pose Palm Tree Pose Five Pointed \"\n Chair Pose Palm Tree Pose Five Pointed StarrePoseStandingForwardFoldPoseStandingForwardFoldPoseStandingForwardFoldPoseChairPoseChairPoseRevolvedWideLeggedDownwardFacingDogPoseThreeLeggedDownwardFacingDogPoseThreeLeggedDownwardFacingDogPoseThreeLeggedDownwardFacingDogPoseThreeLeggedDownwardFacingDogPoseDownwardFacingDogPoseThreeLeggedDownwardFacingDogPoseThreeLeggedDownwardFa\n\n----- diversity: 0.5\n----- Generating with seed: \" Chair Pose Palm Tree Pose Five Pointed \"\n Chair Pose Palm Tree Pose Five PointedStarPoseStandingForwardFoldPoseStandingForwardFoldPosePlankPoseDownwardFacingDogPoseStandingForwardFoldPoseStandingForwardFoldPoseStandingForwardFoldPoseStandingForwardFoldPoseStandingForwardFoldPoseStandingForwardFoldPosePlankPosePlankPoseDownwardFacingDogPoseThreeLeggedDownwardFacingDogPoseThreeLeggedDownwardFacingDogPoseStandingForwar\n\n----- diversity: 1.0\n----- Generating with seed: \" Chair Pose Palm Tree Pose Five Pointed \"\n Chair Pose Palm Tree Pose Five PointedStarPoseMountainPoseChairPoseStaddingForwardFoldPoseneSidePlankPoseThreeLeggedDownwardFacingDogPoseHalfSunSalutationMountainPoseStandingSideBendPoseSidePlankPoseSidePlankPoseThreeLeggedDownwardFacingDogPoseThreeLeggedDownwardFacingDogPosePlankPoseMountainPoseFlowBowDownwardFacingDogPoseLowLungePoseWildThingPoseThreeLeggedDownwardFac\n\n----- diversity: 1.2\n----- Generating with seed: \" Chair Pose Palm Tree Pose Five Pointed \"\n Chair Pose Palm Tree Pose Five PointedStarrioStaidersePoseGatePoseHighLungePosePuppyDogPosePyramidPoseThreeLeggedDownwardFacingDogPoseStandingBackbendPoseStandingStaffCatCowPoseHalfaloTopiolLowwardFacingDogPoseUpwardFacingDogPoseSidePlankPoseDownwardFacingDogPoseTableTopPoseCatuailPpseHalfWindReleasePoseFirelogPoseHalfPxankPoseDolphinPoseThreeLeggedDownwardFacingDogP\n\n--------------------------------------------------\nIteration 4\n1302/1302 [==============================] - 55s 42ms/step - loss: 0.2369\n\n----- diversity: 0.2\n----- Generating with seed: \"d Downward Facing Dog Pose Half Sun Salu\"\nd Downward Facing Dog Pose Half Sun SalutationSunSalutationSunSalutationMountainPoseWarriorPoseIIReverseWarriorPoseWarriorPoseIIReverseWarriorPoseWarriorPoseIIReverseWarriorPoseExtendedSideAnglePoseWarriorPoseIIReverseWarriorPoseExtendedSideAnglePoseWarriorPoseIIIWarriorPoseIIIWarriorPoseIIIWarriorPoseIIReverseWarriorPoseWarriorPoseIIReverseWarriorPoseWarriorPoseIIReverseWa\n\n----- diversity: 0.5\n----- Generating with seed: \"d Downward Facing Dog Pose Half Sun Salu\"\nd Downward Facing Dog Pose Half Sun SalutationSunSalutationSunSalutationSunSalutationSunSalutationSunSalutationSunSalutationPlankPoseSidePlankPoseFlowStandingMountainPoseStandingHalfOfSunSalutationSunSalutationSunSalutationSunSalutationSunSalutationPlankPosePlankPosePigeonPoseDownwardFacingDogPoseWarriorPoseIIIStandingForwardFoldPoseFlamingoPoseWarriorPoseIIIHighLungePoseSideP\n\n----- diversity: 1.0\n----- Generating with seed: \"d Downward Facing Dog Pose Half Sun Salu\"\nd Downward Facing Dog Pose Half Sun SalutationHalfSunSalutationPyramidPoseChairPoseCamelPoseDownwardFacingDogPoseThreeLeggedDownwardFacingDogPoseDownwardFacingDogPoseDownwardFacingDogPoseMountainPoseChairPoseChairPoseRevolvedWideLeggedForwardFoldFivePointedStarPoseWarriorPoseIIIHighLungePoseSunSalutationSunSalutationSunSalutationMountainPoseChairPoseStandingWideLeggedForward\n\n----- diversity: 1.2\n----- Generating with seed: \"d Downward Facing Dog Pose Half Sun Salu\"\nd Downward Facing Dog Pose Half Sun SalutationPyramidPoseDownwardFacingDogPoseStandingForwardFoldPoseDownwardFacingDogPoseMountainPoseWarriorPoseIITrianglePoseDownwardFacingDogPoseLowLungePoseMountainPoseLowLungePosePuppyDogPoseHalfWindReleasePosePpiDtalanaPoseSeatedForwardBendPoseChildPoseReverseanePoseBoundAnglePosePigeonPoseBridgePoseSupineSpinalTwistPoseReclinedBoundAng\n\n--------------------------------------------------\nIteration 5\n1302/1302 [==============================] - 55s 42ms/step - loss: 0.2329\n\n----- diversity: 0.2\n----- Generating with seed: \" Extended Side Angle Pose Low Lunge Pose\"\n Extended Side Angle Pose Low Lunge PoseRevolvedHighLungePoseRevolvedHighLungePoseRevolvedHighLungePoseRevolvedHighLungePoseRevolvedHighLungePoseRevolvedHighLungePoseRevolvedHighLungePoseRevolvedHighLungePoseReverseWarriorPoseEasyPoseEasyPoseEasyPoseEasyPoseEasyPoseEasyPoseEasyPoseEasyPoseEasyPoseEasyPoseEasyPoseEasyPoseEasyPoseEasyPoseEasyPoseEasyPoseEasyPoseEasyPos\n\n----- diversity: 0.5\n----- Generating with seed: \" Extended Side Angle Pose Low Lunge Pose\"\n Extended Side Angle Pose Low Lunge PoseChaturangaDandasanaUpwardFacingDogPoseLowLungePoseLowLungePosePlankPosePlankPosePlankPosePlankPoseSidePlankPoseDownwardFacingDogPoseThreeLeggedDownwardFacingDogPoseStandingForwardFoldPoseStandingForwardFoldPosePalmTreePosePalmTreePosePalmTreePosePalmTreePosePalmTreePosePalmTreePosePalmTreePosePalmTreePosePalmTreePosePalmTreePos\n\n----- diversity: 1.0\n----- Generating with seed: \" Extended Side Angle Pose Low Lunge Pose\"\n Extended Side Angle Pose Low Lunge PoseRevolvedHighLungePoseLowLungePoseReverseWirePoseBridgePoseBridgePoseChanriarPoseReverseWirhPoseHalfSunSalutationSunSalutationStandingForwardFoldPoseStandingForwardFoldPosePoseWarriorPoseIIISunSalutationPlankPoseRevolvedHighLungePoseReverseWarriorPoseCobraPoseSeatedatrwandLogExtendedTableTopPoseTableTopPoseCatCowPoseTableTopBalancing\n\n----- diversity: 1.2\n----- Generating with seed: \" Extended Side Angle Pose Low Lunge Pose\"\n Extended Side Angle Pose Low Lunge PoseBoatPoseReclinedBoundAnglePoseCorpsePoseSupineSpinanTwistPoseHalfLordOfTheFishesPosePlongedForwardFoldWithHalfwayLiftStandingForwardFoldPoseWarriorPoseIITrianglePoseReverseUpLrgeaPoseBridgePoseWinderlingForwardFoldPoseMountainPoseHalfSunSalutationThreeLeggedDownwardFacingDogPoseSalftsPoseGarlandPosePlankPoseHighLungePoseChairPoseHig\n\n--------------------------------------------------\nIteration 6\n1302/1302 [==============================] - 55s 42ms/step - loss: 0.2293\n\n----- diversity: 0.2\n----- Generating with seed: \"ose Easy Pose Easy Pose Easy Pose Easy P\"\nose Easy Pose Easy Pose Easy Pose Easy PoseEasyPoseEasyPoseEasyPoseEasyPoseEasyPoseEasyPoseEasyPoseEasyPoseEasyPoseBounderstandPoseSupineSpinglLigPoseStaffPoseSeatedForwardBendPoseSeatedForwardBendPoseSeatedForwardBendPoseCowFacePoseSunSalutationWarriorPoseIIReverseWarriorPoseWarriorPoseIIReverseWarriorPoseWarriorPoseIIReverseWarriorPoseWarriorPoseIWarriorPoseIIReverse\n\n----- diversity: 0.5\n----- Generating with seed: \"ose Easy Pose Easy Pose Easy Pose Easy P\"\nose Easy Pose Easy Pose Easy Pose Easy PoseEasyPoseCatCowPoseThreadTheNeedlePoseChildPoseThreadTheNeedlePoseTableTopPoseCatCowPoseChildPoseSeatedForwardBendPoseSupineSpinglPoseStandingForwardFoldPoseStandingForwardFoldPoseStandingForwardFoldPoseChairPoseStandingForwardFoldPoseSeatedForwardBendPoseBoatPoseBoatPoseBounderstandPoseSupineSpinglLigPoseBoatPoseBoatPoseBounders\n\n----- diversity: 1.0\n----- Generating with seed: \"ose Easy Pose Easy Pose Easy Pose Easy P\"\nose Easy Pose Easy Pose Easy Pose Easy PoseChildPoseTableTopBalancingPose,OppositeArmandLegesSphinxPoseLegsUpTheWallPoseSupineSpinglePoseSeatedForwardBendPoseSeatedForwardBendPoseCowFacePosePranayamaChairPoseSalfPoseDolphinPoseChaturangaDandasanaPlankPosePlankPoseStandingForwardFoldPoseSmiDaPoseRevolvedChairPoseCrrougFobwardFoldPuppyDogPoseBoatPoseBridgePoseHalfSplitsPos\n\n----- diversity: 1.2\n----- Generating with seed: \"ose Easy Pose Easy Pose Easy Pose Easy P\"\nose Easy Pose Easy Pose Easy Pose Easy PoseBounSallaatineLowLungePoseSidePlankPoseRevolvedTableTopPoseTableTopPoseDownwardFacingDogPoseSkandasanayingrinooPlankPoseBounderboltPoseBosDownwardFacingDogPoseholeSunSalutationRevolvedHighLungePoseLizardPoseThreeLeggedDownwardFacingDogPoseWarriorPoseIhIStandingForwardFoldPoseSplitsPoseHalfSplitsAnglePoseWarriorPoseIIHalfMoonPoseS\n\n--------------------------------------------------\nIteration 7\n1302/1302 [==============================] - 56s 43ms/step - loss: 0.2271\n\n----- diversity: 0.2\n----- Generating with seed: \" Five Pointed Star Pose Goddess Pose Wid\"\n Five Pointed Star Pose Goddess Pose WideLeggedForwardFoldWideLeggedForwardFoldWideLeggedForwardFoldWideLeggedForwardFoldWideLeggedForwardFoldWideLeggedForwardFoldWideLeggedForwardFoldWideLeggedForwardFoldWideLeggedForwardFoldWideLeggedForwardFoldWideLeggedForwardFoldWideLeggedForwardFoldWideLeggedForwardFoldWideLeggedForwardFoldWideLeggedForwardFoldWideLeggedForwardFoldWid\n\n----- diversity: 0.5\n----- Generating with seed: \" Five Pointed Star Pose Goddess Pose Wid\"\n Five Pointed Star Pose Goddess Pose WideLeggedForwardFoldWideLeggedForwardFoldWideLeggedForwardFoldWideLeggedFowwrrwFridnoPoseEasyPoseEasyPoseEasyPoseEasyPoseEasyPoseEasyPoseEasyPoseEasyPoseEasyPoseEasyPoseEasyPoseSunSalutationSunSalutationSunSalutationSunSalutationThreeLePoseHalfMoonPoseWarriorPoseIIReverseWarriorPoseExtendedSideAnglePoseHighLungePoseDownwardFacingDog\n\n----- diversity: 1.0\n----- Generating with seed: \" Five Pointed Star Pose Goddess Pose Wid\"\n Five Pointed Star Pose Goddess Pose WideLeggedForwardFoldWithHalfwayLiftMountainPoseStandingForwardFoldPoseLowLungePoseHappyBabyPoseSupineSpinalTwistPoseCroRedSoorwardFacingDogPosePigeonPoseWarriorPoseIIReverseWarriorPoseExtendedSideAnglePoseChairPosePalmTreePoseChairPoseEasyPoseEasyPoseHalfLordOfTheFishesPoseBridgePoseWindReleasePoseSeatedStraddlePoseFishPoseBoundAngl\n\n----- diversity: 1.2\n----- Generating with seed: \" Five Pointed Star Pose Goddess Pose Wid\"\n Five Pointed Star Pose Goddess Pose WideLeggedForwardFoldGatePoseHalfMorbePoseChairPoseThreeLeggedDownwardFacingDogPoseChaturangaDandasanaUpwardFacingDogPoseCobraPoseWheelPoseHappyBabyPoseEasyPoseEasyPoseEasyPoseEyeOfTheNeedlePoseDownwardFacingDogPoseLowLungePoseWildThingPoseSidePlankPoseGarlandPoseRevolvedlandPoseGatePoseForearmcideAnmlePoseReverseWarriorPoseHumbleWa\n\n--------------------------------------------------\nIteration 8\n1302/1302 [==============================] - 57s 44ms/step - loss: 0.2228\n\n----- diversity: 0.2\n----- Generating with seed: \"se Bound Angle Forward Bend Sun Salutati\"\nse Bound Angle Forward Bend Sun SalutationSunSalutationSunSalutationTableTopPoseTableTopPoseTableTopPoseTableTopPoseTableTopPoseTableTopPoseTableTopPoseTableTopPoseTableTopPoseTableTopPoseTableTopPoseTableTopPoseTableTopPoseTableTopPoseTableTopPoseTableTopPoseTableTopPoseTableTopPoseTableTopPoseTableTopPoseTableTopPoseTableTopPoseTableTopPoseTableTopPoseTableT\n\n----- diversity: 0.5\n----- Generating with seed: \"se Bound Angle Forward Bend Sun Salutati\"\nse Bound Angle Forward Bend Sun SalutationSunSalutationSunSalutationSunSalutationMountainPoseStandingForwardFoldPosePalmTreePosePalmTreePoseMountainPoseStandingForwardFoldPosePlankPosePlankPosePlankPoseWithLegVariationSunSalutationSunSalutationTrianglePoseWarriorPoseIWarriorPoseIWarriorPoseIIIStandingForwardFoldPoseMountainPoseRevolvedChairPosePalmTreePosePalmTreePoseMounta\n\n----- diversity: 1.0\n----- Generating with seed: \"se Bound Angle Forward Bend Sun Salutati\"\nse Bound Angle Forward Bend Sun SalutationSunSalutationThreeLeggedDownwardFacingDogPoseDownwardFacingDogPoseTreePoseEasyPoseEasyPoseTableTopPoseTableTopPoseCatCowPoseLowLungePosePigeonPoseFirwardFoldPosePlankPoseTrianglePoseTrianglePoseTrianglePoseSunSalutationTableTopPoseDownwardFacingDogPoseThreeLeggedDownwardFacingDogPosevamingoPoseRevolvedExtendedSidelAndPlankPosePig\n\n----- diversity: 1.2\n----- Generating with seed: \"se Bound Angle Forward Bend Sun Salutati\"\nse Bound Angle Forward Bend Sun SalutationPlankPoseLowLungePoseSidePlankPosePigeonPosePigeonPoseHalfLordOfTheFishesPoseCorpsePoseHerpsoCowFacePoseBridgePoseHappyBabyPoseiopTableTopBananadSalftsTableTopBalancingPose,OppositeArmsanePoseGarlandPlankPoseSidePlankPoseWarriorPoseIIISunSalutationSecondHalfOfSunSalutationThreeLeggedDownwardFacingDogPoseLocustPoseSidePlankPoseS\n\n--------------------------------------------------\nIteration 9\n1302/1302 [==============================] - 56s 43ms/step - loss: 0.2217\n\n----- diversity: 0.2\n----- Generating with seed: \"e Spinal Twist Pose Corpse Pose Easy Pos\"\ne Spinal Twist Pose Corpse Pose Easy PoseEasyPoseEasyPoseEasyPoseEasyPoseEasyPoseEasyPoseEasyPoseEasyPoseEasyPoseEasyPoseEasyPoseEasyPoseEasyPoseEasyPoseEasyPoseEasyPoseEasyPoseEasyPoseEasyPoseEasyPoseEasyPoseEasyPoseEasyPoseEasyPoseEasyPoseEasyPoseEasyPoseEasyPoseEasyPoseEasyPoseEasyPoseEasyPoseEasyPoseEasyPoseEasyPoseEasyPoseEasyPoseEasyPoseEasyPoseEasyPos\n\n----- diversity: 0.5\n----- Generating with seed: \"e Spinal Twist Pose Corpse Pose Easy Pos\"\ne Spinal Twist Pose Corpse Pose Easy PoseEasyPoseEasyPoseEasyPoseEasyPoseEasyPoseEasyPoseEasyPoseEasyPoseEasyPoseEasyPoseEasyPoseEasyPoseEasyPoseEasyPoseEasyPoseEasyPoseEasyPoseTableTopPoseCatCowPoseTableTopPoseCatPoseChildPoseChildPoseChildPoseChildPoseChildPoseChildPoseThreelPoseThunderboltPoseThunderboltPoseThunderboltPoseDownwardFacingDogPoseThreeLeggedDownward\n\n----- diversity: 1.0\n----- Generating with seed: \"e Spinal Twist Pose Corpse Pose Easy Pos\"\ne Spinal Twist Pose Corpse Pose Easy PoseEasyPoseEasyPoseEasyPoseCarracoPoseWarriorPoseIReverseWarriorPoseReverseWarriorPoseEidedLegNoleThreeLeggedDownwardFacingDogPosePlankPoseFlowPlankPoseFlowDownwardFacingDogPoseDownwardFacingDogPoseThreeLeggedDownwardFacingDogPoseLizardPoseSideLyingCorpsePoseEasyPoseBoatPoseCowFacePoseChildPoseTableTopBalancingPose,OpposisePoseSide\n\n----- diversity: 1.2\n----- Generating with seed: \"e Spinal Twist Pose Corpse Pose Easy Pos\"\ne Spinal Twist Pose Corpse Pose Easy PoseExerciseWarriorPoseIIPlankPoseDownwardFacingDogPoseThreeLeggedDownwardFacingDogPoseChildPoseStandingForwardFoldPoseMountainPosePigeonPoseChildPosePuppyDogPoseThunderboltPoseTableTopPoseTableTopPoseForearmBigPoseBridgePoseShoulderstandPoseShoulderstandPoseCobraPoseStandingForwardFoldPoseMountainPoseRevolvedWideLeggedBoldPigeonPoseWind\n\n--------------------------------------------------\nIteration 10\n 271/1302 [=====>........................] - ETA: 44s - loss: 0.2159"
    },
    {
     "output_type": "error",
     "ename": "KeyboardInterrupt",
     "evalue": "",
     "traceback": [
      "\u001b[0;31m---------------------------------------------------------------------------\u001b[0m",
      "\u001b[0;31mKeyboardInterrupt\u001b[0m                         Traceback (most recent call last)",
      "\u001b[0;32m<ipython-input-630-584ef64b86ed>\u001b[0m in \u001b[0;36m<module>\u001b[0;34m\u001b[0m\n\u001b[1;32m     50\u001b[0m     \u001b[0mprint\u001b[0m\u001b[0;34m(\u001b[0m\u001b[0;34m'-'\u001b[0m \u001b[0;34m*\u001b[0m \u001b[0;36m50\u001b[0m\u001b[0;34m)\u001b[0m\u001b[0;34m\u001b[0m\u001b[0;34m\u001b[0m\u001b[0m\n\u001b[1;32m     51\u001b[0m     \u001b[0mprint\u001b[0m\u001b[0;34m(\u001b[0m\u001b[0;34m'Iteration'\u001b[0m\u001b[0;34m,\u001b[0m \u001b[0miteration\u001b[0m\u001b[0;34m)\u001b[0m\u001b[0;34m\u001b[0m\u001b[0;34m\u001b[0m\u001b[0m\n\u001b[0;32m---> 52\u001b[0;31m     \u001b[0mtextgen_model\u001b[0m\u001b[0;34m.\u001b[0m\u001b[0mfit\u001b[0m\u001b[0;34m(\u001b[0m\u001b[0mX\u001b[0m\u001b[0;34m,\u001b[0m \u001b[0my\u001b[0m\u001b[0;34m,\u001b[0m \u001b[0mbatch_size\u001b[0m\u001b[0;34m=\u001b[0m\u001b[0;36m128\u001b[0m\u001b[0;34m,\u001b[0m \u001b[0mepochs\u001b[0m\u001b[0;34m=\u001b[0m\u001b[0;36m1\u001b[0m\u001b[0;34m)\u001b[0m\u001b[0;34m\u001b[0m\u001b[0;34m\u001b[0m\u001b[0m\n\u001b[0m\u001b[1;32m     53\u001b[0m \u001b[0;34m\u001b[0m\u001b[0m\n\u001b[1;32m     54\u001b[0m     \u001b[0mstart_index\u001b[0m \u001b[0;34m=\u001b[0m \u001b[0mnp\u001b[0m\u001b[0;34m.\u001b[0m\u001b[0mrandom\u001b[0m\u001b[0;34m.\u001b[0m\u001b[0mrandint\u001b[0m\u001b[0;34m(\u001b[0m\u001b[0;36m0\u001b[0m\u001b[0;34m,\u001b[0m \u001b[0mlen\u001b[0m\u001b[0;34m(\u001b[0m\u001b[0mtext\u001b[0m\u001b[0;34m)\u001b[0m \u001b[0;34m-\u001b[0m \u001b[0mmaxlen\u001b[0m \u001b[0;34m-\u001b[0m \u001b[0;36m1\u001b[0m\u001b[0;34m)\u001b[0m\u001b[0;34m\u001b[0m\u001b[0;34m\u001b[0m\u001b[0m\n",
      "\u001b[0;32m~/opt/anaconda3/envs/tensorflow/lib/python3.7/site-packages/tensorflow/python/keras/engine/training.py\u001b[0m in \u001b[0;36m_method_wrapper\u001b[0;34m(self, *args, **kwargs)\u001b[0m\n\u001b[1;32m    106\u001b[0m \u001b[0;34m\u001b[0m\u001b[0m\n\u001b[1;32m    107\u001b[0m   \u001b[0;31m`\u001b[0m\u001b[0;31m`\u001b[0m\u001b[0;31m`\u001b[0m\u001b[0mpython\u001b[0m\u001b[0;34m\u001b[0m\u001b[0;34m\u001b[0m\u001b[0m\n\u001b[0;32m--> 108\u001b[0;31m   \u001b[0;32mimport\u001b[0m \u001b[0mtensorflow\u001b[0m \u001b[0;32mas\u001b[0m \u001b[0mtf\u001b[0m\u001b[0;34m\u001b[0m\u001b[0;34m\u001b[0m\u001b[0m\n\u001b[0m\u001b[1;32m    109\u001b[0m \u001b[0;34m\u001b[0m\u001b[0m\n\u001b[1;32m    110\u001b[0m   \u001b[0;32mclass\u001b[0m \u001b[0mMyModel\u001b[0m\u001b[0;34m(\u001b[0m\u001b[0mtf\u001b[0m\u001b[0;34m.\u001b[0m\u001b[0mkeras\u001b[0m\u001b[0;34m.\u001b[0m\u001b[0mModel\u001b[0m\u001b[0;34m)\u001b[0m\u001b[0;34m:\u001b[0m\u001b[0;34m\u001b[0m\u001b[0;34m\u001b[0m\u001b[0m\n",
      "\u001b[0;32m~/opt/anaconda3/envs/tensorflow/lib/python3.7/site-packages/tensorflow/python/keras/engine/training.py\u001b[0m in \u001b[0;36mfit\u001b[0;34m(self, x, y, batch_size, epochs, verbose, callbacks, validation_split, validation_data, shuffle, class_weight, sample_weight, initial_epoch, steps_per_epoch, validation_steps, validation_batch_size, validation_freq, max_queue_size, workers, use_multiprocessing)\u001b[0m\n\u001b[1;32m   1096\u001b[0m                      \u001b[0mx\u001b[0m\u001b[0;34m,\u001b[0m\u001b[0;34m\u001b[0m\u001b[0;34m\u001b[0m\u001b[0m\n\u001b[1;32m   1097\u001b[0m                      \u001b[0my\u001b[0m\u001b[0;34m=\u001b[0m\u001b[0;32mNone\u001b[0m\u001b[0;34m,\u001b[0m\u001b[0;34m\u001b[0m\u001b[0;34m\u001b[0m\u001b[0m\n\u001b[0;32m-> 1098\u001b[0;31m                      \u001b[0msample_weight\u001b[0m\u001b[0;34m=\u001b[0m\u001b[0;32mNone\u001b[0m\u001b[0;34m,\u001b[0m\u001b[0;34m\u001b[0m\u001b[0;34m\u001b[0m\u001b[0m\n\u001b[0m\u001b[1;32m   1099\u001b[0m                      \u001b[0mclass_weight\u001b[0m\u001b[0;34m=\u001b[0m\u001b[0;32mNone\u001b[0m\u001b[0;34m,\u001b[0m\u001b[0;34m\u001b[0m\u001b[0;34m\u001b[0m\u001b[0m\n\u001b[1;32m   1100\u001b[0m                      reset_metrics=True):\n",
      "\u001b[0;32m~/opt/anaconda3/envs/tensorflow/lib/python3.7/site-packages/tensorflow/python/eager/def_function.py\u001b[0m in \u001b[0;36m__call__\u001b[0;34m(self, *args, **kwds)\u001b[0m\n\u001b[1;32m    778\u001b[0m       \u001b[0mtf\u001b[0m\u001b[0;34m.\u001b[0m\u001b[0mcompat\u001b[0m\u001b[0;34m.\u001b[0m\u001b[0mv1\u001b[0m\u001b[0;34m.\u001b[0m\u001b[0mpy_func\u001b[0m\u001b[0;34m(\u001b[0m\u001b[0;32mlambda\u001b[0m \u001b[0mi\u001b[0m\u001b[0;34m:\u001b[0m \u001b[0ml\u001b[0m\u001b[0;34m.\u001b[0m\u001b[0mappend\u001b[0m\u001b[0;34m(\u001b[0m\u001b[0mi\u001b[0m\u001b[0;34m)\u001b[0m\u001b[0;34m)\u001b[0m\u001b[0;34m(\u001b[0m\u001b[0mi\u001b[0m\u001b[0;34m)\u001b[0m  \u001b[0;31m# Works\u001b[0m\u001b[0;34m\u001b[0m\u001b[0;34m\u001b[0m\u001b[0m\n\u001b[1;32m    779\u001b[0m       \u001b[0ml\u001b[0m\u001b[0;34m.\u001b[0m\u001b[0mappend\u001b[0m\u001b[0;34m(\u001b[0m\u001b[0mi\u001b[0m\u001b[0;34m)\u001b[0m                           \u001b[0;31m# Caution! Doesn't work.\u001b[0m\u001b[0;34m\u001b[0m\u001b[0;34m\u001b[0m\u001b[0m\n\u001b[0;32m--> 780\u001b[0;31m   \u001b[0;31m`\u001b[0m\u001b[0;31m`\u001b[0m\u001b[0;31m`\u001b[0m\u001b[0;34m\u001b[0m\u001b[0;34m\u001b[0m\u001b[0m\n\u001b[0m\u001b[1;32m    781\u001b[0m \u001b[0;34m\u001b[0m\u001b[0m\n\u001b[1;32m    782\u001b[0m   \u001b[0mNote\u001b[0m \u001b[0mthat\u001b[0m \u001b[0munlike\u001b[0m \u001b[0mother\u001b[0m \u001b[0mTensorFlow\u001b[0m \u001b[0moperations\u001b[0m\u001b[0;34m,\u001b[0m \u001b[0mwe\u001b[0m \u001b[0mdon\u001b[0m\u001b[0;31m'\u001b[0m\u001b[0mt\u001b[0m \u001b[0mconvert\u001b[0m \u001b[0mpython\u001b[0m\u001b[0;34m\u001b[0m\u001b[0;34m\u001b[0m\u001b[0m\n",
      "\u001b[0;32m~/opt/anaconda3/envs/tensorflow/lib/python3.7/site-packages/tensorflow/python/eager/def_function.py\u001b[0m in \u001b[0;36m_call\u001b[0;34m(self, *args, **kwds)\u001b[0m\n\u001b[1;32m    805\u001b[0m \u001b[0;34m\u001b[0m\u001b[0m\n\u001b[1;32m    806\u001b[0m   \u001b[0;32massert\u001b[0m \u001b[0mint\u001b[0m\u001b[0;34m(\u001b[0m\u001b[0mc\u001b[0m\u001b[0;34m)\u001b[0m \u001b[0;34m==\u001b[0m \u001b[0;36m0\u001b[0m\u001b[0;34m\u001b[0m\u001b[0;34m\u001b[0m\u001b[0m\n\u001b[0;32m--> 807\u001b[0;31m   \u001b[0;32massert\u001b[0m \u001b[0mf\u001b[0m\u001b[0;34m(\u001b[0m\u001b[0;36m1.0\u001b[0m\u001b[0;34m)\u001b[0m \u001b[0;34m==\u001b[0m \u001b[0;36m2.0\u001b[0m\u001b[0;34m\u001b[0m\u001b[0;34m\u001b[0m\u001b[0m\n\u001b[0m\u001b[1;32m    808\u001b[0m   \u001b[0;32massert\u001b[0m \u001b[0mint\u001b[0m\u001b[0;34m(\u001b[0m\u001b[0mc\u001b[0m\u001b[0;34m)\u001b[0m \u001b[0;34m==\u001b[0m \u001b[0;36m1\u001b[0m\u001b[0;34m\u001b[0m\u001b[0;34m\u001b[0m\u001b[0m\n\u001b[1;32m    809\u001b[0m   \u001b[0;32massert\u001b[0m \u001b[0mf\u001b[0m\u001b[0;34m(\u001b[0m\u001b[0;36m1.0\u001b[0m\u001b[0;34m)\u001b[0m \u001b[0;34m==\u001b[0m \u001b[0;36m3.0\u001b[0m\u001b[0;34m\u001b[0m\u001b[0;34m\u001b[0m\u001b[0m\n",
      "\u001b[0;32m~/opt/anaconda3/envs/tensorflow/lib/python3.7/site-packages/tensorflow/python/eager/function.py\u001b[0m in \u001b[0;36m__call__\u001b[0;34m(self, *args, **kwargs)\u001b[0m\n",
      "\u001b[0;32m~/opt/anaconda3/envs/tensorflow/lib/python3.7/site-packages/tensorflow/python/eager/function.py\u001b[0m in \u001b[0;36m_filtered_call\u001b[0;34m(self, args, kwargs, cancellation_manager)\u001b[0m\n\u001b[1;32m   1846\u001b[0m   \u001b[0mmy_sequence_model\u001b[0m\u001b[0;34m(\u001b[0m\u001b[0mwords\u001b[0m\u001b[0;34m,\u001b[0m \u001b[0msecond_input\u001b[0m\u001b[0;34m)\u001b[0m\u001b[0;34m\u001b[0m\u001b[0;34m\u001b[0m\u001b[0m\n\u001b[1;32m   1847\u001b[0m \u001b[0;34m\u001b[0m\u001b[0m\n\u001b[0;32m-> 1848\u001b[0;31m   \u001b[0;31m# Passing an input with an incompatible shape will raise an error.\u001b[0m\u001b[0;34m\u001b[0m\u001b[0;34m\u001b[0m\u001b[0;34m\u001b[0m\u001b[0m\n\u001b[0m\u001b[1;32m   1849\u001b[0m   words = tf.random.uniform(([50, 100, 20])\n\u001b[1;32m   1850\u001b[0m   \u001b[0mmy_sequence_model\u001b[0m\u001b[0;34m(\u001b[0m\u001b[0mwords\u001b[0m\u001b[0;34m,\u001b[0m \u001b[0msecond_input\u001b[0m\u001b[0;34m)\u001b[0m  \u001b[0;31m# <---- This will raise an error.\u001b[0m\u001b[0;34m\u001b[0m\u001b[0;34m\u001b[0m\u001b[0m\n",
      "\u001b[0;32m~/opt/anaconda3/envs/tensorflow/lib/python3.7/site-packages/tensorflow/python/eager/function.py\u001b[0m in \u001b[0;36m_call_flat\u001b[0;34m(self, args, captured_inputs, cancellation_manager)\u001b[0m\n\u001b[1;32m   1922\u001b[0m   \u001b[0m_TensorFlow\u001b[0m \u001b[0mControl\u001b[0m \u001b[0mFlow_\u001b[0m\u001b[0;34m\u001b[0m\u001b[0;34m\u001b[0m\u001b[0m\n\u001b[1;32m   1923\u001b[0m \u001b[0;34m\u001b[0m\u001b[0m\n\u001b[0;32m-> 1924\u001b[0;31m   \u001b[0mWhen\u001b[0m\u001b[0;31m \u001b[0m\u001b[0;31m`\u001b[0m\u001b[0mautograph\u001b[0m\u001b[0;31m`\u001b[0m \u001b[0;32mis\u001b[0m\u001b[0;31m \u001b[0m\u001b[0;31m`\u001b[0m\u001b[0;32mTrue\u001b[0m\u001b[0;31m`\u001b[0m\u001b[0;34m,\u001b[0m \u001b[0mdata\u001b[0m\u001b[0;34m-\u001b[0m\u001b[0mdependent\u001b[0m \u001b[0mcontrol\u001b[0m \u001b[0mflow\u001b[0m \u001b[0;32mis\u001b[0m \u001b[0mallowed\u001b[0m \u001b[0;32mas\u001b[0m \u001b[0mwell\u001b[0m\u001b[0;34m.\u001b[0m\u001b[0;34m\u001b[0m\u001b[0;34m\u001b[0m\u001b[0m\n\u001b[0m\u001b[1;32m   1925\u001b[0m   \u001b[0mControl\u001b[0m \u001b[0mflow\u001b[0m \u001b[0mstatements\u001b[0m \u001b[0mthat\u001b[0m \u001b[0mdepend\u001b[0m \u001b[0mon\u001b[0m\u001b[0;31m \u001b[0m\u001b[0;31m`\u001b[0m\u001b[0mTensor\u001b[0m\u001b[0;31m`\u001b[0m \u001b[0mvalues\u001b[0m \u001b[0mare\u001b[0m \u001b[0mstaged\u001b[0m \u001b[0minto\u001b[0m\u001b[0;34m\u001b[0m\u001b[0;34m\u001b[0m\u001b[0m\n\u001b[1;32m   1926\u001b[0m   \u001b[0mcorresponding\u001b[0m \u001b[0mTensorFlow\u001b[0m \u001b[0mops\u001b[0m\u001b[0;34m.\u001b[0m \u001b[0mFor\u001b[0m \u001b[0mexample\u001b[0m\u001b[0;34m,\u001b[0m \u001b[0mthe\u001b[0m \u001b[0mfollowing\u001b[0m \u001b[0mcode\u001b[0m \u001b[0mwill\u001b[0m \u001b[0mwork\u001b[0m \u001b[0;32mas\u001b[0m\u001b[0;34m\u001b[0m\u001b[0;34m\u001b[0m\u001b[0m\n",
      "\u001b[0;32m~/opt/anaconda3/envs/tensorflow/lib/python3.7/site-packages/tensorflow/python/eager/function.py\u001b[0m in \u001b[0;36mcall\u001b[0;34m(self, ctx, args, cancellation_manager)\u001b[0m\n\u001b[1;32m    548\u001b[0m         raise TypeError(\n\u001b[1;32m    549\u001b[0m             \u001b[0;34m\"Expected argument names {} but got values for {}. Missing: {}.\"\u001b[0m\u001b[0;34m\u001b[0m\u001b[0;34m\u001b[0m\u001b[0m\n\u001b[0;32m--> 550\u001b[0;31m             .format(\n\u001b[0m\u001b[1;32m    551\u001b[0m                 \u001b[0mlist\u001b[0m\u001b[0;34m(\u001b[0m\u001b[0mself\u001b[0m\u001b[0;34m.\u001b[0m\u001b[0m_arg_keywords\u001b[0m\u001b[0;34m)\u001b[0m\u001b[0;34m,\u001b[0m\u001b[0;34m\u001b[0m\u001b[0;34m\u001b[0m\u001b[0m\n\u001b[1;32m    552\u001b[0m                 \u001b[0mspecified_keywords\u001b[0m\u001b[0;34m,\u001b[0m\u001b[0;34m\u001b[0m\u001b[0;34m\u001b[0m\u001b[0m\n",
      "\u001b[0;32m~/opt/anaconda3/envs/tensorflow/lib/python3.7/site-packages/tensorflow/python/eager/execute.py\u001b[0m in \u001b[0;36mquick_execute\u001b[0;34m(op_name, num_outputs, inputs, attrs, ctx, name)\u001b[0m\n\u001b[1;32m     58\u001b[0m     \u001b[0mctx\u001b[0m\u001b[0;34m.\u001b[0m\u001b[0mensure_initialized\u001b[0m\u001b[0;34m(\u001b[0m\u001b[0;34m)\u001b[0m\u001b[0;34m\u001b[0m\u001b[0;34m\u001b[0m\u001b[0m\n\u001b[1;32m     59\u001b[0m     tensors = pywrap_tensorflow.TFE_Py_Execute(ctx._handle, device_name,\n\u001b[0;32m---> 60\u001b[0;31m                                                \u001b[0mop_name\u001b[0m\u001b[0;34m,\u001b[0m \u001b[0minputs\u001b[0m\u001b[0;34m,\u001b[0m \u001b[0mattrs\u001b[0m\u001b[0;34m,\u001b[0m\u001b[0;34m\u001b[0m\u001b[0;34m\u001b[0m\u001b[0m\n\u001b[0m\u001b[1;32m     61\u001b[0m                                                num_outputs)\n\u001b[1;32m     62\u001b[0m   \u001b[0;32mexcept\u001b[0m \u001b[0mcore\u001b[0m\u001b[0;34m.\u001b[0m\u001b[0m_NotOkStatusException\u001b[0m \u001b[0;32mas\u001b[0m \u001b[0me\u001b[0m\u001b[0;34m:\u001b[0m\u001b[0;34m\u001b[0m\u001b[0;34m\u001b[0m\u001b[0m\n",
      "\u001b[0;31mKeyboardInterrupt\u001b[0m: "
     ]
    }
   ],
   "source": [
    "print('corpus length:', len(text))\n",
    "\n",
    "chars = sorted(list(set(text)))\n",
    "print('total chars:', len(chars))\n",
    "print(chars)\n",
    "char_indices = dict((c, i) for i, c in enumerate(chars))\n",
    "indices_char = dict((i, c) for i, c in enumerate(chars))\n",
    "\n",
    "# cut the text in semi-redundant sequences of maxlen characters\n",
    "maxlen = 40\n",
    "step = 3\n",
    "sentences = []\n",
    "next_chars = []\n",
    "for i in range(0, len(text) - maxlen, step):\n",
    "    sentences.append(text[i: i + maxlen])\n",
    "    next_chars.append(text[i + maxlen])\n",
    "print('nb sequences:', len(sentences))\n",
    "\n",
    "print('Vectorization...')\n",
    "X = np.zeros((len(sentences), maxlen, len(chars)), dtype=np.bool)\n",
    "y = np.zeros((len(sentences), len(chars)), dtype=np.bool)\n",
    "for i, sentence in enumerate(sentences):\n",
    "    for t, char in enumerate(sentence):\n",
    "        X[i, t, char_indices[char]] = 1\n",
    "    y[i, char_indices[next_chars[i]]] = 1\n",
    "\n",
    "\n",
    "# build the model: a single LSTM\n",
    "print('Build model...')\n",
    "textgen_model = Sequential()\n",
    "textgen_model.add(LSTM(128, input_shape=(maxlen, len(chars))))\n",
    "textgen_model.add(Dense(len(chars)))\n",
    "textgen_model.add(Activation('softmax'))\n",
    "\n",
    "optimizer = RMSprop(lr=0.01)\n",
    "textgen_model.compile(loss='categorical_crossentropy', optimizer=optimizer)\n",
    "\n",
    "\n",
    "def sample(preds, temperature=1.0):\n",
    "    # helper function to sample an index from a probability array\n",
    "    preds = np.asarray(preds).astype('float64')\n",
    "    preds = np.log(preds) / temperature\n",
    "    exp_preds = np.exp(preds)\n",
    "    preds = exp_preds / np.sum(exp_preds)\n",
    "    probas = np.random.multinomial(1, preds, 1)\n",
    "    return np.argmax(probas)\n",
    "\n",
    "# train the model, output generated text after each iteration\n",
    "for iteration in range(1, 60):\n",
    "    print()\n",
    "    print('-' * 50)\n",
    "    print('Iteration', iteration)\n",
    "    textgen_model.fit(X, y, batch_size=128, epochs=1)\n",
    "\n",
    "    start_index = np.random.randint(0, len(text) - maxlen - 1)\n",
    "\n",
    "    for diversity in [0.2, 0.5, 1.0, 1.2]:\n",
    "        print()\n",
    "        print('----- diversity:', diversity)\n",
    "\n",
    "        generated = ''\n",
    "        sentence = text[start_index: start_index + maxlen]\n",
    "        generated += sentence\n",
    "        print('----- Generating with seed: \"' + sentence + '\"')\n",
    "        sys.stdout.write(generated)\n",
    "\n",
    "        for i in range(400):\n",
    "            x = np.zeros((1, maxlen, len(chars)))\n",
    "            for t, char in enumerate(sentence):\n",
    "                x[0, t, char_indices[char]] = 1.\n",
    "\n",
    "            preds = textgen_model.predict(x, verbose=0)[0]\n",
    "            next_index = sample(preds, diversity)\n",
    "            next_char = indices_char[next_index]\n",
    "\n",
    "            generated += next_char\n",
    "            sentence = sentence[1:] + next_char\n",
    "\n",
    "            sys.stdout.write(next_char)\n",
    "            sys.stdout.flush()\n",
    "        print()"
   ]
  },
  {
   "cell_type": "markdown",
   "metadata": {},
   "source": [
    "## Word (Pose) Based: \n",
    "\n",
    "Switch from char-based to word-based LM (language model)\n"
   ]
  },
  {
   "cell_type": "markdown",
   "metadata": {},
   "source": [
    "## Create sequences:\n",
    "Sequences of length 51 to train on! "
   ]
  },
  {
   "cell_type": "code",
   "execution_count": 60,
   "metadata": {
    "tags": []
   },
   "outputs": [
    {
     "output_type": "stream",
     "name": "stdout",
     "text": "Total tokens:  1624681\nUnique tokens:  169\n"
    }
   ],
   "source": [
    "# tokenized, all base_poses in all 50000 yoga classes in a single list \n",
    "tokens = all_classes\n",
    "print(\"Total tokens: \", len(tokens))\n",
    "print(\"Unique tokens: \", len(set(tokens)))\n"
   ]
  },
  {
   "cell_type": "code",
   "execution_count": 61,
   "metadata": {
    "tags": []
   },
   "outputs": [
    {
     "output_type": "stream",
     "name": "stdout",
     "text": "Total tokens:  1906599\nUnique tokens:  15372\n"
    }
   ],
   "source": [
    "# poses from original classes (not reduced to base poses):\n",
    "tokens2 = [pose for yogaclass in documents for pose in yogaclass]\n",
    "print(\"Total tokens: \", len(tokens2))\n",
    "print(\"Unique tokens: \", len(set(tokens2)))"
   ]
  },
  {
   "cell_type": "markdown",
   "metadata": {},
   "source": [
    "Seeing as there are only 3600 unique yoga poses listed on the website as possible options to choose from, clearly 15000 unique 'poses' means some of what's included in the classes are unique things written by the teachers (cues, transitions, standalone variations such as \"raise arms over head\"... hmm). I'm interested in trying to generated classes from both. Again, the more variation the better really, expose practitioners using the app to new things, but for animation sake (as in me animated all the poses for the front end) less is better for now.... "
   ]
  },
  {
   "cell_type": "code",
   "execution_count": 75,
   "metadata": {
    "tags": []
   },
   "outputs": [
    {
     "output_type": "stream",
     "name": "stdout",
     "text": "Total Sequences: 1624630\n"
    }
   ],
   "source": [
    "# splitting tokens into sequences of 50 input poses, 1 output pose\n",
    "# so this creates tons of duplicates, and overlaps across classes since they're all one big text. this is where it would be useful to confine to single class-query \n",
    "\n",
    "length = 50 + 1\n",
    "sequences = list()\n",
    "for i in range(length, len(tokens)):\n",
    "    seq = tokens[i-length:i]\n",
    "    sequences.append(seq)\n",
    "print(\"Total Sequences:\", len(sequences))"
   ]
  },
  {
   "cell_type": "code",
   "execution_count": 77,
   "metadata": {},
   "outputs": [
    {
     "output_type": "execute_result",
     "data": {
      "text/plain": "list"
     },
     "metadata": {},
     "execution_count": 77
    }
   ],
   "source": [
    "type(sequences[0])"
   ]
  },
  {
   "cell_type": "markdown",
   "metadata": {},
   "source": [
    "## Train language model"
   ]
  },
  {
   "cell_type": "code",
   "execution_count": 78,
   "metadata": {},
   "outputs": [],
   "source": [
    "lines = sequences"
   ]
  },
  {
   "cell_type": "code",
   "execution_count": 79,
   "metadata": {},
   "outputs": [
    {
     "output_type": "execute_result",
     "data": {
      "text/plain": "list"
     },
     "metadata": {},
     "execution_count": 79
    }
   ],
   "source": [
    "type(lines)"
   ]
  },
  {
   "cell_type": "code",
   "execution_count": 81,
   "metadata": {},
   "outputs": [],
   "source": [
    "tokenizer2=Tokenizer()\n",
    "tokenizer2.fit_on_texts(lines)\n",
    "sequences = tokenizer2.texts_to_sequences(lines)"
   ]
  },
  {
   "cell_type": "code",
   "execution_count": 82,
   "metadata": {},
   "outputs": [
    {
     "output_type": "execute_result",
     "data": {
      "text/plain": "169"
     },
     "metadata": {},
     "execution_count": 82
    }
   ],
   "source": [
    "vocab_size = len(tokenizer2.word_index)\n",
    "vocab_size"
   ]
  },
  {
   "cell_type": "code",
   "execution_count": 94,
   "metadata": {},
   "outputs": [
    {
     "output_type": "execute_result",
     "data": {
      "text/plain": "51"
     },
     "metadata": {},
     "execution_count": 94
    }
   ],
   "source": [
    "len(sequences[0])"
   ]
  },
  {
   "cell_type": "code",
   "execution_count": 83,
   "metadata": {},
   "outputs": [],
   "source": [
    "from keras.utils import to_categorical"
   ]
  },
  {
   "cell_type": "code",
   "execution_count": 868,
   "metadata": {},
   "outputs": [],
   "source": [
    "seq_array = np.array(sequences)"
   ]
  },
  {
   "cell_type": "code",
   "execution_count": 85,
   "metadata": {},
   "outputs": [
    {
     "output_type": "error",
     "ename": "NameError",
     "evalue": "name 'seq_array' is not defined",
     "traceback": [
      "\u001b[0;31m---------------------------------------------------------------------------\u001b[0m",
      "\u001b[0;31mNameError\u001b[0m                                 Traceback (most recent call last)",
      "\u001b[0;32m<ipython-input-85-d89a9b252fde>\u001b[0m in \u001b[0;36m<module>\u001b[0;34m\u001b[0m\n\u001b[0;32m----> 1\u001b[0;31m \u001b[0mX_array\u001b[0m \u001b[0;34m=\u001b[0m \u001b[0mseq_array\u001b[0m\u001b[0;34m[\u001b[0m\u001b[0;34m:\u001b[0m\u001b[0;34m,\u001b[0m\u001b[0;34m:\u001b[0m\u001b[0;34m-\u001b[0m\u001b[0;36m1\u001b[0m\u001b[0;34m]\u001b[0m\u001b[0;34m\u001b[0m\u001b[0;34m\u001b[0m\u001b[0m\n\u001b[0m",
      "\u001b[0;31mNameError\u001b[0m: name 'seq_array' is not defined"
     ]
    }
   ],
   "source": [
    "X_array = seq_array[:,:-1]"
   ]
  },
  {
   "cell_type": "code",
   "execution_count": 95,
   "metadata": {},
   "outputs": [
    {
     "output_type": "error",
     "ename": "IndexError",
     "evalue": "index 169 is out of bounds for axis 1 with size 169",
     "traceback": [
      "\u001b[0;31m---------------------------------------------------------------------------\u001b[0m",
      "\u001b[0;31mIndexError\u001b[0m                                Traceback (most recent call last)",
      "\u001b[0;32m<ipython-input-95-9d9b40a44349>\u001b[0m in \u001b[0;36m<module>\u001b[0;34m\u001b[0m\n\u001b[1;32m      2\u001b[0m \u001b[0mX\u001b[0m \u001b[0;34m=\u001b[0m \u001b[0;34m[\u001b[0m\u001b[0mx\u001b[0m\u001b[0;34m[\u001b[0m\u001b[0;34m:\u001b[0m\u001b[0;34m-\u001b[0m\u001b[0;36m1\u001b[0m\u001b[0;34m]\u001b[0m \u001b[0;32mfor\u001b[0m \u001b[0mx\u001b[0m \u001b[0;32min\u001b[0m \u001b[0msequences\u001b[0m\u001b[0;34m]\u001b[0m\u001b[0;34m\u001b[0m\u001b[0;34m\u001b[0m\u001b[0m\n\u001b[1;32m      3\u001b[0m \u001b[0my\u001b[0m \u001b[0;34m=\u001b[0m \u001b[0;34m[\u001b[0m\u001b[0my\u001b[0m\u001b[0;34m[\u001b[0m\u001b[0;34m-\u001b[0m\u001b[0;36m1\u001b[0m\u001b[0;34m]\u001b[0m \u001b[0;32mfor\u001b[0m \u001b[0my\u001b[0m \u001b[0;32min\u001b[0m \u001b[0msequences\u001b[0m\u001b[0;34m]\u001b[0m\u001b[0;34m\u001b[0m\u001b[0;34m\u001b[0m\u001b[0m\n\u001b[0;32m----> 4\u001b[0;31m \u001b[0my\u001b[0m \u001b[0;34m=\u001b[0m \u001b[0mto_categorical\u001b[0m\u001b[0;34m(\u001b[0m\u001b[0my\u001b[0m\u001b[0;34m,\u001b[0m \u001b[0mnum_classes\u001b[0m\u001b[0;34m=\u001b[0m\u001b[0mvocab_size\u001b[0m\u001b[0;34m)\u001b[0m\u001b[0;34m\u001b[0m\u001b[0;34m\u001b[0m\u001b[0m\n\u001b[0m\u001b[1;32m      5\u001b[0m \u001b[0mseq_length\u001b[0m\u001b[0;34m=\u001b[0m\u001b[0mlen\u001b[0m\u001b[0;34m(\u001b[0m\u001b[0mX\u001b[0m\u001b[0;34m[\u001b[0m\u001b[0;36m1\u001b[0m\u001b[0;34m]\u001b[0m\u001b[0;34m)\u001b[0m\u001b[0;34m\u001b[0m\u001b[0;34m\u001b[0m\u001b[0m\n",
      "\u001b[0;32m~/opt/anaconda3/envs/tensorflow/lib/python3.7/site-packages/keras/utils/np_utils.py\u001b[0m in \u001b[0;36mto_categorical\u001b[0;34m(y, num_classes, dtype)\u001b[0m\n\u001b[1;32m     50\u001b[0m     \u001b[0mn\u001b[0m \u001b[0;34m=\u001b[0m \u001b[0my\u001b[0m\u001b[0;34m.\u001b[0m\u001b[0mshape\u001b[0m\u001b[0;34m[\u001b[0m\u001b[0;36m0\u001b[0m\u001b[0;34m]\u001b[0m\u001b[0;34m\u001b[0m\u001b[0;34m\u001b[0m\u001b[0m\n\u001b[1;32m     51\u001b[0m     \u001b[0mcategorical\u001b[0m \u001b[0;34m=\u001b[0m \u001b[0mnp\u001b[0m\u001b[0;34m.\u001b[0m\u001b[0mzeros\u001b[0m\u001b[0;34m(\u001b[0m\u001b[0;34m(\u001b[0m\u001b[0mn\u001b[0m\u001b[0;34m,\u001b[0m \u001b[0mnum_classes\u001b[0m\u001b[0;34m)\u001b[0m\u001b[0;34m,\u001b[0m \u001b[0mdtype\u001b[0m\u001b[0;34m=\u001b[0m\u001b[0mdtype\u001b[0m\u001b[0;34m)\u001b[0m\u001b[0;34m\u001b[0m\u001b[0;34m\u001b[0m\u001b[0m\n\u001b[0;32m---> 52\u001b[0;31m     \u001b[0mcategorical\u001b[0m\u001b[0;34m[\u001b[0m\u001b[0mnp\u001b[0m\u001b[0;34m.\u001b[0m\u001b[0marange\u001b[0m\u001b[0;34m(\u001b[0m\u001b[0mn\u001b[0m\u001b[0;34m)\u001b[0m\u001b[0;34m,\u001b[0m \u001b[0my\u001b[0m\u001b[0;34m]\u001b[0m \u001b[0;34m=\u001b[0m \u001b[0;36m1\u001b[0m\u001b[0;34m\u001b[0m\u001b[0;34m\u001b[0m\u001b[0m\n\u001b[0m\u001b[1;32m     53\u001b[0m     \u001b[0moutput_shape\u001b[0m \u001b[0;34m=\u001b[0m \u001b[0minput_shape\u001b[0m \u001b[0;34m+\u001b[0m \u001b[0;34m(\u001b[0m\u001b[0mnum_classes\u001b[0m\u001b[0;34m,\u001b[0m\u001b[0;34m)\u001b[0m\u001b[0;34m\u001b[0m\u001b[0;34m\u001b[0m\u001b[0m\n\u001b[1;32m     54\u001b[0m     \u001b[0mcategorical\u001b[0m \u001b[0;34m=\u001b[0m \u001b[0mnp\u001b[0m\u001b[0;34m.\u001b[0m\u001b[0mreshape\u001b[0m\u001b[0;34m(\u001b[0m\u001b[0mcategorical\u001b[0m\u001b[0;34m,\u001b[0m \u001b[0moutput_shape\u001b[0m\u001b[0;34m)\u001b[0m\u001b[0;34m\u001b[0m\u001b[0;34m\u001b[0m\u001b[0m\n",
      "\u001b[0;31mIndexError\u001b[0m: index 169 is out of bounds for axis 1 with size 169"
     ]
    }
   ],
   "source": [
    "# separate into input and output.\n",
    "X = [x[:-1] for x in sequences]\n",
    "y = [y[-1] for y in sequences]\n",
    "y = to_categorical(y, num_classes=vocab_size)\n",
    "seq_length=len(X[1])"
   ]
  },
  {
   "cell_type": "code",
   "execution_count": 863,
   "metadata": {},
   "outputs": [],
   "source": [
    "X = np.asarray(X)"
   ]
  },
  {
   "cell_type": "code",
   "execution_count": 866,
   "metadata": {},
   "outputs": [
    {
     "output_type": "error",
     "ename": "ValueError",
     "evalue": "Failed to convert a NumPy array to a Tensor (Unsupported object type numpy.ndarray).",
     "traceback": [
      "\u001b[0;31m---------------------------------------------------------------------------\u001b[0m",
      "\u001b[0;31mValueError\u001b[0m                                Traceback (most recent call last)",
      "\u001b[0;32m<ipython-input-866-87475b7862aa>\u001b[0m in \u001b[0;36m<module>\u001b[0;34m\u001b[0m\n\u001b[0;32m----> 1\u001b[0;31m \u001b[0mX\u001b[0m \u001b[0;34m=\u001b[0m \u001b[0mtf\u001b[0m\u001b[0;34m.\u001b[0m\u001b[0mconvert_to_tensor\u001b[0m\u001b[0;34m(\u001b[0m\u001b[0mX\u001b[0m\u001b[0;34m)\u001b[0m\u001b[0;34m\u001b[0m\u001b[0;34m\u001b[0m\u001b[0m\n\u001b[0m",
      "\u001b[0;32m~/opt/anaconda3/envs/tensorflow/lib/python3.7/site-packages/tensorflow/python/framework/ops.py\u001b[0m in \u001b[0;36mconvert_to_tensor_v2\u001b[0;34m(value, dtype, dtype_hint, name)\u001b[0m\n\u001b[1;32m   1380\u001b[0m   \u001b[0;32melif\u001b[0m \u001b[0misinstance\u001b[0m\u001b[0;34m(\u001b[0m\u001b[0mvalue\u001b[0m\u001b[0;34m,\u001b[0m \u001b[0m_TensorLike\u001b[0m\u001b[0;34m)\u001b[0m\u001b[0;34m:\u001b[0m\u001b[0;34m\u001b[0m\u001b[0;34m\u001b[0m\u001b[0m\n\u001b[1;32m   1381\u001b[0m     \u001b[0;32mif\u001b[0m \u001b[0mdtype\u001b[0m \u001b[0;32mand\u001b[0m \u001b[0;32mnot\u001b[0m \u001b[0mdtypes\u001b[0m\u001b[0;34m.\u001b[0m\u001b[0mas_dtype\u001b[0m\u001b[0;34m(\u001b[0m\u001b[0mdtype\u001b[0m\u001b[0;34m)\u001b[0m\u001b[0;34m.\u001b[0m\u001b[0mis_compatible_with\u001b[0m\u001b[0;34m(\u001b[0m\u001b[0mvalue\u001b[0m\u001b[0;34m.\u001b[0m\u001b[0mdtype\u001b[0m\u001b[0;34m)\u001b[0m\u001b[0;34m:\u001b[0m\u001b[0;34m\u001b[0m\u001b[0;34m\u001b[0m\u001b[0m\n\u001b[0;32m-> 1382\u001b[0;31m       raise ValueError(\n\u001b[0m\u001b[1;32m   1383\u001b[0m           \u001b[0;34m\"Tensor conversion requested dtype %s for Tensor with dtype %s: %r\"\u001b[0m \u001b[0;34m%\u001b[0m\u001b[0;34m\u001b[0m\u001b[0;34m\u001b[0m\u001b[0m\n\u001b[1;32m   1384\u001b[0m           (dtypes.as_dtype(dtype).name, value.dtype.name, str(value)))\n",
      "\u001b[0;32m~/opt/anaconda3/envs/tensorflow/lib/python3.7/site-packages/tensorflow/python/framework/ops.py\u001b[0m in \u001b[0;36mconvert_to_tensor\u001b[0;34m(value, dtype, name, as_ref, preferred_dtype, dtype_hint, ctx, accepted_result_types)\u001b[0m\n\u001b[1;32m   1497\u001b[0m     \u001b[0mas_ref\u001b[0m\u001b[0;34m:\u001b[0m \u001b[0;32mTrue\u001b[0m \u001b[0;32mif\u001b[0m \u001b[0mthe\u001b[0m \u001b[0mcaller\u001b[0m \u001b[0mwants\u001b[0m \u001b[0mthe\u001b[0m \u001b[0mresults\u001b[0m \u001b[0;32mas\u001b[0m \u001b[0mref\u001b[0m \u001b[0mtensors\u001b[0m\u001b[0;34m.\u001b[0m\u001b[0;34m\u001b[0m\u001b[0;34m\u001b[0m\u001b[0m\n\u001b[1;32m   1498\u001b[0m \u001b[0;34m\u001b[0m\u001b[0m\n\u001b[0;32m-> 1499\u001b[0;31m   \u001b[0mReturns\u001b[0m\u001b[0;34m:\u001b[0m\u001b[0;34m\u001b[0m\u001b[0;34m\u001b[0m\u001b[0m\n\u001b[0m\u001b[1;32m   1500\u001b[0m     \u001b[0mA\u001b[0m\u001b[0;31m \u001b[0m\u001b[0;31m`\u001b[0m\u001b[0mTensor\u001b[0m\u001b[0;31m`\u001b[0m \u001b[0;32mor\u001b[0m\u001b[0;31m \u001b[0m\u001b[0;31m`\u001b[0m\u001b[0mCompositeTensor\u001b[0m\u001b[0;31m`\u001b[0m\u001b[0;34m,\u001b[0m \u001b[0mbased\u001b[0m \u001b[0mon\u001b[0m\u001b[0;31m \u001b[0m\u001b[0;31m`\u001b[0m\u001b[0mvalue\u001b[0m\u001b[0;31m`\u001b[0m\u001b[0;34m.\u001b[0m\u001b[0;34m\u001b[0m\u001b[0;34m\u001b[0m\u001b[0m\n\u001b[1;32m   1501\u001b[0m \u001b[0;34m\u001b[0m\u001b[0m\n",
      "\u001b[0;32m~/opt/anaconda3/envs/tensorflow/lib/python3.7/site-packages/tensorflow/python/framework/tensor_conversion_registry.py\u001b[0m in \u001b[0;36m_default_conversion_function\u001b[0;34m(***failed resolving arguments***)\u001b[0m\n\u001b[1;32m     50\u001b[0m \u001b[0;32mdef\u001b[0m \u001b[0m_default_conversion_function\u001b[0m\u001b[0;34m(\u001b[0m\u001b[0mvalue\u001b[0m\u001b[0;34m,\u001b[0m \u001b[0mdtype\u001b[0m\u001b[0;34m,\u001b[0m \u001b[0mname\u001b[0m\u001b[0;34m,\u001b[0m \u001b[0mas_ref\u001b[0m\u001b[0;34m)\u001b[0m\u001b[0;34m:\u001b[0m\u001b[0;34m\u001b[0m\u001b[0;34m\u001b[0m\u001b[0m\n\u001b[1;32m     51\u001b[0m   \u001b[0;32mdel\u001b[0m \u001b[0mas_ref\u001b[0m  \u001b[0;31m# Unused.\u001b[0m\u001b[0;34m\u001b[0m\u001b[0;34m\u001b[0m\u001b[0m\n\u001b[0;32m---> 52\u001b[0;31m   \u001b[0;32mreturn\u001b[0m \u001b[0mconstant_op\u001b[0m\u001b[0;34m.\u001b[0m\u001b[0mconstant\u001b[0m\u001b[0;34m(\u001b[0m\u001b[0mvalue\u001b[0m\u001b[0;34m,\u001b[0m \u001b[0mdtype\u001b[0m\u001b[0;34m,\u001b[0m \u001b[0mname\u001b[0m\u001b[0;34m=\u001b[0m\u001b[0mname\u001b[0m\u001b[0;34m)\u001b[0m\u001b[0;34m\u001b[0m\u001b[0;34m\u001b[0m\u001b[0m\n\u001b[0m\u001b[1;32m     53\u001b[0m \u001b[0;34m\u001b[0m\u001b[0m\n\u001b[1;32m     54\u001b[0m \u001b[0;34m\u001b[0m\u001b[0m\n",
      "\u001b[0;32m~/opt/anaconda3/envs/tensorflow/lib/python3.7/site-packages/tensorflow/python/framework/constant_op.py\u001b[0m in \u001b[0;36mconstant\u001b[0;34m(value, dtype, shape, name)\u001b[0m\n\u001b[1;32m    262\u001b[0m                                                                 tuple(t.shape)))\n\u001b[1;32m    263\u001b[0m     \u001b[0mnum_t\u001b[0m \u001b[0;34m=\u001b[0m \u001b[0mt\u001b[0m\u001b[0;34m.\u001b[0m\u001b[0mshape\u001b[0m\u001b[0;34m.\u001b[0m\u001b[0mnum_elements\u001b[0m\u001b[0;34m(\u001b[0m\u001b[0;34m)\u001b[0m\u001b[0;34m\u001b[0m\u001b[0;34m\u001b[0m\u001b[0m\n\u001b[0;32m--> 264\u001b[0;31m     \u001b[0;31m# TODO(josh11b): Implement shape -> eager tensor conversion.\u001b[0m\u001b[0;34m\u001b[0m\u001b[0;34m\u001b[0m\u001b[0;34m\u001b[0m\u001b[0m\n\u001b[0m\u001b[1;32m    265\u001b[0m     \u001b[0;32mif\u001b[0m \u001b[0mnum_t\u001b[0m \u001b[0;34m==\u001b[0m \u001b[0mshape\u001b[0m\u001b[0;34m.\u001b[0m\u001b[0mnum_elements\u001b[0m\u001b[0;34m(\u001b[0m\u001b[0;34m)\u001b[0m\u001b[0;34m:\u001b[0m\u001b[0;34m\u001b[0m\u001b[0;34m\u001b[0m\u001b[0m\n\u001b[1;32m    266\u001b[0m       \u001b[0;32mreturn\u001b[0m \u001b[0m_eager_reshape\u001b[0m\u001b[0;34m(\u001b[0m\u001b[0mt\u001b[0m\u001b[0;34m,\u001b[0m \u001b[0mshape\u001b[0m\u001b[0;34m.\u001b[0m\u001b[0mas_list\u001b[0m\u001b[0;34m(\u001b[0m\u001b[0;34m)\u001b[0m\u001b[0;34m,\u001b[0m \u001b[0mctx\u001b[0m\u001b[0;34m)\u001b[0m\u001b[0;34m\u001b[0m\u001b[0;34m\u001b[0m\u001b[0m\n",
      "\u001b[0;32m~/opt/anaconda3/envs/tensorflow/lib/python3.7/site-packages/tensorflow/python/framework/constant_op.py\u001b[0m in \u001b[0;36m_constant_impl\u001b[0;34m(value, dtype, shape, name, verify_shape, allow_broadcast)\u001b[0m\n\u001b[1;32m    273\u001b[0m         \u001b[0;32mreturn\u001b[0m \u001b[0m_eager_identity\u001b[0m\u001b[0;34m(\u001b[0m\u001b[0mx\u001b[0m\u001b[0;34m,\u001b[0m \u001b[0mctx\u001b[0m\u001b[0;34m)\u001b[0m\u001b[0;34m\u001b[0m\u001b[0;34m\u001b[0m\u001b[0m\n\u001b[1;32m    274\u001b[0m       \u001b[0;32melse\u001b[0m\u001b[0;34m:\u001b[0m\u001b[0;34m\u001b[0m\u001b[0;34m\u001b[0m\u001b[0m\n\u001b[0;32m--> 275\u001b[0;31m         \u001b[0;32mreturn\u001b[0m \u001b[0m_eager_fill\u001b[0m\u001b[0;34m(\u001b[0m\u001b[0mshape\u001b[0m\u001b[0;34m.\u001b[0m\u001b[0mas_list\u001b[0m\u001b[0;34m(\u001b[0m\u001b[0;34m)\u001b[0m\u001b[0;34m,\u001b[0m \u001b[0mt\u001b[0m\u001b[0;34m,\u001b[0m \u001b[0mctx\u001b[0m\u001b[0;34m)\u001b[0m\u001b[0;34m\u001b[0m\u001b[0;34m\u001b[0m\u001b[0m\n\u001b[0m\u001b[1;32m    276\u001b[0m     raise TypeError(\"Eager execution of tf.constant with unsupported shape \"\n\u001b[1;32m    277\u001b[0m                     \u001b[0;34m\"(value has %d elements, shape is %s with %d elements).\"\u001b[0m \u001b[0;34m%\u001b[0m\u001b[0;34m\u001b[0m\u001b[0;34m\u001b[0m\u001b[0m\n",
      "\u001b[0;32m~/opt/anaconda3/envs/tensorflow/lib/python3.7/site-packages/tensorflow/python/framework/constant_op.py\u001b[0m in \u001b[0;36m_constant_eager_impl\u001b[0;34m(ctx, value, dtype, shape, verify_shape)\u001b[0m\n\u001b[1;32m    298\u001b[0m     \u001b[0mop\u001b[0m \u001b[0;34m=\u001b[0m \u001b[0mtensor_or_op\u001b[0m\u001b[0;34m\u001b[0m\u001b[0;34m\u001b[0m\u001b[0m\n\u001b[1;32m    299\u001b[0m   \u001b[0;32mreturn\u001b[0m \u001b[0mop\u001b[0m\u001b[0;34m.\u001b[0m\u001b[0mtype\u001b[0m \u001b[0;34m==\u001b[0m \u001b[0;34m\"Const\"\u001b[0m\u001b[0;34m\u001b[0m\u001b[0;34m\u001b[0m\u001b[0m\n\u001b[0;32m--> 300\u001b[0;31m \u001b[0;34m\u001b[0m\u001b[0m\n\u001b[0m\u001b[1;32m    301\u001b[0m \u001b[0;34m\u001b[0m\u001b[0m\n\u001b[1;32m    302\u001b[0m def _constant_tensor_conversion_function(v, dtype=None, name=None,\n",
      "\u001b[0;32m~/opt/anaconda3/envs/tensorflow/lib/python3.7/site-packages/tensorflow/python/framework/constant_op.py\u001b[0m in \u001b[0;36mconvert_to_eager_tensor\u001b[0;34m(value, ctx, dtype)\u001b[0m\n\u001b[1;32m     96\u001b[0m     \u001b[0;32mexcept\u001b[0m \u001b[0mAttributeError\u001b[0m\u001b[0;34m:\u001b[0m\u001b[0;34m\u001b[0m\u001b[0;34m\u001b[0m\u001b[0m\n\u001b[1;32m     97\u001b[0m       \u001b[0mdtype\u001b[0m \u001b[0;34m=\u001b[0m \u001b[0mdtypes\u001b[0m\u001b[0;34m.\u001b[0m\u001b[0mas_dtype\u001b[0m\u001b[0;34m(\u001b[0m\u001b[0mdtype\u001b[0m\u001b[0;34m)\u001b[0m\u001b[0;34m.\u001b[0m\u001b[0mas_datatype_enum\u001b[0m\u001b[0;34m\u001b[0m\u001b[0;34m\u001b[0m\u001b[0m\n\u001b[0;32m---> 98\u001b[0;31m   \u001b[0mctx\u001b[0m\u001b[0;34m.\u001b[0m\u001b[0mensure_initialized\u001b[0m\u001b[0;34m(\u001b[0m\u001b[0;34m)\u001b[0m\u001b[0;34m\u001b[0m\u001b[0;34m\u001b[0m\u001b[0m\n\u001b[0m\u001b[1;32m     99\u001b[0m   \u001b[0mdevice\u001b[0m \u001b[0;34m=\u001b[0m \u001b[0mctx\u001b[0m\u001b[0;34m.\u001b[0m\u001b[0mdevice_name\u001b[0m\u001b[0;34m\u001b[0m\u001b[0;34m\u001b[0m\u001b[0m\n\u001b[1;32m    100\u001b[0m   \u001b[0mhandle\u001b[0m \u001b[0;34m=\u001b[0m \u001b[0mctx\u001b[0m\u001b[0;34m.\u001b[0m\u001b[0m_handle\u001b[0m  \u001b[0;31m# pylint: disable=protected-access\u001b[0m\u001b[0;34m\u001b[0m\u001b[0;34m\u001b[0m\u001b[0m\n",
      "\u001b[0;31mValueError\u001b[0m: Failed to convert a NumPy array to a Tensor (Unsupported object type numpy.ndarray)."
     ]
    }
   ],
   "source": [
    "X = tf.convert_to_tensor(X)"
   ]
  },
  {
   "cell_type": "markdown",
   "metadata": {},
   "source": [
    "## Fit Model"
   ]
  },
  {
   "cell_type": "code",
   "execution_count": 841,
   "metadata": {},
   "outputs": [],
   "source": [
    "embedding_dim = 100 # weights were originally trained on 100"
   ]
  },
  {
   "cell_type": "code",
   "execution_count": 846,
   "metadata": {
    "tags": []
   },
   "outputs": [
    {
     "output_type": "stream",
     "name": "stdout",
     "text": "Model: \"sequential_34\"\n_________________________________________________________________\nLayer (type)                 Output Shape              Param #   \n=================================================================\nembedding_21 (Embedding)     (None, None, 100)         16900     \n_________________________________________________________________\nlstm_37 (LSTM)               (None, None, 100)         80400     \n_________________________________________________________________\nlstm_38 (LSTM)               (None, 100)               80400     \n_________________________________________________________________\ndense_45 (Dense)             (None, 100)               10100     \n_________________________________________________________________\ndense_46 (Dense)             (None, 169)               17069     \n=================================================================\nTotal params: 204,869\nTrainable params: 187,969\nNon-trainable params: 16,900\n_________________________________________________________________\nNone\n"
    }
   ],
   "source": [
    "model = Sequential()\n",
    "model.add(Embedding(vocab_size, embedding_dim, weights=[embedding_matrix], trainable=False))\n",
    "model.add(LSTM(100, return_sequences=True))\n",
    "model.add(LSTM(100))\n",
    "model.add(Dense(100, activation=\"relu\"))\n",
    "model.add(Dense(vocab_size, activation=\"softmax\"))\n",
    "print(model.summary())"
   ]
  },
  {
   "cell_type": "code",
   "execution_count": 865,
   "metadata": {},
   "outputs": [
    {
     "output_type": "error",
     "ename": "ValueError",
     "evalue": "Failed to convert a NumPy array to a Tensor (Unsupported object type numpy.ndarray).",
     "traceback": [
      "\u001b[0;31m---------------------------------------------------------------------------\u001b[0m",
      "\u001b[0;31mValueError\u001b[0m                                Traceback (most recent call last)",
      "\u001b[0;32m<ipython-input-865-b359979226e8>\u001b[0m in \u001b[0;36m<module>\u001b[0;34m\u001b[0m\n\u001b[1;32m      1\u001b[0m \u001b[0mmodel\u001b[0m\u001b[0;34m.\u001b[0m\u001b[0mcompile\u001b[0m\u001b[0;34m(\u001b[0m\u001b[0mloss\u001b[0m\u001b[0;34m=\u001b[0m\u001b[0;34m'categorical_crossentropy'\u001b[0m\u001b[0;34m,\u001b[0m \u001b[0moptimizer\u001b[0m\u001b[0;34m=\u001b[0m\u001b[0;34m'adam'\u001b[0m\u001b[0;34m,\u001b[0m \u001b[0mmetrics\u001b[0m\u001b[0;34m=\u001b[0m\u001b[0;34m[\u001b[0m\u001b[0;34m'accuracy'\u001b[0m\u001b[0;34m]\u001b[0m\u001b[0;34m)\u001b[0m\u001b[0;34m\u001b[0m\u001b[0;34m\u001b[0m\u001b[0m\n\u001b[0;32m----> 2\u001b[0;31m \u001b[0mmodel\u001b[0m\u001b[0;34m.\u001b[0m\u001b[0mfit\u001b[0m\u001b[0;34m(\u001b[0m\u001b[0mX\u001b[0m\u001b[0;34m,\u001b[0m \u001b[0my\u001b[0m\u001b[0;34m,\u001b[0m \u001b[0mbatch_size\u001b[0m\u001b[0;34m=\u001b[0m\u001b[0;36m500\u001b[0m\u001b[0;34m,\u001b[0m \u001b[0mepochs\u001b[0m\u001b[0;34m=\u001b[0m\u001b[0;36m3\u001b[0m\u001b[0;34m,\u001b[0m \u001b[0mverbose\u001b[0m\u001b[0;34m=\u001b[0m\u001b[0;36m10\u001b[0m\u001b[0;34m)\u001b[0m\u001b[0;34m\u001b[0m\u001b[0;34m\u001b[0m\u001b[0m\n\u001b[0m",
      "\u001b[0;32m~/opt/anaconda3/envs/tensorflow/lib/python3.7/site-packages/tensorflow/python/keras/engine/training.py\u001b[0m in \u001b[0;36m_method_wrapper\u001b[0;34m(self, *args, **kwargs)\u001b[0m\n\u001b[1;32m    106\u001b[0m \u001b[0;34m\u001b[0m\u001b[0m\n\u001b[1;32m    107\u001b[0m   \u001b[0;31m`\u001b[0m\u001b[0;31m`\u001b[0m\u001b[0;31m`\u001b[0m\u001b[0mpython\u001b[0m\u001b[0;34m\u001b[0m\u001b[0;34m\u001b[0m\u001b[0m\n\u001b[0;32m--> 108\u001b[0;31m   \u001b[0;32mimport\u001b[0m \u001b[0mtensorflow\u001b[0m \u001b[0;32mas\u001b[0m \u001b[0mtf\u001b[0m\u001b[0;34m\u001b[0m\u001b[0;34m\u001b[0m\u001b[0m\n\u001b[0m\u001b[1;32m    109\u001b[0m \u001b[0;34m\u001b[0m\u001b[0m\n\u001b[1;32m    110\u001b[0m   \u001b[0;32mclass\u001b[0m \u001b[0mMyModel\u001b[0m\u001b[0;34m(\u001b[0m\u001b[0mtf\u001b[0m\u001b[0;34m.\u001b[0m\u001b[0mkeras\u001b[0m\u001b[0;34m.\u001b[0m\u001b[0mModel\u001b[0m\u001b[0;34m)\u001b[0m\u001b[0;34m:\u001b[0m\u001b[0;34m\u001b[0m\u001b[0;34m\u001b[0m\u001b[0m\n",
      "\u001b[0;32m~/opt/anaconda3/envs/tensorflow/lib/python3.7/site-packages/tensorflow/python/keras/engine/training.py\u001b[0m in \u001b[0;36mfit\u001b[0;34m(self, x, y, batch_size, epochs, verbose, callbacks, validation_split, validation_data, shuffle, class_weight, sample_weight, initial_epoch, steps_per_epoch, validation_steps, validation_batch_size, validation_freq, max_queue_size, workers, use_multiprocessing)\u001b[0m\n\u001b[1;32m   1061\u001b[0m \u001b[0;34m\u001b[0m\u001b[0m\n\u001b[1;32m   1062\u001b[0m     \u001b[0;32mif\u001b[0m \u001b[0mself\u001b[0m\u001b[0;34m.\u001b[0m\u001b[0mrun_eagerly\u001b[0m\u001b[0;34m:\u001b[0m\u001b[0;34m\u001b[0m\u001b[0;34m\u001b[0m\u001b[0m\n\u001b[0;32m-> 1063\u001b[0;31m       return training_generator.predict_generator(\n\u001b[0m\u001b[1;32m   1064\u001b[0m           \u001b[0mself\u001b[0m\u001b[0;34m,\u001b[0m\u001b[0;34m\u001b[0m\u001b[0;34m\u001b[0m\u001b[0m\n\u001b[1;32m   1065\u001b[0m           \u001b[0mx\u001b[0m\u001b[0;34m,\u001b[0m\u001b[0;34m\u001b[0m\u001b[0;34m\u001b[0m\u001b[0m\n",
      "\u001b[0;32m~/opt/anaconda3/envs/tensorflow/lib/python3.7/site-packages/tensorflow/python/keras/engine/data_adapter.py\u001b[0m in \u001b[0;36m__init__\u001b[0;34m(self, x, y, sample_weight, batch_size, steps_per_epoch, initial_epoch, epochs, shuffle, class_weight, max_queue_size, workers, use_multiprocessing, model, steps_per_execution)\u001b[0m\n\u001b[1;32m   1115\u001b[0m         \u001b[0muse_multiprocessing\u001b[0m\u001b[0;34m=\u001b[0m\u001b[0muse_multiprocessing\u001b[0m\u001b[0;34m,\u001b[0m\u001b[0;34m\u001b[0m\u001b[0;34m\u001b[0m\u001b[0m\n\u001b[1;32m   1116\u001b[0m         \u001b[0mdistribution_strategy\u001b[0m\u001b[0;34m=\u001b[0m\u001b[0mds_context\u001b[0m\u001b[0;34m.\u001b[0m\u001b[0mget_strategy\u001b[0m\u001b[0;34m(\u001b[0m\u001b[0;34m)\u001b[0m\u001b[0;34m,\u001b[0m\u001b[0;34m\u001b[0m\u001b[0;34m\u001b[0m\u001b[0m\n\u001b[0;32m-> 1117\u001b[0;31m         model=model)\n\u001b[0m\u001b[1;32m   1118\u001b[0m \u001b[0;34m\u001b[0m\u001b[0m\n\u001b[1;32m   1119\u001b[0m     \u001b[0mstrategy\u001b[0m \u001b[0;34m=\u001b[0m \u001b[0mds_context\u001b[0m\u001b[0;34m.\u001b[0m\u001b[0mget_strategy\u001b[0m\u001b[0;34m(\u001b[0m\u001b[0;34m)\u001b[0m\u001b[0;34m\u001b[0m\u001b[0;34m\u001b[0m\u001b[0m\n",
      "\u001b[0;32m~/opt/anaconda3/envs/tensorflow/lib/python3.7/site-packages/tensorflow/python/keras/engine/data_adapter.py\u001b[0m in \u001b[0;36m__init__\u001b[0;34m(self, x, y, sample_weights, sample_weight_modes, batch_size, epochs, steps, shuffle, **kwargs)\u001b[0m\n\u001b[1;32m    263\u001b[0m                **kwargs):\n\u001b[1;32m    264\u001b[0m     \u001b[0msuper\u001b[0m\u001b[0;34m(\u001b[0m\u001b[0mTensorLikeDataAdapter\u001b[0m\u001b[0;34m,\u001b[0m \u001b[0mself\u001b[0m\u001b[0;34m)\u001b[0m\u001b[0;34m.\u001b[0m\u001b[0m__init__\u001b[0m\u001b[0;34m(\u001b[0m\u001b[0mx\u001b[0m\u001b[0;34m,\u001b[0m \u001b[0my\u001b[0m\u001b[0;34m,\u001b[0m \u001b[0;34m**\u001b[0m\u001b[0mkwargs\u001b[0m\u001b[0;34m)\u001b[0m\u001b[0;34m\u001b[0m\u001b[0;34m\u001b[0m\u001b[0m\n\u001b[0;32m--> 265\u001b[0;31m     \u001b[0mx\u001b[0m\u001b[0;34m,\u001b[0m \u001b[0my\u001b[0m\u001b[0;34m,\u001b[0m \u001b[0msample_weights\u001b[0m \u001b[0;34m=\u001b[0m \u001b[0m_process_tensorlike\u001b[0m\u001b[0;34m(\u001b[0m\u001b[0;34m(\u001b[0m\u001b[0mx\u001b[0m\u001b[0;34m,\u001b[0m \u001b[0my\u001b[0m\u001b[0;34m,\u001b[0m \u001b[0msample_weights\u001b[0m\u001b[0;34m)\u001b[0m\u001b[0;34m)\u001b[0m\u001b[0;34m\u001b[0m\u001b[0;34m\u001b[0m\u001b[0m\n\u001b[0m\u001b[1;32m    266\u001b[0m     sample_weight_modes = broadcast_sample_weight_modes(\n\u001b[1;32m    267\u001b[0m         sample_weights, sample_weight_modes)\n",
      "\u001b[0;32m~/opt/anaconda3/envs/tensorflow/lib/python3.7/site-packages/tensorflow/python/keras/engine/data_adapter.py\u001b[0m in \u001b[0;36m_process_tensorlike\u001b[0;34m(inputs)\u001b[0m\n\u001b[1;32m   1019\u001b[0m     \u001b[0;32mreturn\u001b[0m \u001b[0mx\u001b[0m\u001b[0;34m\u001b[0m\u001b[0;34m\u001b[0m\u001b[0m\n\u001b[1;32m   1020\u001b[0m \u001b[0;34m\u001b[0m\u001b[0m\n\u001b[0;32m-> 1021\u001b[0;31m   \u001b[0minputs\u001b[0m \u001b[0;34m=\u001b[0m \u001b[0mnest\u001b[0m\u001b[0;34m.\u001b[0m\u001b[0mmap_structure\u001b[0m\u001b[0;34m(\u001b[0m\u001b[0m_convert_numpy_and_scipy\u001b[0m\u001b[0;34m,\u001b[0m \u001b[0minputs\u001b[0m\u001b[0;34m)\u001b[0m\u001b[0;34m\u001b[0m\u001b[0;34m\u001b[0m\u001b[0m\n\u001b[0m\u001b[1;32m   1022\u001b[0m   \u001b[0;32mreturn\u001b[0m \u001b[0mnest\u001b[0m\u001b[0;34m.\u001b[0m\u001b[0mlist_to_tuple\u001b[0m\u001b[0;34m(\u001b[0m\u001b[0minputs\u001b[0m\u001b[0;34m)\u001b[0m\u001b[0;34m\u001b[0m\u001b[0;34m\u001b[0m\u001b[0m\n\u001b[1;32m   1023\u001b[0m \u001b[0;34m\u001b[0m\u001b[0m\n",
      "\u001b[0;32m~/opt/anaconda3/envs/tensorflow/lib/python3.7/site-packages/tensorflow/python/util/nest.py\u001b[0m in \u001b[0;36mmap_structure\u001b[0;34m(func, *structure, **kwargs)\u001b[0m\n\u001b[1;32m    633\u001b[0m                              \u001b[0mexpand_composites\u001b[0m\u001b[0;34m=\u001b[0m\u001b[0;32mFalse\u001b[0m\u001b[0;34m,\u001b[0m\u001b[0;34m\u001b[0m\u001b[0;34m\u001b[0m\u001b[0m\n\u001b[1;32m    634\u001b[0m                              check_subtrees_length=True):\n\u001b[0;32m--> 635\u001b[0;31m   \"\"\"Asserts that `shallow_tree` is a shallow structure of `input_tree`.\n\u001b[0m\u001b[1;32m    636\u001b[0m \u001b[0;34m\u001b[0m\u001b[0m\n\u001b[1;32m    637\u001b[0m   \u001b[0mThat\u001b[0m \u001b[0;32mis\u001b[0m\u001b[0;34m,\u001b[0m \u001b[0mthis\u001b[0m \u001b[0mfunction\u001b[0m \u001b[0mtests\u001b[0m \u001b[0;32mif\u001b[0m \u001b[0mthe\u001b[0m\u001b[0;31m \u001b[0m\u001b[0;31m`\u001b[0m\u001b[0minput_tree\u001b[0m\u001b[0;31m`\u001b[0m \u001b[0mstructure\u001b[0m \u001b[0mcan\u001b[0m \u001b[0mbe\u001b[0m \u001b[0mcreated\u001b[0m \u001b[0;32mfrom\u001b[0m\u001b[0;34m\u001b[0m\u001b[0;34m\u001b[0m\u001b[0m\n",
      "\u001b[0;32m~/opt/anaconda3/envs/tensorflow/lib/python3.7/site-packages/tensorflow/python/util/nest.py\u001b[0m in \u001b[0;36m<listcomp>\u001b[0;34m(.0)\u001b[0m\n\u001b[1;32m    633\u001b[0m                              \u001b[0mexpand_composites\u001b[0m\u001b[0;34m=\u001b[0m\u001b[0;32mFalse\u001b[0m\u001b[0;34m,\u001b[0m\u001b[0;34m\u001b[0m\u001b[0;34m\u001b[0m\u001b[0m\n\u001b[1;32m    634\u001b[0m                              check_subtrees_length=True):\n\u001b[0;32m--> 635\u001b[0;31m   \"\"\"Asserts that `shallow_tree` is a shallow structure of `input_tree`.\n\u001b[0m\u001b[1;32m    636\u001b[0m \u001b[0;34m\u001b[0m\u001b[0m\n\u001b[1;32m    637\u001b[0m   \u001b[0mThat\u001b[0m \u001b[0;32mis\u001b[0m\u001b[0;34m,\u001b[0m \u001b[0mthis\u001b[0m \u001b[0mfunction\u001b[0m \u001b[0mtests\u001b[0m \u001b[0;32mif\u001b[0m \u001b[0mthe\u001b[0m\u001b[0;31m \u001b[0m\u001b[0;31m`\u001b[0m\u001b[0minput_tree\u001b[0m\u001b[0;31m`\u001b[0m \u001b[0mstructure\u001b[0m \u001b[0mcan\u001b[0m \u001b[0mbe\u001b[0m \u001b[0mcreated\u001b[0m \u001b[0;32mfrom\u001b[0m\u001b[0;34m\u001b[0m\u001b[0;34m\u001b[0m\u001b[0m\n",
      "\u001b[0;32m~/opt/anaconda3/envs/tensorflow/lib/python3.7/site-packages/tensorflow/python/keras/engine/data_adapter.py\u001b[0m in \u001b[0;36m_convert_numpy_and_scipy\u001b[0;34m(x)\u001b[0m\n\u001b[1;32m   1014\u001b[0m       \u001b[0;32mif\u001b[0m \u001b[0missubclass\u001b[0m\u001b[0;34m(\u001b[0m\u001b[0mx\u001b[0m\u001b[0;34m.\u001b[0m\u001b[0mdtype\u001b[0m\u001b[0;34m.\u001b[0m\u001b[0mtype\u001b[0m\u001b[0;34m,\u001b[0m \u001b[0mnp\u001b[0m\u001b[0;34m.\u001b[0m\u001b[0mfloating\u001b[0m\u001b[0;34m)\u001b[0m\u001b[0;34m:\u001b[0m\u001b[0;34m\u001b[0m\u001b[0;34m\u001b[0m\u001b[0m\n\u001b[1;32m   1015\u001b[0m         \u001b[0mdtype\u001b[0m \u001b[0;34m=\u001b[0m \u001b[0mbackend\u001b[0m\u001b[0;34m.\u001b[0m\u001b[0mfloatx\u001b[0m\u001b[0;34m(\u001b[0m\u001b[0;34m)\u001b[0m\u001b[0;34m\u001b[0m\u001b[0;34m\u001b[0m\u001b[0m\n\u001b[0;32m-> 1016\u001b[0;31m       \u001b[0;32mreturn\u001b[0m \u001b[0mops\u001b[0m\u001b[0;34m.\u001b[0m\u001b[0mconvert_to_tensor\u001b[0m\u001b[0;34m(\u001b[0m\u001b[0mx\u001b[0m\u001b[0;34m,\u001b[0m \u001b[0mdtype\u001b[0m\u001b[0;34m=\u001b[0m\u001b[0mdtype\u001b[0m\u001b[0;34m)\u001b[0m\u001b[0;34m\u001b[0m\u001b[0;34m\u001b[0m\u001b[0m\n\u001b[0m\u001b[1;32m   1017\u001b[0m     \u001b[0;32melif\u001b[0m \u001b[0mscipy_sparse\u001b[0m \u001b[0;32mand\u001b[0m \u001b[0mscipy_sparse\u001b[0m\u001b[0;34m.\u001b[0m\u001b[0missparse\u001b[0m\u001b[0;34m(\u001b[0m\u001b[0mx\u001b[0m\u001b[0;34m)\u001b[0m\u001b[0;34m:\u001b[0m\u001b[0;34m\u001b[0m\u001b[0;34m\u001b[0m\u001b[0m\n\u001b[1;32m   1018\u001b[0m       \u001b[0;32mreturn\u001b[0m \u001b[0m_scipy_sparse_to_sparse_tensor\u001b[0m\u001b[0;34m(\u001b[0m\u001b[0mx\u001b[0m\u001b[0;34m)\u001b[0m\u001b[0;34m\u001b[0m\u001b[0;34m\u001b[0m\u001b[0m\n",
      "\u001b[0;32m~/opt/anaconda3/envs/tensorflow/lib/python3.7/site-packages/tensorflow/python/framework/ops.py\u001b[0m in \u001b[0;36mconvert_to_tensor\u001b[0;34m(value, dtype, name, as_ref, preferred_dtype, dtype_hint, ctx, accepted_result_types)\u001b[0m\n\u001b[1;32m   1497\u001b[0m     \u001b[0mas_ref\u001b[0m\u001b[0;34m:\u001b[0m \u001b[0;32mTrue\u001b[0m \u001b[0;32mif\u001b[0m \u001b[0mthe\u001b[0m \u001b[0mcaller\u001b[0m \u001b[0mwants\u001b[0m \u001b[0mthe\u001b[0m \u001b[0mresults\u001b[0m \u001b[0;32mas\u001b[0m \u001b[0mref\u001b[0m \u001b[0mtensors\u001b[0m\u001b[0;34m.\u001b[0m\u001b[0;34m\u001b[0m\u001b[0;34m\u001b[0m\u001b[0m\n\u001b[1;32m   1498\u001b[0m \u001b[0;34m\u001b[0m\u001b[0m\n\u001b[0;32m-> 1499\u001b[0;31m   \u001b[0mReturns\u001b[0m\u001b[0;34m:\u001b[0m\u001b[0;34m\u001b[0m\u001b[0;34m\u001b[0m\u001b[0m\n\u001b[0m\u001b[1;32m   1500\u001b[0m     \u001b[0mA\u001b[0m\u001b[0;31m \u001b[0m\u001b[0;31m`\u001b[0m\u001b[0mTensor\u001b[0m\u001b[0;31m`\u001b[0m \u001b[0;32mor\u001b[0m\u001b[0;31m \u001b[0m\u001b[0;31m`\u001b[0m\u001b[0mCompositeTensor\u001b[0m\u001b[0;31m`\u001b[0m\u001b[0;34m,\u001b[0m \u001b[0mbased\u001b[0m \u001b[0mon\u001b[0m\u001b[0;31m \u001b[0m\u001b[0;31m`\u001b[0m\u001b[0mvalue\u001b[0m\u001b[0;31m`\u001b[0m\u001b[0;34m.\u001b[0m\u001b[0;34m\u001b[0m\u001b[0;34m\u001b[0m\u001b[0m\n\u001b[1;32m   1501\u001b[0m \u001b[0;34m\u001b[0m\u001b[0m\n",
      "\u001b[0;32m~/opt/anaconda3/envs/tensorflow/lib/python3.7/site-packages/tensorflow/python/framework/tensor_conversion_registry.py\u001b[0m in \u001b[0;36m_default_conversion_function\u001b[0;34m(***failed resolving arguments***)\u001b[0m\n\u001b[1;32m     50\u001b[0m \u001b[0;32mdef\u001b[0m \u001b[0m_default_conversion_function\u001b[0m\u001b[0;34m(\u001b[0m\u001b[0mvalue\u001b[0m\u001b[0;34m,\u001b[0m \u001b[0mdtype\u001b[0m\u001b[0;34m,\u001b[0m \u001b[0mname\u001b[0m\u001b[0;34m,\u001b[0m \u001b[0mas_ref\u001b[0m\u001b[0;34m)\u001b[0m\u001b[0;34m:\u001b[0m\u001b[0;34m\u001b[0m\u001b[0;34m\u001b[0m\u001b[0m\n\u001b[1;32m     51\u001b[0m   \u001b[0;32mdel\u001b[0m \u001b[0mas_ref\u001b[0m  \u001b[0;31m# Unused.\u001b[0m\u001b[0;34m\u001b[0m\u001b[0;34m\u001b[0m\u001b[0m\n\u001b[0;32m---> 52\u001b[0;31m   \u001b[0;32mreturn\u001b[0m \u001b[0mconstant_op\u001b[0m\u001b[0;34m.\u001b[0m\u001b[0mconstant\u001b[0m\u001b[0;34m(\u001b[0m\u001b[0mvalue\u001b[0m\u001b[0;34m,\u001b[0m \u001b[0mdtype\u001b[0m\u001b[0;34m,\u001b[0m \u001b[0mname\u001b[0m\u001b[0;34m=\u001b[0m\u001b[0mname\u001b[0m\u001b[0;34m)\u001b[0m\u001b[0;34m\u001b[0m\u001b[0;34m\u001b[0m\u001b[0m\n\u001b[0m\u001b[1;32m     53\u001b[0m \u001b[0;34m\u001b[0m\u001b[0m\n\u001b[1;32m     54\u001b[0m \u001b[0;34m\u001b[0m\u001b[0m\n",
      "\u001b[0;32m~/opt/anaconda3/envs/tensorflow/lib/python3.7/site-packages/tensorflow/python/framework/constant_op.py\u001b[0m in \u001b[0;36mconstant\u001b[0;34m(value, dtype, shape, name)\u001b[0m\n\u001b[1;32m    262\u001b[0m                                                                 tuple(t.shape)))\n\u001b[1;32m    263\u001b[0m     \u001b[0mnum_t\u001b[0m \u001b[0;34m=\u001b[0m \u001b[0mt\u001b[0m\u001b[0;34m.\u001b[0m\u001b[0mshape\u001b[0m\u001b[0;34m.\u001b[0m\u001b[0mnum_elements\u001b[0m\u001b[0;34m(\u001b[0m\u001b[0;34m)\u001b[0m\u001b[0;34m\u001b[0m\u001b[0;34m\u001b[0m\u001b[0m\n\u001b[0;32m--> 264\u001b[0;31m     \u001b[0;31m# TODO(josh11b): Implement shape -> eager tensor conversion.\u001b[0m\u001b[0;34m\u001b[0m\u001b[0;34m\u001b[0m\u001b[0;34m\u001b[0m\u001b[0m\n\u001b[0m\u001b[1;32m    265\u001b[0m     \u001b[0;32mif\u001b[0m \u001b[0mnum_t\u001b[0m \u001b[0;34m==\u001b[0m \u001b[0mshape\u001b[0m\u001b[0;34m.\u001b[0m\u001b[0mnum_elements\u001b[0m\u001b[0;34m(\u001b[0m\u001b[0;34m)\u001b[0m\u001b[0;34m:\u001b[0m\u001b[0;34m\u001b[0m\u001b[0;34m\u001b[0m\u001b[0m\n\u001b[1;32m    266\u001b[0m       \u001b[0;32mreturn\u001b[0m \u001b[0m_eager_reshape\u001b[0m\u001b[0;34m(\u001b[0m\u001b[0mt\u001b[0m\u001b[0;34m,\u001b[0m \u001b[0mshape\u001b[0m\u001b[0;34m.\u001b[0m\u001b[0mas_list\u001b[0m\u001b[0;34m(\u001b[0m\u001b[0;34m)\u001b[0m\u001b[0;34m,\u001b[0m \u001b[0mctx\u001b[0m\u001b[0;34m)\u001b[0m\u001b[0;34m\u001b[0m\u001b[0;34m\u001b[0m\u001b[0m\n",
      "\u001b[0;32m~/opt/anaconda3/envs/tensorflow/lib/python3.7/site-packages/tensorflow/python/framework/constant_op.py\u001b[0m in \u001b[0;36m_constant_impl\u001b[0;34m(value, dtype, shape, name, verify_shape, allow_broadcast)\u001b[0m\n\u001b[1;32m    273\u001b[0m         \u001b[0;32mreturn\u001b[0m \u001b[0m_eager_identity\u001b[0m\u001b[0;34m(\u001b[0m\u001b[0mx\u001b[0m\u001b[0;34m,\u001b[0m \u001b[0mctx\u001b[0m\u001b[0;34m)\u001b[0m\u001b[0;34m\u001b[0m\u001b[0;34m\u001b[0m\u001b[0m\n\u001b[1;32m    274\u001b[0m       \u001b[0;32melse\u001b[0m\u001b[0;34m:\u001b[0m\u001b[0;34m\u001b[0m\u001b[0;34m\u001b[0m\u001b[0m\n\u001b[0;32m--> 275\u001b[0;31m         \u001b[0;32mreturn\u001b[0m \u001b[0m_eager_fill\u001b[0m\u001b[0;34m(\u001b[0m\u001b[0mshape\u001b[0m\u001b[0;34m.\u001b[0m\u001b[0mas_list\u001b[0m\u001b[0;34m(\u001b[0m\u001b[0;34m)\u001b[0m\u001b[0;34m,\u001b[0m \u001b[0mt\u001b[0m\u001b[0;34m,\u001b[0m \u001b[0mctx\u001b[0m\u001b[0;34m)\u001b[0m\u001b[0;34m\u001b[0m\u001b[0;34m\u001b[0m\u001b[0m\n\u001b[0m\u001b[1;32m    276\u001b[0m     raise TypeError(\"Eager execution of tf.constant with unsupported shape \"\n\u001b[1;32m    277\u001b[0m                     \u001b[0;34m\"(value has %d elements, shape is %s with %d elements).\"\u001b[0m \u001b[0;34m%\u001b[0m\u001b[0;34m\u001b[0m\u001b[0;34m\u001b[0m\u001b[0m\n",
      "\u001b[0;32m~/opt/anaconda3/envs/tensorflow/lib/python3.7/site-packages/tensorflow/python/framework/constant_op.py\u001b[0m in \u001b[0;36m_constant_eager_impl\u001b[0;34m(ctx, value, dtype, shape, verify_shape)\u001b[0m\n\u001b[1;32m    298\u001b[0m     \u001b[0mop\u001b[0m \u001b[0;34m=\u001b[0m \u001b[0mtensor_or_op\u001b[0m\u001b[0;34m\u001b[0m\u001b[0;34m\u001b[0m\u001b[0m\n\u001b[1;32m    299\u001b[0m   \u001b[0;32mreturn\u001b[0m \u001b[0mop\u001b[0m\u001b[0;34m.\u001b[0m\u001b[0mtype\u001b[0m \u001b[0;34m==\u001b[0m \u001b[0;34m\"Const\"\u001b[0m\u001b[0;34m\u001b[0m\u001b[0;34m\u001b[0m\u001b[0m\n\u001b[0;32m--> 300\u001b[0;31m \u001b[0;34m\u001b[0m\u001b[0m\n\u001b[0m\u001b[1;32m    301\u001b[0m \u001b[0;34m\u001b[0m\u001b[0m\n\u001b[1;32m    302\u001b[0m def _constant_tensor_conversion_function(v, dtype=None, name=None,\n",
      "\u001b[0;32m~/opt/anaconda3/envs/tensorflow/lib/python3.7/site-packages/tensorflow/python/framework/constant_op.py\u001b[0m in \u001b[0;36mconvert_to_eager_tensor\u001b[0;34m(value, ctx, dtype)\u001b[0m\n\u001b[1;32m     96\u001b[0m     \u001b[0;32mexcept\u001b[0m \u001b[0mAttributeError\u001b[0m\u001b[0;34m:\u001b[0m\u001b[0;34m\u001b[0m\u001b[0;34m\u001b[0m\u001b[0m\n\u001b[1;32m     97\u001b[0m       \u001b[0mdtype\u001b[0m \u001b[0;34m=\u001b[0m \u001b[0mdtypes\u001b[0m\u001b[0;34m.\u001b[0m\u001b[0mas_dtype\u001b[0m\u001b[0;34m(\u001b[0m\u001b[0mdtype\u001b[0m\u001b[0;34m)\u001b[0m\u001b[0;34m.\u001b[0m\u001b[0mas_datatype_enum\u001b[0m\u001b[0;34m\u001b[0m\u001b[0;34m\u001b[0m\u001b[0m\n\u001b[0;32m---> 98\u001b[0;31m   \u001b[0mctx\u001b[0m\u001b[0;34m.\u001b[0m\u001b[0mensure_initialized\u001b[0m\u001b[0;34m(\u001b[0m\u001b[0;34m)\u001b[0m\u001b[0;34m\u001b[0m\u001b[0;34m\u001b[0m\u001b[0m\n\u001b[0m\u001b[1;32m     99\u001b[0m   \u001b[0mdevice\u001b[0m \u001b[0;34m=\u001b[0m \u001b[0mctx\u001b[0m\u001b[0;34m.\u001b[0m\u001b[0mdevice_name\u001b[0m\u001b[0;34m\u001b[0m\u001b[0;34m\u001b[0m\u001b[0m\n\u001b[1;32m    100\u001b[0m   \u001b[0mhandle\u001b[0m \u001b[0;34m=\u001b[0m \u001b[0mctx\u001b[0m\u001b[0;34m.\u001b[0m\u001b[0m_handle\u001b[0m  \u001b[0;31m# pylint: disable=protected-access\u001b[0m\u001b[0;34m\u001b[0m\u001b[0;34m\u001b[0m\u001b[0m\n",
      "\u001b[0;31mValueError\u001b[0m: Failed to convert a NumPy array to a Tensor (Unsupported object type numpy.ndarray)."
     ]
    }
   ],
   "source": [
    "model.compile(loss='categorical_crossentropy', optimizer='adam', metrics=['accuracy'])\n",
    "model.fit(X, y, batch_size=500, epochs=3, verbose=10)"
   ]
  },
  {
   "cell_type": "code",
   "execution_count": null,
   "metadata": {},
   "outputs": [],
   "source": []
  }
 ]
}