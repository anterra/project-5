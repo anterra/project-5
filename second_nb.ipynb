{
 "metadata": {
  "language_info": {
   "codemirror_mode": {
    "name": "ipython",
    "version": 3
   },
   "file_extension": ".py",
   "mimetype": "text/x-python",
   "name": "python",
   "nbconvert_exporter": "python",
   "pygments_lexer": "ipython3",
   "version": "3.7.7-final"
  },
  "orig_nbformat": 2,
  "kernelspec": {
   "name": "tensorflow",
   "display_name": "tensorflow"
  }
 },
 "nbformat": 4,
 "nbformat_minor": 2,
 "cells": [
  {
   "cell_type": "markdown",
   "metadata": {},
   "source": [
    "# Imports"
   ]
  },
  {
   "cell_type": "code",
   "execution_count": 397,
   "metadata": {
    "tags": []
   },
   "outputs": [],
   "source": [
    "import pandas as pd\n",
    "import numpy as np\n",
    "import seaborn as sns\n",
    "import pickle\n",
    "import sklearn\n",
    "import tensorflow as tf\n",
    "KERAS_BACKEND=tf\n",
    "from tensorflow import keras\n",
    "from tensorflow.keras.utils import plot_model\n",
    "import gensim\n",
    "# import keras\n",
    "from keras.utils import to_categorical\n",
    "from keras.preprocessing.text import Tokenizer\n",
    "from keras.preprocessing.sequence import pad_sequences\n",
    "from tensorflow.keras.models import Model, Sequential, load_model\n",
    "from tensorflow.keras.layers import Dense, Activation, Dropout\n",
    "from tensorflow.keras.layers import Input, Embedding, Bidirectional, LSTM\n",
    "from gensim.models.keyedvectors import KeyedVectors"
   ]
  },
  {
   "cell_type": "code",
   "execution_count": 95,
   "metadata": {},
   "outputs": [
    {
     "output_type": "execute_result",
     "data": {
      "text/plain": "'2.3.0'"
     },
     "metadata": {},
     "execution_count": 95
    }
   ],
   "source": [
    "tf.__version__"
   ]
  },
  {
   "cell_type": "markdown",
   "metadata": {},
   "source": [
    "# Loading In Yoga Class Data"
   ]
  },
  {
   "cell_type": "code",
   "execution_count": 96,
   "metadata": {},
   "outputs": [],
   "source": [
    " f = open(\"all_poses\", \"rb\")\n",
    "all_poses = pickle.load(f)\n",
    "f.close()\n",
    "\n",
    "f = open(\"flask_app_df\", \"rb\")\n",
    "poses_info = pickle.load(f)\n",
    "f.close()\n",
    "\n",
    "f = open(\"all_yoga_classes_df\", \"rb\")\n",
    "yoga_classes = pickle.load(f)\n",
    "f.close()\n",
    "\n",
    "f = open(\"poses_df\", \"rb\")\n",
    "class_poses = pickle.load(f)\n",
    "f.close()\n",
    "\n",
    "f = open(\"vinyasa_df\", \"rb\")\n",
    "more_vinyasa = pickle.load(f)\n",
    "f.close()\n",
    "\n",
    "f = open(\"hatha_df\", \"rb\")\n",
    "more_hatha = pickle.load(f)\n",
    "f.close()"
   ]
  },
  {
   "cell_type": "code",
   "execution_count": 97,
   "metadata": {},
   "outputs": [],
   "source": [
    "df = pd.concat([yoga_classes, more_vinyasa, more_hatha])\n",
    "df = df.loc[df[\"Class Type\"].isin([\"Vinyasa\", \"Hatha\", \"Power\", \"Iyengar\", \"Ashtanga\"])]\n",
    "df.reset_index(inplace=True)"
   ]
  },
  {
   "cell_type": "code",
   "execution_count": 98,
   "metadata": {
    "tags": []
   },
   "outputs": [
    {
     "output_type": "stream",
     "name": "stdout",
     "text": "33.0\n"
    }
   ],
   "source": [
    "# average length of classes\n",
    "lengths = []\n",
    "for i in range(len(df[\"Poses\"])):\n",
    "    length = len(df[\"Poses\"][i])\n",
    "    lengths.append(length)\n",
    "print(np.average(length))"
   ]
  },
  {
   "cell_type": "markdown",
   "metadata": {},
   "source": [
    "# Tokenizing: Base Yoga Poses"
   ]
  },
  {
   "cell_type": "code",
   "execution_count": 99,
   "metadata": {},
   "outputs": [],
   "source": [
    "documents = [class_list for class_list in df[\"Poses\"]]"
   ]
  },
  {
   "cell_type": "code",
   "execution_count": 104,
   "metadata": {},
   "outputs": [],
   "source": [
    "base_poses = poses_info[[\"Pose Name\", \"Base Pose\"]]"
   ]
  },
  {
   "cell_type": "code",
   "execution_count": 105,
   "metadata": {},
   "outputs": [],
   "source": [
    "changes = [([4, 17, 47, 50, 60], \"Cycling Pose\"),\n",
    "    ([19, 40, 41, 44, 46, 28, 54, 67, 68, 72], \"High Boat To Low Boat Flow\"),\n",
    "    ([64, 66, 69, 70], \"Low Boat Pose\"),\n",
    "    ([86], \"Staff Pose\"), \n",
    "    ([87, 88, 117, 118], \"Bound Angle Forward Bend\"), \n",
    "    ([125, 135, 136, 138, 140, 141], \"One Legged Bow Pose\"), \n",
    "    ([216, 217, 218, 219], \"Pigeon Pose\"), \n",
    "    ([233, 234, 235, 236, 237, 238, 239], \"Thunderbolt Pose\"), \n",
    "    ([248, 269, 270, 271, 274], \"Cow Pose\"), \n",
    "    ([259, 260, 261, 262, 263, 364, 265, 266, 267, 268, 272, 273, 275], \"Cat Pose\"),\n",
    "    ([291], \"Hurdlers Pose\"),\n",
    "    ([293, 337, 338, 339, 340, 341, 342, 343, 344, 345, 346, 372], \"Revolved Chair Pose\"), \n",
    "    ([300, 303, 306, 307, 308], \"Chair Pose With Airplane Arms\"),\n",
    "    ([365, 369, 370], \"Figure Four Pose\"), \n",
    "    ([368], \"Shiva Squat Pose\"), \n",
    "    ([520, 521], \"Supine Spinal Twist Pose\"), \n",
    "    ([587, 588], \"Flying Pigeon Pose\"), \n",
    "    ([594, 589], \"Side Crow Pose\"), \n",
    "    ([599], \"Baby Crow Pose\"), \n",
    "    ([663, 664, 665, 666, 667, 668], \"One Legged Mountain Pose\"), \n",
    "    ([687, 758], \"One Handed Downward Facing Dog Pose\"),\n",
    "    ([688, 689, 690, 759, 760], \"Standing Splits Pose\"), \n",
    "    ([691, 692, 693, 694, 724, 735, 736, 737, 761, 762, 763, 764], \"Three Legged Downward Facing Dog Pose\"), \n",
    "    ([700, 717], \"Downward Facing Dog Upward Facing Dog Pose Flow\"), \n",
    "    ([714], \"Downward Facing Dog Pose Plank Pose Flow\"), \n",
    "    ([715], \"Downward Facing Dog Pose Table Top Pose Flow\"), \n",
    "    ([747], \"Downward Facing Dog Pose Knee To Nose\"),\n",
    "    ([748], \"Downward Facing Dog Pose Shoulder Taps\"), \n",
    "    ([749], \"Downward Facing Dog Pose to Low Lunge Pose Flow\"), \n",
    "    ([865, 866, 867, 868, 869, 870, 871, 872, 873, 874, 875, 876, 877, 878, 879, 880, 881, 882, 883, 884, 885, 886, 887, 888, 889, 890, 891, 892, 893, 894, 895, 896, 897, 898, 899, 900, 901], \"Easy Pose\"), \n",
    "    ([924, 925, 926], \"Cactus Arms\"), \n",
    "    ([998], \"Half Lotus Pose\"), \n",
    "    ([999], \"Lotus Pose\"), \n",
    "    ([1016, 1017], \"Eye Exercise\"), ([1055, 1056, 1057, 1058, 1061], \"Scorpion Pose\"), \n",
    "    ([1131, 1132, 1133, 1134, 1135, 1136, 1137, 1138, 1139, 1140, 1141, 1142, 1143, 1144, 1145, 1146, 1147, 1148, 1149, 1150, 1151], \"Chaturanga Dandasana\"),\n",
    "    ([1387], \"Headstand Pose Eagle Legs\"), \n",
    "    ([1390], \"Headstand Pose Lotus Legs\"), \n",
    "    ([1392], \"Headstand Pose Wide Legs\"), \n",
    "    ([1395, 1400, 1401, 1402, 1403, 1404, 1405, 1406, 1407], \"Tripod Headstand Pose\"), \n",
    "    ([1464, 1465, 1479, 1480, 1481, 1482], \"Revolved High Lunge Pose\"), \n",
    "    ([1466, 1467, 1468, 1469, 1483], \"Runners Lunge Pose\"), \n",
    "    ([1487, 1488, 1489, 1490, 1491, 1492, 1493, 1494, 1495, 1496, 1497, 1498, 1499, 1500, 1501, 1502, 1503, 1504, 1505, 1506, 1507, 1508, 1509, 1510, 1511, 1512, 1513, 1514, 1515, 1516, 1517, 1518, 1519, 1520, 1521, 1522, 1523, 1524, 1525, 1526, 1527, 1528, 1529, 1530, 1531, 1532, 1533], \"Wide Legged Forward Fold\"), \n",
    "    ([1487, 1509, 1510, 1511, 1512], \"Revolved Wide Legged Forward Fold\"),\n",
    "    ([1491, 1492, 1493, 1494, 1495, 1496, 1497, 1498], \"Wide Legged Forward Fold With Halfway Lift\"),\n",
    "    ([1489, 1490, 1527], \"Five Pointed Star Pose\"), \n",
    "    ([1508], \"Pyramid Pose\"), \n",
    "    ([1534, 1535, 1536, 1537, 1538, 1539, 1540, 1541, 1542, 1543, 1544, 1545, 1546, 1547, 1548, 1549, 1550, 1551, 1552, 1553, 1554, 1555, 1556, 1557, 1558, 1559, 1560, 1561, 1562, 1563, 1564, 1565, 1566], \"Pyramid Pose\"), \n",
    "    ([1584], \"Flying Lizard Pose\"), \n",
    "    ([1673, 1684, 1685, 1591, 1700, 1708, 1710, 1711, 1712], \"Revolved Low Lunge Pose\"),\n",
    "    ([1732, 1733, 1745, 1758, 1758, 1776, 1777, 1778, 1784, 1790, 1791, 1791], \"One Legged Moutain Pose\"), \n",
    "    ([1840, 1841, 1842, 1843, 1844, 1845, 1846, 1847, 1848, 1849, 1850, 1851, 1852], \"Easy Pose\"), \n",
    "    ([1873, 1874, 1875, 1876, 1877, 1878, 1879, 1880, 1881, 1882], \"Standing Side Bend Pose\"), \n",
    "    ([1891, 1892, 1893, 1901, 1901, 1903, 1904, 1915, 1916, 1917, 1918, 1919, 1920, 1921, 1922], \"King Pigeon Pose\"), \n",
    "    ([1927, 1928, 1932], \"Grasshopper Pose\"), \n",
    "    ([1929], \"Dragonfly Pose\"), \n",
    "    ([1930], \"Eight Angle Pose\"),\n",
    "    ([1934, 1970, 1971, 1972], \"One Legged Plank Pose\"), ([1939], \"Side Plank Pose\"), \n",
    "    ([1958, 1959, 1960, 1961, 1967, 1968, 1969], \"Forearm Plank Pose\"), \n",
    "    ([2173], \"Lotus Pose\"), \n",
    "    ([2188, 2189, 2190, 2191, 2192, 2193, 2194, 2195, 2196, 2197, 2198, 2199, 2200], \"Revolved Extended Side Angle Pose\"), \n",
    "    ([2189, 2195, 2196], \"Revolved High Lunge Pose\"), \n",
    "    ([2347, 2348, 2349, 2350, 2351, 2352, 2353, 2354, 2355, 2356, 2357, 2358, 2359, 2360, 2361, 2362, 2363, 2364, 2365, 2366, 2367, 2368], \"Skandasana\"),\n",
    "    ([2390, 2397], \"Anantasana\"), \n",
    "    ([2415, 2416, 2417, 2418, 2419, 2420, 2443], \"Visvamitrasana Pose\"), \n",
    "    ([2422, 2427, 2428, 2430, 2431, 2433, 2453, 2458, 2460], \"Side Plank Pose With Leg Variation\"), \n",
    "    ([2436, 2437, 2438, 2439, 2440, 2441], \"Forearm Side Plank Pose\"), \n",
    "    ([2465, 2466], \"Wild Thing Pose\"), \n",
    "    ([2482, 2483, 2484, 2486, 2487, 2488, 2489, 2480, 2492, 2493], \"Half Splits Pose\"), \n",
    "    ([2494], \"Standing Splits Pose\"), \n",
    "    ([2592, 2593, 2594], \"Firefly Pose\"), \n",
    "    ([2611, 2612, 2613, 2614, 2615, 2616, 2617, 2618, 2619, 2620, 2621], \"Forward Fold Pose With Halfway Lift\"), \n",
    "    ([2688, 2689, 2692, 2717], \"Bird Of Paradise Pose\"), \n",
    "    ([2700, 2701, 2703], \"Revolved Hand To Big Toe Pose\"), \n",
    "    ([2750, 2758], \"Half Sun Salutation\"), \n",
    "    ([2759], \"Second Half Of Sun Salutation\"), \n",
    "    ([2771, 2772], \"Banana Pose\"), \n",
    "    ([2795], \"Supine Spinal Twist Pose\"), \n",
    "    ([2797, 2798, 2833, 2848, 2849, 2850], \"Tiger Pose\"), \n",
    "    ([2799, 2816, 2827], \"Table Top Knee To Nose Flow\"), \n",
    "    ([2800, 2817], \"Child Pose Table Top Pose Flow\"), \n",
    "    ([2801, 2831, 2834, 2837, 2840, 2841, 2842], \"Table Top Pose With One Leg Extended Back\"), \n",
    "    ([2809, 2810, 2811, 2812, 2813, 2814, 2815], \"Revolved Table Top Pose\"), \n",
    "    ([2852, 2853, 2854, 2855], \"Table Top Balancing Pose, Opposite Arm and Leg Extended\"), \n",
    "    ([2968, 2972, 2983, 2974, 2975, 2976, 2977, 3005, 3006, 3007, 3008], \"Revolved Triangle Pose\"), \n",
    "    ([3023, 3024, 3025, 3026, 3031, 3032, 3038, 3039, 3040], \"Reverse Table Top Pose\"), \n",
    "    ([3037], \"Flip The Dog Pose\"), \n",
    "    ([3046, 3047, 3048, 3049, 3050, 3051, 3052, 3053, 3054, 3055, 3056, 3057, 3058, 3059, 3060, 3061, 3062, 3063], \"Anantasana\"), \n",
    "    ([3064, 3065, 3066, 3067, 3070, 3071, 3072, 3073, 3074, 3075, 3079], \"Warrior Pose I\"), \n",
    "    ([3068, 3069, 3076, 3077, 3078], \"Humble Warrior Pose\"), \n",
    "    ([3106, 3107, 3108, 3109, 3110, 3111, 3112, 3113, 3114, 3115, 3116, 3117, 3118, 3119, 3120, 3121], \"Warrior Pose II\"), \n",
    "    ([3122, 3123, 3124, 3125, 3126, 3127, 3128, 3129, 3130, 3131, 3132, 3133, 3134, 3135, 3136, 3137, 3138, 3139, 3140, 3141, 3142, 3143, 3144], \"Warrior Pose III\"), \n",
    "    ([3134], \"Shiva Squat Pose\"), \n",
    "    ([3131, 3132, 3133], \"Airplane Pose\"), \n",
    "    ([3181, 3182, 3183, 3184, 3185, 3186, 3187, 3188, 3189, 3190], \"Half Wind Release Pose\")]"
   ]
  },
  {
   "cell_type": "code",
   "execution_count": 106,
   "metadata": {},
   "outputs": [],
   "source": [
    "for i in changes:\n",
    "    base_poses.loc[i[0], \"Base Pose\"] = i[1]"
   ]
  },
  {
   "cell_type": "code",
   "execution_count": 107,
   "metadata": {},
   "outputs": [
    {
     "output_type": "execute_result",
     "data": {
      "text/plain": "170"
     },
     "metadata": {},
     "execution_count": 107
    }
   ],
   "source": [
    "len(base_poses[\"Base Pose\"].unique())"
   ]
  },
  {
   "cell_type": "code",
   "execution_count": 108,
   "metadata": {},
   "outputs": [],
   "source": [
    "base_documents = []\n",
    "for i in range(len(documents)):\n",
    "    temp_df = pd.DataFrame(documents[i], columns=[\"0\"])\n",
    "    temp_df = pd.merge(temp_df, base_poses, how=\"left\", left_on=\"0\", right_on=\"Pose Name\")\n",
    "    temp_df = temp_df.dropna(how=\"any\")\n",
    "    new_doc = [pose for pose in temp_df[\"Base Pose\"]]\n",
    "    base_documents.append(new_doc)"
   ]
  },
  {
   "cell_type": "code",
   "execution_count": 492,
   "metadata": {},
   "outputs": [],
   "source": [
    "for doc in base_documents:\n",
    "    doc.insert(0, \"--\")\n",
    "    doc.append(\"--\")"
   ]
  },
  {
   "cell_type": "code",
   "execution_count": 493,
   "metadata": {},
   "outputs": [],
   "source": [
    "first_poses = []\n",
    "for doc in base_documents:\n",
    "    first_poses.append(doc[1])"
   ]
  },
  {
   "cell_type": "code",
   "execution_count": 507,
   "metadata": {},
   "outputs": [],
   "source": [
    "last_poses = []\n",
    "for doc in base_documents:\n",
    "    last_poses.append(doc[-2])"
   ]
  },
  {
   "cell_type": "code",
   "execution_count": 607,
   "metadata": {
    "tags": []
   },
   "outputs": [
    {
     "output_type": "stream",
     "name": "stdout",
     "text": "Easy Pose : 12182\nThunderbolt Pose : 743\nSun Salutation : 1764\nCorpse Pose : 5272\nTable Top Pose : 669\nLotus Pose : 433\nPranayama : 2099\nReclined Bound Angle Pose : 1207\nChild Pose : 2534\nCycling Pose : 326\nBridge Pose : 454\nSupine Spinal Twist Pose : 253\nExercise : 360\nCat Pose : 127\nLow Lunge Pose : 75\nUpward Facing Dog Pose : 27\nMountain Pose : 3992\nBoat Pose : 396\nMoon Salutation : 134\nBound Angle Pose : 1069\n"
    }
   ],
   "source": [
    "from collections import Counter\n",
    "\n",
    "for i in range(20):\n",
    "    print(list(Counter(first_poses).keys())[i], \":\", list(Counter(first_poses).values())[i])"
   ]
  },
  {
   "cell_type": "markdown",
   "metadata": {},
   "source": [
    "Vast majority of classes begin with easy pose (simple cross-legged), with the second most common entry pose being corpse pose. Pranayama which is also very high just means \"breathing\", which is not itself a \"pose\", but a breath technique which would commonly practiced from either sitting meditation (easy pose) or corpse pose. I will converge the inverse "
   ]
  },
  {
   "cell_type": "code",
   "execution_count": 608,
   "metadata": {
    "tags": []
   },
   "outputs": [
    {
     "output_type": "stream",
     "name": "stdout",
     "text": "Corpse Pose : 20486\nSide Lying Corpse Pose : 637\nDownward Facing Dog Pose : 684\nThunderbolt Pose : 193\nHalf Sun Salutation : 49\nThread The Needle Pose : 117\nRevolved Wide Legged Forward Fold : 32\nBridge Pose : 630\nPranayama : 971\nChair Pose : 280\nLizard Pose : 51\nDancer Pose : 110\nEasy Pose : 3105\nCamel Pose : 120\nHappy Baby Pose : 652\nGoddess Pose : 145\nBound Angle Pose : 261\nBoat Pose : 218\nFlamingo Pose : 71\nSupine Spinal Twist Pose : 1864\n"
    }
   ],
   "source": [
    "for i in range(20):\n",
    "    print(list(Counter(last_poses).keys())[i], \":\", list(Counter(last_poses).values())[i])"
   ]
  },
  {
   "cell_type": "markdown",
   "metadata": {},
   "source": [
    "# Word2Vec Embeddings"
   ]
  },
  {
   "cell_type": "code",
   "execution_count": 109,
   "metadata": {},
   "outputs": [],
   "source": [
    "embeddings = gensim.models.Word2Vec(base_documents, size=100, window=5, min_count=1, sg=1)"
   ]
  },
  {
   "cell_type": "code",
   "execution_count": 110,
   "metadata": {},
   "outputs": [],
   "source": [
    "embeddings_size = len(list(embeddings.wv.vocab.items()))"
   ]
  },
  {
   "cell_type": "code",
   "execution_count": 111,
   "metadata": {},
   "outputs": [
    {
     "output_type": "execute_result",
     "data": {
      "text/plain": "169"
     },
     "metadata": {},
     "execution_count": 111
    }
   ],
   "source": [
    "embeddings_size"
   ]
  },
  {
   "cell_type": "code",
   "execution_count": 112,
   "metadata": {
    "tags": []
   },
   "outputs": [
    {
     "output_type": "stream",
     "name": "stdout",
     "text": "0.112880096\n0.24852465\n0.38582063\n0.8037262\n"
    }
   ],
   "source": [
    "print(embeddings.similarity(\"Corpse Pose\", \"Extended Side Angle Pose\"))\n",
    "print(embeddings.similarity(\"Corpse Pose\", \"Pigeon Pose\"))\n",
    "print(embeddings.similarity(\"Corpse Pose\", \"Child Pose\"))\n",
    "print(embeddings.similarity(\"Corpse Pose\", \"Wind Release Pose\"))"
   ]
  },
  {
   "cell_type": "code",
   "execution_count": 114,
   "metadata": {},
   "outputs": [],
   "source": [
    "embedding_matrix = np.zeros((len(embeddings.wv.vocab)+1, 100))\n",
    "for i in range(len(embeddings.wv.vocab)):\n",
    "    embedding_vector = embeddings.wv[embeddings.wv.index2word[i]]\n",
    "    if embedding_vector is not None:\n",
    "        embedding_matrix[i] = embedding_vector"
   ]
  },
  {
   "cell_type": "code",
   "execution_count": 115,
   "metadata": {},
   "outputs": [],
   "source": [
    "embedding_dim = embeddings.vector_size"
   ]
  },
  {
   "cell_type": "code",
   "execution_count": 480,
   "metadata": {},
   "outputs": [],
   "source": [
    "f = open(\"word_embeddings.pkl\", \"wb\")\n",
    "pickle.dump(embeddings, f)\n",
    "f.close()"
   ]
  },
  {
   "cell_type": "markdown",
   "metadata": {},
   "source": [
    "# LSTM Network\n"
   ]
  },
  {
   "cell_type": "code",
   "execution_count": 117,
   "metadata": {
    "tags": []
   },
   "outputs": [
    {
     "output_type": "stream",
     "name": "stdout",
     "text": "Total tokens:  1624681\nUnique tokens:  169\n"
    }
   ],
   "source": [
    "tokens = [pose for yogaclass in base_documents for pose in yogaclass]\n",
    "reversed_tokens = tokens[::-1]\n",
    "print(\"Total tokens: \", len(tokens))\n",
    "print(\"Unique tokens: \", len(set(tokens)))"
   ]
  },
  {
   "cell_type": "code",
   "execution_count": 118,
   "metadata": {
    "tags": []
   },
   "outputs": [
    {
     "output_type": "stream",
     "name": "stdout",
     "text": "Total Sequences: 1624677\n"
    }
   ],
   "source": [
    "length = 3 + 1\n",
    "sequences = list()\n",
    "for i in range(length, len(tokens)):\n",
    "    seq = tokens[i-length:i]\n",
    "    sequences.append(seq)\n",
    "print(\"Total Sequences:\", len(sequences))"
   ]
  },
  {
   "cell_type": "code",
   "execution_count": 129,
   "metadata": {
    "tags": []
   },
   "outputs": [
    {
     "output_type": "stream",
     "name": "stdout",
     "text": "Total Reversed Sequences: 1624677\n"
    }
   ],
   "source": [
    "reversed_sequences = list()\n",
    "for i in range(length, len(reversed_tokens)):\n",
    "    rev_seq = reversed_tokens[i-length:i]\n",
    "    reversed_sequences.append(seq)\n",
    "print(\"Total Reversed Sequences:\", len(reversed_sequences))"
   ]
  },
  {
   "cell_type": "code",
   "execution_count": 119,
   "metadata": {},
   "outputs": [],
   "source": [
    "tokenizer = Tokenizer()\n",
    "tokenizer.fit_on_texts(sequences)\n",
    "token_sequences = tokenizer.texts_to_sequences(sequences)\n",
    "vocab_size = len(tokenizer.word_index) + 1"
   ]
  },
  {
   "cell_type": "code",
   "execution_count": 130,
   "metadata": {},
   "outputs": [],
   "source": [
    "tokenizer2 = Tokenizer()\n",
    "tokenizer2.fit_on_texts(reversed_sequences)\n",
    "reversed_token_sequences = tokenizer2.texts_to_sequences(reversed_sequences)"
   ]
  },
  {
   "cell_type": "code",
   "execution_count": 48,
   "metadata": {},
   "outputs": [
    {
     "output_type": "execute_result",
     "data": {
      "text/plain": "14675"
     },
     "metadata": {},
     "execution_count": 48
    }
   ],
   "source": [
    "vocab_size"
   ]
  },
  {
   "cell_type": "code",
   "execution_count": 479,
   "metadata": {},
   "outputs": [],
   "source": [
    "f = open(\"tokenizer.pkl\", \"wb\")\n",
    "pickle.dump(tokenizer, f)\n",
    "f.close\n",
    "\n",
    "f = open(\"tokenizer2.pkl\", \"wb\")\n",
    "pickle.dump(tokenizer2, f)\n",
    "f.close()"
   ]
  },
  {
   "cell_type": "code",
   "execution_count": 120,
   "metadata": {},
   "outputs": [],
   "source": [
    "X = np.asarray([np.asarray(x[:-1]) for x in token_sequences])\n",
    "y = [y[-1] for y in token_sequences]\n",
    "y = to_categorical(y, num_classes=vocab_size)\n",
    "seq_length=len(X[1])"
   ]
  },
  {
   "cell_type": "code",
   "execution_count": 131,
   "metadata": {},
   "outputs": [],
   "source": [
    "X2 = np.asarray([np.asarray(x[:-1]) for x in reversed_token_sequences])\n",
    "y2 = [y[-1] for y in reversed_token_sequences]\n",
    "y2 = to_categorical(y2, num_classes=vocab_size)"
   ]
  },
  {
   "cell_type": "code",
   "execution_count": 175,
   "metadata": {
    "tags": []
   },
   "outputs": [],
   "source": [
    "def create_model():\n",
    "    model = Sequential()\n",
    "    model.add(Embedding(vocab_size, embedding_dim, weights=[embedding_matrix], trainable=False))\n",
    "    model.add(Bidirectional(LSTM(200, return_sequences=True)))\n",
    "    model.add(Dropout(0.05))\n",
    "    model.add(Bidirectional(LSTM(200, return_sequences=True)))\n",
    "    model.add(Dropout(0.05))\n",
    "    model.add(Bidirectional(LSTM(200)))\n",
    "    model.add(Dropout(0.05))\n",
    "    model.add(Dense(100, activation=\"relu\"))\n",
    "    model.add(Dense(vocab_size, activation=\"softmax\"))\n",
    "    print(model.summary())\n",
    "    return model"
   ]
  },
  {
   "cell_type": "code",
   "execution_count": null,
   "metadata": {},
   "outputs": [],
   "source": [
    "def create_deeper_model():\n",
    "    model = Sequential()\n",
    "    model.add(Embedding(vocab_size, embedding_dim, weights=[embedding_matrix], trainable=False))\n",
    "    model.add(Bidirectional(LSTM(200, return_sequences=True)))\n",
    "    model.add(Dropout(0.05))\n",
    "    model.add(Bidirectional(LSTM(200, return_sequences=True)))\n",
    "    model.add(Dropout(0.05))\n",
    "    model.add(Bidirectional(LSTM(200, return_sequences=True)))\n",
    "    model.add(Dropout(0.05))\n",
    "    model.add(Bidirectional(LSTM(200)))\n",
    "    model.add(Dropout(0.05))\n",
    "    model.add(Dense(100, activation=\"relu\"))\n",
    "    model.add(Dense(vocab_size, activation=\"softmax\"))\n",
    "    print(model.summary())\n",
    "    return model"
   ]
  },
  {
   "cell_type": "code",
   "execution_count": 183,
   "metadata": {},
   "outputs": [],
   "source": [
    "def fit_model(model, X, y):\n",
    "    model.compile(loss='categorical_crossentropy', optimizer='adam', metrics=['accuracy'])\n",
    "    model.fit(X, y, batch_size=128, epochs=100, verbose=10)"
   ]
  },
  {
   "cell_type": "code",
   "execution_count": 184,
   "metadata": {
    "tags": []
   },
   "outputs": [
    {
     "output_type": "stream",
     "name": "stdout",
     "text": "Model: \"sequential_29\"\n_________________________________________________________________\nLayer (type)                 Output Shape              Param #   \n=================================================================\nembedding_29 (Embedding)     (None, None, 100)         17000     \n_________________________________________________________________\nbidirectional_67 (Bidirectio (None, None, 400)         481600    \n_________________________________________________________________\ndropout_54 (Dropout)         (None, None, 400)         0         \n_________________________________________________________________\nbidirectional_68 (Bidirectio (None, None, 400)         961600    \n_________________________________________________________________\ndropout_55 (Dropout)         (None, None, 400)         0         \n_________________________________________________________________\nbidirectional_69 (Bidirectio (None, 400)               961600    \n_________________________________________________________________\ndropout_56 (Dropout)         (None, 400)               0         \n_________________________________________________________________\ndense_48 (Dense)             (None, 100)               40100     \n_________________________________________________________________\ndense_49 (Dense)             (None, 170)               17170     \n=================================================================\nTotal params: 2,479,070\nTrainable params: 2,462,070\nNon-trainable params: 17,000\n_________________________________________________________________\nNone\nModel: \"sequential_30\"\n_________________________________________________________________\nLayer (type)                 Output Shape              Param #   \n=================================================================\nembedding_30 (Embedding)     (None, None, 100)         17000     \n_________________________________________________________________\nbidirectional_70 (Bidirectio (None, None, 400)         481600    \n_________________________________________________________________\ndropout_57 (Dropout)         (None, None, 400)         0         \n_________________________________________________________________\nbidirectional_71 (Bidirectio (None, None, 400)         961600    \n_________________________________________________________________\ndropout_58 (Dropout)         (None, None, 400)         0         \n_________________________________________________________________\nbidirectional_72 (Bidirectio (None, 400)               961600    \n_________________________________________________________________\ndropout_59 (Dropout)         (None, 400)               0         \n_________________________________________________________________\ndense_50 (Dense)             (None, 100)               40100     \n_________________________________________________________________\ndense_51 (Dense)             (None, 170)               17170     \n=================================================================\nTotal params: 2,479,070\nTrainable params: 2,462,070\nNon-trainable params: 17,000\n_________________________________________________________________\nNone\n"
    }
   ],
   "source": [
    "forward_model = create_model()\n",
    "backward_model = create_model()"
   ]
  },
  {
   "cell_type": "code",
   "execution_count": 185,
   "metadata": {
    "tags": []
   },
   "outputs": [
    {
     "output_type": "stream",
     "name": "stdout",
     "text": "Epoch 1/100\nEpoch 2/100\nEpoch 3/100\nEpoch 4/100\nEpoch 5/100\nEpoch 6/100\nEpoch 7/100\nEpoch 8/100\nEpoch 9/100\nEpoch 10/100\nEpoch 11/100\nEpoch 12/100\nEpoch 13/100\nEpoch 14/100\nEpoch 15/100\nEpoch 16/100\nEpoch 17/100\nEpoch 18/100\nEpoch 19/100\nEpoch 20/100\nEpoch 21/100\nEpoch 22/100\nEpoch 23/100\nEpoch 24/100\nEpoch 25/100\nEpoch 26/100\nEpoch 27/100\nEpoch 28/100\nEpoch 29/100\nEpoch 30/100\nEpoch 31/100\nEpoch 32/100\nEpoch 33/100\nEpoch 34/100\nEpoch 35/100\nEpoch 36/100\nEpoch 37/100\nEpoch 38/100\nEpoch 39/100\nEpoch 40/100\nEpoch 41/100\nEpoch 42/100\nEpoch 43/100\nEpoch 44/100\nEpoch 45/100\nEpoch 46/100\nEpoch 47/100\nEpoch 48/100\nEpoch 49/100\nEpoch 50/100\nEpoch 51/100\nEpoch 52/100\nEpoch 53/100\nEpoch 54/100\nEpoch 55/100\nEpoch 56/100\nEpoch 57/100\nEpoch 58/100\nEpoch 59/100\nEpoch 60/100\nEpoch 61/100\nEpoch 62/100\nEpoch 63/100\nEpoch 64/100\nEpoch 65/100\nEpoch 66/100\nEpoch 67/100\nEpoch 68/100\nEpoch 69/100\nEpoch 70/100\nEpoch 71/100\nEpoch 72/100\nEpoch 73/100\nEpoch 74/100\nEpoch 75/100\nEpoch 76/100\nEpoch 77/100\nEpoch 78/100\nEpoch 79/100\nEpoch 80/100\nEpoch 81/100\nEpoch 82/100\nEpoch 83/100\nEpoch 84/100\nEpoch 85/100\nEpoch 86/100\nEpoch 87/100\nEpoch 88/100\nEpoch 89/100\nEpoch 90/100\nEpoch 91/100\nEpoch 92/100\nEpoch 93/100\nEpoch 94/100\nEpoch 95/100\nEpoch 96/100\nEpoch 97/100\nEpoch 98/100\nEpoch 99/100\nEpoch 100/100\n"
    }
   ],
   "source": [
    "fit_model(forward_model, X, y)"
   ]
  },
  {
   "cell_type": "code",
   "execution_count": 398,
   "metadata": {},
   "outputs": [],
   "source": [
    "model.save('forward_model.h5')"
   ]
  },
  {
   "cell_type": "code",
   "execution_count": 396,
   "metadata": {},
   "outputs": [],
   "source": [
    "backward_model = load_model('backward_model.h5', compile=False)"
   ]
  },
  {
   "cell_type": "code",
   "execution_count": 612,
   "metadata": {},
   "outputs": [],
   "source": [
    "def generate_class(model, tokenizer, word_embedding, peak_pose, stop_pose, max_length):\n",
    "\n",
    "    # generate seed text of 3 poses (as LSTM was trained on) from the input desired peak pose, by randomly selecting two of the most similar poses to the peak. \n",
    "    seed_text = [peak_pose, embeddings.most_similar(peak_pose, topn=10)[np.random.choice(range(10))][0], embeddings.most_similar(peak_pose, topn=10)[np.random.choice(range(10))][0]]\n",
    "    in_text = seed_text\n",
    "\n",
    "    # create yoga class, and make sure it includes the user's desired peak pose\n",
    "    yoga_class = list()\n",
    "    first_half = list()\n",
    "    second_half = list()\n",
    "    yoga_class.append(peak_pose.lower())\n",
    "\n",
    "    while True:\n",
    "        encoded = tokenizer.texts_to_sequences([in_text])\n",
    "\n",
    "        # select next pose based on models probability distribution\n",
    "        # prediction_output = model.predict(encoded)\n",
    "        # yhat = np.random.choice(len(prediction_output[0]), p=prediction_output[0])\n",
    "\n",
    "        # argsort version:\n",
    "        predictions = np.argsort(model.predict(encoded), axis=-1)[-10:][::-1]\n",
    "        print(predictions)\n",
    "        print(\"HELLO ZERO\", predictions[0])\n",
    "        yhat = np.random.choice(predictions[0])\n",
    "\n",
    "        out_word = \"\"\n",
    "        for word, index in tokenizer.word_index.items():\n",
    "            if index == yhat:\n",
    "                out_word = word\n",
    "                break\n",
    "        \n",
    "        # append pose to current class, and update input text\n",
    "        # also add clarification text for user to repeat the pose on the other side (if its an imbalanced pose) if given two of the same pose in a row\n",
    "        if out_word != \"\":\n",
    "            if out_word == yoga_class[-1]:\n",
    "                in_text.append(out_word)\n",
    "                out_word += \", repeat other side\"\n",
    "                yoga_class.append(out_word)\n",
    "            else: \n",
    "                yoga_class.append(out_word)\n",
    "                in_text.append(out_word)\n",
    "        if out_word == stop_pose:\n",
    "            break\n",
    "\n",
    "        # if sequence gets too long without converging to a natural ending, start over. \n",
    "        if len(yoga_class) == max_length:\n",
    "                in_text = seed_text\n",
    "                yoga_class = [peak_pose.lower()]\n",
    "    return yoga_class"
   ]
  },
  {
   "cell_type": "code",
   "execution_count": 466,
   "metadata": {},
   "outputs": [],
   "source": [
    "possible_peak_poses = ['Center Splits Pose', 'Hurdlers Pose', 'Revolved Chair Pose', 'Figure Four Pose', 'Crane Pose', 'Flying Pigeon Pose', 'Side Crow Pose', 'Baby Crow Pose', 'Crow Pose', 'Dancer Pose', 'Eagle Pose', 'Feathered Peacock Pose', 'Scorpion Pose', 'Flamingo Pose', 'Foot Behind The Head Pose', 'Half Moon Pose', 'Handstand Pose', 'Headstand Pose', 'Headstand Pose Eagle Legs', 'Headstand Pose Lotus Legs', 'Headstand Pose Wide Legs', 'Tripod Headstand Pose', 'Revolved High Lunge Pose', 'Pyramid Pose', 'Flying Lizard Pose', 'Palm Tree Pose', 'King Pigeon Pose', 'Grasshopper Pose', 'Dragonfly Pose', 'Eight Angle Pose', 'Revolved Extended Side Angle Pose', 'Visvamitrasana Pose', 'Wild Thing Pose', 'Splits Pose', 'Firefly Pose', 'Bird Of Paradise Pose', 'Standing Hand To Big Toe Pose', 'Revolved Hand To Big Toe Pose', 'Tree Pose', 'Revolved Triangle Pose', 'Triangle Pose', 'Flip The Dog Pose', 'Warrior Pose I', 'Humble Warrior Pose', 'Warrior Pose II', 'Warrior Pose III', 'Airplane Pose', 'Wheel Pose']"
   ]
  },
  {
   "cell_type": "code",
   "execution_count": 481,
   "metadata": {},
   "outputs": [],
   "source": [
    "f = open(\"peak_poses.pkl\", \"wb\")\n",
    "pickle.dump(possible_peak_poses, f)\n",
    "f.close()"
   ]
  },
  {
   "cell_type": "code",
   "execution_count": 588,
   "metadata": {},
   "outputs": [
    {
     "output_type": "execute_result",
     "data": {
      "text/plain": "'Revolved Triangle Pose'"
     },
     "metadata": {},
     "execution_count": 588
    }
   ],
   "source": [
    "peak_pose = np.random.choice(possible_peak_poses)\n",
    "peak_pose"
   ]
  },
  {
   "cell_type": "code",
   "execution_count": 477,
   "metadata": {
    "tags": []
   },
   "outputs": [
    {
     "output_type": "stream",
     "name": "stdout",
     "text": "['humble warrior pose', 'child pose', 'downward facing dog pose', 'mountain pose', 'half lord of the fishes pose', 'standing forward fold pose', 'cycling pose', 'seated forward bend pose', 'eagle pose', 'mountain pose', 'mountain pose, repeat other side', 'thunderbolt pose', 'thunderbolt pose, repeat other side', 'child pose', 'child pose, repeat other side', 'lotus pose', 'bound angle pose', 'half lord of the fishes pose', 'corpse pose']\n\n\n['palm tree pose', 'mountain pose', 'palm tree pose', 'palm tree pose, repeat other side', 'shoulder stretches', 'standing twists', 'chair pose', 'chair pose, repeat other side', 'head to knee pose', 'thunderbolt pose', 'torso stretch pose', 'easy pose', 'easy pose, repeat other side', 'half lord of the fishes pose', 'torso stretch pose', 'seated straddle pose', 'happy baby pose', 'reclined big toe pose', 'bridge pose', 'half lord of the fishes pose', 'pranayama', 'pranayama, repeat other side', 'sun salutation', 'standing forward fold pose', 'corpse pose']\n\n\n['flying lizard pose', 'crane pose', 'wide legged forward fold', 'lizard pose', 'legs up the wall pose', 'plank pose', 'upward plank pose', 'standing hand to big toe pose', 'bridge pose', 'happy baby pose', 'banana pose', 'mountain pose', 'supine spinal twist pose', 'shoulderstand pose', 'chair pose', 'mountain pose', 'corpse pose']\n\n\n['revolved extended side angle pose', 'shoulderstand pose', 'reclined bound angle pose', 'bound angle pose', 'half lord of the fishes pose', 'bound angle forward bend', 'chair pose', 'garland pose', 'wind release pose', 'table top pose', 'half lord of the fishes pose', 'tree pose', 'supine spinal twist pose', 'staff pose', 'bound angle pose', 'bound angle pose, repeat other side', 'bound angle pose', 'wind release pose', 'wind release pose, repeat other side', 'half lord of the fishes pose', 'supine spinal twist pose', 'corpse pose']\n\n\n['tripod headstand pose', 'headstand pose', 'headstand pose, repeat other side', 'headstand pose', 'headstand pose, repeat other side', 'headstand pose', 'child pose', 'child pose, repeat other side', 'wind release pose', 'corpse pose']\n\n\n['bird of paradise pose', 'warrior pose iii', 'triangle pose', 'triangle pose, repeat other side', 'triangle pose', 'triangle pose, repeat other side', 'revolved triangle pose', 'revolved triangle pose, repeat other side', 'revolved triangle pose', 'triangle pose', 'revolved triangle pose', 'triangle pose', 'revolved triangle pose', 'revolved triangle pose, repeat other side', 'triangle pose', 'easy pose', 'bound angle pose', 'staff pose', 'plank pose', 'table top pose', 'pigeon pose', 'staff pose', 'bound angle pose', 'bridge pose', 'corpse pose']\n\n\n['pyramid pose', 'fish pose', 'cow face pose', 'bound angle forward bend', 'bound angle pose', 'bound angle pose, repeat other side', 'seated forward bend pose', 'eye of the needle pose', 'half lord of the fishes pose', 'bound angle pose', 'chair pose', 'corpse pose']\n\n\n['foot behind the head pose', 'pigeon pose', 'easy pose', 'sphinx pose', 'happy baby pose', 'seated forward bend pose', 'wild thing pose', 'half lord of the fishes pose', 'supine spinal twist pose', 'happy baby pose', 'locust pose', 'boat pose', 'cow face pose', 'child pose', 'half lord of the fishes pose', 'easy pose', 'seated forward bend pose', 'child pose', 'standing side bend pose', 'chair pose', 'warrior pose i', 'warrior pose ii', 'easy pose', 'downward facing dog pose', 'boat pose', 'easy pose', 'half lord of the fishes pose', 'chair pose', 'boat pose', 'bridge pose', 'bound angle pose', 'eye of the needle pose', 'downward facing dog pose', 'wind release pose', 'shoulderstand pose', 'half wind release pose', 'happy baby pose', 'corpse pose']\n\n\n['revolved high lunge pose', 'splits pose', 'downward facing dog pose knee to nose', 'plank pose', 'plank pose, repeat other side', 'plank pose', 'downward facing dog pose', 'pyramid pose', 'revolved high lunge pose', 'child pose', 'downward facing dog pose', 'wide legged forward fold', 'pyramid pose', 'half moon pose', 'half moon pose, repeat other side', 'seated straddle pose', 'camel pose', 'bridge pose', 'corpse pose']\n\n\n['humble warrior pose', 'revolved hand to big toe pose', 'standing hand to big toe pose', 'warrior pose iii', 'mountain pose', 'standing hand to big toe pose', 'warrior pose iii', 'warrior pose iii, repeat other side', 'half moon pose', 'half moon pose, repeat other side', 'sun salutation', 'side plank pose', 'tree pose', 'revolved hand to big toe pose', 'standing hand to big toe pose', 'warrior pose i', 'staff pose', 'low lunge pose', 'wind release pose', 'chair pose', 'eagle pose', 'eye of the needle pose', 'supine spinal twist pose', 'corpse pose']\n\n\n['figure four pose', 'one legged mountain pose', 'five pointed star pose', 'eagle pose', 'eagle pose, repeat other side', 'corpse pose']\n\n\n['revolved high lunge pose', 'downward facing dog pose', 'firelog pose', 'lotus pose', 'sun salutation', 'thunderbolt pose', 'warrior pose i', 'sun salutation', 'thunderbolt pose', 'supine spinal twist pose', 'eye of the needle pose', 'reclined bound angle pose', 'bridge pose', 'half lord of the fishes pose', 'happy baby pose', 'half lord of the fishes pose', 'half lord of the fishes pose, repeat other side', 'supine spinal twist pose', 'high boat to low boat flow', 'seated forward bend pose', 'wind release pose', 'mountain pose', 'supine spinal twist pose', 'shoulder stretches', 'hero pose', 'sun salutation', 'chair pose', 'wind release pose', 'bow pose', 'hero pose', 'corpse pose']\n\n\n['dragonfly pose', 'reclined big toe pose', 'downward facing dog pose', 'boat pose', 'supine spinal twist pose', 'supine spinal twist pose, repeat other side', 'seated straddle pose', 'staff pose', 'firelog pose', 'seated straddle pose', 'firelog pose', 'cow face pose', 'bound angle pose', 'bound angle pose, repeat other side', 'seated forward bend pose', 'child pose', 'bound angle forward bend', 'half lord of the fishes pose', 'half lord of the fishes pose, repeat other side', 'legs up the wall pose', 'bound angle pose', 'corpse pose']\n\n\n"
    },
    {
     "output_type": "error",
     "ename": "KeyboardInterrupt",
     "evalue": "",
     "traceback": [
      "\u001b[0;31m---------------------------------------------------------------------------\u001b[0m",
      "\u001b[0;31mKeyboardInterrupt\u001b[0m                         Traceback (most recent call last)",
      "\u001b[0;32m<ipython-input-477-a3ec7fa47448>\u001b[0m in \u001b[0;36m<module>\u001b[0;34m\u001b[0m\n\u001b[1;32m      1\u001b[0m \u001b[0;32mfor\u001b[0m \u001b[0mi\u001b[0m \u001b[0;32min\u001b[0m \u001b[0mrange\u001b[0m\u001b[0;34m(\u001b[0m\u001b[0;36m100\u001b[0m\u001b[0;34m)\u001b[0m\u001b[0;34m:\u001b[0m\u001b[0;34m\u001b[0m\u001b[0;34m\u001b[0m\u001b[0m\n\u001b[1;32m      2\u001b[0m     \u001b[0mpeak_pose\u001b[0m \u001b[0;34m=\u001b[0m \u001b[0mnp\u001b[0m\u001b[0;34m.\u001b[0m\u001b[0mrandom\u001b[0m\u001b[0;34m.\u001b[0m\u001b[0mchoice\u001b[0m\u001b[0;34m(\u001b[0m\u001b[0mpossible_peak_poses\u001b[0m\u001b[0;34m)\u001b[0m\u001b[0;34m\u001b[0m\u001b[0;34m\u001b[0m\u001b[0m\n\u001b[0;32m----> 3\u001b[0;31m     \u001b[0msecond_half\u001b[0m \u001b[0;34m=\u001b[0m \u001b[0mgenerate_class\u001b[0m\u001b[0;34m(\u001b[0m\u001b[0mforward_model\u001b[0m\u001b[0;34m,\u001b[0m \u001b[0mtokenizer\u001b[0m\u001b[0;34m,\u001b[0m \u001b[0membeddings\u001b[0m\u001b[0;34m,\u001b[0m \u001b[0mpeak_pose\u001b[0m\u001b[0;34m,\u001b[0m \u001b[0;36m40\u001b[0m\u001b[0;34m)\u001b[0m\u001b[0;34m\u001b[0m\u001b[0;34m\u001b[0m\u001b[0m\n\u001b[0m\u001b[1;32m      4\u001b[0m     \u001b[0mprint\u001b[0m\u001b[0;34m(\u001b[0m\u001b[0msecond_half\u001b[0m\u001b[0;34m)\u001b[0m\u001b[0;34m\u001b[0m\u001b[0;34m\u001b[0m\u001b[0m\n\u001b[1;32m      5\u001b[0m     \u001b[0mprint\u001b[0m\u001b[0;34m(\u001b[0m\u001b[0;34m\"\\n\"\u001b[0m\u001b[0;34m)\u001b[0m\u001b[0;34m\u001b[0m\u001b[0;34m\u001b[0m\u001b[0m\n",
      "\u001b[0;32m<ipython-input-474-6d1bf729e961>\u001b[0m in \u001b[0;36mgenerate_class\u001b[0;34m(model, tokenizer, word_embedding, peak_pose, max_length)\u001b[0m\n\u001b[1;32m     13\u001b[0m \u001b[0;34m\u001b[0m\u001b[0m\n\u001b[1;32m     14\u001b[0m         \u001b[0;31m# select next pose based on models probability distribution\u001b[0m\u001b[0;34m\u001b[0m\u001b[0;34m\u001b[0m\u001b[0;34m\u001b[0m\u001b[0m\n\u001b[0;32m---> 15\u001b[0;31m         \u001b[0mprediction_output\u001b[0m \u001b[0;34m=\u001b[0m \u001b[0;34m(\u001b[0m\u001b[0mmodel\u001b[0m\u001b[0;34m.\u001b[0m\u001b[0mpredict\u001b[0m\u001b[0;34m(\u001b[0m\u001b[0mencoded\u001b[0m\u001b[0;34m)\u001b[0m\u001b[0;34m)\u001b[0m\u001b[0;34m\u001b[0m\u001b[0;34m\u001b[0m\u001b[0m\n\u001b[0m\u001b[1;32m     16\u001b[0m         \u001b[0myhat\u001b[0m \u001b[0;34m=\u001b[0m \u001b[0mnp\u001b[0m\u001b[0;34m.\u001b[0m\u001b[0mrandom\u001b[0m\u001b[0;34m.\u001b[0m\u001b[0mchoice\u001b[0m\u001b[0;34m(\u001b[0m\u001b[0mlen\u001b[0m\u001b[0;34m(\u001b[0m\u001b[0mprediction_output\u001b[0m\u001b[0;34m[\u001b[0m\u001b[0;36m0\u001b[0m\u001b[0;34m]\u001b[0m\u001b[0;34m)\u001b[0m\u001b[0;34m,\u001b[0m \u001b[0mp\u001b[0m\u001b[0;34m=\u001b[0m\u001b[0mprediction_output\u001b[0m\u001b[0;34m[\u001b[0m\u001b[0;36m0\u001b[0m\u001b[0;34m]\u001b[0m\u001b[0;34m)\u001b[0m\u001b[0;34m\u001b[0m\u001b[0;34m\u001b[0m\u001b[0m\n\u001b[1;32m     17\u001b[0m \u001b[0;34m\u001b[0m\u001b[0m\n",
      "\u001b[0;32m~/opt/anaconda3/envs/tensorflow/lib/python3.7/site-packages/tensorflow/python/keras/engine/training.py\u001b[0m in \u001b[0;36m_method_wrapper\u001b[0;34m(self, *args, **kwargs)\u001b[0m\n\u001b[1;32m    128\u001b[0m       raise ValueError('{} is not supported in multi-worker mode.'.format(\n\u001b[1;32m    129\u001b[0m           method.__name__))\n\u001b[0;32m--> 130\u001b[0;31m     \u001b[0;32mreturn\u001b[0m \u001b[0mmethod\u001b[0m\u001b[0;34m(\u001b[0m\u001b[0mself\u001b[0m\u001b[0;34m,\u001b[0m \u001b[0;34m*\u001b[0m\u001b[0margs\u001b[0m\u001b[0;34m,\u001b[0m \u001b[0;34m**\u001b[0m\u001b[0mkwargs\u001b[0m\u001b[0;34m)\u001b[0m\u001b[0;34m\u001b[0m\u001b[0;34m\u001b[0m\u001b[0m\n\u001b[0m\u001b[1;32m    131\u001b[0m \u001b[0;34m\u001b[0m\u001b[0m\n\u001b[1;32m    132\u001b[0m   return tf_decorator.make_decorator(\n",
      "\u001b[0;32m~/opt/anaconda3/envs/tensorflow/lib/python3.7/site-packages/tensorflow/python/keras/engine/training.py\u001b[0m in \u001b[0;36mpredict\u001b[0;34m(self, x, batch_size, verbose, steps, callbacks, max_queue_size, workers, use_multiprocessing)\u001b[0m\n\u001b[1;32m   1593\u001b[0m       \u001b[0mself\u001b[0m\u001b[0;34m.\u001b[0m\u001b[0m_predict_counter\u001b[0m\u001b[0;34m.\u001b[0m\u001b[0massign\u001b[0m\u001b[0;34m(\u001b[0m\u001b[0;36m0\u001b[0m\u001b[0;34m)\u001b[0m\u001b[0;34m\u001b[0m\u001b[0;34m\u001b[0m\u001b[0m\n\u001b[1;32m   1594\u001b[0m       \u001b[0mcallbacks\u001b[0m\u001b[0;34m.\u001b[0m\u001b[0mon_predict_begin\u001b[0m\u001b[0;34m(\u001b[0m\u001b[0;34m)\u001b[0m\u001b[0;34m\u001b[0m\u001b[0;34m\u001b[0m\u001b[0m\n\u001b[0;32m-> 1595\u001b[0;31m       \u001b[0;32mfor\u001b[0m \u001b[0m_\u001b[0m\u001b[0;34m,\u001b[0m \u001b[0miterator\u001b[0m \u001b[0;32min\u001b[0m \u001b[0mdata_handler\u001b[0m\u001b[0;34m.\u001b[0m\u001b[0menumerate_epochs\u001b[0m\u001b[0;34m(\u001b[0m\u001b[0;34m)\u001b[0m\u001b[0;34m:\u001b[0m  \u001b[0;31m# Single epoch.\u001b[0m\u001b[0;34m\u001b[0m\u001b[0;34m\u001b[0m\u001b[0m\n\u001b[0m\u001b[1;32m   1596\u001b[0m         \u001b[0;32mwith\u001b[0m \u001b[0mdata_handler\u001b[0m\u001b[0;34m.\u001b[0m\u001b[0mcatch_stop_iteration\u001b[0m\u001b[0;34m(\u001b[0m\u001b[0;34m)\u001b[0m\u001b[0;34m:\u001b[0m\u001b[0;34m\u001b[0m\u001b[0;34m\u001b[0m\u001b[0m\n\u001b[1;32m   1597\u001b[0m           \u001b[0;32mfor\u001b[0m \u001b[0mstep\u001b[0m \u001b[0;32min\u001b[0m \u001b[0mdata_handler\u001b[0m\u001b[0;34m.\u001b[0m\u001b[0msteps\u001b[0m\u001b[0;34m(\u001b[0m\u001b[0;34m)\u001b[0m\u001b[0;34m:\u001b[0m\u001b[0;34m\u001b[0m\u001b[0;34m\u001b[0m\u001b[0m\n",
      "\u001b[0;32m~/opt/anaconda3/envs/tensorflow/lib/python3.7/site-packages/tensorflow/python/keras/engine/data_adapter.py\u001b[0m in \u001b[0;36menumerate_epochs\u001b[0;34m(self)\u001b[0m\n\u001b[1;32m   1136\u001b[0m     \u001b[0;34m\"\"\"Yields `(epoch, tf.data.Iterator)`.\"\"\"\u001b[0m\u001b[0;34m\u001b[0m\u001b[0;34m\u001b[0m\u001b[0m\n\u001b[1;32m   1137\u001b[0m     \u001b[0;32mwith\u001b[0m \u001b[0mself\u001b[0m\u001b[0;34m.\u001b[0m\u001b[0m_truncate_execution_to_epoch\u001b[0m\u001b[0;34m(\u001b[0m\u001b[0;34m)\u001b[0m\u001b[0;34m:\u001b[0m\u001b[0;34m\u001b[0m\u001b[0;34m\u001b[0m\u001b[0m\n\u001b[0;32m-> 1138\u001b[0;31m       \u001b[0mdata_iterator\u001b[0m \u001b[0;34m=\u001b[0m \u001b[0miter\u001b[0m\u001b[0;34m(\u001b[0m\u001b[0mself\u001b[0m\u001b[0;34m.\u001b[0m\u001b[0m_dataset\u001b[0m\u001b[0;34m)\u001b[0m\u001b[0;34m\u001b[0m\u001b[0;34m\u001b[0m\u001b[0m\n\u001b[0m\u001b[1;32m   1139\u001b[0m       \u001b[0;32mfor\u001b[0m \u001b[0mepoch\u001b[0m \u001b[0;32min\u001b[0m \u001b[0mrange\u001b[0m\u001b[0;34m(\u001b[0m\u001b[0mself\u001b[0m\u001b[0;34m.\u001b[0m\u001b[0m_initial_epoch\u001b[0m\u001b[0;34m,\u001b[0m \u001b[0mself\u001b[0m\u001b[0;34m.\u001b[0m\u001b[0m_epochs\u001b[0m\u001b[0;34m)\u001b[0m\u001b[0;34m:\u001b[0m\u001b[0;34m\u001b[0m\u001b[0;34m\u001b[0m\u001b[0m\n\u001b[1;32m   1140\u001b[0m         \u001b[0;32mif\u001b[0m \u001b[0mself\u001b[0m\u001b[0;34m.\u001b[0m\u001b[0m_insufficient_data\u001b[0m\u001b[0;34m:\u001b[0m  \u001b[0;31m# Set by `catch_stop_iteration`.\u001b[0m\u001b[0;34m\u001b[0m\u001b[0;34m\u001b[0m\u001b[0m\n",
      "\u001b[0;32m~/opt/anaconda3/envs/tensorflow/lib/python3.7/site-packages/tensorflow/python/data/ops/dataset_ops.py\u001b[0m in \u001b[0;36m__iter__\u001b[0;34m(self)\u001b[0m\n\u001b[1;32m    413\u001b[0m     \"\"\"\n\u001b[1;32m    414\u001b[0m     \u001b[0;32mif\u001b[0m \u001b[0mcontext\u001b[0m\u001b[0;34m.\u001b[0m\u001b[0mexecuting_eagerly\u001b[0m\u001b[0;34m(\u001b[0m\u001b[0;34m)\u001b[0m \u001b[0;32mor\u001b[0m \u001b[0mops\u001b[0m\u001b[0;34m.\u001b[0m\u001b[0minside_function\u001b[0m\u001b[0;34m(\u001b[0m\u001b[0;34m)\u001b[0m\u001b[0;34m:\u001b[0m\u001b[0;34m\u001b[0m\u001b[0;34m\u001b[0m\u001b[0m\n\u001b[0;32m--> 415\u001b[0;31m       \u001b[0;32mreturn\u001b[0m \u001b[0miterator_ops\u001b[0m\u001b[0;34m.\u001b[0m\u001b[0mOwnedIterator\u001b[0m\u001b[0;34m(\u001b[0m\u001b[0mself\u001b[0m\u001b[0;34m)\u001b[0m\u001b[0;34m\u001b[0m\u001b[0;34m\u001b[0m\u001b[0m\n\u001b[0m\u001b[1;32m    416\u001b[0m     \u001b[0;32melse\u001b[0m\u001b[0;34m:\u001b[0m\u001b[0;34m\u001b[0m\u001b[0;34m\u001b[0m\u001b[0m\n\u001b[1;32m    417\u001b[0m       raise RuntimeError(\"__iter__() is only supported inside of tf.function \"\n",
      "\u001b[0;32m~/opt/anaconda3/envs/tensorflow/lib/python3.7/site-packages/tensorflow/python/data/ops/iterator_ops.py\u001b[0m in \u001b[0;36m__init__\u001b[0;34m(self, dataset, components, element_spec, job_token)\u001b[0m\n\u001b[1;32m    694\u001b[0m           context.context().device_spec.device_type != \"CPU\"):\n\u001b[1;32m    695\u001b[0m         \u001b[0;32mwith\u001b[0m \u001b[0mops\u001b[0m\u001b[0;34m.\u001b[0m\u001b[0mdevice\u001b[0m\u001b[0;34m(\u001b[0m\u001b[0;34m\"/cpu:0\"\u001b[0m\u001b[0;34m)\u001b[0m\u001b[0;34m:\u001b[0m\u001b[0;34m\u001b[0m\u001b[0;34m\u001b[0m\u001b[0m\n\u001b[0;32m--> 696\u001b[0;31m           \u001b[0mself\u001b[0m\u001b[0;34m.\u001b[0m\u001b[0m_create_iterator\u001b[0m\u001b[0;34m(\u001b[0m\u001b[0mdataset\u001b[0m\u001b[0;34m)\u001b[0m\u001b[0;34m\u001b[0m\u001b[0;34m\u001b[0m\u001b[0m\n\u001b[0m\u001b[1;32m    697\u001b[0m       \u001b[0;32melse\u001b[0m\u001b[0;34m:\u001b[0m\u001b[0;34m\u001b[0m\u001b[0;34m\u001b[0m\u001b[0m\n\u001b[1;32m    698\u001b[0m         \u001b[0mself\u001b[0m\u001b[0;34m.\u001b[0m\u001b[0m_create_iterator\u001b[0m\u001b[0;34m(\u001b[0m\u001b[0mdataset\u001b[0m\u001b[0;34m)\u001b[0m\u001b[0;34m\u001b[0m\u001b[0;34m\u001b[0m\u001b[0m\n",
      "\u001b[0;32m~/opt/anaconda3/envs/tensorflow/lib/python3.7/site-packages/tensorflow/python/data/ops/iterator_ops.py\u001b[0m in \u001b[0;36m_create_iterator\u001b[0;34m(self, dataset)\u001b[0m\n\u001b[1;32m    720\u001b[0m               output_shapes=self._flat_output_shapes))\n\u001b[1;32m    721\u001b[0m       \u001b[0;32mif\u001b[0m \u001b[0mself\u001b[0m\u001b[0;34m.\u001b[0m\u001b[0m_job_token\u001b[0m \u001b[0;32mis\u001b[0m \u001b[0;32mNone\u001b[0m\u001b[0;34m:\u001b[0m\u001b[0;34m\u001b[0m\u001b[0;34m\u001b[0m\u001b[0m\n\u001b[0;32m--> 722\u001b[0;31m         \u001b[0mgen_dataset_ops\u001b[0m\u001b[0;34m.\u001b[0m\u001b[0mmake_iterator\u001b[0m\u001b[0;34m(\u001b[0m\u001b[0mds_variant\u001b[0m\u001b[0;34m,\u001b[0m \u001b[0mself\u001b[0m\u001b[0;34m.\u001b[0m\u001b[0m_iterator_resource\u001b[0m\u001b[0;34m)\u001b[0m\u001b[0;34m\u001b[0m\u001b[0;34m\u001b[0m\u001b[0m\n\u001b[0m\u001b[1;32m    723\u001b[0m       \u001b[0;32melse\u001b[0m\u001b[0;34m:\u001b[0m\u001b[0;34m\u001b[0m\u001b[0;34m\u001b[0m\u001b[0m\n\u001b[1;32m    724\u001b[0m         gen_experimental_dataset_ops.make_data_service_iterator(\n",
      "\u001b[0;32m~/opt/anaconda3/envs/tensorflow/lib/python3.7/site-packages/tensorflow/python/ops/gen_dataset_ops.py\u001b[0m in \u001b[0;36mmake_iterator\u001b[0;34m(dataset, iterator, name)\u001b[0m\n\u001b[1;32m   3005\u001b[0m       _result = pywrap_tfe.TFE_Py_FastPathExecute(\n\u001b[1;32m   3006\u001b[0m         \u001b[0m_ctx\u001b[0m\u001b[0;34m.\u001b[0m\u001b[0m_context_handle\u001b[0m\u001b[0;34m,\u001b[0m \u001b[0mtld\u001b[0m\u001b[0;34m.\u001b[0m\u001b[0mdevice_name\u001b[0m\u001b[0;34m,\u001b[0m \u001b[0;34m\"MakeIterator\"\u001b[0m\u001b[0;34m,\u001b[0m \u001b[0mname\u001b[0m\u001b[0;34m,\u001b[0m\u001b[0;34m\u001b[0m\u001b[0;34m\u001b[0m\u001b[0m\n\u001b[0;32m-> 3007\u001b[0;31m         tld.op_callbacks, dataset, iterator)\n\u001b[0m\u001b[1;32m   3008\u001b[0m       \u001b[0;32mreturn\u001b[0m \u001b[0m_result\u001b[0m\u001b[0;34m\u001b[0m\u001b[0;34m\u001b[0m\u001b[0m\n\u001b[1;32m   3009\u001b[0m     \u001b[0;32mexcept\u001b[0m \u001b[0m_core\u001b[0m\u001b[0;34m.\u001b[0m\u001b[0m_NotOkStatusException\u001b[0m \u001b[0;32mas\u001b[0m \u001b[0me\u001b[0m\u001b[0;34m:\u001b[0m\u001b[0;34m\u001b[0m\u001b[0;34m\u001b[0m\u001b[0m\n",
      "\u001b[0;31mKeyboardInterrupt\u001b[0m: "
     ]
    }
   ],
   "source": [
    "for i in range(100):\n",
    "    peak_pose = np.random.choice(possible_peak_poses)\n",
    "    second_half = generate_class(forward_model, tokenizer, embeddings, peak_pose, 40)\n",
    "    print(second_half)\n",
    "    print(\"\\n\")"
   ]
  },
  {
   "cell_type": "code",
   "execution_count": 601,
   "metadata": {},
   "outputs": [],
   "source": [
    "first_half = generate_class(forward_model, tokenizer, embeddings, peak_pose, \"easy pose\", 40)[::-1]"
   ]
  },
  {
   "cell_type": "code",
   "execution_count": 613,
   "metadata": {
    "tags": [
     "outputPrepend"
    ]
   },
   "outputs": [
    {
     "output_type": "stream",
     "name": "stdout",
     "text": "3  20  88  63 138\n 129 100  98  18 109   4  48  42  94  74  70  59 122  30 106  45  69 118\n  87  51  81  38  96  57  44 124  66 105   6 113  15  29  10  50 102   9\n  28  13 119  14  84  68 103  52   1  56  33  53 146  60  21  95  43  73\n  12  54  91   2  46  41  58  71 117  92  23  24  19   7   8  37 112  64\n  76   5  62  16  27  40  17  32]\n[[169 150 151 153 156 157 158 143 159 161 162 163 164 165 166 167 160 168\n  154   0 149 155 139 148 135 127 128 126 152  79 147 137 142 131 146 129\n  114 108  72 145 132 107  88 141 133  86 110  96 105 144 125  38 109 117\n  138  84 130 136  81  98  22  68 122 106  26 115  89  82  57 104  47  64\n  102 116  99  91 123  95 140  80  94  53  87 121  37 134  77 124  55  78\n   93  63  83 120  60  19  28  85  39 103  20  11  92 112  21  61 101  36\n   49  67  34  45 118  90  58  75 113   7  15  35  62  14  71 119  74  73\n   66  44   9 111  12  54  31  48  69  52  46   5  29  76  23  13   6  42\n   41  56   8  33  25  40  32  70  27   2  24 100   3  17  51  43  65  18\n   50  10  30  97  59   4   1  16]]\nHELLO ZERO [169 150 151 153 156 157 158 143 159 161 162 163 164 165 166 167 160 168\n 154   0 149 155 139 148 135 127 128 126 152  79 147 137 142 131 146 129\n 114 108  72 145 132 107  88 141 133  86 110  96 105 144 125  38 109 117\n 138  84 130 136  81  98  22  68 122 106  26 115  89  82  57 104  47  64\n 102 116  99  91 123  95 140  80  94  53  87 121  37 134  77 124  55  78\n  93  63  83 120  60  19  28  85  39 103  20  11  92 112  21  61 101  36\n  49  67  34  45 118  90  58  75 113   7  15  35  62  14  71 119  74  73\n  66  44   9 111  12  54  31  48  69  52  46   5  29  76  23  13   6  42\n  41  56   8  33  25  40  32  70  27   2  24 100   3  17  51  43  65  18\n  50  10  30  97  59   4   1  16]\n[[169 156 157 158 160 161 159 163 164 165 166 167 162 168 153 150 155 149\n  141   0 154 135 152 147 145 151 133 110 109 131 123  86  85 146 107 129\n  138  93 134 127 144  79 117 148 137 142  54 126  84 114  31  90  81  67\n  139 112  73  51  69 103  80  83 116  78  43 120 128 121  29  41 143  96\n   20 113 111  99  38 125  62  95  71 105 130 102  55 106 119  26  50  97\n   77  11  92  72 140  47  23  65  25  13 115  49 124  98  89  76   5 101\n   60  34  75  74 122  52  94  40  82 118  15  36   8  63  57   4  30   9\n  104  56  45  21  17 108 100  70   7  59  37 136  39  46  53  68  48  35\n   44  24   3  18  58   6  27  91  61   1  14  22  64  33  66  42  32  10\n  132  88  16  87   2  19  28  12]]\nHELLO ZERO [169 156 157 158 160 161 159 163 164 165 166 167 162 168 153 150 155 149\n 141   0 154 135 152 147 145 151 133 110 109 131 123  86  85 146 107 129\n 138  93 134 127 144  79 117 148 137 142  54 126  84 114  31  90  81  67\n 139 112  73  51  69 103  80  83 116  78  43 120 128 121  29  41 143  96\n  20 113 111  99  38 125  62  95  71 105 130 102  55 106 119  26  50  97\n  77  11  92  72 140  47  23  65  25  13 115  49 124  98  89  76   5 101\n  60  34  75  74 122  52  94  40  82 118  15  36   8  63  57   4  30   9\n 104  56  45  21  17 108 100  70   7  59  37 136  39  46  53  68  48  35\n  44  24   3  18  58   6  27  91  61   1  14  22  64  33  66  42  32  10\n 132  88  16  87   2  19  28  12]\n[[  0 130 129 128 127 126 125 123 122 121 120 116 115 114 110 108 107 104\n   79  80  82  83 168  85 131  86  89  93  96  97  98  99  88  77 132 134\n  167 166 165 164 163 162 161 160 159 158 157 156 155 154 153 152 151 135\n  136 137 139 140 141 133 142 144 145 147 148 149 150 143  72 169  34  61\n   55  35  11  31  57  74 106  26 101 138  22  36  29 124  49  20  65  47\n   21  70  38 100  78 109  67  50  25 113  91 105  39   3  37 111  10  94\n   60 112  45  14  15  73  84 117 146  18  66  48  75  90  81  52  76 102\n   63  30 118   1  64  44  59  92  68  69   5  87  51 103  53   8  12  58\n   71  95  19   7  33  23  41  42  43   4   9  46   2  27  54  62  40   6\n  119  28  13  56  32  17  16  24]]\nHELLO ZERO [  0 130 129 128 127 126 125 123 122 121 120 116 115 114 110 108 107 104\n  79  80  82  83 168  85 131  86  89  93  96  97  98  99  88  77 132 134\n 167 166 165 164 163 162 161 160 159 158 157 156 155 154 153 152 151 135\n 136 137 139 140 141 133 142 144 145 147 148 149 150 143  72 169  34  61\n  55  35  11  31  57  74 106  26 101 138  22  36  29 124  49  20  65  47\n  21  70  38 100  78 109  67  50  25 113  91 105  39   3  37 111  10  94\n  60 112  45  14  15  73  84 117 146  18  66  48  75  90  81  52  76 102\n  63  30 118   1  64  44  59  92  68  69   5  87  51 103  53   8  12  58\n  71  95  19   7  33  23  41  42  43   4   9  46   2  27  54  62  40   6\n 119  28  13  56  32  17  16  24]\n[[169 167 166 165 164 163 162 161 160 159 158 168 135 155 147   0 157 153\n  152 154 150 131 148 144 156 122 129  80  85 130 134 133 145 123 109 127\n  113 110 106  96  99 115  45 151  83 146  44 112  73  54  84  82 128  20\n  140  62  98  50 143  31  94  71  93  79 138 141  43 102  46  92 103  77\n   52  57 137  76 125 126  10  67  65 124   8  91  87 116  53  97  58  66\n   61 101 100  95  33 139  37 105 120  18  81  39  90  78  60  48  70 132\n   29  23  69  27  32  13  56  24 142 118 104   3 149  17  86   5  47  55\n   34 117  40   9  11 107 121 111  74  35  41  59  30  22  38  88   2 114\n   68  15  89 108  51 136  75  19  63  36   1  26  28  21  72   4  49  14\n   25 119  42   6  64  16  12   7]]\nHELLO ZERO [169 167 166 165 164 163 162 161 160 159 158 168 135 155 147   0 157 153\n 152 154 150 131 148 144 156 122 129  80  85 130 134 133 145 123 109 127\n 113 110 106  96  99 115  45 151  83 146  44 112  73  54  84  82 128  20\n 140  62  98  50 143  31  94  71  93  79 138 141  43 102  46  92 103  77\n  52  57 137  76 125 126  10  67  65 124   8  91  87 116  53  97  58  66\n  61 101 100  95  33 139  37 105 120  18  81  39  90  78  60  48  70 132\n  29  23  69  27  32  13  56  24 142 118 104   3 149  17  86   5  47  55\n  34 117  40   9  11 107 121 111  74  35  41  59  30  22  38  88   2 114\n  68  15  89 108  51 136  75  19  63  36   1  26  28  21  72   4  49  14\n  25 119  42   6  64  16  12   7]\n[[169 143 150 153 155 157 158 159 156 161 162 163 164 165 166 167 160 168\n  154 147 129 151 146 135 128   0 145 127 142 133 152 106 144 149 108 132\n  140 123 138 126  85 109  57 114 107 103  88 148  86 118  83  60  80  79\n  110 141  58 102  91  44 130 131 113 117 119  89  41 121 124  90 120 134\n   99  71  19  37 112  84  43 122  98  64   8   5  93  66  52  50  13 115\n   46  72  27  31  35  34 104  82  51 137 100 125  75  95  48 116 136  24\n   81  40  42  47  62  59  87  67 139   2  94  39  97  15  17 101  22  68\n   55  18  92  45  33  69  73 105  14  32  76  11  36  63   3   6  56  70\n   53  21  29  77  16  78  10   1  23  96  26  65  28  61  30  20  12   4\n   74   7 111  25  38  49   9  54]]\nHELLO ZERO [169 143 150 153 155 157 158 159 156 161 162 163 164 165 166 167 160 168\n 154 147 129 151 146 135 128   0 145 127 142 133 152 106 144 149 108 132\n 140 123 138 126  85 109  57 114 107 103  88 148  86 118  83  60  80  79\n 110 141  58 102  91  44 130 131 113 117 119  89  41 121 124  90 120 134\n  99  71  19  37 112  84  43 122  98  64   8   5  93  66  52  50  13 115\n  46  72  27  31  35  34 104  82  51 137 100 125  75  95  48 116 136  24\n  81  40  42  47  62  59  87  67 139   2  94  39  97  15  17 101  22  68\n  55  18  92  45  33  69  73 105  14  32  76  11  36  63   3   6  56  70\n  53  21  29  77  16  78  10   1  23  96  26  65  28  61  30  20  12   4\n  74   7 111  25  38  49   9  54]\n[[169  64  62 113 114  59 115 117  65 118  50 123 124 126  46  89 128 119\n  110 109 108  88  93  86  85 168  83  99  80  79 101 103 104 105  73  72\n  106 107 129 131 127 149 150 151  18 152 153 154 155 156 157 158 159 160\n  161 162 163 164 165 166 167 132 148  91 147 138 139 135 134 141 140 143\n  133 144 145 146 142  34  43  82  11 136  78  56 130 137  63  53  52 121\n   68  84  22 122  29  15 102  36   8  98  47  49  41  74  97 100  58  77\n   37  67  21  10  66  35  45  55  94  57  31   4   0  96  39 120  40  87\n   20  26  51  61  14  44   7  17  70  54  90  33  75  60   9   5 116  24\n   42  38  16  19  76  69  92 112  13  12  81   3 125 111  48  28  71  25\n    6  27  32   2   1  95  30  23]]\nHELLO ZERO [169  64  62 113 114  59 115 117  65 118  50 123 124 126  46  89 128 119\n 110 109 108  88  93  86  85 168  83  99  80  79 101 103 104 105  73  72\n 106 107 129 131 127 149 150 151  18 152 153 154 155 156 157 158 159 160\n 161 162 163 164 165 166 167 132 148  91 147 138 139 135 134 141 140 143\n 133 144 145 146 142  34  43  82  11 136  78  56 130 137  63  53  52 121\n  68  84  22 122  29  15 102  36   8  98  47  49  41  74  97 100  58  77\n  37  67  21  10  66  35  45  55  94  57  31   4   0  96  39 120  40  87\n  20  26  51  61  14  44   7  17  70  54  90  33  75  60   9   5 116  24\n  42  38  16  19  76  69  92 112  13  12  81   3 125 111  48  28  71  25\n   6  27  32   2   1  95  30  23]\n[[169 167 166 165 164 163 162 161 160 159 143 168 153 157 151 150 128 154\n  158 152 142 147 108 148 144 156 155  89 135 139  86 125 126 133 132 141\n   80 127   0 115 146 110  72  97 149 140 116  85 121 134  35  79 107 114\n  145 106 130  88 123 104 131  83 129  55 122  11  31 124 118  47  71  81\n  137  36  99  20  61 138  92  70  74  14  26  82 101  48  57  49  29  78\n  105  87  34  15  45 113  77  25  73  39  18  96 100 120 102  68  10  62\n   93  75 136 109  60  63 111  65  52 117  12 103  91  37  22  64 112   3\n   59   5  58  50  94  98  56  40   4  51   1  38  67  90  41  84  53  21\n   32 119  19   9  43  95  44  17  46   7  69  54   8   6  66   2  30  13\n   27  16  42  23  28  33  76  24]]\nHELLO ZERO [169 167 166 165 164 163 162 161 160 159 143 168 153 157 151 150 128 154\n 158 152 142 147 108 148 144 156 155  89 135 139  86 125 126 133 132 141\n  80 127   0 115 146 110  72  97 149 140 116  85 121 134  35  79 107 114\n 145 106 130  88 123 104 131  83 129  55 122  11  31 124 118  47  71  81\n 137  36  99  20  61 138  92  70  74  14  26  82 101  48  57  49  29  78\n 105  87  34  15  45 113  77  25  73  39  18  96 100 120 102  68  10  62\n  93  75 136 109  60  63 111  65  52 117  12 103  91  37  22  64 112   3\n  59   5  58  50  94  98  56  40   4  51   1  38  67  90  41  84  53  21\n  32 119  19   9  43  95  44  17  46   7  69  54   8   6  66   2  30  13\n  27  16  42  23  28  33  76  24]\n[[  0 128 135 140 141 142 143 144 146 147 148 149 150 151 152 153 154 155\n  156 157 158 159 160 161 162 163 164 165 166 167 108 168 169 130 120 121\n  138 127 125  85  86 139 134 132  82 145 133 113 126 107 104 115 106 105\n   72  99  89 131  80 114 110  57 101  50 129  83 123  97  90 122  93  38\n  124  88  75  46  11  68  31 116 118 137  53 117  14  78  15  74 111  55\n   58  96  47  77  48  36  21  59  87  43 136  10  49  35  40  65  45 102\n  112  71  94  61  34  39  92  79   5  69  98   3 103  44   1   9 119  62\n   20   7  64  84 100  37  56  91  32  76  25  81  33  70  28   8  22  12\n   41  51  30  27  18   4  29  42  26  52  73  63  66   6  95  19  60  23\n   54  13  67 109  16  24  17   2]]\nHELLO ZERO [  0 128 135 140 141 142 143 144 146 147 148 149 150 151 152 153 154 155\n 156 157 158 159 160 161 162 163 164 165 166 167 108 168 169 130 120 121\n 138 127 125  85  86 139 134 132  82 145 133 113 126 107 104 115 106 105\n  72  99  89 131  80 114 110  57 101  50 129  83 123  97  90 122  93  38\n 124  88  75  46  11  68  31 116 118 137  53 117  14  78  15  74 111  55\n  58  96  47  77  48  36  21  59  87  43 136  10  49  35  40  65  45 102\n 112  71  94  61  34  39  92  79   5  69  98   3 103  44   1   9 119  62\n  20   7  64  84 100  37  56  91  32  76  25  81  33  70  28   8  22  12\n  41  51  30  27  18   4  29  42  26  52  73  63  66   6  95  19  60  23\n  54  13  67 109  16  24  17   2]\n[[ 84 107 108 109 110 111 112 113 106 114 116 117 118 119 120 121 122 115\n  105 104 103 168  85  86  87  88  89  91  92  93  94  96  97  98  99 100\n  101 102 123 124 126 127 151 152 153 154 155 156 157 158 159 160 161 162\n  163 164 165 166 167 150  83 149 147 128 129 130 131 132 133 134 135 136\n  137 138 139 141 142 143 144 145 148  82 169  80  28  29  31  33  34  35\n   26  36  38  39  81  41  42  43  37  24  22  21   4   5   7   8   9  10\n   11  12  14  15  16  17  18  19  20  44  45  40  47  76  63  64  46  65\n   66  67  68  69  78  70  72  73  74  75  79  62  77  53  60  49  50  59\n   58  57  51  56  55  54  61  52 140  71   3  13 125 146  32  48  90  25\n   23  27  95  30   6   0   1   2]]\nHELLO ZERO [ 84 107 108 109 110 111 112 113 106 114 116 117 118 119 120 121 122 115\n 105 104 103 168  85  86  87  88  89  91  92  93  94  96  97  98  99 100\n 101 102 123 124 126 127 151 152 153 154 155 156 157 158 159 160 161 162\n 163 164 165 166 167 150  83 149 147 128 129 130 131 132 133 134 135 136\n 137 138 139 141 142 143 144 145 148  82 169  80  28  29  31  33  34  35\n  26  36  38  39  81  41  42  43  37  24  22  21   4   5   7   8   9  10\n  11  12  14  15  16  17  18  19  20  44  45  40  47  76  63  64  46  65\n  66  67  68  69  78  70  72  73  74  75  79  62  77  53  60  49  50  59\n  58  57  51  56  55  54  61  52 140  71   3  13 125 146  32  48  90  25\n  23  27  95  30   6   0   1   2]\n[[169 143 142 138 135 134 133 132 131 130 128 122  63 116  72 115 114  75\n   79  80  82 168  85  86 108  93 107  96  31 144 126  11 160 157 153 159\n  164 158 152 155 163 156 165 161 151 150 154 166  22 149 148 147 167  26\n  162  87  94 118  21  77  97  61 124 145  46  89  47  29  54 120 123 105\n   91  14 113  92 102  98  66  53  71 139 117  83 100  49  64 106  78  65\n   60  81  39 109  68 121  44 129  55  70 127 146  43   0 110 103  95  25\n   12 112  45  40 137  59  36  15  73  99   8  35 104 136  28  34  57  69\n   30  42  58  33 111 140  41  10  20  32   3 101  67  90 125   9  19  27\n   23  52  50  48  13   2  51  88  74  56  76   4  16  18 141  38   1  62\n   37   7   5  24   6  17  84 119]]\nHELLO ZERO [169 143 142 138 135 134 133 132 131 130 128 122  63 116  72 115 114  75\n  79  80  82 168  85  86 108  93 107  96  31 144 126  11 160 157 153 159\n 164 158 152 155 163 156 165 161 151 150 154 166  22 149 148 147 167  26\n 162  87  94 118  21  77  97  61 124 145  46  89  47  29  54 120 123 105\n  91  14 113  92 102  98  66  53  71 139 117  83 100  49  64 106  78  65\n  60  81  39 109  68 121  44 129  55  70 127 146  43   0 110 103  95  25\n  12 112  45  40 137  59  36  15  73  99   8  35 104 136  28  34  57  69\n  30  42  58  33 111 140  41  10  20  32   3 101  67  90 125   9  19  27\n  23  52  50  48  13   2  51  88  74  56  76   4  16  18 141  38   1  62\n  37   7   5  24   6  17  84 119]\n[[169  80  79  78  77 131 132  72 133 134 135  55 138  49 139 141 130 142\n   83  85 116 115 110 108 107 125  97 126 127  93 128  90  89  88  86 168\n  143 137 121 150 151 153 154 156 157 147 158  11 159 149 160 161 162 163\n  164 165 166 167 148  99  31  39 104 144 155 145 152  73  34 123 106  22\n   87 146  57  20  36  35 105 140  94 103 109 129  70 136 102  47  82 114\n  101 120 124  29  74  46  51 118 100  14 119  63  26  44  52  67  56  10\n  117  58  65  61  40  54  59  43 113  18  66  53  25  69   0   8  42   4\n   15  64  50  98  91   7  28  17  92  68 122 112  21  45  33  19  75  62\n  111  16  24  37  38  76  81  13   3  60  41   5  96  84  95   9   6  27\n   71   2  48   1  32  23  12  30]]\nHELLO ZERO [169  80  79  78  77 131 132  72 133 134 135  55 138  49 139 141 130 142\n  83  85 116 115 110 108 107 125  97 126 127  93 128  90  89  88  86 168\n 143 137 121 150 151 153 154 156 157 147 158  11 159 149 160 161 162 163\n 164 165 166 167 148  99  31  39 104 144 155 145 152  73  34 123 106  22\n  87 146  57  20  36  35 105 140  94 103 109 129  70 136 102  47  82 114\n 101 120 124  29  74  46  51 118 100  14 119  63  26  44  52  67  56  10\n 117  58  65  61  40  54  59  43 113  18  66  53  25  69   0   8  42   4\n  15  64  50  98  91   7  28  17  92  68 122 112  21  45  33  19  75  62\n 111  16  24  37  38  76  81  13   3  60  41   5  96  84  95   9   6  27\n  71   2  48   1  32  23  12  30]\n[[169 167 165 164 163 162 161 160 159 156 168 166 153 157 158 149   0 144\n  150 138 143 141 155 146 152 151 102 131 148 137  88 112 154 121 108 134\n  125 142 129 128  81 126 115 104 139  86  99  92  50 107 117  79  38  90\n  147  75  41  52 105  69 111  45  73  63  70 136 123  84 133 101  23  62\n  122  91  76 100   8  94 109  57 103 116  71  93  72  33  98  29  30  27\n   15  20  67 145  19  51  87   5  16  25  64   4  11  22 118  39  96  14\n    7  85  13  82  78 135  58  24  34  42  17  68  77  44  65  74  32  40\n   97 120  95  80   3  12  54 106  53  56  49   6 114  66 124  43  10   1\n   31 140  59  48  47  37 110 132  21 113   9 127  26  36  35  18 130  46\n    2  28  89  60  61  55 119  83]]\nHELLO ZERO [169 167 165 164 163 162 161 160 159 156 168 166 153 157 158 149   0 144\n 150 138 143 141 155 146 152 151 102 131 148 137  88 112 154 121 108 134\n 125 142 129 128  81 126 115 104 139  86  99  92  50 107 117  79  38  90\n 147  75  41  52 105  69 111  45  73  63  70 136 123  84 133 101  23  62\n 122  91  76 100   8  94 109  57 103 116  71  93  72  33  98  29  30  27\n  15  20  67 145  19  51  87   5  16  25  64   4  11  22 118  39  96  14\n   7  85  13  82  78 135  58  24  34  42  17  68  77  44  65  74  32  40\n  97 120  95  80   3  12  54 106  53  56  49   6 114  66 124  43  10   1\n  31 140  59  48  47  37 110 132  21 113   9 127  26  36  35  18 130  46\n   2  28  89  60  61  55 119  83]\n[[167 166 165 164 163 162 161 160 159 156 168 169 153 158 150 149   0 154\n  144 151 157 148 155  86 147 109 131 143 142 112 152 145 102 133  88 141\n   79 140 138 127 130 126 146  57 134 106  73 121  69 107 135 117 124  31\n  137 136 103  71 129  90  99  52 123  50 132 128  45 125  38 122 120 118\n   43  83  67  39  40  84  72  76  65 110  94 115 116  17  74  33 113  92\n   85 139  87  51 108  16  13  91   5 104  98  34  97  96  66  56 101  62\n   37  89   7 105  53  80 114  93  75  27  54  26  70  23  63  42  25  68\n  111  41  95  58  18  35  64  44  20  49  77  28  46 100  81  30  82  32\n   48  60  19   4 119  36  29  59  24  10  61   3  55  15   6  22   2   1\n   11   8   9  21  14  12  47  78]]\nHELLO ZERO [167 166 165 164 163 162 161 160 159 156 168 169 153 158 150 149   0 154\n 144 151 157 148 155  86 147 109 131 143 142 112 152 145 102 133  88 141\n  79 140 138 127 130 126 146  57 134 106  73 121  69 107 135 117 124  31\n 137 136 103  71 129  90  99  52 123  50 132 128  45 125  38 122 120 118\n  43  83  67  39  40  84  72  76  65 110  94 115 116  17  74  33 113  92\n  85 139  87  51 108  16  13  91   5 104  98  34  97  96  66  56 101  62\n  37  89   7 105  53  80 114  93  75  27  54  26  70  23  63  42  25  68\n 111  41  95  58  18  35  64  44  20  49  77  28  46 100  81  30  82  32\n  48  60  19   4 119  36  29  59  24  10  61   3  55  15   6  22   2   1\n  11   8   9  21  14  12  47  78]\n[[169 135  79 134 133 132 131 130 128 127 126 125 123 120 116 115 110 108\n  107  83  97  93  89  86  85 140 137 142 167 166 165 164 163 162 161 160\n  159 158 157 141 155 156 153 143 144  82 147 154 149 148 150 151 152 168\n  139  55 121 129 109  31 106  78  80 146   0  77  11 145  94  96  49  72\n  124  90 122 113  87  26  61  36 138  99  88  98  35  20  46 111  57  73\n   34  71 105  60 114  81 136  39  54  63  69  70  21 103  29  53  45  47\n   22 118  48  52 101  25 117  75 104  14  44  38  84 102 112  65  40  74\n   51  92  62   5  15  95  13  43  66 100 119  10  42  59  37  58  50  67\n   76   9  56  41  91   3  17   2  33  23  28  64  18   7   8   1  19   6\n   68   4  27  32  24  16  30  12]]\nHELLO ZERO [169 135  79 134 133 132 131 130 128 127 126 125 123 120 116 115 110 108\n 107  83  97  93  89  86  85 140 137 142 167 166 165 164 163 162 161 160\n 159 158 157 141 155 156 153 143 144  82 147 154 149 148 150 151 152 168\n 139  55 121 129 109  31 106  78  80 146   0  77  11 145  94  96  49  72\n 124  90 122 113  87  26  61  36 138  99  88  98  35  20  46 111  57  73\n  34  71 105  60 114  81 136  39  54  63  69  70  21 103  29  53  45  47\n  22 118  48  52 101  25 117  75 104  14  44  38  84 102 112  65  40  74\n  51  92  62   5  15  95  13  43  66 100 119  10  42  59  37  58  50  67\n  76   9  56  41  91   3  17   2  33  23  28  64  18   7   8   1  19   6\n  68   4  27  32  24  16  30  12]\n"
    }
   ],
   "source": [
    "second_half = generate_class(forward_model, tokenizer, embeddings, peak_pose, \"corpse pose\", 40)"
   ]
  },
  {
   "cell_type": "code",
   "execution_count": 603,
   "metadata": {},
   "outputs": [
    {
     "output_type": "execute_result",
     "data": {
      "text/plain": "20"
     },
     "metadata": {},
     "execution_count": 603
    }
   ],
   "source": [
    "class_length = len(first_half) + len(second_half)\n",
    "class_length"
   ]
  },
  {
   "cell_type": "code",
   "execution_count": 614,
   "metadata": {},
   "outputs": [
    {
     "output_type": "execute_result",
     "data": {
      "text/plain": "['revolved triangle pose',\n 'half lord of the fishes pose',\n 'downward facing dog pose plank pose flow',\n 'dancer pose',\n 'sphinx pose',\n 'eight angle pose',\n 'easy pose',\n 'half lord of the fishes pose',\n 'squat pose',\n 'standing twists',\n 'plank pose',\n 'cactus arms',\n 'revolved high lunge pose',\n 'second half of sun salutation',\n 'bound angle pose',\n 'corpse pose']"
     },
     "metadata": {},
     "execution_count": 614
    }
   ],
   "source": [
    "second_half"
   ]
  },
  {
   "cell_type": "code",
   "execution_count": 604,
   "metadata": {},
   "outputs": [],
   "source": [
    "yoga_class = first_half + second_half"
   ]
  },
  {
   "cell_type": "code",
   "execution_count": 605,
   "metadata": {},
   "outputs": [
    {
     "output_type": "execute_result",
     "data": {
      "text/plain": "['easy pose',\n 'low lunge pose',\n 'cow face pose',\n 'cat cow pose',\n 'cycling pose',\n 'bound angle pose',\n 'pranayama',\n 'thunderbolt pose',\n 'corpse pose',\n 'seated forward bend pose',\n 'warrior pose i',\n 'chair pose',\n 'half lord of the fishes pose',\n 'revolved triangle pose',\n 'revolved triangle pose',\n 'garland pose',\n 'child pose',\n 'reverse table top pose',\n 'cycling pose',\n 'corpse pose']"
     },
     "metadata": {},
     "execution_count": 605
    }
   ],
   "source": [
    "yoga_class"
   ]
  },
  {
   "cell_type": "code",
   "execution_count": null,
   "metadata": {},
   "outputs": [],
   "source": []
  }
 ]
}