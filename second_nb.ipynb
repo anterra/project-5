{
 "metadata": {
  "language_info": {
   "codemirror_mode": {
    "name": "ipython",
    "version": 3
   },
   "file_extension": ".py",
   "mimetype": "text/x-python",
   "name": "python",
   "nbconvert_exporter": "python",
   "pygments_lexer": "ipython3",
   "version": "3.7.7-final"
  },
  "orig_nbformat": 2,
  "kernelspec": {
   "name": "tensorflow",
   "display_name": "tensorflow"
  }
 },
 "nbformat": 4,
 "nbformat_minor": 2,
 "cells": [
  {
   "cell_type": "markdown",
   "metadata": {},
   "source": [
    "# Imports"
   ]
  },
  {
   "cell_type": "code",
   "execution_count": 397,
   "metadata": {
    "tags": []
   },
   "outputs": [],
   "source": [
    "import pandas as pd\n",
    "import numpy as np\n",
    "import seaborn as sns\n",
    "import pickle\n",
    "import sklearn\n",
    "import tensorflow as tf\n",
    "KERAS_BACKEND=tf\n",
    "from tensorflow import keras\n",
    "from tensorflow.keras.utils import plot_model\n",
    "import gensim\n",
    "# import keras\n",
    "from keras.utils import to_categorical\n",
    "from keras.preprocessing.text import Tokenizer\n",
    "from keras.preprocessing.sequence import pad_sequences\n",
    "from tensorflow.keras.models import Model, Sequential, load_model\n",
    "from tensorflow.keras.layers import Dense, Activation, Dropout\n",
    "from tensorflow.keras.layers import Input, Embedding, Bidirectional, LSTM\n",
    "from gensim.models.keyedvectors import KeyedVectors"
   ]
  },
  {
   "cell_type": "code",
   "execution_count": 95,
   "metadata": {},
   "outputs": [
    {
     "output_type": "execute_result",
     "data": {
      "text/plain": "'2.3.0'"
     },
     "metadata": {},
     "execution_count": 95
    }
   ],
   "source": [
    "tf.__version__"
   ]
  },
  {
   "cell_type": "markdown",
   "metadata": {},
   "source": [
    "# Loading In Yoga Class Data"
   ]
  },
  {
   "cell_type": "code",
   "execution_count": 96,
   "metadata": {},
   "outputs": [],
   "source": [
    " f = open(\"all_poses\", \"rb\")\n",
    "all_poses = pickle.load(f)\n",
    "f.close()\n",
    "\n",
    "f = open(\"flask_app_df\", \"rb\")\n",
    "poses_info = pickle.load(f)\n",
    "f.close()\n",
    "\n",
    "f = open(\"all_yoga_classes_df\", \"rb\")\n",
    "yoga_classes = pickle.load(f)\n",
    "f.close()\n",
    "\n",
    "f = open(\"poses_df\", \"rb\")\n",
    "class_poses = pickle.load(f)\n",
    "f.close()\n",
    "\n",
    "f = open(\"vinyasa_df\", \"rb\")\n",
    "more_vinyasa = pickle.load(f)\n",
    "f.close()\n",
    "\n",
    "f = open(\"hatha_df\", \"rb\")\n",
    "more_hatha = pickle.load(f)\n",
    "f.close()"
   ]
  },
  {
   "cell_type": "code",
   "execution_count": 97,
   "metadata": {},
   "outputs": [],
   "source": [
    "df = pd.concat([yoga_classes, more_vinyasa, more_hatha])\n",
    "df = df.loc[df[\"Class Type\"].isin([\"Vinyasa\", \"Hatha\", \"Power\", \"Iyengar\", \"Ashtanga\"])]\n",
    "df.reset_index(inplace=True)"
   ]
  },
  {
   "cell_type": "code",
   "execution_count": 98,
   "metadata": {
    "tags": []
   },
   "outputs": [
    {
     "output_type": "stream",
     "name": "stdout",
     "text": "33.0\n"
    }
   ],
   "source": [
    "# average length of classes\n",
    "lengths = []\n",
    "for i in range(len(df[\"Poses\"])):\n",
    "    length = len(df[\"Poses\"][i])\n",
    "    lengths.append(length)\n",
    "print(np.average(length))"
   ]
  },
  {
   "cell_type": "markdown",
   "metadata": {},
   "source": [
    "# Tokenizing: Base Yoga Poses"
   ]
  },
  {
   "cell_type": "code",
   "execution_count": 99,
   "metadata": {},
   "outputs": [],
   "source": [
    "documents = [class_list for class_list in df[\"Poses\"]]"
   ]
  },
  {
   "cell_type": "code",
   "execution_count": 104,
   "metadata": {},
   "outputs": [],
   "source": [
    "base_poses = poses_info[[\"Pose Name\", \"Base Pose\"]]"
   ]
  },
  {
   "cell_type": "code",
   "execution_count": 105,
   "metadata": {},
   "outputs": [],
   "source": [
    "changes = [([4, 17, 47, 50, 60], \"Cycling Pose\"),\n",
    "    ([19, 40, 41, 44, 46, 28, 54, 67, 68, 72], \"High Boat To Low Boat Flow\"),\n",
    "    ([64, 66, 69, 70], \"Low Boat Pose\"),\n",
    "    ([86], \"Staff Pose\"), \n",
    "    ([87, 88, 117, 118], \"Bound Angle Forward Bend\"), \n",
    "    ([125, 135, 136, 138, 140, 141], \"One Legged Bow Pose\"), \n",
    "    ([216, 217, 218, 219], \"Pigeon Pose\"), \n",
    "    ([233, 234, 235, 236, 237, 238, 239], \"Thunderbolt Pose\"), \n",
    "    ([248, 269, 270, 271, 274], \"Cow Pose\"), \n",
    "    ([259, 260, 261, 262, 263, 364, 265, 266, 267, 268, 272, 273, 275], \"Cat Pose\"),\n",
    "    ([291], \"Hurdlers Pose\"),\n",
    "    ([293, 337, 338, 339, 340, 341, 342, 343, 344, 345, 346, 372], \"Revolved Chair Pose\"), \n",
    "    ([300, 303, 306, 307, 308], \"Chair Pose With Airplane Arms\"),\n",
    "    ([365, 369, 370], \"Figure Four Pose\"), \n",
    "    ([368], \"Shiva Squat Pose\"), \n",
    "    ([520, 521], \"Supine Spinal Twist Pose\"), \n",
    "    ([587, 588], \"Flying Pigeon Pose\"), \n",
    "    ([594, 589], \"Side Crow Pose\"), \n",
    "    ([599], \"Baby Crow Pose\"), \n",
    "    ([663, 664, 665, 666, 667, 668], \"One Legged Mountain Pose\"), \n",
    "    ([687, 758], \"One Handed Downward Facing Dog Pose\"),\n",
    "    ([688, 689, 690, 759, 760], \"Standing Splits Pose\"), \n",
    "    ([691, 692, 693, 694, 724, 735, 736, 737, 761, 762, 763, 764], \"Three Legged Downward Facing Dog Pose\"), \n",
    "    ([700, 717], \"Downward Facing Dog Upward Facing Dog Pose Flow\"), \n",
    "    ([714], \"Downward Facing Dog Pose Plank Pose Flow\"), \n",
    "    ([715], \"Downward Facing Dog Pose Table Top Pose Flow\"), \n",
    "    ([747], \"Downward Facing Dog Pose Knee To Nose\"),\n",
    "    ([748], \"Downward Facing Dog Pose Shoulder Taps\"), \n",
    "    ([749], \"Downward Facing Dog Pose to Low Lunge Pose Flow\"), \n",
    "    ([865, 866, 867, 868, 869, 870, 871, 872, 873, 874, 875, 876, 877, 878, 879, 880, 881, 882, 883, 884, 885, 886, 887, 888, 889, 890, 891, 892, 893, 894, 895, 896, 897, 898, 899, 900, 901], \"Easy Pose\"), \n",
    "    ([924, 925, 926], \"Cactus Arms\"), \n",
    "    ([998], \"Half Lotus Pose\"), \n",
    "    ([999], \"Lotus Pose\"), \n",
    "    ([1016, 1017], \"Eye Exercise\"), ([1055, 1056, 1057, 1058, 1061], \"Scorpion Pose\"), \n",
    "    ([1131, 1132, 1133, 1134, 1135, 1136, 1137, 1138, 1139, 1140, 1141, 1142, 1143, 1144, 1145, 1146, 1147, 1148, 1149, 1150, 1151], \"Chaturanga Dandasana\"),\n",
    "    ([1387], \"Headstand Pose Eagle Legs\"), \n",
    "    ([1390], \"Headstand Pose Lotus Legs\"), \n",
    "    ([1392], \"Headstand Pose Wide Legs\"), \n",
    "    ([1395, 1400, 1401, 1402, 1403, 1404, 1405, 1406, 1407], \"Tripod Headstand Pose\"), \n",
    "    ([1464, 1465, 1479, 1480, 1481, 1482], \"Revolved High Lunge Pose\"), \n",
    "    ([1466, 1467, 1468, 1469, 1483], \"Runners Lunge Pose\"), \n",
    "    ([1487, 1488, 1489, 1490, 1491, 1492, 1493, 1494, 1495, 1496, 1497, 1498, 1499, 1500, 1501, 1502, 1503, 1504, 1505, 1506, 1507, 1508, 1509, 1510, 1511, 1512, 1513, 1514, 1515, 1516, 1517, 1518, 1519, 1520, 1521, 1522, 1523, 1524, 1525, 1526, 1527, 1528, 1529, 1530, 1531, 1532, 1533], \"Wide Legged Forward Fold\"), \n",
    "    ([1487, 1509, 1510, 1511, 1512], \"Revolved Wide Legged Forward Fold\"),\n",
    "    ([1491, 1492, 1493, 1494, 1495, 1496, 1497, 1498], \"Wide Legged Forward Fold With Halfway Lift\"),\n",
    "    ([1489, 1490, 1527], \"Five Pointed Star Pose\"), \n",
    "    ([1508], \"Pyramid Pose\"), \n",
    "    ([1534, 1535, 1536, 1537, 1538, 1539, 1540, 1541, 1542, 1543, 1544, 1545, 1546, 1547, 1548, 1549, 1550, 1551, 1552, 1553, 1554, 1555, 1556, 1557, 1558, 1559, 1560, 1561, 1562, 1563, 1564, 1565, 1566], \"Pyramid Pose\"), \n",
    "    ([1584], \"Flying Lizard Pose\"), \n",
    "    ([1673, 1684, 1685, 1591, 1700, 1708, 1710, 1711, 1712], \"Revolved Low Lunge Pose\"),\n",
    "    ([1732, 1733, 1745, 1758, 1758, 1776, 1777, 1778, 1784, 1790, 1791, 1791], \"One Legged Moutain Pose\"), \n",
    "    ([1840, 1841, 1842, 1843, 1844, 1845, 1846, 1847, 1848, 1849, 1850, 1851, 1852], \"Easy Pose\"), \n",
    "    ([1873, 1874, 1875, 1876, 1877, 1878, 1879, 1880, 1881, 1882], \"Standing Side Bend Pose\"), \n",
    "    ([1891, 1892, 1893, 1901, 1901, 1903, 1904, 1915, 1916, 1917, 1918, 1919, 1920, 1921, 1922], \"King Pigeon Pose\"), \n",
    "    ([1927, 1928, 1932], \"Grasshopper Pose\"), \n",
    "    ([1929], \"Dragonfly Pose\"), \n",
    "    ([1930], \"Eight Angle Pose\"),\n",
    "    ([1934, 1970, 1971, 1972], \"One Legged Plank Pose\"), ([1939], \"Side Plank Pose\"), \n",
    "    ([1958, 1959, 1960, 1961, 1967, 1968, 1969], \"Forearm Plank Pose\"), \n",
    "    ([2173], \"Lotus Pose\"), \n",
    "    ([2188, 2189, 2190, 2191, 2192, 2193, 2194, 2195, 2196, 2197, 2198, 2199, 2200], \"Revolved Extended Side Angle Pose\"), \n",
    "    ([2189, 2195, 2196], \"Revolved High Lunge Pose\"), \n",
    "    ([2347, 2348, 2349, 2350, 2351, 2352, 2353, 2354, 2355, 2356, 2357, 2358, 2359, 2360, 2361, 2362, 2363, 2364, 2365, 2366, 2367, 2368], \"Skandasana\"),\n",
    "    ([2390, 2397], \"Anantasana\"), \n",
    "    ([2415, 2416, 2417, 2418, 2419, 2420, 2443], \"Visvamitrasana Pose\"), \n",
    "    ([2422, 2427, 2428, 2430, 2431, 2433, 2453, 2458, 2460], \"Side Plank Pose With Leg Variation\"), \n",
    "    ([2436, 2437, 2438, 2439, 2440, 2441], \"Forearm Side Plank Pose\"), \n",
    "    ([2465, 2466], \"Wild Thing Pose\"), \n",
    "    ([2482, 2483, 2484, 2486, 2487, 2488, 2489, 2480, 2492, 2493], \"Half Splits Pose\"), \n",
    "    ([2494], \"Standing Splits Pose\"), \n",
    "    ([2592, 2593, 2594], \"Firefly Pose\"), \n",
    "    ([2611, 2612, 2613, 2614, 2615, 2616, 2617, 2618, 2619, 2620, 2621], \"Forward Fold Pose With Halfway Lift\"), \n",
    "    ([2688, 2689, 2692, 2717], \"Bird Of Paradise Pose\"), \n",
    "    ([2700, 2701, 2703], \"Revolved Hand To Big Toe Pose\"), \n",
    "    ([2750, 2758], \"Half Sun Salutation\"), \n",
    "    ([2759], \"Second Half Of Sun Salutation\"), \n",
    "    ([2771, 2772], \"Banana Pose\"), \n",
    "    ([2795], \"Supine Spinal Twist Pose\"), \n",
    "    ([2797, 2798, 2833, 2848, 2849, 2850], \"Tiger Pose\"), \n",
    "    ([2799, 2816, 2827], \"Table Top Knee To Nose Flow\"), \n",
    "    ([2800, 2817], \"Child Pose Table Top Pose Flow\"), \n",
    "    ([2801, 2831, 2834, 2837, 2840, 2841, 2842], \"Table Top Pose With One Leg Extended Back\"), \n",
    "    ([2809, 2810, 2811, 2812, 2813, 2814, 2815], \"Revolved Table Top Pose\"), \n",
    "    ([2852, 2853, 2854, 2855], \"Table Top Balancing Pose, Opposite Arm and Leg Extended\"), \n",
    "    ([2968, 2972, 2983, 2974, 2975, 2976, 2977, 3005, 3006, 3007, 3008], \"Revolved Triangle Pose\"), \n",
    "    ([3023, 3024, 3025, 3026, 3031, 3032, 3038, 3039, 3040], \"Reverse Table Top Pose\"), \n",
    "    ([3037], \"Flip The Dog Pose\"), \n",
    "    ([3046, 3047, 3048, 3049, 3050, 3051, 3052, 3053, 3054, 3055, 3056, 3057, 3058, 3059, 3060, 3061, 3062, 3063], \"Anantasana\"), \n",
    "    ([3064, 3065, 3066, 3067, 3070, 3071, 3072, 3073, 3074, 3075, 3079], \"Warrior Pose I\"), \n",
    "    ([3068, 3069, 3076, 3077, 3078], \"Humble Warrior Pose\"), \n",
    "    ([3106, 3107, 3108, 3109, 3110, 3111, 3112, 3113, 3114, 3115, 3116, 3117, 3118, 3119, 3120, 3121], \"Warrior Pose II\"), \n",
    "    ([3122, 3123, 3124, 3125, 3126, 3127, 3128, 3129, 3130, 3131, 3132, 3133, 3134, 3135, 3136, 3137, 3138, 3139, 3140, 3141, 3142, 3143, 3144], \"Warrior Pose III\"), \n",
    "    ([3134], \"Shiva Squat Pose\"), \n",
    "    ([3131, 3132, 3133], \"Airplane Pose\"), \n",
    "    ([3181, 3182, 3183, 3184, 3185, 3186, 3187, 3188, 3189, 3190], \"Half Wind Release Pose\")]"
   ]
  },
  {
   "cell_type": "code",
   "execution_count": 106,
   "metadata": {},
   "outputs": [],
   "source": [
    "for i in changes:\n",
    "    base_poses.loc[i[0], \"Base Pose\"] = i[1]"
   ]
  },
  {
   "cell_type": "code",
   "execution_count": 107,
   "metadata": {},
   "outputs": [
    {
     "output_type": "execute_result",
     "data": {
      "text/plain": "170"
     },
     "metadata": {},
     "execution_count": 107
    }
   ],
   "source": [
    "len(base_poses[\"Base Pose\"].unique())"
   ]
  },
  {
   "cell_type": "code",
   "execution_count": 108,
   "metadata": {},
   "outputs": [],
   "source": [
    "base_documents = []\n",
    "for i in range(len(documents)):\n",
    "    temp_df = pd.DataFrame(documents[i], columns=[\"0\"])\n",
    "    temp_df = pd.merge(temp_df, base_poses, how=\"left\", left_on=\"0\", right_on=\"Pose Name\")\n",
    "    temp_df = temp_df.dropna(how=\"any\")\n",
    "    new_doc = [pose for pose in temp_df[\"Base Pose\"]]\n",
    "    base_documents.append(new_doc)"
   ]
  },
  {
   "cell_type": "code",
   "execution_count": 492,
   "metadata": {},
   "outputs": [],
   "source": [
    "for doc in base_documents:\n",
    "    doc.insert(0, \"--\")\n",
    "    doc.append(\"--\")"
   ]
  },
  {
   "cell_type": "code",
   "execution_count": 493,
   "metadata": {},
   "outputs": [],
   "source": [
    "first_poses = []\n",
    "for doc in base_documents:\n",
    "    first_poses.append(doc[1])"
   ]
  },
  {
   "cell_type": "code",
   "execution_count": 507,
   "metadata": {},
   "outputs": [],
   "source": [
    "last_poses = []\n",
    "for doc in base_documents:\n",
    "    last_poses.append(doc[-2])"
   ]
  },
  {
   "cell_type": "code",
   "execution_count": 506,
   "metadata": {
    "tags": []
   },
   "outputs": [
    {
     "output_type": "stream",
     "name": "stdout",
     "text": "Easy Pose : 12182\nThunderbolt Pose : 743\nSun Salutation : 1764\nCorpse Pose : 5272\nTable Top Pose : 669\nLotus Pose : 433\nPranayama : 2099\nReclined Bound Angle Pose : 1207\nChild Pose : 2534\nCycling Pose : 326\nBridge Pose : 454\nSupine Spinal Twist Pose : 253\nExercise : 360\nCat Pose : 127\nLow Lunge Pose : 75\nUpward Facing Dog Pose : 27\nMountain Pose : 3992\nBoat Pose : 396\nMoon Salutation : 134\nBound Angle Pose : 1069\nCobra Pose : 169\nHalf Sun Salutation : 260\nCat Cow Pose : 1271\nWind Release Pose : 606\nWarrior Pose I : 263\nHero Pose : 651\nDownward Facing Dog Pose to Low Lunge Pose Flow : 16\nPuppy Dog Pose : 103\nPalm Tree Pose : 474\nTorso Stretch Pose : 182\nDownward Facing Dog Pose : 687\nReverse Corpse Pose : 190\nChair Pose : 678\nHalf Wind Release Pose : 190\nThree Legged Downward Facing Dog Pose : 91\nNeck Rolls : 839\nLegs Up The Wall Pose : 106\nStanding Forward Fold Pose : 453\nHalf Lord Of The Fishes Pose : 57\nFive Pointed Star Pose : 30\nFlamingo Pose : 81\nFish Pose : 389\nRevolved High Lunge Pose : 38\nPlank Pose : 115\nShoulder Stretches : 483\nLow Boat Pose : 15\nEye Of The Needle Pose : 94\nCow Face Pose : 109\nSeated Forward Bend Pose : 462\nThread The Needle Pose : 79\nGarland Pose : 128\nTree Pose : 186\nBanana Pose : 134\nEagle Pose : 50\nSeated Straddle Pose : 228\nDownward Facing Dog Pose Table Top Pose Flow : 6\n-- : 369\nPigeon Pose : 29\nStaff Pose : 385\nDownward Facing Dog Pose Knee To Nose : 1\nRevolved Chair Pose : 40\nTable Top Balancing Pose, Opposite Arm and Leg Extended : 93\nWheel Pose : 17\nReclined Hero Pose : 36\nChild Pose Table Top Pose Flow : 71\nHigh Boat To Low Boat Flow : 121\nRevolved Table Top Pose : 16\nWarrior Pose II : 114\nTiger Pose : 12\nSquat Pose : 48\nReclined Big Toe Pose : 189\nChaturanga Dandasana : 34\nFigure Four Pose : 5\nMudra : 114\nHalf Lotus Pose : 20\nGate Pose : 64\nOne Legged Bow Pose : 24\nStanding Splits Pose : 12\nDancer Pose : 49\nTripod Headstand Pose : 5\nStanding Backbend Pose : 132\nWide Legged Forward Fold : 96\nRevolved Hand To Big Toe Pose : 6\nHappy Baby Pose : 66\nBird Of Paradise Pose : 5\nSkandasana : 47\nSide Lying Corpse Pose : 101\nFirelog Pose : 70\nOne Legged Plank Pose : 3\nGoddess Pose : 83\nBow Pose : 83\nStanding Side Bend Pose : 58\nForearm Plank Pose : 6\nCrow Pose : 15\nReverse Warrior Pose : 15\nDolphin Pose : 37\nCamel Pose : 49\nCactus Arms : 2\nDownward Facing Dog Upward Facing Dog Pose Flow : 6\nPyramid Pose : 38\nEye Exercise : 45\nCenter Splits Pose : 14\nCow Pose : 59\nDownward Facing Dog Pose Plank Pose Flow : 27\nSecond Half Of Sun Salutation : 23\nShoulderstand Pose : 61\nWarrior Pose III : 22\nSide Plank Pose : 60\nTriangle Pose : 111\nHandstand Pose : 15\nBound Angle Forward Bend : 31\nStanding Hand To Big Toe Pose : 29\nReverse Table Top Pose : 4\nHalf Splits Pose : 28\nLocust Pose : 42\nRunners Lunge Pose : 8\nSection : 17\nHalf Moon Pose : 32\nLion Pose : 51\nChair Pose With Airplane Arms : 30\nStanding Twists : 44\nSide Plank Pose With Leg Variation : 23\nSphinx Pose : 53\nHead To Knee Pose : 19\nWild Thing Pose : 18\nForearm Side Plank Pose : 15\nRevolved Extended Side Angle Pose : 40\nRevolved Low Lunge Pose : 17\nExtended Side Angle Pose : 27\nVisvamitrasana Pose : 3\nShiva Squat Pose : 2\nUpward Plank Pose : 14\nWide Legged Forward Fold With Halfway Lift : 6\nSplits Pose : 20\nFoot Behind The Head Pose : 3\nPlough Pose : 37\nOne Legged Mountain Pose : 8\nHigh Lunge Pose : 36\nOne Legged Moutain Pose : 16\nCrane Pose : 22\nAnantasana : 25\nTable Top Knee To Nose Flow : 6\nHeadstand Pose : 58\nReclining Hero Pose : 1\nFirefly Pose : 1\nRevolved Triangle Pose : 14\nGrasshopper Pose : 1\nAirplane Pose : 7\nHumble Warrior Pose : 4\nHeadstand Pose Eagle Legs : 3\nLizard Pose : 9\nFeathered Peacock Pose : 5\nForward Fold Pose With Halfway Lift : 10\nKing Pigeon Pose : 2\nCat Tail Pulling Pose : 12\nRevolved Wide Legged Forward Fold : 3\nScorpion Pose : 1\nOne Handed Downward Facing Dog Pose : 1\nTable Top Pose With One Leg Extended Back : 4\nSide Crow Pose : 2\nEight Angle Pose : 1\nFlying Pigeon Pose : 1\n"
    }
   ],
   "source": [
    "from collections import Counter\n",
    "\n",
    "for i in range(len(Counter(first_poses).keys())):\n",
    "    print(list(Counter(first_poses).keys())[i], \":\", list(Counter(first_poses).values())[i])"
   ]
  },
  {
   "cell_type": "markdown",
   "metadata": {},
   "source": [
    "Vast majority of classes begin with easy pose (simple cross-legged), with the second most common entry pose being corpse pose. Pranayama which is also very high just means \"breathing\", which is not itself a \"pose\", but a breath technique which would commonly practiced from either sitting meditation (easy pose) or corpse pose. I will converge the inverse "
   ]
  },
  {
   "cell_type": "code",
   "execution_count": 508,
   "metadata": {
    "tags": []
   },
   "outputs": [
    {
     "output_type": "stream",
     "name": "stdout",
     "text": "Corpse Pose : 20486\nSide Lying Corpse Pose : 637\nDownward Facing Dog Pose : 684\nThunderbolt Pose : 193\nHalf Sun Salutation : 49\nThread The Needle Pose : 117\nRevolved Wide Legged Forward Fold : 32\nBridge Pose : 630\nPranayama : 971\nChair Pose : 280\nLizard Pose : 51\nDancer Pose : 110\nEasy Pose : 3105\nCamel Pose : 120\nHappy Baby Pose : 652\nGoddess Pose : 145\nBound Angle Pose : 261\nBoat Pose : 218\nFlamingo Pose : 71\nSupine Spinal Twist Pose : 1864\nHigh Lunge Pose : 93\nChild Pose : 824\nReclined Bound Angle Pose : 853\nSun Salutation : 455\nPuppy Dog Pose : 135\nFlying Pigeon Pose : 8\nCobra Pose : 304\nPlank Pose : 173\nHeadstand Pose : 166\nLow Lunge Pose : 135\nCycling Pose : 237\nCat Cow Pose : 89\nWind Release Pose : 963\nStaff Pose : 190\nMountain Pose : 1513\nWarrior Pose II : 140\nForearm Plank Pose : 16\nSeated Forward Bend Pose : 376\nReverse Corpse Pose : 291\nGarland Pose : 167\nFish Pose : 566\nWarrior Pose I : 232\nBow Pose : 103\nShoulder Stretches : 98\nPalm Tree Pose : 303\nHalf Lord Of The Fishes Pose : 273\nPigeon Pose : 185\nTable Top Pose : 129\nSkandasana : 61\nHalf Wind Release Pose : 99\nLegs Up The Wall Pose : 435\nSeated Straddle Pose : 264\nWild Thing Pose : 63\nSide Plank Pose : 100\nHalf Splits Pose : 72\nLow Boat Pose : 15\nWarrior Pose III : 224\nMoon Salutation : 80\nHead To Knee Pose : 66\nCow Face Pose : 128\nWide Legged Forward Fold : 196\nWheel Pose : 182\nForward Fold Pose With Halfway Lift : 15\nStanding Backbend Pose : 80\nChaturanga Dandasana : 78\nStanding Forward Fold Pose : 507\nFirelog Pose : 54\nGrasshopper Pose : 13\nChair Pose With Airplane Arms : 15\nHalf Moon Pose : 135\nTorso Stretch Pose : 125\nPlough Pose : 343\n-- : 369\nRevolved High Lunge Pose : 78\nTree Pose : 201\nEye Of The Needle Pose : 176\nBird Of Paradise Pose : 26\nTable Top Knee To Nose Flow : 7\nLotus Pose : 297\nUpward Facing Dog Pose : 74\nLion Pose : 20\nStanding Side Bend Pose : 45\nShoulderstand Pose : 276\nOne Legged Plank Pose : 7\nExercise : 115\nReclined Big Toe Pose : 237\nBound Angle Forward Bend : 33\nGate Pose : 76\nReverse Warrior Pose : 100\nCat Tail Pulling Pose : 48\nDownward Facing Dog Pose to Low Lunge Pose Flow : 12\nAnantasana : 69\nMudra : 111\nTriangle Pose : 145\nUpward Plank Pose : 62\nFlip The Dog Pose : 5\nRevolved Triangle Pose : 50\nEight Angle Pose : 15\nLocust Pose : 113\nStanding Splits Pose : 29\nForearm Side Plank Pose : 15\nBanana Pose : 168\nSide Plank Pose With Leg Variation : 25\nPyramid Pose : 112\nCat Pose : 21\nCenter Splits Pose : 26\nRevolved Chair Pose : 66\nCrow Pose : 74\nStanding Twists : 18\nReverse Table Top Pose : 25\nEagle Pose : 92\nThree Legged Downward Facing Dog Pose : 85\nCrane Pose : 59\nHero Pose : 138\nReclined Hero Pose : 101\nNeck Rolls : 71\nExtended Side Angle Pose : 72\nSquat Pose : 47\nSide Crow Pose : 24\nTripod Headstand Pose : 40\nSphinx Pose : 65\nDownward Facing Dog Pose Table Top Pose Flow : 14\nTiger Pose : 23\nDownward Facing Dog Upward Facing Dog Pose Flow : 10\nHandstand Pose : 54\nDownward Facing Dog Pose Plank Pose Flow : 19\nCow Pose : 12\nTable Top Balancing Pose, Opposite Arm and Leg Extended : 45\nHigh Boat To Low Boat Flow : 46\nSplits Pose : 38\nRevolved Extended Side Angle Pose : 84\nEye Exercise : 28\nFive Pointed Star Pose : 27\nFeathered Peacock Pose : 27\nReclining Hero Pose : 6\nSecond Half Of Sun Salutation : 31\nRevolved Low Lunge Pose : 38\nOne Legged Mountain Pose : 22\nStanding Hand To Big Toe Pose : 56\nKing Pigeon Pose : 39\nDolphin Pose : 59\nFigure Four Pose : 4\nScorpion Pose : 14\nChild Pose Table Top Pose Flow : 12\nOne Legged Bow Pose : 21\nRevolved Table Top Pose : 10\nTable Top Pose With One Leg Extended Back : 6\nRunners Lunge Pose : 14\nRevolved Hand To Big Toe Pose : 15\nVisvamitrasana Pose : 13\nBaby Crow Pose : 4\nAirplane Pose : 20\nFoot Behind The Head Pose : 7\nHurdlers Pose : 1\nHalf Lotus Pose : 6\nSection : 22\nHumble Warrior Pose : 31\nShiva Squat Pose : 10\nHeadstand Pose Eagle Legs : 4\nFirefly Pose : 2\nHeadstand Pose Wide Legs : 3\nOne Legged Moutain Pose : 11\nWide Legged Forward Fold With Halfway Lift : 15\nDownward Facing Dog Pose Knee To Nose : 4\nHeadstand Pose Lotus Legs : 2\nDragonfly Pose : 2\nFlying Lizard Pose : 4\n"
    }
   ],
   "source": [
    "for i in range(len(Counter(last_poses).keys())):\n",
    "    print(list(Counter(last_poses).keys())[i], \":\", list(Counter(last_poses).values())[i])"
   ]
  },
  {
   "cell_type": "markdown",
   "metadata": {},
   "source": [
    "# Word2Vec Embeddings"
   ]
  },
  {
   "cell_type": "code",
   "execution_count": 109,
   "metadata": {},
   "outputs": [],
   "source": [
    "embeddings = gensim.models.Word2Vec(base_documents, size=100, window=5, min_count=1, sg=1)"
   ]
  },
  {
   "cell_type": "code",
   "execution_count": 110,
   "metadata": {},
   "outputs": [],
   "source": [
    "embeddings_size = len(list(embeddings.wv.vocab.items()))"
   ]
  },
  {
   "cell_type": "code",
   "execution_count": 111,
   "metadata": {},
   "outputs": [
    {
     "output_type": "execute_result",
     "data": {
      "text/plain": "169"
     },
     "metadata": {},
     "execution_count": 111
    }
   ],
   "source": [
    "embeddings_size"
   ]
  },
  {
   "cell_type": "code",
   "execution_count": 112,
   "metadata": {
    "tags": []
   },
   "outputs": [
    {
     "output_type": "stream",
     "name": "stdout",
     "text": "0.112880096\n0.24852465\n0.38582063\n0.8037262\n"
    }
   ],
   "source": [
    "print(embeddings.similarity(\"Corpse Pose\", \"Extended Side Angle Pose\"))\n",
    "print(embeddings.similarity(\"Corpse Pose\", \"Pigeon Pose\"))\n",
    "print(embeddings.similarity(\"Corpse Pose\", \"Child Pose\"))\n",
    "print(embeddings.similarity(\"Corpse Pose\", \"Wind Release Pose\"))"
   ]
  },
  {
   "cell_type": "code",
   "execution_count": 114,
   "metadata": {},
   "outputs": [],
   "source": [
    "embedding_matrix = np.zeros((len(embeddings.wv.vocab)+1, 100))\n",
    "for i in range(len(embeddings.wv.vocab)):\n",
    "    embedding_vector = embeddings.wv[embeddings.wv.index2word[i]]\n",
    "    if embedding_vector is not None:\n",
    "        embedding_matrix[i] = embedding_vector"
   ]
  },
  {
   "cell_type": "code",
   "execution_count": 115,
   "metadata": {},
   "outputs": [],
   "source": [
    "embedding_dim = embeddings.vector_size"
   ]
  },
  {
   "cell_type": "code",
   "execution_count": 480,
   "metadata": {},
   "outputs": [],
   "source": [
    "f = open(\"word_embeddings.pkl\", \"wb\")\n",
    "pickle.dump(embeddings, f)\n",
    "f.close()"
   ]
  },
  {
   "cell_type": "markdown",
   "metadata": {},
   "source": [
    "# LSTM Network\n"
   ]
  },
  {
   "cell_type": "code",
   "execution_count": 117,
   "metadata": {
    "tags": []
   },
   "outputs": [
    {
     "output_type": "stream",
     "name": "stdout",
     "text": "Total tokens:  1624681\nUnique tokens:  169\n"
    }
   ],
   "source": [
    "tokens = [pose for yogaclass in base_documents for pose in yogaclass]\n",
    "reversed_tokens = tokens[::-1]\n",
    "print(\"Total tokens: \", len(tokens))\n",
    "print(\"Unique tokens: \", len(set(tokens)))"
   ]
  },
  {
   "cell_type": "code",
   "execution_count": 118,
   "metadata": {
    "tags": []
   },
   "outputs": [
    {
     "output_type": "stream",
     "name": "stdout",
     "text": "Total Sequences: 1624677\n"
    }
   ],
   "source": [
    "length = 3 + 1\n",
    "sequences = list()\n",
    "for i in range(length, len(tokens)):\n",
    "    seq = tokens[i-length:i]\n",
    "    sequences.append(seq)\n",
    "print(\"Total Sequences:\", len(sequences))"
   ]
  },
  {
   "cell_type": "code",
   "execution_count": 129,
   "metadata": {
    "tags": []
   },
   "outputs": [
    {
     "output_type": "stream",
     "name": "stdout",
     "text": "Total Reversed Sequences: 1624677\n"
    }
   ],
   "source": [
    "reversed_sequences = list()\n",
    "for i in range(length, len(reversed_tokens)):\n",
    "    rev_seq = reversed_tokens[i-length:i]\n",
    "    reversed_sequences.append(seq)\n",
    "print(\"Total Reversed Sequences:\", len(reversed_sequences))"
   ]
  },
  {
   "cell_type": "code",
   "execution_count": 119,
   "metadata": {},
   "outputs": [],
   "source": [
    "tokenizer = Tokenizer()\n",
    "tokenizer.fit_on_texts(sequences)\n",
    "token_sequences = tokenizer.texts_to_sequences(sequences)\n",
    "vocab_size = len(tokenizer.word_index) + 1"
   ]
  },
  {
   "cell_type": "code",
   "execution_count": 130,
   "metadata": {},
   "outputs": [],
   "source": [
    "tokenizer2 = Tokenizer()\n",
    "tokenizer2.fit_on_texts(reversed_sequences)\n",
    "reversed_token_sequences = tokenizer2.texts_to_sequences(reversed_sequences)"
   ]
  },
  {
   "cell_type": "code",
   "execution_count": 48,
   "metadata": {},
   "outputs": [
    {
     "output_type": "execute_result",
     "data": {
      "text/plain": "14675"
     },
     "metadata": {},
     "execution_count": 48
    }
   ],
   "source": [
    "vocab_size"
   ]
  },
  {
   "cell_type": "code",
   "execution_count": 479,
   "metadata": {},
   "outputs": [],
   "source": [
    "f = open(\"tokenizer.pkl\", \"wb\")\n",
    "pickle.dump(tokenizer, f)\n",
    "f.close\n",
    "\n",
    "f = open(\"tokenizer2.pkl\", \"wb\")\n",
    "pickle.dump(tokenizer2, f)\n",
    "f.close()"
   ]
  },
  {
   "cell_type": "code",
   "execution_count": 120,
   "metadata": {},
   "outputs": [],
   "source": [
    "X = np.asarray([np.asarray(x[:-1]) for x in token_sequences])\n",
    "y = [y[-1] for y in token_sequences]\n",
    "y = to_categorical(y, num_classes=vocab_size)\n",
    "seq_length=len(X[1])"
   ]
  },
  {
   "cell_type": "code",
   "execution_count": 131,
   "metadata": {},
   "outputs": [],
   "source": [
    "X2 = np.asarray([np.asarray(x[:-1]) for x in reversed_token_sequences])\n",
    "y2 = [y[-1] for y in reversed_token_sequences]\n",
    "y2 = to_categorical(y2, num_classes=vocab_size)"
   ]
  },
  {
   "cell_type": "code",
   "execution_count": 175,
   "metadata": {
    "tags": []
   },
   "outputs": [],
   "source": [
    "def create_model():\n",
    "    model = Sequential()\n",
    "    model.add(Embedding(vocab_size, embedding_dim, weights=[embedding_matrix], trainable=False))\n",
    "    model.add(Bidirectional(LSTM(200, return_sequences=True)))\n",
    "    model.add(Dropout(0.05))\n",
    "    model.add(Bidirectional(LSTM(200, return_sequences=True)))\n",
    "    model.add(Dropout(0.05))\n",
    "    model.add(Bidirectional(LSTM(200)))\n",
    "    model.add(Dropout(0.05))\n",
    "    model.add(Dense(100, activation=\"relu\"))\n",
    "    model.add(Dense(vocab_size, activation=\"softmax\"))\n",
    "    print(model.summary())\n",
    "    return model"
   ]
  },
  {
   "cell_type": "code",
   "execution_count": 183,
   "metadata": {},
   "outputs": [],
   "source": [
    "def fit_model(model, X, y):\n",
    "    model.compile(loss='categorical_crossentropy', optimizer='adam', metrics=['accuracy'])\n",
    "    model.fit(X, y, batch_size=128, epochs=100, verbose=10)"
   ]
  },
  {
   "cell_type": "code",
   "execution_count": 184,
   "metadata": {
    "tags": []
   },
   "outputs": [
    {
     "output_type": "stream",
     "name": "stdout",
     "text": "Model: \"sequential_29\"\n_________________________________________________________________\nLayer (type)                 Output Shape              Param #   \n=================================================================\nembedding_29 (Embedding)     (None, None, 100)         17000     \n_________________________________________________________________\nbidirectional_67 (Bidirectio (None, None, 400)         481600    \n_________________________________________________________________\ndropout_54 (Dropout)         (None, None, 400)         0         \n_________________________________________________________________\nbidirectional_68 (Bidirectio (None, None, 400)         961600    \n_________________________________________________________________\ndropout_55 (Dropout)         (None, None, 400)         0         \n_________________________________________________________________\nbidirectional_69 (Bidirectio (None, 400)               961600    \n_________________________________________________________________\ndropout_56 (Dropout)         (None, 400)               0         \n_________________________________________________________________\ndense_48 (Dense)             (None, 100)               40100     \n_________________________________________________________________\ndense_49 (Dense)             (None, 170)               17170     \n=================================================================\nTotal params: 2,479,070\nTrainable params: 2,462,070\nNon-trainable params: 17,000\n_________________________________________________________________\nNone\nModel: \"sequential_30\"\n_________________________________________________________________\nLayer (type)                 Output Shape              Param #   \n=================================================================\nembedding_30 (Embedding)     (None, None, 100)         17000     \n_________________________________________________________________\nbidirectional_70 (Bidirectio (None, None, 400)         481600    \n_________________________________________________________________\ndropout_57 (Dropout)         (None, None, 400)         0         \n_________________________________________________________________\nbidirectional_71 (Bidirectio (None, None, 400)         961600    \n_________________________________________________________________\ndropout_58 (Dropout)         (None, None, 400)         0         \n_________________________________________________________________\nbidirectional_72 (Bidirectio (None, 400)               961600    \n_________________________________________________________________\ndropout_59 (Dropout)         (None, 400)               0         \n_________________________________________________________________\ndense_50 (Dense)             (None, 100)               40100     \n_________________________________________________________________\ndense_51 (Dense)             (None, 170)               17170     \n=================================================================\nTotal params: 2,479,070\nTrainable params: 2,462,070\nNon-trainable params: 17,000\n_________________________________________________________________\nNone\n"
    }
   ],
   "source": [
    "forward_model = create_model()\n",
    "backward_model = create_model()"
   ]
  },
  {
   "cell_type": "code",
   "execution_count": 185,
   "metadata": {
    "tags": []
   },
   "outputs": [
    {
     "output_type": "stream",
     "name": "stdout",
     "text": "Epoch 1/100\nEpoch 2/100\nEpoch 3/100\nEpoch 4/100\nEpoch 5/100\nEpoch 6/100\nEpoch 7/100\nEpoch 8/100\nEpoch 9/100\nEpoch 10/100\nEpoch 11/100\nEpoch 12/100\nEpoch 13/100\nEpoch 14/100\nEpoch 15/100\nEpoch 16/100\nEpoch 17/100\nEpoch 18/100\nEpoch 19/100\nEpoch 20/100\nEpoch 21/100\nEpoch 22/100\nEpoch 23/100\nEpoch 24/100\nEpoch 25/100\nEpoch 26/100\nEpoch 27/100\nEpoch 28/100\nEpoch 29/100\nEpoch 30/100\nEpoch 31/100\nEpoch 32/100\nEpoch 33/100\nEpoch 34/100\nEpoch 35/100\nEpoch 36/100\nEpoch 37/100\nEpoch 38/100\nEpoch 39/100\nEpoch 40/100\nEpoch 41/100\nEpoch 42/100\nEpoch 43/100\nEpoch 44/100\nEpoch 45/100\nEpoch 46/100\nEpoch 47/100\nEpoch 48/100\nEpoch 49/100\nEpoch 50/100\nEpoch 51/100\nEpoch 52/100\nEpoch 53/100\nEpoch 54/100\nEpoch 55/100\nEpoch 56/100\nEpoch 57/100\nEpoch 58/100\nEpoch 59/100\nEpoch 60/100\nEpoch 61/100\nEpoch 62/100\nEpoch 63/100\nEpoch 64/100\nEpoch 65/100\nEpoch 66/100\nEpoch 67/100\nEpoch 68/100\nEpoch 69/100\nEpoch 70/100\nEpoch 71/100\nEpoch 72/100\nEpoch 73/100\nEpoch 74/100\nEpoch 75/100\nEpoch 76/100\nEpoch 77/100\nEpoch 78/100\nEpoch 79/100\nEpoch 80/100\nEpoch 81/100\nEpoch 82/100\nEpoch 83/100\nEpoch 84/100\nEpoch 85/100\nEpoch 86/100\nEpoch 87/100\nEpoch 88/100\nEpoch 89/100\nEpoch 90/100\nEpoch 91/100\nEpoch 92/100\nEpoch 93/100\nEpoch 94/100\nEpoch 95/100\nEpoch 96/100\nEpoch 97/100\nEpoch 98/100\nEpoch 99/100\nEpoch 100/100\n"
    }
   ],
   "source": [
    "fit_model(forward_model, X, y)"
   ]
  },
  {
   "cell_type": "code",
   "execution_count": 395,
   "metadata": {
    "tags": []
   },
   "outputs": [],
   "source": [
    "#fit_model(backward_model, X2, y2)"
   ]
  },
  {
   "cell_type": "code",
   "execution_count": 511,
   "metadata": {},
   "outputs": [
    {
     "output_type": "execute_result",
     "data": {
      "text/plain": "<tensorflow.python.keras.engine.sequential.Sequential at 0x7fecc8225fd0>"
     },
     "metadata": {},
     "execution_count": 511
    }
   ],
   "source": [
    "forward_model"
   ]
  },
  {
   "cell_type": "code",
   "execution_count": 398,
   "metadata": {},
   "outputs": [],
   "source": [
    "model.save('forward_model.h5')\n",
    "# model.save('backward_model.h5')"
   ]
  },
  {
   "cell_type": "code",
   "execution_count": 400,
   "metadata": {
    "tags": []
   },
   "outputs": [],
   "source": [
    "some_thing = load_model('forward_model.h5', compile=False)"
   ]
  },
  {
   "cell_type": "code",
   "execution_count": 396,
   "metadata": {},
   "outputs": [],
   "source": [
    "backward_model = load_model('backward_model.h5', compile=False)"
   ]
  },
  {
   "cell_type": "code",
   "execution_count": 516,
   "metadata": {},
   "outputs": [],
   "source": [
    "def generate_class(model, tokenizer, word_embedding, peak_pose, stop_pose, max_length):\n",
    "\n",
    "    # generate seed text of 3 poses (as LSTM was trained on) from the input desired peak pose, by randomly selecting two of the most similar poses to the peak. \n",
    "    seed_text = [peak_pose, embeddings.most_similar(peak_pose, topn=10)[np.random.choice(range(10))][0], embeddings.most_similar(peak_pose, topn=10)[np.random.choice(range(10))][0]]\n",
    "    in_text = seed_text\n",
    "\n",
    "    # create yoga class, and make sure it includes the user's desired peak pose\n",
    "    yoga_class = list()\n",
    "    yoga_class.append(peak_pose.lower())\n",
    "\n",
    "    while True:\n",
    "        encoded = tokenizer.texts_to_sequences([in_text])\n",
    "\n",
    "        # select next pose based on models probability distribution\n",
    "        prediction_output = (model.predict(encoded))\n",
    "        yhat = np.random.choice(len(prediction_output[0]), p=prediction_output[0])\n",
    "\n",
    "        out_word = \"\"\n",
    "        for word, index in tokenizer.word_index.items():\n",
    "            if index == yhat:\n",
    "                out_word = word\n",
    "                break\n",
    "        \n",
    "        # append pose to current class, and update input text\n",
    "        # also add clarification text for user to repeat the pose on the other side (if its an imbalanced pose) if given two of the same pose in a row\n",
    "        if out_word != \"\":\n",
    "            if out_word == yoga_class[-1]:\n",
    "                in_text.append(out_word)\n",
    "                out_word += \", repeat other side\"\n",
    "                yoga_class.append(out_word)\n",
    "            else: \n",
    "                yoga_class.append(out_word)\n",
    "                in_text.append(out_word)\n",
    "        if out_word == stop_pose:\n",
    "            break\n",
    "\n",
    "        # if sequence gets too long without converging to a natural ending, start over. \n",
    "        if len(yoga_class) == max_length:\n",
    "                in_text = seed_text\n",
    "                yoga_class = [peak_pose.lower()]\n",
    "    return yoga_class"
   ]
  },
  {
   "cell_type": "code",
   "execution_count": 466,
   "metadata": {},
   "outputs": [],
   "source": [
    "possible_peak_poses = ['Center Splits Pose', 'Hurdlers Pose', 'Revolved Chair Pose', 'Figure Four Pose', 'Crane Pose', 'Flying Pigeon Pose', 'Side Crow Pose', 'Baby Crow Pose', 'Crow Pose', 'Dancer Pose', 'Eagle Pose', 'Lotus Pose', 'Feathered Peacock Pose', 'Scorpion Pose', 'Flamingo Pose', 'Foot Behind The Head Pose', 'Half Moon Pose', 'Handstand Pose', 'Headstand Pose', 'Headstand Pose Eagle Legs', 'Headstand Pose Lotus Legs', 'Headstand Pose Wide Legs', 'Tripod Headstand Pose', 'Revolved High Lunge Pose', 'Pyramid Pose', 'Flying Lizard Pose', 'Palm Tree Pose', 'King Pigeon Pose', 'Grasshopper Pose', 'Dragonfly Pose', 'Eight Angle Pose', 'Revolved Extended Side Angle Pose', 'Visvamitrasana Pose', 'Wild Thing Pose', 'Splits Pose', 'Firefly Pose', 'Bird Of Paradise Pose', 'Standing Hand To Big Toe Pose', 'Revolved Hand To Big Toe Pose', 'Tree Pose', 'Revolved Triangle Pose', 'Triangle Pose', 'Flip The Dog Pose', 'Warrior Pose I', 'Humble Warrior Pose', 'Warrior Pose II', 'Warrior Pose III', 'Airplane Pose', 'Wheel Pose']"
   ]
  },
  {
   "cell_type": "code",
   "execution_count": 481,
   "metadata": {},
   "outputs": [],
   "source": [
    "f = open(\"peak_poses.pkl\", \"wb\")\n",
    "pickle.dump(possible_peak_poses, f)\n",
    "f.close()"
   ]
  },
  {
   "cell_type": "code",
   "execution_count": 514,
   "metadata": {},
   "outputs": [
    {
     "output_type": "execute_result",
     "data": {
      "text/plain": "'Headstand Pose Eagle Legs'"
     },
     "metadata": {},
     "execution_count": 514
    }
   ],
   "source": [
    "peak_pose = np.random.choice(possible_peak_poses)\n",
    "peak_pose"
   ]
  },
  {
   "cell_type": "code",
   "execution_count": 477,
   "metadata": {
    "tags": []
   },
   "outputs": [
    {
     "output_type": "stream",
     "name": "stdout",
     "text": "['humble warrior pose', 'child pose', 'downward facing dog pose', 'mountain pose', 'half lord of the fishes pose', 'standing forward fold pose', 'cycling pose', 'seated forward bend pose', 'eagle pose', 'mountain pose', 'mountain pose, repeat other side', 'thunderbolt pose', 'thunderbolt pose, repeat other side', 'child pose', 'child pose, repeat other side', 'lotus pose', 'bound angle pose', 'half lord of the fishes pose', 'corpse pose']\n\n\n['palm tree pose', 'mountain pose', 'palm tree pose', 'palm tree pose, repeat other side', 'shoulder stretches', 'standing twists', 'chair pose', 'chair pose, repeat other side', 'head to knee pose', 'thunderbolt pose', 'torso stretch pose', 'easy pose', 'easy pose, repeat other side', 'half lord of the fishes pose', 'torso stretch pose', 'seated straddle pose', 'happy baby pose', 'reclined big toe pose', 'bridge pose', 'half lord of the fishes pose', 'pranayama', 'pranayama, repeat other side', 'sun salutation', 'standing forward fold pose', 'corpse pose']\n\n\n['flying lizard pose', 'crane pose', 'wide legged forward fold', 'lizard pose', 'legs up the wall pose', 'plank pose', 'upward plank pose', 'standing hand to big toe pose', 'bridge pose', 'happy baby pose', 'banana pose', 'mountain pose', 'supine spinal twist pose', 'shoulderstand pose', 'chair pose', 'mountain pose', 'corpse pose']\n\n\n['revolved extended side angle pose', 'shoulderstand pose', 'reclined bound angle pose', 'bound angle pose', 'half lord of the fishes pose', 'bound angle forward bend', 'chair pose', 'garland pose', 'wind release pose', 'table top pose', 'half lord of the fishes pose', 'tree pose', 'supine spinal twist pose', 'staff pose', 'bound angle pose', 'bound angle pose, repeat other side', 'bound angle pose', 'wind release pose', 'wind release pose, repeat other side', 'half lord of the fishes pose', 'supine spinal twist pose', 'corpse pose']\n\n\n['tripod headstand pose', 'headstand pose', 'headstand pose, repeat other side', 'headstand pose', 'headstand pose, repeat other side', 'headstand pose', 'child pose', 'child pose, repeat other side', 'wind release pose', 'corpse pose']\n\n\n['bird of paradise pose', 'warrior pose iii', 'triangle pose', 'triangle pose, repeat other side', 'triangle pose', 'triangle pose, repeat other side', 'revolved triangle pose', 'revolved triangle pose, repeat other side', 'revolved triangle pose', 'triangle pose', 'revolved triangle pose', 'triangle pose', 'revolved triangle pose', 'revolved triangle pose, repeat other side', 'triangle pose', 'easy pose', 'bound angle pose', 'staff pose', 'plank pose', 'table top pose', 'pigeon pose', 'staff pose', 'bound angle pose', 'bridge pose', 'corpse pose']\n\n\n['pyramid pose', 'fish pose', 'cow face pose', 'bound angle forward bend', 'bound angle pose', 'bound angle pose, repeat other side', 'seated forward bend pose', 'eye of the needle pose', 'half lord of the fishes pose', 'bound angle pose', 'chair pose', 'corpse pose']\n\n\n['foot behind the head pose', 'pigeon pose', 'easy pose', 'sphinx pose', 'happy baby pose', 'seated forward bend pose', 'wild thing pose', 'half lord of the fishes pose', 'supine spinal twist pose', 'happy baby pose', 'locust pose', 'boat pose', 'cow face pose', 'child pose', 'half lord of the fishes pose', 'easy pose', 'seated forward bend pose', 'child pose', 'standing side bend pose', 'chair pose', 'warrior pose i', 'warrior pose ii', 'easy pose', 'downward facing dog pose', 'boat pose', 'easy pose', 'half lord of the fishes pose', 'chair pose', 'boat pose', 'bridge pose', 'bound angle pose', 'eye of the needle pose', 'downward facing dog pose', 'wind release pose', 'shoulderstand pose', 'half wind release pose', 'happy baby pose', 'corpse pose']\n\n\n['revolved high lunge pose', 'splits pose', 'downward facing dog pose knee to nose', 'plank pose', 'plank pose, repeat other side', 'plank pose', 'downward facing dog pose', 'pyramid pose', 'revolved high lunge pose', 'child pose', 'downward facing dog pose', 'wide legged forward fold', 'pyramid pose', 'half moon pose', 'half moon pose, repeat other side', 'seated straddle pose', 'camel pose', 'bridge pose', 'corpse pose']\n\n\n['humble warrior pose', 'revolved hand to big toe pose', 'standing hand to big toe pose', 'warrior pose iii', 'mountain pose', 'standing hand to big toe pose', 'warrior pose iii', 'warrior pose iii, repeat other side', 'half moon pose', 'half moon pose, repeat other side', 'sun salutation', 'side plank pose', 'tree pose', 'revolved hand to big toe pose', 'standing hand to big toe pose', 'warrior pose i', 'staff pose', 'low lunge pose', 'wind release pose', 'chair pose', 'eagle pose', 'eye of the needle pose', 'supine spinal twist pose', 'corpse pose']\n\n\n['figure four pose', 'one legged mountain pose', 'five pointed star pose', 'eagle pose', 'eagle pose, repeat other side', 'corpse pose']\n\n\n['revolved high lunge pose', 'downward facing dog pose', 'firelog pose', 'lotus pose', 'sun salutation', 'thunderbolt pose', 'warrior pose i', 'sun salutation', 'thunderbolt pose', 'supine spinal twist pose', 'eye of the needle pose', 'reclined bound angle pose', 'bridge pose', 'half lord of the fishes pose', 'happy baby pose', 'half lord of the fishes pose', 'half lord of the fishes pose, repeat other side', 'supine spinal twist pose', 'high boat to low boat flow', 'seated forward bend pose', 'wind release pose', 'mountain pose', 'supine spinal twist pose', 'shoulder stretches', 'hero pose', 'sun salutation', 'chair pose', 'wind release pose', 'bow pose', 'hero pose', 'corpse pose']\n\n\n['dragonfly pose', 'reclined big toe pose', 'downward facing dog pose', 'boat pose', 'supine spinal twist pose', 'supine spinal twist pose, repeat other side', 'seated straddle pose', 'staff pose', 'firelog pose', 'seated straddle pose', 'firelog pose', 'cow face pose', 'bound angle pose', 'bound angle pose, repeat other side', 'seated forward bend pose', 'child pose', 'bound angle forward bend', 'half lord of the fishes pose', 'half lord of the fishes pose, repeat other side', 'legs up the wall pose', 'bound angle pose', 'corpse pose']\n\n\n"
    },
    {
     "output_type": "error",
     "ename": "KeyboardInterrupt",
     "evalue": "",
     "traceback": [
      "\u001b[0;31m---------------------------------------------------------------------------\u001b[0m",
      "\u001b[0;31mKeyboardInterrupt\u001b[0m                         Traceback (most recent call last)",
      "\u001b[0;32m<ipython-input-477-a3ec7fa47448>\u001b[0m in \u001b[0;36m<module>\u001b[0;34m\u001b[0m\n\u001b[1;32m      1\u001b[0m \u001b[0;32mfor\u001b[0m \u001b[0mi\u001b[0m \u001b[0;32min\u001b[0m \u001b[0mrange\u001b[0m\u001b[0;34m(\u001b[0m\u001b[0;36m100\u001b[0m\u001b[0;34m)\u001b[0m\u001b[0;34m:\u001b[0m\u001b[0;34m\u001b[0m\u001b[0;34m\u001b[0m\u001b[0m\n\u001b[1;32m      2\u001b[0m     \u001b[0mpeak_pose\u001b[0m \u001b[0;34m=\u001b[0m \u001b[0mnp\u001b[0m\u001b[0;34m.\u001b[0m\u001b[0mrandom\u001b[0m\u001b[0;34m.\u001b[0m\u001b[0mchoice\u001b[0m\u001b[0;34m(\u001b[0m\u001b[0mpossible_peak_poses\u001b[0m\u001b[0;34m)\u001b[0m\u001b[0;34m\u001b[0m\u001b[0;34m\u001b[0m\u001b[0m\n\u001b[0;32m----> 3\u001b[0;31m     \u001b[0msecond_half\u001b[0m \u001b[0;34m=\u001b[0m \u001b[0mgenerate_class\u001b[0m\u001b[0;34m(\u001b[0m\u001b[0mforward_model\u001b[0m\u001b[0;34m,\u001b[0m \u001b[0mtokenizer\u001b[0m\u001b[0;34m,\u001b[0m \u001b[0membeddings\u001b[0m\u001b[0;34m,\u001b[0m \u001b[0mpeak_pose\u001b[0m\u001b[0;34m,\u001b[0m \u001b[0;36m40\u001b[0m\u001b[0;34m)\u001b[0m\u001b[0;34m\u001b[0m\u001b[0;34m\u001b[0m\u001b[0m\n\u001b[0m\u001b[1;32m      4\u001b[0m     \u001b[0mprint\u001b[0m\u001b[0;34m(\u001b[0m\u001b[0msecond_half\u001b[0m\u001b[0;34m)\u001b[0m\u001b[0;34m\u001b[0m\u001b[0;34m\u001b[0m\u001b[0m\n\u001b[1;32m      5\u001b[0m     \u001b[0mprint\u001b[0m\u001b[0;34m(\u001b[0m\u001b[0;34m\"\\n\"\u001b[0m\u001b[0;34m)\u001b[0m\u001b[0;34m\u001b[0m\u001b[0;34m\u001b[0m\u001b[0m\n",
      "\u001b[0;32m<ipython-input-474-6d1bf729e961>\u001b[0m in \u001b[0;36mgenerate_class\u001b[0;34m(model, tokenizer, word_embedding, peak_pose, max_length)\u001b[0m\n\u001b[1;32m     13\u001b[0m \u001b[0;34m\u001b[0m\u001b[0m\n\u001b[1;32m     14\u001b[0m         \u001b[0;31m# select next pose based on models probability distribution\u001b[0m\u001b[0;34m\u001b[0m\u001b[0;34m\u001b[0m\u001b[0;34m\u001b[0m\u001b[0m\n\u001b[0;32m---> 15\u001b[0;31m         \u001b[0mprediction_output\u001b[0m \u001b[0;34m=\u001b[0m \u001b[0;34m(\u001b[0m\u001b[0mmodel\u001b[0m\u001b[0;34m.\u001b[0m\u001b[0mpredict\u001b[0m\u001b[0;34m(\u001b[0m\u001b[0mencoded\u001b[0m\u001b[0;34m)\u001b[0m\u001b[0;34m)\u001b[0m\u001b[0;34m\u001b[0m\u001b[0;34m\u001b[0m\u001b[0m\n\u001b[0m\u001b[1;32m     16\u001b[0m         \u001b[0myhat\u001b[0m \u001b[0;34m=\u001b[0m \u001b[0mnp\u001b[0m\u001b[0;34m.\u001b[0m\u001b[0mrandom\u001b[0m\u001b[0;34m.\u001b[0m\u001b[0mchoice\u001b[0m\u001b[0;34m(\u001b[0m\u001b[0mlen\u001b[0m\u001b[0;34m(\u001b[0m\u001b[0mprediction_output\u001b[0m\u001b[0;34m[\u001b[0m\u001b[0;36m0\u001b[0m\u001b[0;34m]\u001b[0m\u001b[0;34m)\u001b[0m\u001b[0;34m,\u001b[0m \u001b[0mp\u001b[0m\u001b[0;34m=\u001b[0m\u001b[0mprediction_output\u001b[0m\u001b[0;34m[\u001b[0m\u001b[0;36m0\u001b[0m\u001b[0;34m]\u001b[0m\u001b[0;34m)\u001b[0m\u001b[0;34m\u001b[0m\u001b[0;34m\u001b[0m\u001b[0m\n\u001b[1;32m     17\u001b[0m \u001b[0;34m\u001b[0m\u001b[0m\n",
      "\u001b[0;32m~/opt/anaconda3/envs/tensorflow/lib/python3.7/site-packages/tensorflow/python/keras/engine/training.py\u001b[0m in \u001b[0;36m_method_wrapper\u001b[0;34m(self, *args, **kwargs)\u001b[0m\n\u001b[1;32m    128\u001b[0m       raise ValueError('{} is not supported in multi-worker mode.'.format(\n\u001b[1;32m    129\u001b[0m           method.__name__))\n\u001b[0;32m--> 130\u001b[0;31m     \u001b[0;32mreturn\u001b[0m \u001b[0mmethod\u001b[0m\u001b[0;34m(\u001b[0m\u001b[0mself\u001b[0m\u001b[0;34m,\u001b[0m \u001b[0;34m*\u001b[0m\u001b[0margs\u001b[0m\u001b[0;34m,\u001b[0m \u001b[0;34m**\u001b[0m\u001b[0mkwargs\u001b[0m\u001b[0;34m)\u001b[0m\u001b[0;34m\u001b[0m\u001b[0;34m\u001b[0m\u001b[0m\n\u001b[0m\u001b[1;32m    131\u001b[0m \u001b[0;34m\u001b[0m\u001b[0m\n\u001b[1;32m    132\u001b[0m   return tf_decorator.make_decorator(\n",
      "\u001b[0;32m~/opt/anaconda3/envs/tensorflow/lib/python3.7/site-packages/tensorflow/python/keras/engine/training.py\u001b[0m in \u001b[0;36mpredict\u001b[0;34m(self, x, batch_size, verbose, steps, callbacks, max_queue_size, workers, use_multiprocessing)\u001b[0m\n\u001b[1;32m   1593\u001b[0m       \u001b[0mself\u001b[0m\u001b[0;34m.\u001b[0m\u001b[0m_predict_counter\u001b[0m\u001b[0;34m.\u001b[0m\u001b[0massign\u001b[0m\u001b[0;34m(\u001b[0m\u001b[0;36m0\u001b[0m\u001b[0;34m)\u001b[0m\u001b[0;34m\u001b[0m\u001b[0;34m\u001b[0m\u001b[0m\n\u001b[1;32m   1594\u001b[0m       \u001b[0mcallbacks\u001b[0m\u001b[0;34m.\u001b[0m\u001b[0mon_predict_begin\u001b[0m\u001b[0;34m(\u001b[0m\u001b[0;34m)\u001b[0m\u001b[0;34m\u001b[0m\u001b[0;34m\u001b[0m\u001b[0m\n\u001b[0;32m-> 1595\u001b[0;31m       \u001b[0;32mfor\u001b[0m \u001b[0m_\u001b[0m\u001b[0;34m,\u001b[0m \u001b[0miterator\u001b[0m \u001b[0;32min\u001b[0m \u001b[0mdata_handler\u001b[0m\u001b[0;34m.\u001b[0m\u001b[0menumerate_epochs\u001b[0m\u001b[0;34m(\u001b[0m\u001b[0;34m)\u001b[0m\u001b[0;34m:\u001b[0m  \u001b[0;31m# Single epoch.\u001b[0m\u001b[0;34m\u001b[0m\u001b[0;34m\u001b[0m\u001b[0m\n\u001b[0m\u001b[1;32m   1596\u001b[0m         \u001b[0;32mwith\u001b[0m \u001b[0mdata_handler\u001b[0m\u001b[0;34m.\u001b[0m\u001b[0mcatch_stop_iteration\u001b[0m\u001b[0;34m(\u001b[0m\u001b[0;34m)\u001b[0m\u001b[0;34m:\u001b[0m\u001b[0;34m\u001b[0m\u001b[0;34m\u001b[0m\u001b[0m\n\u001b[1;32m   1597\u001b[0m           \u001b[0;32mfor\u001b[0m \u001b[0mstep\u001b[0m \u001b[0;32min\u001b[0m \u001b[0mdata_handler\u001b[0m\u001b[0;34m.\u001b[0m\u001b[0msteps\u001b[0m\u001b[0;34m(\u001b[0m\u001b[0;34m)\u001b[0m\u001b[0;34m:\u001b[0m\u001b[0;34m\u001b[0m\u001b[0;34m\u001b[0m\u001b[0m\n",
      "\u001b[0;32m~/opt/anaconda3/envs/tensorflow/lib/python3.7/site-packages/tensorflow/python/keras/engine/data_adapter.py\u001b[0m in \u001b[0;36menumerate_epochs\u001b[0;34m(self)\u001b[0m\n\u001b[1;32m   1136\u001b[0m     \u001b[0;34m\"\"\"Yields `(epoch, tf.data.Iterator)`.\"\"\"\u001b[0m\u001b[0;34m\u001b[0m\u001b[0;34m\u001b[0m\u001b[0m\n\u001b[1;32m   1137\u001b[0m     \u001b[0;32mwith\u001b[0m \u001b[0mself\u001b[0m\u001b[0;34m.\u001b[0m\u001b[0m_truncate_execution_to_epoch\u001b[0m\u001b[0;34m(\u001b[0m\u001b[0;34m)\u001b[0m\u001b[0;34m:\u001b[0m\u001b[0;34m\u001b[0m\u001b[0;34m\u001b[0m\u001b[0m\n\u001b[0;32m-> 1138\u001b[0;31m       \u001b[0mdata_iterator\u001b[0m \u001b[0;34m=\u001b[0m \u001b[0miter\u001b[0m\u001b[0;34m(\u001b[0m\u001b[0mself\u001b[0m\u001b[0;34m.\u001b[0m\u001b[0m_dataset\u001b[0m\u001b[0;34m)\u001b[0m\u001b[0;34m\u001b[0m\u001b[0;34m\u001b[0m\u001b[0m\n\u001b[0m\u001b[1;32m   1139\u001b[0m       \u001b[0;32mfor\u001b[0m \u001b[0mepoch\u001b[0m \u001b[0;32min\u001b[0m \u001b[0mrange\u001b[0m\u001b[0;34m(\u001b[0m\u001b[0mself\u001b[0m\u001b[0;34m.\u001b[0m\u001b[0m_initial_epoch\u001b[0m\u001b[0;34m,\u001b[0m \u001b[0mself\u001b[0m\u001b[0;34m.\u001b[0m\u001b[0m_epochs\u001b[0m\u001b[0;34m)\u001b[0m\u001b[0;34m:\u001b[0m\u001b[0;34m\u001b[0m\u001b[0;34m\u001b[0m\u001b[0m\n\u001b[1;32m   1140\u001b[0m         \u001b[0;32mif\u001b[0m \u001b[0mself\u001b[0m\u001b[0;34m.\u001b[0m\u001b[0m_insufficient_data\u001b[0m\u001b[0;34m:\u001b[0m  \u001b[0;31m# Set by `catch_stop_iteration`.\u001b[0m\u001b[0;34m\u001b[0m\u001b[0;34m\u001b[0m\u001b[0m\n",
      "\u001b[0;32m~/opt/anaconda3/envs/tensorflow/lib/python3.7/site-packages/tensorflow/python/data/ops/dataset_ops.py\u001b[0m in \u001b[0;36m__iter__\u001b[0;34m(self)\u001b[0m\n\u001b[1;32m    413\u001b[0m     \"\"\"\n\u001b[1;32m    414\u001b[0m     \u001b[0;32mif\u001b[0m \u001b[0mcontext\u001b[0m\u001b[0;34m.\u001b[0m\u001b[0mexecuting_eagerly\u001b[0m\u001b[0;34m(\u001b[0m\u001b[0;34m)\u001b[0m \u001b[0;32mor\u001b[0m \u001b[0mops\u001b[0m\u001b[0;34m.\u001b[0m\u001b[0minside_function\u001b[0m\u001b[0;34m(\u001b[0m\u001b[0;34m)\u001b[0m\u001b[0;34m:\u001b[0m\u001b[0;34m\u001b[0m\u001b[0;34m\u001b[0m\u001b[0m\n\u001b[0;32m--> 415\u001b[0;31m       \u001b[0;32mreturn\u001b[0m \u001b[0miterator_ops\u001b[0m\u001b[0;34m.\u001b[0m\u001b[0mOwnedIterator\u001b[0m\u001b[0;34m(\u001b[0m\u001b[0mself\u001b[0m\u001b[0;34m)\u001b[0m\u001b[0;34m\u001b[0m\u001b[0;34m\u001b[0m\u001b[0m\n\u001b[0m\u001b[1;32m    416\u001b[0m     \u001b[0;32melse\u001b[0m\u001b[0;34m:\u001b[0m\u001b[0;34m\u001b[0m\u001b[0;34m\u001b[0m\u001b[0m\n\u001b[1;32m    417\u001b[0m       raise RuntimeError(\"__iter__() is only supported inside of tf.function \"\n",
      "\u001b[0;32m~/opt/anaconda3/envs/tensorflow/lib/python3.7/site-packages/tensorflow/python/data/ops/iterator_ops.py\u001b[0m in \u001b[0;36m__init__\u001b[0;34m(self, dataset, components, element_spec, job_token)\u001b[0m\n\u001b[1;32m    694\u001b[0m           context.context().device_spec.device_type != \"CPU\"):\n\u001b[1;32m    695\u001b[0m         \u001b[0;32mwith\u001b[0m \u001b[0mops\u001b[0m\u001b[0;34m.\u001b[0m\u001b[0mdevice\u001b[0m\u001b[0;34m(\u001b[0m\u001b[0;34m\"/cpu:0\"\u001b[0m\u001b[0;34m)\u001b[0m\u001b[0;34m:\u001b[0m\u001b[0;34m\u001b[0m\u001b[0;34m\u001b[0m\u001b[0m\n\u001b[0;32m--> 696\u001b[0;31m           \u001b[0mself\u001b[0m\u001b[0;34m.\u001b[0m\u001b[0m_create_iterator\u001b[0m\u001b[0;34m(\u001b[0m\u001b[0mdataset\u001b[0m\u001b[0;34m)\u001b[0m\u001b[0;34m\u001b[0m\u001b[0;34m\u001b[0m\u001b[0m\n\u001b[0m\u001b[1;32m    697\u001b[0m       \u001b[0;32melse\u001b[0m\u001b[0;34m:\u001b[0m\u001b[0;34m\u001b[0m\u001b[0;34m\u001b[0m\u001b[0m\n\u001b[1;32m    698\u001b[0m         \u001b[0mself\u001b[0m\u001b[0;34m.\u001b[0m\u001b[0m_create_iterator\u001b[0m\u001b[0;34m(\u001b[0m\u001b[0mdataset\u001b[0m\u001b[0;34m)\u001b[0m\u001b[0;34m\u001b[0m\u001b[0;34m\u001b[0m\u001b[0m\n",
      "\u001b[0;32m~/opt/anaconda3/envs/tensorflow/lib/python3.7/site-packages/tensorflow/python/data/ops/iterator_ops.py\u001b[0m in \u001b[0;36m_create_iterator\u001b[0;34m(self, dataset)\u001b[0m\n\u001b[1;32m    720\u001b[0m               output_shapes=self._flat_output_shapes))\n\u001b[1;32m    721\u001b[0m       \u001b[0;32mif\u001b[0m \u001b[0mself\u001b[0m\u001b[0;34m.\u001b[0m\u001b[0m_job_token\u001b[0m \u001b[0;32mis\u001b[0m \u001b[0;32mNone\u001b[0m\u001b[0;34m:\u001b[0m\u001b[0;34m\u001b[0m\u001b[0;34m\u001b[0m\u001b[0m\n\u001b[0;32m--> 722\u001b[0;31m         \u001b[0mgen_dataset_ops\u001b[0m\u001b[0;34m.\u001b[0m\u001b[0mmake_iterator\u001b[0m\u001b[0;34m(\u001b[0m\u001b[0mds_variant\u001b[0m\u001b[0;34m,\u001b[0m \u001b[0mself\u001b[0m\u001b[0;34m.\u001b[0m\u001b[0m_iterator_resource\u001b[0m\u001b[0;34m)\u001b[0m\u001b[0;34m\u001b[0m\u001b[0;34m\u001b[0m\u001b[0m\n\u001b[0m\u001b[1;32m    723\u001b[0m       \u001b[0;32melse\u001b[0m\u001b[0;34m:\u001b[0m\u001b[0;34m\u001b[0m\u001b[0;34m\u001b[0m\u001b[0m\n\u001b[1;32m    724\u001b[0m         gen_experimental_dataset_ops.make_data_service_iterator(\n",
      "\u001b[0;32m~/opt/anaconda3/envs/tensorflow/lib/python3.7/site-packages/tensorflow/python/ops/gen_dataset_ops.py\u001b[0m in \u001b[0;36mmake_iterator\u001b[0;34m(dataset, iterator, name)\u001b[0m\n\u001b[1;32m   3005\u001b[0m       _result = pywrap_tfe.TFE_Py_FastPathExecute(\n\u001b[1;32m   3006\u001b[0m         \u001b[0m_ctx\u001b[0m\u001b[0;34m.\u001b[0m\u001b[0m_context_handle\u001b[0m\u001b[0;34m,\u001b[0m \u001b[0mtld\u001b[0m\u001b[0;34m.\u001b[0m\u001b[0mdevice_name\u001b[0m\u001b[0;34m,\u001b[0m \u001b[0;34m\"MakeIterator\"\u001b[0m\u001b[0;34m,\u001b[0m \u001b[0mname\u001b[0m\u001b[0;34m,\u001b[0m\u001b[0;34m\u001b[0m\u001b[0;34m\u001b[0m\u001b[0m\n\u001b[0;32m-> 3007\u001b[0;31m         tld.op_callbacks, dataset, iterator)\n\u001b[0m\u001b[1;32m   3008\u001b[0m       \u001b[0;32mreturn\u001b[0m \u001b[0m_result\u001b[0m\u001b[0;34m\u001b[0m\u001b[0;34m\u001b[0m\u001b[0m\n\u001b[1;32m   3009\u001b[0m     \u001b[0;32mexcept\u001b[0m \u001b[0m_core\u001b[0m\u001b[0;34m.\u001b[0m\u001b[0m_NotOkStatusException\u001b[0m \u001b[0;32mas\u001b[0m \u001b[0me\u001b[0m\u001b[0;34m:\u001b[0m\u001b[0;34m\u001b[0m\u001b[0;34m\u001b[0m\u001b[0m\n",
      "\u001b[0;31mKeyboardInterrupt\u001b[0m: "
     ]
    }
   ],
   "source": [
    "for i in range(100):\n",
    "    peak_pose = np.random.choice(possible_peak_poses)\n",
    "    second_half = generate_class(forward_model, tokenizer, embeddings, peak_pose, 40)\n",
    "    print(second_half)\n",
    "    print(\"\\n\")"
   ]
  },
  {
   "cell_type": "code",
   "execution_count": 522,
   "metadata": {},
   "outputs": [
    {
     "output_type": "error",
     "ename": "IndexError",
     "evalue": "list index out of range",
     "traceback": [
      "\u001b[0;31m---------------------------------------------------------------------------\u001b[0m",
      "\u001b[0;31mIndexError\u001b[0m                                Traceback (most recent call last)",
      "\u001b[0;32m<ipython-input-522-26d90ff3efea>\u001b[0m in \u001b[0;36m<module>\u001b[0;34m\u001b[0m\n\u001b[0;32m----> 1\u001b[0;31m \u001b[0mfirst_half\u001b[0m \u001b[0;34m=\u001b[0m \u001b[0mgenerate_class\u001b[0m\u001b[0;34m(\u001b[0m\u001b[0mbackward_model\u001b[0m\u001b[0;34m,\u001b[0m \u001b[0mtokenizer2\u001b[0m\u001b[0;34m,\u001b[0m \u001b[0membeddings\u001b[0m\u001b[0;34m,\u001b[0m \u001b[0mpeak_pose\u001b[0m\u001b[0;34m,\u001b[0m \u001b[0;34m\"easy pose\"\u001b[0m\u001b[0;34m,\u001b[0m \u001b[0;36m40\u001b[0m\u001b[0;34m)\u001b[0m\u001b[0;34m\u001b[0m\u001b[0;34m\u001b[0m\u001b[0m\n\u001b[0m",
      "\u001b[0;32m<ipython-input-516-e4a85f95da6b>\u001b[0m in \u001b[0;36mgenerate_class\u001b[0;34m(model, tokenizer, word_embedding, peak_pose, stop_pose, max_length)\u001b[0m\n\u001b[1;32m     13\u001b[0m \u001b[0;34m\u001b[0m\u001b[0m\n\u001b[1;32m     14\u001b[0m         \u001b[0;31m# select next pose based on models probability distribution\u001b[0m\u001b[0;34m\u001b[0m\u001b[0;34m\u001b[0m\u001b[0;34m\u001b[0m\u001b[0m\n\u001b[0;32m---> 15\u001b[0;31m         \u001b[0mprediction_output\u001b[0m \u001b[0;34m=\u001b[0m \u001b[0;34m(\u001b[0m\u001b[0mmodel\u001b[0m\u001b[0;34m.\u001b[0m\u001b[0mpredict\u001b[0m\u001b[0;34m(\u001b[0m\u001b[0mencoded\u001b[0m\u001b[0;34m)\u001b[0m\u001b[0;34m)\u001b[0m\u001b[0;34m\u001b[0m\u001b[0;34m\u001b[0m\u001b[0m\n\u001b[0m\u001b[1;32m     16\u001b[0m         \u001b[0myhat\u001b[0m \u001b[0;34m=\u001b[0m \u001b[0mnp\u001b[0m\u001b[0;34m.\u001b[0m\u001b[0mrandom\u001b[0m\u001b[0;34m.\u001b[0m\u001b[0mchoice\u001b[0m\u001b[0;34m(\u001b[0m\u001b[0mlen\u001b[0m\u001b[0;34m(\u001b[0m\u001b[0mprediction_output\u001b[0m\u001b[0;34m[\u001b[0m\u001b[0;36m0\u001b[0m\u001b[0;34m]\u001b[0m\u001b[0;34m)\u001b[0m\u001b[0;34m,\u001b[0m \u001b[0mp\u001b[0m\u001b[0;34m=\u001b[0m\u001b[0mprediction_output\u001b[0m\u001b[0;34m[\u001b[0m\u001b[0;36m0\u001b[0m\u001b[0;34m]\u001b[0m\u001b[0;34m)\u001b[0m\u001b[0;34m\u001b[0m\u001b[0;34m\u001b[0m\u001b[0m\n\u001b[1;32m     17\u001b[0m \u001b[0;34m\u001b[0m\u001b[0m\n",
      "\u001b[0;32m~/opt/anaconda3/envs/tensorflow/lib/python3.7/site-packages/tensorflow/python/keras/engine/training.py\u001b[0m in \u001b[0;36m_method_wrapper\u001b[0;34m(self, *args, **kwargs)\u001b[0m\n\u001b[1;32m    128\u001b[0m       raise ValueError('{} is not supported in multi-worker mode.'.format(\n\u001b[1;32m    129\u001b[0m           method.__name__))\n\u001b[0;32m--> 130\u001b[0;31m     \u001b[0;32mreturn\u001b[0m \u001b[0mmethod\u001b[0m\u001b[0;34m(\u001b[0m\u001b[0mself\u001b[0m\u001b[0;34m,\u001b[0m \u001b[0;34m*\u001b[0m\u001b[0margs\u001b[0m\u001b[0;34m,\u001b[0m \u001b[0;34m**\u001b[0m\u001b[0mkwargs\u001b[0m\u001b[0;34m)\u001b[0m\u001b[0;34m\u001b[0m\u001b[0;34m\u001b[0m\u001b[0m\n\u001b[0m\u001b[1;32m    131\u001b[0m \u001b[0;34m\u001b[0m\u001b[0m\n\u001b[1;32m    132\u001b[0m   return tf_decorator.make_decorator(\n",
      "\u001b[0;32m~/opt/anaconda3/envs/tensorflow/lib/python3.7/site-packages/tensorflow/python/keras/engine/training.py\u001b[0m in \u001b[0;36mpredict\u001b[0;34m(self, x, batch_size, verbose, steps, callbacks, max_queue_size, workers, use_multiprocessing)\u001b[0m\n\u001b[1;32m   1577\u001b[0m           \u001b[0muse_multiprocessing\u001b[0m\u001b[0;34m=\u001b[0m\u001b[0muse_multiprocessing\u001b[0m\u001b[0;34m,\u001b[0m\u001b[0;34m\u001b[0m\u001b[0;34m\u001b[0m\u001b[0m\n\u001b[1;32m   1578\u001b[0m           \u001b[0mmodel\u001b[0m\u001b[0;34m=\u001b[0m\u001b[0mself\u001b[0m\u001b[0;34m,\u001b[0m\u001b[0;34m\u001b[0m\u001b[0;34m\u001b[0m\u001b[0m\n\u001b[0;32m-> 1579\u001b[0;31m           steps_per_execution=self._steps_per_execution)\n\u001b[0m\u001b[1;32m   1580\u001b[0m \u001b[0;34m\u001b[0m\u001b[0m\n\u001b[1;32m   1581\u001b[0m       \u001b[0;31m# Container that configures and calls `tf.keras.Callback`s.\u001b[0m\u001b[0;34m\u001b[0m\u001b[0;34m\u001b[0m\u001b[0;34m\u001b[0m\u001b[0m\n",
      "\u001b[0;32m~/opt/anaconda3/envs/tensorflow/lib/python3.7/site-packages/tensorflow/python/keras/engine/data_adapter.py\u001b[0m in \u001b[0;36m__init__\u001b[0;34m(self, x, y, sample_weight, batch_size, steps_per_epoch, initial_epoch, epochs, shuffle, class_weight, max_queue_size, workers, use_multiprocessing, model, steps_per_execution)\u001b[0m\n\u001b[1;32m   1102\u001b[0m       \u001b[0mself\u001b[0m\u001b[0;34m.\u001b[0m\u001b[0m_steps_per_execution_value\u001b[0m \u001b[0;34m=\u001b[0m \u001b[0msteps_per_execution\u001b[0m\u001b[0;34m.\u001b[0m\u001b[0mnumpy\u001b[0m\u001b[0;34m(\u001b[0m\u001b[0;34m)\u001b[0m\u001b[0;34m.\u001b[0m\u001b[0mitem\u001b[0m\u001b[0;34m(\u001b[0m\u001b[0;34m)\u001b[0m\u001b[0;34m\u001b[0m\u001b[0;34m\u001b[0m\u001b[0m\n\u001b[1;32m   1103\u001b[0m \u001b[0;34m\u001b[0m\u001b[0m\n\u001b[0;32m-> 1104\u001b[0;31m     \u001b[0madapter_cls\u001b[0m \u001b[0;34m=\u001b[0m \u001b[0mselect_data_adapter\u001b[0m\u001b[0;34m(\u001b[0m\u001b[0mx\u001b[0m\u001b[0;34m,\u001b[0m \u001b[0my\u001b[0m\u001b[0;34m)\u001b[0m\u001b[0;34m\u001b[0m\u001b[0;34m\u001b[0m\u001b[0m\n\u001b[0m\u001b[1;32m   1105\u001b[0m     self._adapter = adapter_cls(\n\u001b[1;32m   1106\u001b[0m         \u001b[0mx\u001b[0m\u001b[0;34m,\u001b[0m\u001b[0;34m\u001b[0m\u001b[0;34m\u001b[0m\u001b[0m\n",
      "\u001b[0;32m~/opt/anaconda3/envs/tensorflow/lib/python3.7/site-packages/tensorflow/python/keras/engine/data_adapter.py\u001b[0m in \u001b[0;36mselect_data_adapter\u001b[0;34m(x, y)\u001b[0m\n\u001b[1;32m    963\u001b[0m \u001b[0;32mdef\u001b[0m \u001b[0mselect_data_adapter\u001b[0m\u001b[0;34m(\u001b[0m\u001b[0mx\u001b[0m\u001b[0;34m,\u001b[0m \u001b[0my\u001b[0m\u001b[0;34m)\u001b[0m\u001b[0;34m:\u001b[0m\u001b[0;34m\u001b[0m\u001b[0;34m\u001b[0m\u001b[0m\n\u001b[1;32m    964\u001b[0m   \u001b[0;34m\"\"\"Selects a data adapter than can handle a given x and y.\"\"\"\u001b[0m\u001b[0;34m\u001b[0m\u001b[0;34m\u001b[0m\u001b[0m\n\u001b[0;32m--> 965\u001b[0;31m   \u001b[0madapter_cls\u001b[0m \u001b[0;34m=\u001b[0m \u001b[0;34m[\u001b[0m\u001b[0mcls\u001b[0m \u001b[0;32mfor\u001b[0m \u001b[0mcls\u001b[0m \u001b[0;32min\u001b[0m \u001b[0mALL_ADAPTER_CLS\u001b[0m \u001b[0;32mif\u001b[0m \u001b[0mcls\u001b[0m\u001b[0;34m.\u001b[0m\u001b[0mcan_handle\u001b[0m\u001b[0;34m(\u001b[0m\u001b[0mx\u001b[0m\u001b[0;34m,\u001b[0m \u001b[0my\u001b[0m\u001b[0;34m)\u001b[0m\u001b[0;34m]\u001b[0m\u001b[0;34m\u001b[0m\u001b[0;34m\u001b[0m\u001b[0m\n\u001b[0m\u001b[1;32m    966\u001b[0m   \u001b[0;32mif\u001b[0m \u001b[0;32mnot\u001b[0m \u001b[0madapter_cls\u001b[0m\u001b[0;34m:\u001b[0m\u001b[0;34m\u001b[0m\u001b[0;34m\u001b[0m\u001b[0m\n\u001b[1;32m    967\u001b[0m     \u001b[0;31m# TODO(scottzhu): This should be a less implementation-specific error.\u001b[0m\u001b[0;34m\u001b[0m\u001b[0;34m\u001b[0m\u001b[0;34m\u001b[0m\u001b[0m\n",
      "\u001b[0;32m~/opt/anaconda3/envs/tensorflow/lib/python3.7/site-packages/tensorflow/python/keras/engine/data_adapter.py\u001b[0m in \u001b[0;36m<listcomp>\u001b[0;34m(.0)\u001b[0m\n\u001b[1;32m    963\u001b[0m \u001b[0;32mdef\u001b[0m \u001b[0mselect_data_adapter\u001b[0m\u001b[0;34m(\u001b[0m\u001b[0mx\u001b[0m\u001b[0;34m,\u001b[0m \u001b[0my\u001b[0m\u001b[0;34m)\u001b[0m\u001b[0;34m:\u001b[0m\u001b[0;34m\u001b[0m\u001b[0;34m\u001b[0m\u001b[0m\n\u001b[1;32m    964\u001b[0m   \u001b[0;34m\"\"\"Selects a data adapter than can handle a given x and y.\"\"\"\u001b[0m\u001b[0;34m\u001b[0m\u001b[0;34m\u001b[0m\u001b[0m\n\u001b[0;32m--> 965\u001b[0;31m   \u001b[0madapter_cls\u001b[0m \u001b[0;34m=\u001b[0m \u001b[0;34m[\u001b[0m\u001b[0mcls\u001b[0m \u001b[0;32mfor\u001b[0m \u001b[0mcls\u001b[0m \u001b[0;32min\u001b[0m \u001b[0mALL_ADAPTER_CLS\u001b[0m \u001b[0;32mif\u001b[0m \u001b[0mcls\u001b[0m\u001b[0;34m.\u001b[0m\u001b[0mcan_handle\u001b[0m\u001b[0;34m(\u001b[0m\u001b[0mx\u001b[0m\u001b[0;34m,\u001b[0m \u001b[0my\u001b[0m\u001b[0;34m)\u001b[0m\u001b[0;34m]\u001b[0m\u001b[0;34m\u001b[0m\u001b[0;34m\u001b[0m\u001b[0m\n\u001b[0m\u001b[1;32m    966\u001b[0m   \u001b[0;32mif\u001b[0m \u001b[0;32mnot\u001b[0m \u001b[0madapter_cls\u001b[0m\u001b[0;34m:\u001b[0m\u001b[0;34m\u001b[0m\u001b[0;34m\u001b[0m\u001b[0m\n\u001b[1;32m    967\u001b[0m     \u001b[0;31m# TODO(scottzhu): This should be a less implementation-specific error.\u001b[0m\u001b[0;34m\u001b[0m\u001b[0;34m\u001b[0m\u001b[0;34m\u001b[0m\u001b[0m\n",
      "\u001b[0;32m~/opt/anaconda3/envs/tensorflow/lib/python3.7/site-packages/tensorflow/python/keras/engine/data_adapter.py\u001b[0m in \u001b[0;36mcan_handle\u001b[0;34m(x, y)\u001b[0m\n\u001b[1;32m    617\u001b[0m   \u001b[0;34m@\u001b[0m\u001b[0mstaticmethod\u001b[0m\u001b[0;34m\u001b[0m\u001b[0;34m\u001b[0m\u001b[0m\n\u001b[1;32m    618\u001b[0m   \u001b[0;32mdef\u001b[0m \u001b[0mcan_handle\u001b[0m\u001b[0;34m(\u001b[0m\u001b[0mx\u001b[0m\u001b[0;34m,\u001b[0m \u001b[0my\u001b[0m\u001b[0;34m=\u001b[0m\u001b[0;32mNone\u001b[0m\u001b[0;34m)\u001b[0m\u001b[0;34m:\u001b[0m\u001b[0;34m\u001b[0m\u001b[0;34m\u001b[0m\u001b[0m\n\u001b[0;32m--> 619\u001b[0;31m     \u001b[0mhandles_x\u001b[0m \u001b[0;34m=\u001b[0m \u001b[0mListsOfScalarsDataAdapter\u001b[0m\u001b[0;34m.\u001b[0m\u001b[0m_is_list_of_scalars\u001b[0m\u001b[0;34m(\u001b[0m\u001b[0mx\u001b[0m\u001b[0;34m)\u001b[0m\u001b[0;34m\u001b[0m\u001b[0;34m\u001b[0m\u001b[0m\n\u001b[0m\u001b[1;32m    620\u001b[0m     \u001b[0mhandles_y\u001b[0m \u001b[0;34m=\u001b[0m \u001b[0;32mTrue\u001b[0m\u001b[0;34m\u001b[0m\u001b[0;34m\u001b[0m\u001b[0m\n\u001b[1;32m    621\u001b[0m     \u001b[0;32mif\u001b[0m \u001b[0my\u001b[0m \u001b[0;32mis\u001b[0m \u001b[0;32mnot\u001b[0m \u001b[0;32mNone\u001b[0m\u001b[0;34m:\u001b[0m\u001b[0;34m\u001b[0m\u001b[0;34m\u001b[0m\u001b[0m\n",
      "\u001b[0;32m~/opt/anaconda3/envs/tensorflow/lib/python3.7/site-packages/tensorflow/python/keras/engine/data_adapter.py\u001b[0m in \u001b[0;36m_is_list_of_scalars\u001b[0;34m(inp)\u001b[0m\n\u001b[1;32m    628\u001b[0m       \u001b[0;32mreturn\u001b[0m \u001b[0;32mTrue\u001b[0m\u001b[0;34m\u001b[0m\u001b[0;34m\u001b[0m\u001b[0m\n\u001b[1;32m    629\u001b[0m     \u001b[0;32mif\u001b[0m \u001b[0misinstance\u001b[0m\u001b[0;34m(\u001b[0m\u001b[0minp\u001b[0m\u001b[0;34m,\u001b[0m \u001b[0;34m(\u001b[0m\u001b[0mlist\u001b[0m\u001b[0;34m,\u001b[0m \u001b[0mtuple\u001b[0m\u001b[0;34m)\u001b[0m\u001b[0;34m)\u001b[0m\u001b[0;34m:\u001b[0m\u001b[0;34m\u001b[0m\u001b[0;34m\u001b[0m\u001b[0m\n\u001b[0;32m--> 630\u001b[0;31m       \u001b[0;32mreturn\u001b[0m \u001b[0mListsOfScalarsDataAdapter\u001b[0m\u001b[0;34m.\u001b[0m\u001b[0m_is_list_of_scalars\u001b[0m\u001b[0;34m(\u001b[0m\u001b[0minp\u001b[0m\u001b[0;34m[\u001b[0m\u001b[0;36m0\u001b[0m\u001b[0;34m]\u001b[0m\u001b[0;34m)\u001b[0m\u001b[0;34m\u001b[0m\u001b[0;34m\u001b[0m\u001b[0m\n\u001b[0m\u001b[1;32m    631\u001b[0m     \u001b[0;32mreturn\u001b[0m \u001b[0;32mFalse\u001b[0m\u001b[0;34m\u001b[0m\u001b[0;34m\u001b[0m\u001b[0m\n\u001b[1;32m    632\u001b[0m \u001b[0;34m\u001b[0m\u001b[0m\n",
      "\u001b[0;32m~/opt/anaconda3/envs/tensorflow/lib/python3.7/site-packages/tensorflow/python/keras/engine/data_adapter.py\u001b[0m in \u001b[0;36m_is_list_of_scalars\u001b[0;34m(inp)\u001b[0m\n\u001b[1;32m    628\u001b[0m       \u001b[0;32mreturn\u001b[0m \u001b[0;32mTrue\u001b[0m\u001b[0;34m\u001b[0m\u001b[0;34m\u001b[0m\u001b[0m\n\u001b[1;32m    629\u001b[0m     \u001b[0;32mif\u001b[0m \u001b[0misinstance\u001b[0m\u001b[0;34m(\u001b[0m\u001b[0minp\u001b[0m\u001b[0;34m,\u001b[0m \u001b[0;34m(\u001b[0m\u001b[0mlist\u001b[0m\u001b[0;34m,\u001b[0m \u001b[0mtuple\u001b[0m\u001b[0;34m)\u001b[0m\u001b[0;34m)\u001b[0m\u001b[0;34m:\u001b[0m\u001b[0;34m\u001b[0m\u001b[0;34m\u001b[0m\u001b[0m\n\u001b[0;32m--> 630\u001b[0;31m       \u001b[0;32mreturn\u001b[0m \u001b[0mListsOfScalarsDataAdapter\u001b[0m\u001b[0;34m.\u001b[0m\u001b[0m_is_list_of_scalars\u001b[0m\u001b[0;34m(\u001b[0m\u001b[0minp\u001b[0m\u001b[0;34m[\u001b[0m\u001b[0;36m0\u001b[0m\u001b[0;34m]\u001b[0m\u001b[0;34m)\u001b[0m\u001b[0;34m\u001b[0m\u001b[0;34m\u001b[0m\u001b[0m\n\u001b[0m\u001b[1;32m    631\u001b[0m     \u001b[0;32mreturn\u001b[0m \u001b[0;32mFalse\u001b[0m\u001b[0;34m\u001b[0m\u001b[0;34m\u001b[0m\u001b[0m\n\u001b[1;32m    632\u001b[0m \u001b[0;34m\u001b[0m\u001b[0m\n",
      "\u001b[0;31mIndexError\u001b[0m: list index out of range"
     ]
    }
   ],
   "source": [
    "first_half = generate_class(backward_model, tokenizer2, embeddings, peak_pose, \"easy pose\", 40)"
   ]
  },
  {
   "cell_type": "code",
   "execution_count": 520,
   "metadata": {
    "tags": []
   },
   "outputs": [],
   "source": [
    "second_half = generate_class(forward_model, tokenizer, embeddings, peak_pose, \"corpse pose\", 40)"
   ]
  },
  {
   "cell_type": "code",
   "execution_count": 472,
   "metadata": {},
   "outputs": [
    {
     "output_type": "execute_result",
     "data": {
      "text/plain": "26"
     },
     "metadata": {},
     "execution_count": 472
    }
   ],
   "source": [
    "class_length = len(first_half) + len(second_half)\n",
    "return class_length"
   ]
  },
  {
   "cell_type": "code",
   "execution_count": null,
   "metadata": {},
   "outputs": [],
   "source": [
    "first_half = first_half.reversed()"
   ]
  },
  {
   "cell_type": "code",
   "execution_count": null,
   "metadata": {},
   "outputs": [],
   "source": [
    "class = first_half + second_half"
   ]
  }
 ]
}